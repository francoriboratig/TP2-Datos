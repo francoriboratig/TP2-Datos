{
  "nbformat": 4,
  "nbformat_minor": 0,
  "metadata": {
    "kernelspec": {
      "display_name": "Python 3",
      "language": "python",
      "name": "python3"
    },
    "language_info": {
      "codemirror_mode": {
        "name": "ipython",
        "version": 3
      },
      "file_extension": ".py",
      "mimetype": "text/x-python",
      "name": "python",
      "nbconvert_exporter": "python",
      "pygments_lexer": "ipython3",
      "version": "3.7.7"
    },
    "colab": {
      "name": "Red convolucional.ipynb",
      "provenance": [],
      "include_colab_link": true
    }
  },
  "cells": [
    {
      "cell_type": "markdown",
      "metadata": {
        "id": "view-in-github",
        "colab_type": "text"
      },
      "source": [
        "<a href=\"https://colab.research.google.com/github/francoriboratig/TP2-Datos/blob/master/Red%20convolucional.ipynb\" target=\"_parent\"><img src=\"https://colab.research.google.com/assets/colab-badge.svg\" alt=\"Open In Colab\"/></a>"
      ]
    },
    {
      "cell_type": "code",
      "metadata": {
        "id": "0wcmc7yo2Iaz",
        "colab_type": "code",
        "colab": {
          "base_uri": "https://localhost:8080/",
          "height": 86
        },
        "outputId": "f23f08ae-fde3-4580-db45-121d699925b2"
      },
      "source": [
        "# ARRANCAMOS CON LO BÁSICO\n",
        "import numpy as np\n",
        "import tensorflow as tf\n",
        "import pandas as pd\n",
        "import random\n",
        "from google.colab import files\n",
        "\n",
        "!pip install -q tensorflow-hub\n",
        "!pip install -q tfds-nightly\n",
        "import tensorflow_hub as hub\n",
        "import tensorflow_datasets as tfds\n",
        "\n",
        "print(\"Version: \", tf.__version__)\n",
        "print(\"Eager mode: \", tf.executing_eagerly())\n",
        "print(\"Hub version: \", hub.__version__)\n",
        "print(\"GPU is\", \"available\" if tf.config.experimental.list_physical_devices(\"GPU\") else \"NOT AVAILABLE\")\n"
      ],
      "execution_count": 1,
      "outputs": [
        {
          "output_type": "stream",
          "text": [
            "Version:  2.2.0\n",
            "Eager mode:  True\n",
            "Hub version:  0.8.0\n",
            "GPU is NOT AVAILABLE\n"
          ],
          "name": "stdout"
        }
      ]
    },
    {
      "cell_type": "code",
      "metadata": {
        "id": "2pHyci8dgDGq",
        "colab_type": "code",
        "colab": {
          "base_uri": "https://localhost:8080/",
          "height": 206
        },
        "outputId": "171b6a4e-d65f-4344-89d1-d82bcde54eb8"
      },
      "source": [
        "# CARGAMOS LOS CSV\n",
        "url_train = 'https://raw.githubusercontent.com/JulioCastillo1/TP1-Datos/master/train.csv'\n",
        "url_test = 'https://raw.githubusercontent.com/francoriboratig/TP2-Datos/master/test.csv'\n",
        "\n",
        "train_df = pd.read_csv(url_train)\n",
        "test_df = pd.read_csv(url_test)\n",
        "train_df.head()"
      ],
      "execution_count": 2,
      "outputs": [
        {
          "output_type": "execute_result",
          "data": {
            "text/html": [
              "<div>\n",
              "<style scoped>\n",
              "    .dataframe tbody tr th:only-of-type {\n",
              "        vertical-align: middle;\n",
              "    }\n",
              "\n",
              "    .dataframe tbody tr th {\n",
              "        vertical-align: top;\n",
              "    }\n",
              "\n",
              "    .dataframe thead th {\n",
              "        text-align: right;\n",
              "    }\n",
              "</style>\n",
              "<table border=\"1\" class=\"dataframe\">\n",
              "  <thead>\n",
              "    <tr style=\"text-align: right;\">\n",
              "      <th></th>\n",
              "      <th>id</th>\n",
              "      <th>keyword</th>\n",
              "      <th>location</th>\n",
              "      <th>text</th>\n",
              "      <th>target</th>\n",
              "    </tr>\n",
              "  </thead>\n",
              "  <tbody>\n",
              "    <tr>\n",
              "      <th>0</th>\n",
              "      <td>1</td>\n",
              "      <td>NaN</td>\n",
              "      <td>NaN</td>\n",
              "      <td>Our Deeds are the Reason of this #earthquake M...</td>\n",
              "      <td>1</td>\n",
              "    </tr>\n",
              "    <tr>\n",
              "      <th>1</th>\n",
              "      <td>4</td>\n",
              "      <td>NaN</td>\n",
              "      <td>NaN</td>\n",
              "      <td>Forest fire near La Ronge Sask. Canada</td>\n",
              "      <td>1</td>\n",
              "    </tr>\n",
              "    <tr>\n",
              "      <th>2</th>\n",
              "      <td>5</td>\n",
              "      <td>NaN</td>\n",
              "      <td>NaN</td>\n",
              "      <td>All residents asked to 'shelter in place' are ...</td>\n",
              "      <td>1</td>\n",
              "    </tr>\n",
              "    <tr>\n",
              "      <th>3</th>\n",
              "      <td>6</td>\n",
              "      <td>NaN</td>\n",
              "      <td>NaN</td>\n",
              "      <td>13,000 people receive #wildfires evacuation or...</td>\n",
              "      <td>1</td>\n",
              "    </tr>\n",
              "    <tr>\n",
              "      <th>4</th>\n",
              "      <td>7</td>\n",
              "      <td>NaN</td>\n",
              "      <td>NaN</td>\n",
              "      <td>Just got sent this photo from Ruby #Alaska as ...</td>\n",
              "      <td>1</td>\n",
              "    </tr>\n",
              "  </tbody>\n",
              "</table>\n",
              "</div>"
            ],
            "text/plain": [
              "   id keyword  ...                                               text target\n",
              "0   1     NaN  ...  Our Deeds are the Reason of this #earthquake M...      1\n",
              "1   4     NaN  ...             Forest fire near La Ronge Sask. Canada      1\n",
              "2   5     NaN  ...  All residents asked to 'shelter in place' are ...      1\n",
              "3   6     NaN  ...  13,000 people receive #wildfires evacuation or...      1\n",
              "4   7     NaN  ...  Just got sent this photo from Ruby #Alaska as ...      1\n",
              "\n",
              "[5 rows x 5 columns]"
            ]
          },
          "metadata": {
            "tags": []
          },
          "execution_count": 2
        }
      ]
    },
    {
      "cell_type": "code",
      "metadata": {
        "id": "IBxAXWFa0m5l",
        "colab_type": "code",
        "colab": {
          "base_uri": "https://localhost:8080/",
          "height": 34
        },
        "outputId": "c63f2481-4813-4455-d732-b10373785f1f"
      },
      "source": [
        "# CHUSMEAMOS\n",
        "train_df.shape"
      ],
      "execution_count": 31,
      "outputs": [
        {
          "output_type": "execute_result",
          "data": {
            "text/plain": [
              "(7613, 3)"
            ]
          },
          "metadata": {
            "tags": []
          },
          "execution_count": 31
        }
      ]
    },
    {
      "cell_type": "code",
      "metadata": {
        "id": "IgP7Jo-zhsnW",
        "colab_type": "code",
        "colab": {}
      },
      "source": [
        "# LIMPIAMOS\n",
        "train_df = train_df.drop(['keyword', 'location'], axis = 1)\n",
        "train_df.head()"
      ],
      "execution_count": 3,
      "outputs": []
    },
    {
      "cell_type": "code",
      "metadata": {
        "id": "Cw0HFe5EkJae",
        "colab_type": "code",
        "colab": {
          "base_uri": "https://localhost:8080/",
          "height": 260
        },
        "outputId": "9350b73b-8791-46e2-dfbd-e4611f2deb44"
      },
      "source": [
        "# HACEMOS UN EMBEDDING PROVISTO POR UN \"TensorFlow Hub model\"\n",
        "\n",
        "embedding_url = \"https://tfhub.dev/google/tf2-preview/gnews-swivel-20dim/1\"\n",
        "\n",
        "hub_layer = hub.KerasLayer(embedding_url,\n",
        "                           input_shape = [], \n",
        "                           dtype = tf.string,\n",
        "                           trainable = True)\n",
        "\n",
        "train_text_list = np.asarray(train_df['text'])\n",
        "train_target_list = np.asarray(train_df['target'])\n",
        "\n",
        "hub_layer(train_text_list[:3])\n",
        "\n"
      ],
      "execution_count": 11,
      "outputs": [
        {
          "output_type": "execute_result",
          "data": {
            "text/plain": [
              "<tf.Tensor: shape=(3, 20), dtype=float32, numpy=\n",
              "array([[ 0.00723878,  0.15689617,  1.2953067 , -0.04077986, -0.16036902,\n",
              "        -1.2004429 , -0.40451345, -0.5239726 , -0.23558664, -0.35022184,\n",
              "        -0.28988177, -0.47197863, -0.07621863,  0.17048942, -0.8323773 ,\n",
              "         0.02260084,  0.16125458, -0.64086777, -0.569074  ,  0.04000134],\n",
              "       [-0.4983734 ,  1.2828879 , -0.18836124, -0.94734734,  0.8805808 ,\n",
              "        -0.17885518, -0.01543166,  0.3832704 , -1.508848  ,  1.7532811 ,\n",
              "        -0.75493276,  0.60124093, -0.14378418, -0.891944  ,  0.43213663,\n",
              "         1.3467408 , -1.4859253 ,  1.5762157 , -0.37878054,  0.9423684 ],\n",
              "       [ 0.08814443, -0.31140247,  0.6044149 ,  1.7130805 ,  1.3203121 ,\n",
              "        -3.201303  ,  0.8445131 ,  0.9621795 , -1.5353138 ,  2.2069528 ,\n",
              "        -0.2790253 ,  0.01095965, -2.2282734 ,  0.2043116 , -2.17501   ,\n",
              "         1.3441613 ,  0.11884003, -1.2388006 , -0.25501075,  0.69527215]],\n",
              "      dtype=float32)>"
            ]
          },
          "metadata": {
            "tags": []
          },
          "execution_count": 11
        }
      ]
    },
    {
      "cell_type": "code",
      "metadata": {
        "id": "pa9js3I9la4T",
        "colab_type": "code",
        "colab": {
          "base_uri": "https://localhost:8080/",
          "height": 295
        },
        "outputId": "99464943-5497-47e6-c391-4ec243490eb1"
      },
      "source": [
        "# ARMAMOS EL MODELO\n",
        "model = tf.keras.Sequential()\n",
        "model.add(hub_layer)\n",
        "model.add(tf.keras.layers.Dense(16, activation = 'relu'))\n",
        "model.add(tf.keras.layers.Dense(16, activation = 'relu'))\n",
        "model.add(tf.keras.layers.Dense(1))\n",
        "\n",
        "model.summary()"
      ],
      "execution_count": 17,
      "outputs": [
        {
          "output_type": "stream",
          "text": [
            "Model: \"sequential_1\"\n",
            "_________________________________________________________________\n",
            "Layer (type)                 Output Shape              Param #   \n",
            "=================================================================\n",
            "keras_layer_7 (KerasLayer)   (None, 20)                400020    \n",
            "_________________________________________________________________\n",
            "dense_2 (Dense)              (None, 16)                336       \n",
            "_________________________________________________________________\n",
            "dense_3 (Dense)              (None, 16)                272       \n",
            "_________________________________________________________________\n",
            "dense_4 (Dense)              (None, 1)                 17        \n",
            "=================================================================\n",
            "Total params: 400,645\n",
            "Trainable params: 400,645\n",
            "Non-trainable params: 0\n",
            "_________________________________________________________________\n"
          ],
          "name": "stdout"
        }
      ]
    },
    {
      "cell_type": "code",
      "metadata": {
        "id": "t31VOjJynfzN",
        "colab_type": "code",
        "colab": {
          "base_uri": "https://localhost:8080/",
          "height": 1000
        },
        "outputId": "755e4a90-dad2-43f7-ce04-4fde4b4db6c7"
      },
      "source": [
        "# COMPILAMOS Y ENTRENAMOS\n",
        "# NOTAS:\n",
        "# Con 20 epochs obtiene mejor resultado que con 30\n",
        "\n",
        "model.compile(optimizer = 'adam',\n",
        "              loss = tf.keras.losses.BinaryCrossentropy(from_logits = True),\n",
        "              metrics = ['accuracy'])\n",
        "\n",
        "history = model.fit(train_text_list, train_target_list, batch_size=512,\n",
        "                    epochs = 20,\n",
        "                    verbose = 1)\n",
        "\n",
        "\n"
      ],
      "execution_count": 24,
      "outputs": [
        {
          "output_type": "stream",
          "text": [
            "Epoch 1/30\n",
            "15/15 [==============================] - 0s 11ms/step - loss: 0.3116 - accuracy: 0.8598\n",
            "Epoch 2/30\n",
            "15/15 [==============================] - 0s 11ms/step - loss: 0.2998 - accuracy: 0.8660\n",
            "Epoch 3/30\n",
            "15/15 [==============================] - 0s 12ms/step - loss: 0.2898 - accuracy: 0.8694\n",
            "Epoch 4/30\n",
            "15/15 [==============================] - 0s 10ms/step - loss: 0.2799 - accuracy: 0.8732\n",
            "Epoch 5/30\n",
            "15/15 [==============================] - 0s 11ms/step - loss: 0.2694 - accuracy: 0.8797\n",
            "Epoch 6/30\n",
            "15/15 [==============================] - 0s 10ms/step - loss: 0.2596 - accuracy: 0.8848\n",
            "Epoch 7/30\n",
            "15/15 [==============================] - 0s 10ms/step - loss: 0.2501 - accuracy: 0.8894\n",
            "Epoch 8/30\n",
            "15/15 [==============================] - 0s 10ms/step - loss: 0.2402 - accuracy: 0.8957\n",
            "Epoch 9/30\n",
            "15/15 [==============================] - 0s 10ms/step - loss: 0.2302 - accuracy: 0.9021\n",
            "Epoch 10/30\n",
            "15/15 [==============================] - 0s 10ms/step - loss: 0.2208 - accuracy: 0.9069\n",
            "Epoch 11/30\n",
            "15/15 [==============================] - 0s 10ms/step - loss: 0.2117 - accuracy: 0.9111\n",
            "Epoch 12/30\n",
            "15/15 [==============================] - 0s 10ms/step - loss: 0.2025 - accuracy: 0.9151\n",
            "Epoch 13/30\n",
            "15/15 [==============================] - 0s 10ms/step - loss: 0.1935 - accuracy: 0.9176\n",
            "Epoch 14/30\n",
            "15/15 [==============================] - 0s 10ms/step - loss: 0.1848 - accuracy: 0.9218\n",
            "Epoch 15/30\n",
            "15/15 [==============================] - 0s 11ms/step - loss: 0.1766 - accuracy: 0.9249\n",
            "Epoch 16/30\n",
            "15/15 [==============================] - 0s 10ms/step - loss: 0.1681 - accuracy: 0.9295\n",
            "Epoch 17/30\n",
            "15/15 [==============================] - 0s 10ms/step - loss: 0.1610 - accuracy: 0.9326\n",
            "Epoch 18/30\n",
            "15/15 [==============================] - 0s 10ms/step - loss: 0.1536 - accuracy: 0.9355\n",
            "Epoch 19/30\n",
            "15/15 [==============================] - 0s 10ms/step - loss: 0.1465 - accuracy: 0.9377\n",
            "Epoch 20/30\n",
            "15/15 [==============================] - 0s 11ms/step - loss: 0.1398 - accuracy: 0.9421\n",
            "Epoch 21/30\n",
            "15/15 [==============================] - 0s 11ms/step - loss: 0.1335 - accuracy: 0.9451\n",
            "Epoch 22/30\n",
            "15/15 [==============================] - 0s 10ms/step - loss: 0.1275 - accuracy: 0.9472\n",
            "Epoch 23/30\n",
            "15/15 [==============================] - 0s 10ms/step - loss: 0.1222 - accuracy: 0.9500\n",
            "Epoch 24/30\n",
            "15/15 [==============================] - 0s 10ms/step - loss: 0.1174 - accuracy: 0.9527\n",
            "Epoch 25/30\n",
            "15/15 [==============================] - 0s 10ms/step - loss: 0.1116 - accuracy: 0.9553\n",
            "Epoch 26/30\n",
            "15/15 [==============================] - 0s 11ms/step - loss: 0.1070 - accuracy: 0.9560\n",
            "Epoch 27/30\n",
            "15/15 [==============================] - 0s 11ms/step - loss: 0.1028 - accuracy: 0.9581\n",
            "Epoch 28/30\n",
            "15/15 [==============================] - 0s 10ms/step - loss: 0.0989 - accuracy: 0.9602\n",
            "Epoch 29/30\n",
            "15/15 [==============================] - 0s 11ms/step - loss: 0.0955 - accuracy: 0.9630\n",
            "Epoch 30/30\n",
            "15/15 [==============================] - 0s 10ms/step - loss: 0.0911 - accuracy: 0.9649\n"
          ],
          "name": "stdout"
        }
      ]
    },
    {
      "cell_type": "code",
      "metadata": {
        "id": "KuY4c8Tdm-7F",
        "colab_type": "code",
        "colab": {
          "base_uri": "https://localhost:8080/",
          "height": 52
        },
        "outputId": "87f888d6-5fd5-4b11-dd8c-a13f34bec81c"
      },
      "source": [
        "# PISPEAMOS\n",
        "loss, precision = model.evaluate(train_text_list, train_target_list)\n",
        "print('Precisión: %.2f' % (precision*100))"
      ],
      "execution_count": 25,
      "outputs": [
        {
          "output_type": "stream",
          "text": [
            "238/238 [==============================] - 0s 2ms/step - loss: 0.0869 - accuracy: 0.9652\n",
            "Precisión: 96.52\n"
          ],
          "name": "stdout"
        }
      ]
    },
    {
      "cell_type": "code",
      "metadata": {
        "id": "wpAEhLQGySbR",
        "colab_type": "code",
        "colab": {
          "base_uri": "https://localhost:8080/",
          "height": 139
        },
        "outputId": "ae23d574-c85c-4570-cd80-5862785401b1"
      },
      "source": [
        "# ARMAMOS LA PREDICCIÓN\n",
        "test_text_list = np.asarray(test_df['text'])\n",
        "prediction = model.predict_classes(test_text_list)\n",
        "prediction"
      ],
      "execution_count": 28,
      "outputs": [
        {
          "output_type": "execute_result",
          "data": {
            "text/plain": [
              "array([[1],\n",
              "       [1],\n",
              "       [1],\n",
              "       ...,\n",
              "       [1],\n",
              "       [1],\n",
              "       [0]], dtype=int32)"
            ]
          },
          "metadata": {
            "tags": []
          },
          "execution_count": 28
        }
      ]
    },
    {
      "cell_type": "code",
      "metadata": {
        "id": "KkSvLRovz4i-",
        "colab_type": "code",
        "colab": {
          "base_uri": "https://localhost:8080/",
          "height": 17
        },
        "outputId": "221ef9ff-ba1d-4f4c-8b17-38beb2d3d01e"
      },
      "source": [
        "# EXPORTAMOS EL CSV EN EL FORMATO QUE PIDE KAGGLE\n",
        "test_df['target'] = prediction\n",
        "export = pd.DataFrame()\n",
        "export['id'] = test_df['id']\n",
        "export['target'] = test_df['target']\n",
        "export = export.set_index('id')\n",
        "export.to_csv('submit.csv')\n",
        "files.download('submit.csv')\n"
      ],
      "execution_count": 29,
      "outputs": [
        {
          "output_type": "display_data",
          "data": {
            "application/javascript": [
              "\n",
              "    async function download(id, filename, size) {\n",
              "      if (!google.colab.kernel.accessAllowed) {\n",
              "        return;\n",
              "      }\n",
              "      const div = document.createElement('div');\n",
              "      const label = document.createElement('label');\n",
              "      label.textContent = `Downloading \"${filename}\": `;\n",
              "      div.appendChild(label);\n",
              "      const progress = document.createElement('progress');\n",
              "      progress.max = size;\n",
              "      div.appendChild(progress);\n",
              "      document.body.appendChild(div);\n",
              "\n",
              "      const buffers = [];\n",
              "      let downloaded = 0;\n",
              "\n",
              "      const channel = await google.colab.kernel.comms.open(id);\n",
              "      // Send a message to notify the kernel that we're ready.\n",
              "      channel.send({})\n",
              "\n",
              "      for await (const message of channel.messages) {\n",
              "        // Send a message to notify the kernel that we're ready.\n",
              "        channel.send({})\n",
              "        if (message.buffers) {\n",
              "          for (const buffer of message.buffers) {\n",
              "            buffers.push(buffer);\n",
              "            downloaded += buffer.byteLength;\n",
              "            progress.value = downloaded;\n",
              "          }\n",
              "        }\n",
              "      }\n",
              "      const blob = new Blob(buffers, {type: 'application/binary'});\n",
              "      const a = document.createElement('a');\n",
              "      a.href = window.URL.createObjectURL(blob);\n",
              "      a.download = filename;\n",
              "      div.appendChild(a);\n",
              "      a.click();\n",
              "      div.remove();\n",
              "    }\n",
              "  "
            ],
            "text/plain": [
              "<IPython.core.display.Javascript object>"
            ]
          },
          "metadata": {
            "tags": []
          }
        },
        {
          "output_type": "display_data",
          "data": {
            "application/javascript": [
              "download(\"download_89338c2c-82b8-4319-b105-96e500750c45\", \"submit.csv\", 22746)"
            ],
            "text/plain": [
              "<IPython.core.display.Javascript object>"
            ]
          },
          "metadata": {
            "tags": []
          }
        }
      ]
    }
  ]
}