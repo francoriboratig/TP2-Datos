{
  "nbformat": 4,
  "nbformat_minor": 0,
  "metadata": {
    "kernelspec": {
      "display_name": "Python 3",
      "language": "python",
      "name": "python3"
    },
    "language_info": {
      "codemirror_mode": {
        "name": "ipython",
        "version": 3
      },
      "file_extension": ".py",
      "mimetype": "text/x-python",
      "name": "python",
      "nbconvert_exporter": "python",
      "pygments_lexer": "ipython3",
      "version": "3.7.7"
    },
    "colab": {
      "name": "Red convolucional.ipynb",
      "provenance": [],
      "include_colab_link": true
    }
  },
  "cells": [
    {
      "cell_type": "markdown",
      "metadata": {
        "id": "view-in-github",
        "colab_type": "text"
      },
      "source": [
        "<a href=\"https://colab.research.google.com/github/francoriboratig/TP2-Datos/blob/master/Red%20convolucional.ipynb\" target=\"_parent\"><img src=\"https://colab.research.google.com/assets/colab-badge.svg\" alt=\"Open In Colab\"/></a>"
      ]
    },
    {
      "cell_type": "code",
      "metadata": {
        "id": "0wcmc7yo2Iaz",
        "colab_type": "code",
        "colab": {
          "base_uri": "https://localhost:8080/",
          "height": 85
        },
        "outputId": "7769869f-f004-47d0-d579-187d7b5dc035"
      },
      "source": [
        "import numpy as np\n",
        "import tensorflow as tf\n",
        "import pandas as pd\n",
        "import random\n",
        "from google.colab import files\n",
        "\n",
        "!pip install -q tensorflow-hub\n",
        "!pip install -q tfds-nightly\n",
        "import tensorflow_hub as hub\n",
        "import tensorflow_datasets as tfds\n",
        "\n",
        "print(\"Version: \", tf.__version__)\n",
        "print(\"Eager mode: \", tf.executing_eagerly())\n",
        "print(\"Hub version: \", hub.__version__)\n",
        "print(\"GPU is\", \"available\" if tf.config.experimental.list_physical_devices(\"GPU\") else \"NOT AVAILABLE\")\n"
      ],
      "execution_count": 35,
      "outputs": [
        {
          "output_type": "stream",
          "text": [
            "Version:  2.2.0\n",
            "Eager mode:  True\n",
            "Hub version:  0.8.0\n",
            "GPU is NOT AVAILABLE\n"
          ],
          "name": "stdout"
        }
      ]
    },
    {
      "cell_type": "code",
      "metadata": {
        "id": "2pHyci8dgDGq",
        "colab_type": "code",
        "colab": {
          "base_uri": "https://localhost:8080/",
          "height": 204
        },
        "outputId": "d35e6c02-2abf-40b0-c772-e051de7fc832"
      },
      "source": [
        "url_train = 'https://raw.githubusercontent.com/JulioCastillo1/TP1-Datos/master/train.csv'\n",
        "url_test = 'https://raw.githubusercontent.com/francoriboratig/TP2-Datos/master/test.csv'\n",
        "\n",
        "train_df = pd.read_csv(url_train)\n",
        "test_df = pd.read_csv(url_test)\n",
        "train_df.head()"
      ],
      "execution_count": 36,
      "outputs": [
        {
          "output_type": "execute_result",
          "data": {
            "text/html": [
              "<div>\n",
              "<style scoped>\n",
              "    .dataframe tbody tr th:only-of-type {\n",
              "        vertical-align: middle;\n",
              "    }\n",
              "\n",
              "    .dataframe tbody tr th {\n",
              "        vertical-align: top;\n",
              "    }\n",
              "\n",
              "    .dataframe thead th {\n",
              "        text-align: right;\n",
              "    }\n",
              "</style>\n",
              "<table border=\"1\" class=\"dataframe\">\n",
              "  <thead>\n",
              "    <tr style=\"text-align: right;\">\n",
              "      <th></th>\n",
              "      <th>id</th>\n",
              "      <th>keyword</th>\n",
              "      <th>location</th>\n",
              "      <th>text</th>\n",
              "      <th>target</th>\n",
              "    </tr>\n",
              "  </thead>\n",
              "  <tbody>\n",
              "    <tr>\n",
              "      <th>0</th>\n",
              "      <td>1</td>\n",
              "      <td>NaN</td>\n",
              "      <td>NaN</td>\n",
              "      <td>Our Deeds are the Reason of this #earthquake M...</td>\n",
              "      <td>1</td>\n",
              "    </tr>\n",
              "    <tr>\n",
              "      <th>1</th>\n",
              "      <td>4</td>\n",
              "      <td>NaN</td>\n",
              "      <td>NaN</td>\n",
              "      <td>Forest fire near La Ronge Sask. Canada</td>\n",
              "      <td>1</td>\n",
              "    </tr>\n",
              "    <tr>\n",
              "      <th>2</th>\n",
              "      <td>5</td>\n",
              "      <td>NaN</td>\n",
              "      <td>NaN</td>\n",
              "      <td>All residents asked to 'shelter in place' are ...</td>\n",
              "      <td>1</td>\n",
              "    </tr>\n",
              "    <tr>\n",
              "      <th>3</th>\n",
              "      <td>6</td>\n",
              "      <td>NaN</td>\n",
              "      <td>NaN</td>\n",
              "      <td>13,000 people receive #wildfires evacuation or...</td>\n",
              "      <td>1</td>\n",
              "    </tr>\n",
              "    <tr>\n",
              "      <th>4</th>\n",
              "      <td>7</td>\n",
              "      <td>NaN</td>\n",
              "      <td>NaN</td>\n",
              "      <td>Just got sent this photo from Ruby #Alaska as ...</td>\n",
              "      <td>1</td>\n",
              "    </tr>\n",
              "  </tbody>\n",
              "</table>\n",
              "</div>"
            ],
            "text/plain": [
              "   id keyword  ...                                               text target\n",
              "0   1     NaN  ...  Our Deeds are the Reason of this #earthquake M...      1\n",
              "1   4     NaN  ...             Forest fire near La Ronge Sask. Canada      1\n",
              "2   5     NaN  ...  All residents asked to 'shelter in place' are ...      1\n",
              "3   6     NaN  ...  13,000 people receive #wildfires evacuation or...      1\n",
              "4   7     NaN  ...  Just got sent this photo from Ruby #Alaska as ...      1\n",
              "\n",
              "[5 rows x 5 columns]"
            ]
          },
          "metadata": {
            "tags": []
          },
          "execution_count": 36
        }
      ]
    },
    {
      "cell_type": "code",
      "metadata": {
        "id": "IgP7Jo-zhsnW",
        "colab_type": "code",
        "colab": {}
      },
      "source": [
        "train_df = train_df.drop(['keyword', 'location'], axis = 1)"
      ],
      "execution_count": 37,
      "outputs": []
    },
    {
      "cell_type": "code",
      "metadata": {
        "id": "60oFZjwvh9zn",
        "colab_type": "code",
        "colab": {
          "base_uri": "https://localhost:8080/",
          "height": 204
        },
        "outputId": "e8888e9f-01b3-4b02-8bb6-24cbe236a724"
      },
      "source": [
        "train_df.head()"
      ],
      "execution_count": 38,
      "outputs": [
        {
          "output_type": "execute_result",
          "data": {
            "text/html": [
              "<div>\n",
              "<style scoped>\n",
              "    .dataframe tbody tr th:only-of-type {\n",
              "        vertical-align: middle;\n",
              "    }\n",
              "\n",
              "    .dataframe tbody tr th {\n",
              "        vertical-align: top;\n",
              "    }\n",
              "\n",
              "    .dataframe thead th {\n",
              "        text-align: right;\n",
              "    }\n",
              "</style>\n",
              "<table border=\"1\" class=\"dataframe\">\n",
              "  <thead>\n",
              "    <tr style=\"text-align: right;\">\n",
              "      <th></th>\n",
              "      <th>id</th>\n",
              "      <th>text</th>\n",
              "      <th>target</th>\n",
              "    </tr>\n",
              "  </thead>\n",
              "  <tbody>\n",
              "    <tr>\n",
              "      <th>0</th>\n",
              "      <td>1</td>\n",
              "      <td>Our Deeds are the Reason of this #earthquake M...</td>\n",
              "      <td>1</td>\n",
              "    </tr>\n",
              "    <tr>\n",
              "      <th>1</th>\n",
              "      <td>4</td>\n",
              "      <td>Forest fire near La Ronge Sask. Canada</td>\n",
              "      <td>1</td>\n",
              "    </tr>\n",
              "    <tr>\n",
              "      <th>2</th>\n",
              "      <td>5</td>\n",
              "      <td>All residents asked to 'shelter in place' are ...</td>\n",
              "      <td>1</td>\n",
              "    </tr>\n",
              "    <tr>\n",
              "      <th>3</th>\n",
              "      <td>6</td>\n",
              "      <td>13,000 people receive #wildfires evacuation or...</td>\n",
              "      <td>1</td>\n",
              "    </tr>\n",
              "    <tr>\n",
              "      <th>4</th>\n",
              "      <td>7</td>\n",
              "      <td>Just got sent this photo from Ruby #Alaska as ...</td>\n",
              "      <td>1</td>\n",
              "    </tr>\n",
              "  </tbody>\n",
              "</table>\n",
              "</div>"
            ],
            "text/plain": [
              "   id                                               text  target\n",
              "0   1  Our Deeds are the Reason of this #earthquake M...       1\n",
              "1   4             Forest fire near La Ronge Sask. Canada       1\n",
              "2   5  All residents asked to 'shelter in place' are ...       1\n",
              "3   6  13,000 people receive #wildfires evacuation or...       1\n",
              "4   7  Just got sent this photo from Ruby #Alaska as ...       1"
            ]
          },
          "metadata": {
            "tags": []
          },
          "execution_count": 38
        }
      ]
    },
    {
      "cell_type": "code",
      "metadata": {
        "id": "Cw0HFe5EkJae",
        "colab_type": "code",
        "colab": {
          "base_uri": "https://localhost:8080/",
          "height": 255
        },
        "outputId": "781ac6c4-7c00-445b-9825-95ca72a51dba"
      },
      "source": [
        "embedding = \"https://tfhub.dev/google/tf2-preview/gnews-swivel-20dim/1\"\n",
        "\n",
        "hub_layer = hub.KerasLayer(embedding, input_shape=[], \n",
        "                           dtype=tf.string, trainable=True)\n",
        "\n",
        "train_text_list = np.asarray(train_df['text'])\n",
        "train_target_list = np.asarray(train_df['target'])\n",
        "\n",
        "hub_layer(train_text_list[:3])\n",
        "\n"
      ],
      "execution_count": 39,
      "outputs": [
        {
          "output_type": "execute_result",
          "data": {
            "text/plain": [
              "<tf.Tensor: shape=(3, 20), dtype=float32, numpy=\n",
              "array([[ 0.00723878,  0.15689617,  1.2953067 , -0.04077986, -0.16036902,\n",
              "        -1.2004429 , -0.40451345, -0.5239726 , -0.23558664, -0.35022184,\n",
              "        -0.28988177, -0.47197863, -0.07621863,  0.17048942, -0.8323773 ,\n",
              "         0.02260084,  0.16125458, -0.64086777, -0.569074  ,  0.04000134],\n",
              "       [-0.4983734 ,  1.2828879 , -0.18836124, -0.94734734,  0.8805808 ,\n",
              "        -0.17885518, -0.01543166,  0.3832704 , -1.508848  ,  1.7532811 ,\n",
              "        -0.75493276,  0.60124093, -0.14378418, -0.891944  ,  0.43213663,\n",
              "         1.3467408 , -1.4859253 ,  1.5762157 , -0.37878054,  0.9423684 ],\n",
              "       [ 0.08814443, -0.31140247,  0.6044149 ,  1.7130805 ,  1.3203121 ,\n",
              "        -3.201303  ,  0.8445131 ,  0.9621795 , -1.5353138 ,  2.2069528 ,\n",
              "        -0.2790253 ,  0.01095965, -2.2282734 ,  0.2043116 , -2.17501   ,\n",
              "         1.3441613 ,  0.11884003, -1.2388006 , -0.25501075,  0.69527215]],\n",
              "      dtype=float32)>"
            ]
          },
          "metadata": {
            "tags": []
          },
          "execution_count": 39
        }
      ]
    },
    {
      "cell_type": "code",
      "metadata": {
        "id": "pa9js3I9la4T",
        "colab_type": "code",
        "colab": {
          "base_uri": "https://localhost:8080/",
          "height": 255
        },
        "outputId": "5796b024-dca2-40a9-a0fa-ed3d0991fb40"
      },
      "source": [
        "model = tf.keras.Sequential()\n",
        "model.add(hub_layer)\n",
        "model.add(tf.keras.layers.Dense(16, activation='relu'))\n",
        "model.add(tf.keras.layers.Dense(1))\n",
        "\n",
        "model.summary()"
      ],
      "execution_count": 40,
      "outputs": [
        {
          "output_type": "stream",
          "text": [
            "Model: \"sequential_3\"\n",
            "_________________________________________________________________\n",
            "Layer (type)                 Output Shape              Param #   \n",
            "=================================================================\n",
            "keras_layer_4 (KerasLayer)   (None, 20)                400020    \n",
            "_________________________________________________________________\n",
            "dense_6 (Dense)              (None, 16)                336       \n",
            "_________________________________________________________________\n",
            "dense_7 (Dense)              (None, 1)                 17        \n",
            "=================================================================\n",
            "Total params: 400,373\n",
            "Trainable params: 400,373\n",
            "Non-trainable params: 0\n",
            "_________________________________________________________________\n"
          ],
          "name": "stdout"
        }
      ]
    },
    {
      "cell_type": "code",
      "metadata": {
        "id": "t31VOjJynfzN",
        "colab_type": "code",
        "colab": {
          "base_uri": "https://localhost:8080/",
          "height": 697
        },
        "outputId": "364bf1f9-4159-4b5c-984b-71bb877d03fd"
      },
      "source": [
        "model.compile(optimizer = 'adam',\n",
        "              loss = tf.keras.losses.BinaryCrossentropy(from_logits=True),\n",
        "              metrics = ['accuracy'])\n",
        "\n",
        "# LO QUE SIGUE NO ANDA, no tengo train_data (ni validation_data, pero es análogo), deben\n",
        "# tener formato Prefetch DataShape y no se cómo crearlo a partir de train_text_list, train_df o lo que sea\n",
        "\n",
        "history = model.fit(train_text_list, train_target_list, batch_size=512,\n",
        "                    epochs=20,\n",
        "                    verbose=1)\n"
      ],
      "execution_count": 41,
      "outputs": [
        {
          "output_type": "stream",
          "text": [
            "Epoch 1/20\n",
            "15/15 [==============================] - 0s 10ms/step - loss: 0.7003 - accuracy: 0.6280\n",
            "Epoch 2/20\n",
            "15/15 [==============================] - 0s 9ms/step - loss: 0.6110 - accuracy: 0.6796\n",
            "Epoch 3/20\n",
            "15/15 [==============================] - 0s 10ms/step - loss: 0.5673 - accuracy: 0.7092\n",
            "Epoch 4/20\n",
            "15/15 [==============================] - 0s 10ms/step - loss: 0.5397 - accuracy: 0.7288\n",
            "Epoch 5/20\n",
            "15/15 [==============================] - 0s 10ms/step - loss: 0.5208 - accuracy: 0.7406\n",
            "Epoch 6/20\n",
            "15/15 [==============================] - 0s 10ms/step - loss: 0.5059 - accuracy: 0.7507\n",
            "Epoch 7/20\n",
            "15/15 [==============================] - 0s 10ms/step - loss: 0.4938 - accuracy: 0.7566\n",
            "Epoch 8/20\n",
            "15/15 [==============================] - 0s 10ms/step - loss: 0.4827 - accuracy: 0.7637\n",
            "Epoch 9/20\n",
            "15/15 [==============================] - 0s 9ms/step - loss: 0.4722 - accuracy: 0.7708\n",
            "Epoch 10/20\n",
            "15/15 [==============================] - 0s 9ms/step - loss: 0.4625 - accuracy: 0.7759\n",
            "Epoch 11/20\n",
            "15/15 [==============================] - 0s 9ms/step - loss: 0.4529 - accuracy: 0.7813\n",
            "Epoch 12/20\n",
            "15/15 [==============================] - 0s 10ms/step - loss: 0.4434 - accuracy: 0.7881\n",
            "Epoch 13/20\n",
            "15/15 [==============================] - 0s 9ms/step - loss: 0.4343 - accuracy: 0.7936\n",
            "Epoch 14/20\n",
            "15/15 [==============================] - 0s 10ms/step - loss: 0.4249 - accuracy: 0.8011\n",
            "Epoch 15/20\n",
            "15/15 [==============================] - 0s 10ms/step - loss: 0.4154 - accuracy: 0.8085\n",
            "Epoch 16/20\n",
            "15/15 [==============================] - 0s 10ms/step - loss: 0.4063 - accuracy: 0.8133\n",
            "Epoch 17/20\n",
            "15/15 [==============================] - 0s 10ms/step - loss: 0.3971 - accuracy: 0.8216\n",
            "Epoch 18/20\n",
            "15/15 [==============================] - 0s 9ms/step - loss: 0.3881 - accuracy: 0.8260\n",
            "Epoch 19/20\n",
            "15/15 [==============================] - 0s 10ms/step - loss: 0.3788 - accuracy: 0.8306\n",
            "Epoch 20/20\n",
            "15/15 [==============================] - 0s 10ms/step - loss: 0.3696 - accuracy: 0.8345\n"
          ],
          "name": "stdout"
        }
      ]
    },
    {
      "cell_type": "code",
      "metadata": {
        "id": "KuY4c8Tdm-7F",
        "colab_type": "code",
        "colab": {
          "base_uri": "https://localhost:8080/",
          "height": 51
        },
        "outputId": "a222a0a6-2373-423b-f375-6226177ae945"
      },
      "source": [
        "loss,precision = model.evaluate(train_text_list, train_target_list)\n",
        "print('Precisión: %.2f' % (precision*100))"
      ],
      "execution_count": 42,
      "outputs": [
        {
          "output_type": "stream",
          "text": [
            "238/238 [==============================] - 0s 1ms/step - loss: 0.3632 - accuracy: 0.8380\n",
            "Precisión: 83.80\n"
          ],
          "name": "stdout"
        }
      ]
    },
    {
      "cell_type": "code",
      "metadata": {
        "id": "YOkim25_uZJC",
        "colab_type": "code",
        "colab": {
          "base_uri": "https://localhost:8080/",
          "height": 204
        },
        "outputId": "432dfc69-b37d-4b30-ff29-0f5a7dade390"
      },
      "source": [
        "test_df = test_df.drop(['keyword', 'location'], axis = 1)\n",
        "test_df.head(5)"
      ],
      "execution_count": 43,
      "outputs": [
        {
          "output_type": "execute_result",
          "data": {
            "text/html": [
              "<div>\n",
              "<style scoped>\n",
              "    .dataframe tbody tr th:only-of-type {\n",
              "        vertical-align: middle;\n",
              "    }\n",
              "\n",
              "    .dataframe tbody tr th {\n",
              "        vertical-align: top;\n",
              "    }\n",
              "\n",
              "    .dataframe thead th {\n",
              "        text-align: right;\n",
              "    }\n",
              "</style>\n",
              "<table border=\"1\" class=\"dataframe\">\n",
              "  <thead>\n",
              "    <tr style=\"text-align: right;\">\n",
              "      <th></th>\n",
              "      <th>id</th>\n",
              "      <th>text</th>\n",
              "    </tr>\n",
              "  </thead>\n",
              "  <tbody>\n",
              "    <tr>\n",
              "      <th>0</th>\n",
              "      <td>0</td>\n",
              "      <td>Just happened a terrible car crash</td>\n",
              "    </tr>\n",
              "    <tr>\n",
              "      <th>1</th>\n",
              "      <td>2</td>\n",
              "      <td>Heard about #earthquake is different cities, s...</td>\n",
              "    </tr>\n",
              "    <tr>\n",
              "      <th>2</th>\n",
              "      <td>3</td>\n",
              "      <td>there is a forest fire at spot pond, geese are...</td>\n",
              "    </tr>\n",
              "    <tr>\n",
              "      <th>3</th>\n",
              "      <td>9</td>\n",
              "      <td>Apocalypse lighting. #Spokane #wildfires</td>\n",
              "    </tr>\n",
              "    <tr>\n",
              "      <th>4</th>\n",
              "      <td>11</td>\n",
              "      <td>Typhoon Soudelor kills 28 in China and Taiwan</td>\n",
              "    </tr>\n",
              "  </tbody>\n",
              "</table>\n",
              "</div>"
            ],
            "text/plain": [
              "   id                                               text\n",
              "0   0                 Just happened a terrible car crash\n",
              "1   2  Heard about #earthquake is different cities, s...\n",
              "2   3  there is a forest fire at spot pond, geese are...\n",
              "3   9           Apocalypse lighting. #Spokane #wildfires\n",
              "4  11      Typhoon Soudelor kills 28 in China and Taiwan"
            ]
          },
          "metadata": {
            "tags": []
          },
          "execution_count": 43
        }
      ]
    },
    {
      "cell_type": "code",
      "metadata": {
        "id": "wpAEhLQGySbR",
        "colab_type": "code",
        "colab": {
          "base_uri": "https://localhost:8080/",
          "height": 136
        },
        "outputId": "451a94de-74bc-40bf-9bc9-73bb9078aada"
      },
      "source": [
        "embedding = \"https://tfhub.dev/google/tf2-preview/gnews-swivel-20dim/1\"\n",
        "\n",
        "hub_layer = hub.KerasLayer(embedding, input_shape=[], \n",
        "                           dtype=tf.string, trainable=True)\n",
        "\n",
        "test_text_list = np.asarray(test_df['text'])\n",
        "\n",
        "hub_layer(train_text_list[:3])\n",
        "\n",
        "prediction=model.predict_classes(test_text_list)\n",
        "prediction"
      ],
      "execution_count": 44,
      "outputs": [
        {
          "output_type": "execute_result",
          "data": {
            "text/plain": [
              "array([[1],\n",
              "       [1],\n",
              "       [1],\n",
              "       ...,\n",
              "       [0],\n",
              "       [1],\n",
              "       [0]], dtype=int32)"
            ]
          },
          "metadata": {
            "tags": []
          },
          "execution_count": 44
        }
      ]
    },
    {
      "cell_type": "code",
      "metadata": {
        "id": "KkSvLRovz4i-",
        "colab_type": "code",
        "colab": {
          "base_uri": "https://localhost:8080/",
          "height": 17
        },
        "outputId": "938bd549-1a66-4622-c61a-a430959f9004"
      },
      "source": [
        "test_df['target'] = prediction\n",
        "export = pd.DataFrame()\n",
        "export['id']=test_df['id']\n",
        "export['target'] = test_df['target']\n",
        "export= export.set_index('id')\n",
        "export.to_csv('submit.csv')\n",
        "files.download('submit.csv')\n"
      ],
      "execution_count": 45,
      "outputs": [
        {
          "output_type": "display_data",
          "data": {
            "application/javascript": [
              "\n",
              "    async function download(id, filename, size) {\n",
              "      if (!google.colab.kernel.accessAllowed) {\n",
              "        return;\n",
              "      }\n",
              "      const div = document.createElement('div');\n",
              "      const label = document.createElement('label');\n",
              "      label.textContent = `Downloading \"${filename}\": `;\n",
              "      div.appendChild(label);\n",
              "      const progress = document.createElement('progress');\n",
              "      progress.max = size;\n",
              "      div.appendChild(progress);\n",
              "      document.body.appendChild(div);\n",
              "\n",
              "      const buffers = [];\n",
              "      let downloaded = 0;\n",
              "\n",
              "      const channel = await google.colab.kernel.comms.open(id);\n",
              "      // Send a message to notify the kernel that we're ready.\n",
              "      channel.send({})\n",
              "\n",
              "      for await (const message of channel.messages) {\n",
              "        // Send a message to notify the kernel that we're ready.\n",
              "        channel.send({})\n",
              "        if (message.buffers) {\n",
              "          for (const buffer of message.buffers) {\n",
              "            buffers.push(buffer);\n",
              "            downloaded += buffer.byteLength;\n",
              "            progress.value = downloaded;\n",
              "          }\n",
              "        }\n",
              "      }\n",
              "      const blob = new Blob(buffers, {type: 'application/binary'});\n",
              "      const a = document.createElement('a');\n",
              "      a.href = window.URL.createObjectURL(blob);\n",
              "      a.download = filename;\n",
              "      div.appendChild(a);\n",
              "      a.click();\n",
              "      div.remove();\n",
              "    }\n",
              "  "
            ],
            "text/plain": [
              "<IPython.core.display.Javascript object>"
            ]
          },
          "metadata": {
            "tags": []
          }
        },
        {
          "output_type": "display_data",
          "data": {
            "application/javascript": [
              "download(\"download_6c64c602-6523-4584-891e-11ab09ce2f5f\", \"submit.csv\", 22746)"
            ],
            "text/plain": [
              "<IPython.core.display.Javascript object>"
            ]
          },
          "metadata": {
            "tags": []
          }
        }
      ]
    }
  ]
}