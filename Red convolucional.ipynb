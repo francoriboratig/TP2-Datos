{
  "nbformat": 4,
  "nbformat_minor": 0,
  "metadata": {
    "colab": {
      "name": "Keras hyperparameter tuning.ipynb",
      "provenance": [],
      "collapsed_sections": [],
      "include_colab_link": true
    },
    "kernelspec": {
      "name": "python3",
      "display_name": "Python 3"
    }
  },
  "cells": [
    {
      "cell_type": "markdown",
      "metadata": {
        "id": "view-in-github",
        "colab_type": "text"
      },
      "source": [
        "<a href=\"https://colab.research.google.com/github/francoriboratig/TP2-Datos/blob/master/Red%20convolucional.ipynb\" target=\"_parent\"><img src=\"https://colab.research.google.com/assets/colab-badge.svg\" alt=\"Open In Colab\"/></a>"
      ]
    },
    {
      "cell_type": "code",
      "metadata": {
        "id": "xB4ZOJSvG-Fi",
        "colab_type": "code",
        "colab": {
          "base_uri": "https://localhost:8080/",
          "height": 989
        },
        "outputId": "344fbcfa-0965-4935-bc2e-392dba4ef7ab"
      },
      "source": [
        "import numpy as np\n",
        "import tensorflow as tf\n",
        "import pandas as pd\n",
        "import tensorflow.keras as keras\n",
        "import sklearn as sklearn\n",
        "from sklearn.model_selection import train_test_split\n",
        "from sklearn.feature_extraction.text import CountVectorizer\n",
        "from tensorflow.keras.preprocessing.text import Tokenizer\n",
        "from tensorflow.keras.preprocessing.sequence import pad_sequences\n",
        "from keras.layers import MaxPooling1D\n",
        "from keras.layers import Flatten\n",
        "from keras.layers import Conv1D\n",
        "from keras.layers.recurrent import LSTM\n",
        "from keras.models import Sequential\n",
        "from keras import layers\n",
        "from google.colab import files\n",
        "from sklearn.metrics import roc_auc_score\n",
        "from sklearn import metrics\n",
        "!pip install talos\n",
        "import talos"
      ],
      "execution_count": 364,
      "outputs": [
        {
          "output_type": "stream",
          "text": [
            "Requirement already satisfied: talos in /usr/local/lib/python3.6/dist-packages (0.6.6)\n",
            "Requirement already satisfied: statsmodels>=0.11.0 in /usr/local/lib/python3.6/dist-packages (from talos) (0.11.1)\n",
            "Requirement already satisfied: keras==2.3.0 in /usr/local/lib/python3.6/dist-packages (from talos) (2.3.0)\n",
            "Requirement already satisfied: tqdm in /usr/local/lib/python3.6/dist-packages (from talos) (4.41.1)\n",
            "Requirement already satisfied: wrangle in /usr/local/lib/python3.6/dist-packages (from talos) (0.6.7)\n",
            "Requirement already satisfied: requests in /usr/local/lib/python3.6/dist-packages (from talos) (2.23.0)\n",
            "Requirement already satisfied: numpy in /usr/local/lib/python3.6/dist-packages (from talos) (1.18.5)\n",
            "Requirement already satisfied: kerasplotlib in /usr/local/lib/python3.6/dist-packages (from talos) (0.1.6)\n",
            "Requirement already satisfied: pandas in /usr/local/lib/python3.6/dist-packages (from talos) (1.0.5)\n",
            "Requirement already satisfied: astetik in /usr/local/lib/python3.6/dist-packages (from talos) (1.9.9)\n",
            "Requirement already satisfied: chances in /usr/local/lib/python3.6/dist-packages (from talos) (0.1.9)\n",
            "Requirement already satisfied: tensorflow==1.14.0 in /usr/local/lib/python3.6/dist-packages (from talos) (1.14.0)\n",
            "Requirement already satisfied: sklearn in /usr/local/lib/python3.6/dist-packages (from talos) (0.0)\n",
            "Requirement already satisfied: patsy>=0.5 in /usr/local/lib/python3.6/dist-packages (from statsmodels>=0.11.0->talos) (0.5.1)\n",
            "Requirement already satisfied: scipy>=1.0 in /usr/local/lib/python3.6/dist-packages (from statsmodels>=0.11.0->talos) (1.2.0)\n",
            "Requirement already satisfied: h5py in /usr/local/lib/python3.6/dist-packages (from keras==2.3.0->talos) (2.10.0)\n",
            "Requirement already satisfied: pyyaml in /usr/local/lib/python3.6/dist-packages (from keras==2.3.0->talos) (3.13)\n",
            "Requirement already satisfied: keras-preprocessing>=1.0.5 in /usr/local/lib/python3.6/dist-packages (from keras==2.3.0->talos) (1.1.2)\n",
            "Requirement already satisfied: keras-applications>=1.0.6 in /usr/local/lib/python3.6/dist-packages (from keras==2.3.0->talos) (1.0.8)\n",
            "Requirement already satisfied: six>=1.9.0 in /usr/local/lib/python3.6/dist-packages (from keras==2.3.0->talos) (1.15.0)\n",
            "Requirement already satisfied: chardet<4,>=3.0.2 in /usr/local/lib/python3.6/dist-packages (from requests->talos) (3.0.4)\n",
            "Requirement already satisfied: certifi>=2017.4.17 in /usr/local/lib/python3.6/dist-packages (from requests->talos) (2020.6.20)\n",
            "Requirement already satisfied: urllib3!=1.25.0,!=1.25.1,<1.26,>=1.21.1 in /usr/local/lib/python3.6/dist-packages (from requests->talos) (1.24.3)\n",
            "Requirement already satisfied: idna<3,>=2.5 in /usr/local/lib/python3.6/dist-packages (from requests->talos) (2.10)\n",
            "Requirement already satisfied: ipython in /usr/local/lib/python3.6/dist-packages (from kerasplotlib->talos) (5.5.0)\n",
            "Requirement already satisfied: python-dateutil>=2.6.1 in /usr/local/lib/python3.6/dist-packages (from pandas->talos) (2.8.1)\n",
            "Requirement already satisfied: pytz>=2017.2 in /usr/local/lib/python3.6/dist-packages (from pandas->talos) (2018.9)\n",
            "Requirement already satisfied: geonamescache in /usr/local/lib/python3.6/dist-packages (from astetik->talos) (1.2.0)\n",
            "Requirement already satisfied: tensorflow-estimator<1.15.0rc0,>=1.14.0rc0 in /usr/local/lib/python3.6/dist-packages (from tensorflow==1.14.0->talos) (1.14.0)\n",
            "Requirement already satisfied: google-pasta>=0.1.6 in /usr/local/lib/python3.6/dist-packages (from tensorflow==1.14.0->talos) (0.2.0)\n",
            "Requirement already satisfied: protobuf>=3.6.1 in /usr/local/lib/python3.6/dist-packages (from tensorflow==1.14.0->talos) (3.12.4)\n",
            "Requirement already satisfied: grpcio>=1.8.6 in /usr/local/lib/python3.6/dist-packages (from tensorflow==1.14.0->talos) (1.30.0)\n",
            "Requirement already satisfied: wrapt>=1.11.1 in /usr/local/lib/python3.6/dist-packages (from tensorflow==1.14.0->talos) (1.12.1)\n",
            "Requirement already satisfied: gast>=0.2.0 in /usr/local/lib/python3.6/dist-packages (from tensorflow==1.14.0->talos) (0.3.3)\n",
            "Requirement already satisfied: astor>=0.6.0 in /usr/local/lib/python3.6/dist-packages (from tensorflow==1.14.0->talos) (0.8.1)\n",
            "Requirement already satisfied: tensorboard<1.15.0,>=1.14.0 in /usr/local/lib/python3.6/dist-packages (from tensorflow==1.14.0->talos) (1.14.0)\n",
            "Requirement already satisfied: absl-py>=0.7.0 in /usr/local/lib/python3.6/dist-packages (from tensorflow==1.14.0->talos) (0.9.0)\n",
            "Requirement already satisfied: termcolor>=1.1.0 in /usr/local/lib/python3.6/dist-packages (from tensorflow==1.14.0->talos) (1.1.0)\n",
            "Requirement already satisfied: wheel>=0.26 in /usr/local/lib/python3.6/dist-packages (from tensorflow==1.14.0->talos) (0.34.2)\n",
            "Requirement already satisfied: scikit-learn in /usr/local/lib/python3.6/dist-packages (from sklearn->talos) (0.22.2.post1)\n",
            "Requirement already satisfied: simplegeneric>0.8 in /usr/local/lib/python3.6/dist-packages (from ipython->kerasplotlib->talos) (0.8.1)\n",
            "Requirement already satisfied: decorator in /usr/local/lib/python3.6/dist-packages (from ipython->kerasplotlib->talos) (4.4.2)\n",
            "Requirement already satisfied: traitlets>=4.2 in /usr/local/lib/python3.6/dist-packages (from ipython->kerasplotlib->talos) (4.3.3)\n",
            "Requirement already satisfied: pexpect; sys_platform != \"win32\" in /usr/local/lib/python3.6/dist-packages (from ipython->kerasplotlib->talos) (4.8.0)\n",
            "Requirement already satisfied: pickleshare in /usr/local/lib/python3.6/dist-packages (from ipython->kerasplotlib->talos) (0.7.5)\n",
            "Requirement already satisfied: setuptools>=18.5 in /usr/local/lib/python3.6/dist-packages (from ipython->kerasplotlib->talos) (49.2.0)\n",
            "Requirement already satisfied: pygments in /usr/local/lib/python3.6/dist-packages (from ipython->kerasplotlib->talos) (2.1.3)\n",
            "Requirement already satisfied: prompt-toolkit<2.0.0,>=1.0.4 in /usr/local/lib/python3.6/dist-packages (from ipython->kerasplotlib->talos) (1.0.18)\n",
            "Requirement already satisfied: werkzeug>=0.11.15 in /usr/local/lib/python3.6/dist-packages (from tensorboard<1.15.0,>=1.14.0->tensorflow==1.14.0->talos) (1.0.1)\n",
            "Requirement already satisfied: markdown>=2.6.8 in /usr/local/lib/python3.6/dist-packages (from tensorboard<1.15.0,>=1.14.0->tensorflow==1.14.0->talos) (3.2.2)\n",
            "Requirement already satisfied: joblib>=0.11 in /usr/local/lib/python3.6/dist-packages (from scikit-learn->sklearn->talos) (0.16.0)\n",
            "Requirement already satisfied: ipython-genutils in /usr/local/lib/python3.6/dist-packages (from traitlets>=4.2->ipython->kerasplotlib->talos) (0.2.0)\n",
            "Requirement already satisfied: ptyprocess>=0.5 in /usr/local/lib/python3.6/dist-packages (from pexpect; sys_platform != \"win32\"->ipython->kerasplotlib->talos) (0.6.0)\n",
            "Requirement already satisfied: wcwidth in /usr/local/lib/python3.6/dist-packages (from prompt-toolkit<2.0.0,>=1.0.4->ipython->kerasplotlib->talos) (0.2.5)\n",
            "Requirement already satisfied: importlib-metadata; python_version < \"3.8\" in /usr/local/lib/python3.6/dist-packages (from markdown>=2.6.8->tensorboard<1.15.0,>=1.14.0->tensorflow==1.14.0->talos) (1.7.0)\n",
            "Requirement already satisfied: zipp>=0.5 in /usr/local/lib/python3.6/dist-packages (from importlib-metadata; python_version < \"3.8\"->markdown>=2.6.8->tensorboard<1.15.0,>=1.14.0->tensorflow==1.14.0->talos) (3.1.0)\n"
          ],
          "name": "stdout"
        }
      ]
    },
    {
      "cell_type": "code",
      "metadata": {
        "id": "O9xxlwGhHzu-",
        "colab_type": "code",
        "colab": {
          "base_uri": "https://localhost:8080/",
          "height": 204
        },
        "outputId": "05460fd7-5273-41ce-a2e2-0fb321d06225"
      },
      "source": [
        "# CARGAMOS LOS CSV\n",
        "url_train = 'https://raw.githubusercontent.com/JulioCastillo1/TP1-Datos/master/train.csv'\n",
        "url_test = 'https://raw.githubusercontent.com/francoriboratig/TP2-Datos/master/test.csv'\n",
        "\n",
        "train_df = pd.read_csv(url_train)\n",
        "test_df = pd.read_csv(url_test)\n",
        "train_df = train_df.drop(['keyword', 'location','id'], axis = 1)\n",
        "train_df.head()"
      ],
      "execution_count": 365,
      "outputs": [
        {
          "output_type": "execute_result",
          "data": {
            "text/html": [
              "<div>\n",
              "<style scoped>\n",
              "    .dataframe tbody tr th:only-of-type {\n",
              "        vertical-align: middle;\n",
              "    }\n",
              "\n",
              "    .dataframe tbody tr th {\n",
              "        vertical-align: top;\n",
              "    }\n",
              "\n",
              "    .dataframe thead th {\n",
              "        text-align: right;\n",
              "    }\n",
              "</style>\n",
              "<table border=\"1\" class=\"dataframe\">\n",
              "  <thead>\n",
              "    <tr style=\"text-align: right;\">\n",
              "      <th></th>\n",
              "      <th>text</th>\n",
              "      <th>target</th>\n",
              "    </tr>\n",
              "  </thead>\n",
              "  <tbody>\n",
              "    <tr>\n",
              "      <th>0</th>\n",
              "      <td>Our Deeds are the Reason of this #earthquake M...</td>\n",
              "      <td>1</td>\n",
              "    </tr>\n",
              "    <tr>\n",
              "      <th>1</th>\n",
              "      <td>Forest fire near La Ronge Sask. Canada</td>\n",
              "      <td>1</td>\n",
              "    </tr>\n",
              "    <tr>\n",
              "      <th>2</th>\n",
              "      <td>All residents asked to 'shelter in place' are ...</td>\n",
              "      <td>1</td>\n",
              "    </tr>\n",
              "    <tr>\n",
              "      <th>3</th>\n",
              "      <td>13,000 people receive #wildfires evacuation or...</td>\n",
              "      <td>1</td>\n",
              "    </tr>\n",
              "    <tr>\n",
              "      <th>4</th>\n",
              "      <td>Just got sent this photo from Ruby #Alaska as ...</td>\n",
              "      <td>1</td>\n",
              "    </tr>\n",
              "  </tbody>\n",
              "</table>\n",
              "</div>"
            ],
            "text/plain": [
              "                                                text  target\n",
              "0  Our Deeds are the Reason of this #earthquake M...       1\n",
              "1             Forest fire near La Ronge Sask. Canada       1\n",
              "2  All residents asked to 'shelter in place' are ...       1\n",
              "3  13,000 people receive #wildfires evacuation or...       1\n",
              "4  Just got sent this photo from Ruby #Alaska as ...       1"
            ]
          },
          "metadata": {
            "tags": []
          },
          "execution_count": 365
        }
      ]
    },
    {
      "cell_type": "code",
      "metadata": {
        "id": "S3FM6fG3H0yk",
        "colab_type": "code",
        "colab": {
          "base_uri": "https://localhost:8080/",
          "height": 34
        },
        "outputId": "b3762f56-585c-4fd1-9b8c-c3cdd60f3390"
      },
      "source": [
        "train_df.shape"
      ],
      "execution_count": 366,
      "outputs": [
        {
          "output_type": "execute_result",
          "data": {
            "text/plain": [
              "(7613, 2)"
            ]
          },
          "metadata": {
            "tags": []
          },
          "execution_count": 366
        }
      ]
    },
    {
      "cell_type": "code",
      "metadata": {
        "id": "AqSkKT5iH_vk",
        "colab_type": "code",
        "colab": {}
      },
      "source": [
        "x_train, x_validation, y_train, y_validation = train_test_split(train_df['text'],train_df['target'],random_state=7,test_size = 0.20)\n",
        "x_train = train_df['text']\n",
        "y_train = train_df['target']"
      ],
      "execution_count": 367,
      "outputs": []
    },
    {
      "cell_type": "code",
      "metadata": {
        "id": "AdwFLQIZGltH",
        "colab_type": "code",
        "colab": {}
      },
      "source": [
        "def modelardo(x_train,y_train,x_test,y_test,params):\n",
        "  vectorizer = CountVectorizer()\n",
        "  vectorizer.fit(x_train)\n",
        "\n",
        "  x_train = vectorizer.transform(x_train)\n",
        "  x_test = vectorizer.transform(x_test)\n",
        "  input_dim = x_train.shape[1]\n",
        "  model = Sequential()\n",
        "  model.add(layers.Dense(params['first neuron units'],input_dim=input_dim,activation=params['first neuron activation']))\n",
        "  model.add(layers.Dense(1,activation = 'sigmoid'))\n",
        "  model.compile(loss='binary_crossentropy', optimizer='adam', metrics=['accuracy'])\n",
        "  out = model.fit(x_train,y_train,epochs = params['epochs'],verbose = 0,validation_data = (x_test,y_test),batch_size=params['batch size'])\n",
        "  return out,model\n"
      ],
      "execution_count": 368,
      "outputs": []
    },
    {
      "cell_type": "code",
      "metadata": {
        "id": "65ek_jHon6Tv",
        "colab_type": "code",
        "colab": {
          "base_uri": "https://localhost:8080/",
          "height": 34
        },
        "outputId": "bbe8cddc-c495-4c94-a5b8-9e36560c7908"
      },
      "source": [
        "x_train.shape\n",
        "#t = talos.Scan(x_train,y_train,params=p,model=modelardo,experiment_name='diabetes')\n",
        "#Este proceso tarda 1,5hs aprox en colab. Y tiene muy poquitos hiperparámetros para tunear"
      ],
      "execution_count": 369,
      "outputs": [
        {
          "output_type": "execute_result",
          "data": {
            "text/plain": [
              "(7613,)"
            ]
          },
          "metadata": {
            "tags": []
          },
          "execution_count": 369
        }
      ]
    },
    {
      "cell_type": "code",
      "metadata": {
        "id": "gWtUPtK4zyqB",
        "colab_type": "code",
        "colab": {}
      },
      "source": [
        "#experiment_data = t.data\n",
        "#experiment_data.head()"
      ],
      "execution_count": 370,
      "outputs": []
    },
    {
      "cell_type": "code",
      "metadata": {
        "id": "AAekZ6rH0eQn",
        "colab_type": "code",
        "colab": {}
      },
      "source": [
        "#experiment_data['val_accuracy'].idxmax()"
      ],
      "execution_count": 371,
      "outputs": []
    },
    {
      "cell_type": "code",
      "metadata": {
        "id": "v40O3fc_3rJV",
        "colab_type": "code",
        "colab": {}
      },
      "source": [
        "#experiment_data.iloc[205]"
      ],
      "execution_count": 372,
      "outputs": []
    },
    {
      "cell_type": "code",
      "metadata": {
        "id": "HTETHVmSySMz",
        "colab_type": "code",
        "colab": {}
      },
      "source": [
        "#vectorizer = CountVectorizer()\n",
        "#vectorizer.fit(train_df['text'])\n",
        "\n",
        "#data_train = vectorizer.fit_transform(train_df['text']).toarray()\n"
      ],
      "execution_count": 373,
      "outputs": []
    },
    {
      "cell_type": "code",
      "metadata": {
        "id": "xZ5ELEGE31CU",
        "colab_type": "code",
        "colab": {
          "base_uri": "https://localhost:8080/",
          "height": 1000
        },
        "outputId": "63ea9a8b-5f13-40d9-9e11-1ddb8a494d76"
      },
      "source": [
        "# Función con el modelo para pasar por parámetro a talos.\n",
        "\n",
        "def modelo(x_train,y_train,x_test,y_test,params):\n",
        "  tokenizer = Tokenizer(num_words=2000)\n",
        "  tokenizer.fit_on_texts(x_train)\n",
        "\n",
        "  train_sequences = tokenizer.texts_to_sequences(x_train)\n",
        "  validation_sequences = tokenizer.texts_to_sequences(x_validation)\n",
        "  train_data = pad_sequences(train_sequences, maxlen=100)\n",
        "  validation_data = pad_sequences(validation_sequences, maxlen=100)\n",
        "\n",
        "\n",
        "  #input_dim = x_train.shape[1]\n",
        "\n",
        "  best_model = Sequential()\n",
        "  best_model.add(layers.Embedding(2000, 100, input_length=100))\n",
        "  best_model.add(Conv1D(params['neuron_units_1'], 5, activation = params['activation']))\n",
        "  best_model.add(layers.GlobalAveragePooling1D())\n",
        "  #best_model.add(Conv1D(512, 5, activation='relu'))\n",
        "  #best_model.add(layers.GlobalAveragePooling1D())\n",
        "  #best_model.add(Conv1D(512, 5, activation='relu'))\n",
        "  #best_model.add(layers.GlobalAveragePooling1D())\n",
        "  #best_model.add(MaxPooling1D(5))\n",
        "  #best_model.add(layers.Dropout(0.25))\n",
        "  #best_model.add(Flatten())\n",
        "  #best_model.add(LSTM(64))\n",
        "  best_model.add(layers.Dense(params['neuron_units_1'], activation = params['activation']))\n",
        "  #best_model.add(layers.Dense(128 ,activation='relu'))\n",
        "  best_model.add(layers.Dense(units = 1, activation='sigmoid'))\n",
        "  #best_model.add(layers.Dense(1,activation = 'sigmoid'))\n",
        "  best_model.compile(loss='binary_crossentropy', optimizer='adam', metrics=['accuracy'])\n",
        "  out = best_model.fit(train_data,y_train,epochs = params['epochs'],verbose = 1,validation_data = (validation_data,y_validation),batch_size=params['batch size'])\n",
        "  return out, best_model\n",
        "\n",
        "#loss, accuracy = best_model.evaluate(train_data, y_train, verbose=False)\n",
        "#print(\"Training Accuracy: {:.4f}\".format(accuracy))\n",
        "#loss, accuracy = best_model.evaluate(validation_data, y_validation, verbose=False)\n",
        "#print(\"Testing Accuracy:  {:.4f}\".format(accuracy))\n",
        "\n",
        "p = {\n",
        "    'neuron_units_1': [20,32,64,128],\n",
        "    'activation' : ['relu','elu','softmax','tanh','exponential'],\n",
        "    'epochs' : [1,5,10],\n",
        "    'batch size': [5,100,5],\n",
        "}\n",
        "\n",
        "#t = talos.Scan(x_train, y_train, params = p, model = modelo, experiment_name = 'Convo hyperparam tuning')"
      ],
      "execution_count": 374,
      "outputs": [
        {
          "output_type": "stream",
          "text": [
            "\n",
            "  0%|          | 0/180 [00:00<?, ?it/s]\u001b[A"
          ],
          "name": "stderr"
        },
        {
          "output_type": "stream",
          "text": [
            "Train on 5329 samples, validate on 1523 samples\n",
            "Epoch 1/1\n",
            "5329/5329 [==============================] - 11s 2ms/step - loss: 0.5344 - accuracy: 0.7211 - val_loss: 0.4146 - val_accuracy: 0.8181\n"
          ],
          "name": "stdout"
        },
        {
          "output_type": "stream",
          "text": [
            "\n",
            "  1%|          | 1/180 [00:15<45:15, 15.17s/it]\u001b[A"
          ],
          "name": "stderr"
        },
        {
          "output_type": "stream",
          "text": [
            "Train on 5329 samples, validate on 1523 samples\n",
            "Epoch 1/1\n",
            "5329/5329 [==============================] - 10s 2ms/step - loss: 0.5261 - accuracy: 0.7399 - val_loss: 0.3952 - val_accuracy: 0.8352\n"
          ],
          "name": "stdout"
        },
        {
          "output_type": "stream",
          "text": [
            "\n",
            "  1%|          | 2/180 [00:26<41:13, 13.90s/it]\u001b[A"
          ],
          "name": "stderr"
        },
        {
          "output_type": "stream",
          "text": [
            "Train on 5329 samples, validate on 1523 samples\n",
            "Epoch 1/1\n",
            "5329/5329 [==============================] - 11s 2ms/step - loss: 0.5157 - accuracy: 0.7476 - val_loss: 0.4022 - val_accuracy: 0.8326\n"
          ],
          "name": "stdout"
        },
        {
          "output_type": "stream",
          "text": [
            "\n",
            "  2%|▏         | 3/180 [00:38<39:34, 13.41s/it]\u001b[A"
          ],
          "name": "stderr"
        },
        {
          "output_type": "stream",
          "text": [
            "Train on 5329 samples, validate on 1523 samples\n",
            "Epoch 1/1\n",
            "5329/5329 [==============================] - 13s 2ms/step - loss: 0.5106 - accuracy: 0.7482 - val_loss: 0.3835 - val_accuracy: 0.8457\n"
          ],
          "name": "stdout"
        },
        {
          "output_type": "stream",
          "text": [
            "\n",
            "  2%|▏         | 4/180 [00:52<39:57, 13.62s/it]\u001b[A"
          ],
          "name": "stderr"
        },
        {
          "output_type": "stream",
          "text": [
            "Train on 5329 samples, validate on 1523 samples\n",
            "Epoch 1/5\n",
            "5329/5329 [==============================] - 11s 2ms/step - loss: 0.5343 - accuracy: 0.7311 - val_loss: 0.3937 - val_accuracy: 0.8326\n",
            "Epoch 2/5\n",
            "5329/5329 [==============================] - 8s 2ms/step - loss: 0.3868 - accuracy: 0.8373 - val_loss: 0.3588 - val_accuracy: 0.8523\n",
            "Epoch 3/5\n",
            "5329/5329 [==============================] - 9s 2ms/step - loss: 0.3362 - accuracy: 0.8606 - val_loss: 0.3425 - val_accuracy: 0.8634\n",
            "Epoch 4/5\n",
            "5329/5329 [==============================] - 9s 2ms/step - loss: 0.2975 - accuracy: 0.8812 - val_loss: 0.3208 - val_accuracy: 0.8713\n",
            "Epoch 5/5\n",
            "5329/5329 [==============================] - 8s 2ms/step - loss: 0.2594 - accuracy: 0.8955 - val_loss: 0.3303 - val_accuracy: 0.8661\n"
          ],
          "name": "stdout"
        },
        {
          "output_type": "stream",
          "text": [
            "\n",
            "  3%|▎         | 5/180 [01:39<1:08:46, 23.58s/it]\u001b[A"
          ],
          "name": "stderr"
        },
        {
          "output_type": "stream",
          "text": [
            "Train on 5329 samples, validate on 1523 samples\n",
            "Epoch 1/5\n",
            "5329/5329 [==============================] - 10s 2ms/step - loss: 0.5318 - accuracy: 0.7326 - val_loss: 0.4043 - val_accuracy: 0.8273\n",
            "Epoch 2/5\n",
            "5329/5329 [==============================] - 8s 2ms/step - loss: 0.3882 - accuracy: 0.8341 - val_loss: 0.3669 - val_accuracy: 0.8536\n",
            "Epoch 3/5\n",
            "5329/5329 [==============================] - 9s 2ms/step - loss: 0.3333 - accuracy: 0.8656 - val_loss: 0.3441 - val_accuracy: 0.8595\n",
            "Epoch 4/5\n",
            "5329/5329 [==============================] - 9s 2ms/step - loss: 0.2934 - accuracy: 0.8825 - val_loss: 0.3311 - val_accuracy: 0.8621\n",
            "Epoch 5/5\n",
            "5329/5329 [==============================] - 9s 2ms/step - loss: 0.2555 - accuracy: 0.8998 - val_loss: 0.3113 - val_accuracy: 0.8739\n"
          ],
          "name": "stdout"
        },
        {
          "output_type": "stream",
          "text": [
            "\n",
            "  3%|▎         | 6/180 [02:25<1:27:51, 30.30s/it]\u001b[A"
          ],
          "name": "stderr"
        },
        {
          "output_type": "stream",
          "text": [
            "Train on 5329 samples, validate on 1523 samples\n",
            "Epoch 1/5\n",
            "5329/5329 [==============================] - 10s 2ms/step - loss: 0.5205 - accuracy: 0.7431 - val_loss: 0.4022 - val_accuracy: 0.8418\n",
            "Epoch 2/5\n",
            "5329/5329 [==============================] - 10s 2ms/step - loss: 0.3876 - accuracy: 0.8407 - val_loss: 0.3523 - val_accuracy: 0.8582\n",
            "Epoch 3/5\n",
            "5329/5329 [==============================] - 9s 2ms/step - loss: 0.3325 - accuracy: 0.8660 - val_loss: 0.3380 - val_accuracy: 0.8667\n",
            "Epoch 4/5\n",
            "5329/5329 [==============================] - 9s 2ms/step - loss: 0.2877 - accuracy: 0.8870 - val_loss: 0.3298 - val_accuracy: 0.8707\n",
            "Epoch 5/5\n",
            "5329/5329 [==============================] - 9s 2ms/step - loss: 0.2402 - accuracy: 0.9096 - val_loss: 0.3247 - val_accuracy: 0.8785\n"
          ],
          "name": "stdout"
        },
        {
          "output_type": "stream",
          "text": [
            "\n",
            "  4%|▍         | 7/180 [03:14<1:43:33, 35.92s/it]\u001b[A"
          ],
          "name": "stderr"
        },
        {
          "output_type": "stream",
          "text": [
            "Train on 5329 samples, validate on 1523 samples\n",
            "Epoch 1/5\n",
            "5329/5329 [==============================] - 12s 2ms/step - loss: 0.5160 - accuracy: 0.7405 - val_loss: 0.3855 - val_accuracy: 0.8496\n",
            "Epoch 2/5\n",
            "5329/5329 [==============================] - 12s 2ms/step - loss: 0.3810 - accuracy: 0.8397 - val_loss: 0.3517 - val_accuracy: 0.8575\n",
            "Epoch 3/5\n",
            "5329/5329 [==============================] - 12s 2ms/step - loss: 0.3192 - accuracy: 0.8707 - val_loss: 0.3241 - val_accuracy: 0.8687\n",
            "Epoch 4/5\n",
            "5329/5329 [==============================] - 12s 2ms/step - loss: 0.2628 - accuracy: 0.8977 - val_loss: 0.3054 - val_accuracy: 0.8759\n",
            "Epoch 5/5\n",
            "5329/5329 [==============================] - 12s 2ms/step - loss: 0.2168 - accuracy: 0.9172 - val_loss: 0.3179 - val_accuracy: 0.8812\n"
          ],
          "name": "stdout"
        },
        {
          "output_type": "stream",
          "text": [
            "\n",
            "  4%|▍         | 8/180 [04:14<2:03:53, 43.22s/it]\u001b[A"
          ],
          "name": "stderr"
        },
        {
          "output_type": "stream",
          "text": [
            "Train on 5329 samples, validate on 1523 samples\n",
            "Epoch 1/10\n",
            "5329/5329 [==============================] - 9s 2ms/step - loss: 0.5426 - accuracy: 0.7242 - val_loss: 0.4207 - val_accuracy: 0.8135\n",
            "Epoch 2/10\n",
            "5329/5329 [==============================] - 8s 2ms/step - loss: 0.3873 - accuracy: 0.8328 - val_loss: 0.3699 - val_accuracy: 0.8470\n",
            "Epoch 3/10\n",
            "5329/5329 [==============================] - 8s 2ms/step - loss: 0.3375 - accuracy: 0.8617 - val_loss: 0.3390 - val_accuracy: 0.8608\n",
            "Epoch 4/10\n",
            "5329/5329 [==============================] - 8s 2ms/step - loss: 0.2990 - accuracy: 0.8793 - val_loss: 0.3417 - val_accuracy: 0.8529\n",
            "Epoch 5/10\n",
            "5329/5329 [==============================] - 8s 2ms/step - loss: 0.2642 - accuracy: 0.8898 - val_loss: 0.3133 - val_accuracy: 0.8766\n",
            "Epoch 6/10\n",
            "5329/5329 [==============================] - 9s 2ms/step - loss: 0.2326 - accuracy: 0.9058 - val_loss: 0.3200 - val_accuracy: 0.8726\n",
            "Epoch 7/10\n",
            "5329/5329 [==============================] - 9s 2ms/step - loss: 0.2064 - accuracy: 0.9201 - val_loss: 0.3296 - val_accuracy: 0.8707\n",
            "Epoch 8/10\n",
            "5329/5329 [==============================] - 9s 2ms/step - loss: 0.1826 - accuracy: 0.9283 - val_loss: 0.3350 - val_accuracy: 0.8851\n",
            "Epoch 9/10\n",
            "5329/5329 [==============================] - 8s 2ms/step - loss: 0.1609 - accuracy: 0.9381 - val_loss: 0.3447 - val_accuracy: 0.8884\n",
            "Epoch 10/10\n",
            "5329/5329 [==============================] - 8s 2ms/step - loss: 0.1441 - accuracy: 0.9448 - val_loss: 0.3759 - val_accuracy: 0.8963\n"
          ],
          "name": "stdout"
        },
        {
          "output_type": "stream",
          "text": [
            "\n",
            "  5%|▌         | 9/180 [05:40<2:39:49, 56.08s/it]\u001b[A"
          ],
          "name": "stderr"
        },
        {
          "output_type": "stream",
          "text": [
            "Train on 5329 samples, validate on 1523 samples\n",
            "Epoch 1/10\n",
            "5329/5329 [==============================] - 9s 2ms/step - loss: 0.5322 - accuracy: 0.7362 - val_loss: 0.3952 - val_accuracy: 0.8345\n",
            "Epoch 2/10\n",
            "5329/5329 [==============================] - 8s 2ms/step - loss: 0.3875 - accuracy: 0.8369 - val_loss: 0.3637 - val_accuracy: 0.8549\n",
            "Epoch 3/10\n",
            "5329/5329 [==============================] - 9s 2ms/step - loss: 0.3359 - accuracy: 0.8647 - val_loss: 0.3389 - val_accuracy: 0.8693\n",
            "Epoch 4/10\n",
            "5329/5329 [==============================] - 9s 2ms/step - loss: 0.2930 - accuracy: 0.8822 - val_loss: 0.3226 - val_accuracy: 0.8752\n",
            "Epoch 5/10\n",
            "5329/5329 [==============================] - 8s 2ms/step - loss: 0.2556 - accuracy: 0.9005 - val_loss: 0.3075 - val_accuracy: 0.8792\n",
            "Epoch 6/10\n",
            "5329/5329 [==============================] - 8s 2ms/step - loss: 0.2182 - accuracy: 0.9180 - val_loss: 0.3042 - val_accuracy: 0.8877\n",
            "Epoch 7/10\n",
            "5329/5329 [==============================] - 8s 2ms/step - loss: 0.1860 - accuracy: 0.9287 - val_loss: 0.3562 - val_accuracy: 0.8818\n",
            "Epoch 8/10\n",
            "5329/5329 [==============================] - 8s 2ms/step - loss: 0.1609 - accuracy: 0.9398 - val_loss: 0.3297 - val_accuracy: 0.8930\n",
            "Epoch 9/10\n",
            "5329/5329 [==============================] - 8s 2ms/step - loss: 0.1396 - accuracy: 0.9486 - val_loss: 0.3449 - val_accuracy: 0.8917\n",
            "Epoch 10/10\n",
            "5329/5329 [==============================] - 8s 2ms/step - loss: 0.1219 - accuracy: 0.9565 - val_loss: 0.3789 - val_accuracy: 0.8969\n"
          ],
          "name": "stdout"
        },
        {
          "output_type": "stream",
          "text": [
            "\n",
            "  6%|▌         | 10/180 [07:07<3:05:02, 65.31s/it]\u001b[A"
          ],
          "name": "stderr"
        },
        {
          "output_type": "stream",
          "text": [
            "Train on 5329 samples, validate on 1523 samples\n",
            "Epoch 1/10\n",
            "5329/5329 [==============================] - 10s 2ms/step - loss: 0.5207 - accuracy: 0.7407 - val_loss: 0.3973 - val_accuracy: 0.8345\n",
            "Epoch 2/10\n",
            "5329/5329 [==============================] - 10s 2ms/step - loss: 0.3815 - accuracy: 0.8433 - val_loss: 0.3621 - val_accuracy: 0.8523\n",
            "Epoch 3/10\n",
            "5329/5329 [==============================] - 10s 2ms/step - loss: 0.3324 - accuracy: 0.8660 - val_loss: 0.3376 - val_accuracy: 0.8733\n",
            "Epoch 4/10\n",
            "5329/5329 [==============================] - 9s 2ms/step - loss: 0.2906 - accuracy: 0.8846 - val_loss: 0.3180 - val_accuracy: 0.8759\n",
            "Epoch 5/10\n",
            "5329/5329 [==============================] - 9s 2ms/step - loss: 0.2438 - accuracy: 0.9096 - val_loss: 0.2952 - val_accuracy: 0.8871\n",
            "Epoch 6/10\n",
            "5329/5329 [==============================] - 9s 2ms/step - loss: 0.2013 - accuracy: 0.9263 - val_loss: 0.2987 - val_accuracy: 0.8910\n",
            "Epoch 7/10\n",
            "5329/5329 [==============================] - 9s 2ms/step - loss: 0.1666 - accuracy: 0.9396 - val_loss: 0.3003 - val_accuracy: 0.8923\n",
            "Epoch 8/10\n",
            "5329/5329 [==============================] - 9s 2ms/step - loss: 0.1381 - accuracy: 0.9505 - val_loss: 0.3375 - val_accuracy: 0.8910\n",
            "Epoch 9/10\n",
            "5329/5329 [==============================] - 9s 2ms/step - loss: 0.1209 - accuracy: 0.9567 - val_loss: 0.3580 - val_accuracy: 0.8936\n",
            "Epoch 10/10\n",
            "5329/5329 [==============================] - 9s 2ms/step - loss: 0.1038 - accuracy: 0.9598 - val_loss: 0.3746 - val_accuracy: 0.8949\n"
          ],
          "name": "stdout"
        },
        {
          "output_type": "stream",
          "text": [
            "\n",
            "  6%|▌         | 11/180 [08:43<3:30:02, 74.57s/it]\u001b[A"
          ],
          "name": "stderr"
        },
        {
          "output_type": "stream",
          "text": [
            "Train on 5329 samples, validate on 1523 samples\n",
            "Epoch 1/10\n",
            "5329/5329 [==============================] - 12s 2ms/step - loss: 0.5190 - accuracy: 0.7450 - val_loss: 0.4312 - val_accuracy: 0.8372\n",
            "Epoch 2/10\n",
            "5329/5329 [==============================] - 11s 2ms/step - loss: 0.3861 - accuracy: 0.8399 - val_loss: 0.3570 - val_accuracy: 0.8601\n",
            "Epoch 3/10\n",
            "5329/5329 [==============================] - 12s 2ms/step - loss: 0.3355 - accuracy: 0.8660 - val_loss: 0.3353 - val_accuracy: 0.8588\n",
            "Epoch 4/10\n",
            "5329/5329 [==============================] - 13s 2ms/step - loss: 0.2814 - accuracy: 0.8913 - val_loss: 0.3136 - val_accuracy: 0.8766\n",
            "Epoch 5/10\n",
            "5329/5329 [==============================] - 11s 2ms/step - loss: 0.2311 - accuracy: 0.9131 - val_loss: 0.3163 - val_accuracy: 0.8818\n",
            "Epoch 6/10\n",
            "5329/5329 [==============================] - 12s 2ms/step - loss: 0.1871 - accuracy: 0.9317 - val_loss: 0.3123 - val_accuracy: 0.8936\n",
            "Epoch 7/10\n",
            "5329/5329 [==============================] - 12s 2ms/step - loss: 0.1535 - accuracy: 0.9460 - val_loss: 0.3179 - val_accuracy: 0.8923\n",
            "Epoch 8/10\n",
            "5329/5329 [==============================] - 12s 2ms/step - loss: 0.1294 - accuracy: 0.9514 - val_loss: 0.3842 - val_accuracy: 0.8956\n",
            "Epoch 9/10\n",
            "5329/5329 [==============================] - 12s 2ms/step - loss: 0.1104 - accuracy: 0.9572 - val_loss: 0.3900 - val_accuracy: 0.8989\n",
            "Epoch 10/10\n",
            "5329/5329 [==============================] - 12s 2ms/step - loss: 0.0985 - accuracy: 0.9610 - val_loss: 0.4558 - val_accuracy: 0.8963\n"
          ],
          "name": "stdout"
        },
        {
          "output_type": "stream",
          "text": [
            "\n",
            "  7%|▋         | 12/180 [10:41<4:05:31, 87.69s/it]\u001b[A"
          ],
          "name": "stderr"
        },
        {
          "output_type": "stream",
          "text": [
            "Train on 5329 samples, validate on 1523 samples\n",
            "Epoch 1/1\n",
            "5329/5329 [==============================] - 3s 525us/step - loss: 0.6859 - accuracy: 0.5631 - val_loss: 0.6735 - val_accuracy: 0.5653\n"
          ],
          "name": "stdout"
        },
        {
          "output_type": "stream",
          "text": [
            "\n",
            "  7%|▋         | 13/180 [10:46<2:54:20, 62.64s/it]\u001b[A"
          ],
          "name": "stderr"
        },
        {
          "output_type": "stream",
          "text": [
            "Train on 5329 samples, validate on 1523 samples\n",
            "Epoch 1/1\n",
            "5329/5329 [==============================] - 3s 531us/step - loss: 0.6807 - accuracy: 0.5710 - val_loss: 0.6710 - val_accuracy: 0.5653\n"
          ],
          "name": "stdout"
        },
        {
          "output_type": "stream",
          "text": [
            "\n",
            "  8%|▊         | 14/180 [10:50<2:04:49, 45.12s/it]\u001b[A"
          ],
          "name": "stderr"
        },
        {
          "output_type": "stream",
          "text": [
            "Train on 5329 samples, validate on 1523 samples\n",
            "Epoch 1/1\n",
            "5329/5329 [==============================] - 4s 711us/step - loss: 0.6803 - accuracy: 0.5663 - val_loss: 0.6638 - val_accuracy: 0.5653\n"
          ],
          "name": "stdout"
        },
        {
          "output_type": "stream",
          "text": [
            "\n",
            "  8%|▊         | 15/180 [10:55<1:31:06, 33.13s/it]\u001b[A"
          ],
          "name": "stderr"
        },
        {
          "output_type": "stream",
          "text": [
            "Train on 5329 samples, validate on 1523 samples\n",
            "Epoch 1/1\n",
            "5329/5329 [==============================] - 6s 1ms/step - loss: 0.6707 - accuracy: 0.5883 - val_loss: 0.6121 - val_accuracy: 0.7163\n"
          ],
          "name": "stdout"
        },
        {
          "output_type": "stream",
          "text": [
            "\n",
            "  9%|▉         | 16/180 [11:02<1:09:08, 25.29s/it]\u001b[A"
          ],
          "name": "stderr"
        },
        {
          "output_type": "stream",
          "text": [
            "Train on 5329 samples, validate on 1523 samples\n",
            "Epoch 1/5\n",
            "5329/5329 [==============================] - 3s 518us/step - loss: 0.6815 - accuracy: 0.5740 - val_loss: 0.6770 - val_accuracy: 0.5653\n",
            "Epoch 2/5\n",
            "5329/5329 [==============================] - 2s 469us/step - loss: 0.6450 - accuracy: 0.6168 - val_loss: 0.5930 - val_accuracy: 0.7492\n",
            "Epoch 3/5\n",
            "5329/5329 [==============================] - 3s 483us/step - loss: 0.5040 - accuracy: 0.7789 - val_loss: 0.4389 - val_accuracy: 0.8063\n",
            "Epoch 4/5\n",
            "5329/5329 [==============================] - 3s 475us/step - loss: 0.4013 - accuracy: 0.8285 - val_loss: 0.3956 - val_accuracy: 0.8365\n",
            "Epoch 5/5\n",
            "5329/5329 [==============================] - 3s 489us/step - loss: 0.3614 - accuracy: 0.8534 - val_loss: 0.3741 - val_accuracy: 0.8483\n"
          ],
          "name": "stdout"
        },
        {
          "output_type": "stream",
          "text": [
            "\n",
            "  9%|▉         | 17/180 [11:16<59:50, 22.03s/it]  \u001b[A"
          ],
          "name": "stderr"
        },
        {
          "output_type": "stream",
          "text": [
            "Train on 5329 samples, validate on 1523 samples\n",
            "Epoch 1/5\n",
            "5329/5329 [==============================] - 3s 551us/step - loss: 0.6807 - accuracy: 0.5740 - val_loss: 0.6716 - val_accuracy: 0.5653\n",
            "Epoch 2/5\n",
            "5329/5329 [==============================] - 3s 480us/step - loss: 0.6086 - accuracy: 0.6802 - val_loss: 0.5100 - val_accuracy: 0.7656\n",
            "Epoch 3/5\n",
            "5329/5329 [==============================] - 3s 485us/step - loss: 0.4487 - accuracy: 0.8017 - val_loss: 0.4153 - val_accuracy: 0.8260\n",
            "Epoch 4/5\n",
            "5329/5329 [==============================] - 3s 484us/step - loss: 0.3838 - accuracy: 0.8396 - val_loss: 0.3835 - val_accuracy: 0.8378\n",
            "Epoch 5/5\n",
            "5329/5329 [==============================] - 3s 490us/step - loss: 0.3469 - accuracy: 0.8568 - val_loss: 0.3650 - val_accuracy: 0.8549\n"
          ],
          "name": "stdout"
        },
        {
          "output_type": "stream",
          "text": [
            "\n",
            " 10%|█         | 18/180 [11:31<53:31, 19.83s/it]\u001b[A"
          ],
          "name": "stderr"
        },
        {
          "output_type": "stream",
          "text": [
            "Train on 5329 samples, validate on 1523 samples\n",
            "Epoch 1/5\n",
            "5329/5329 [==============================] - 4s 720us/step - loss: 0.6786 - accuracy: 0.5740 - val_loss: 0.6574 - val_accuracy: 0.5824\n",
            "Epoch 2/5\n",
            "5329/5329 [==============================] - 4s 666us/step - loss: 0.5579 - accuracy: 0.7298 - val_loss: 0.4536 - val_accuracy: 0.7991\n",
            "Epoch 3/5\n",
            "5329/5329 [==============================] - 4s 666us/step - loss: 0.4064 - accuracy: 0.8274 - val_loss: 0.3859 - val_accuracy: 0.8398\n",
            "Epoch 4/5\n",
            "5329/5329 [==============================] - 4s 675us/step - loss: 0.3540 - accuracy: 0.8566 - val_loss: 0.3830 - val_accuracy: 0.8437\n",
            "Epoch 5/5\n",
            "5329/5329 [==============================] - 4s 666us/step - loss: 0.3275 - accuracy: 0.8666 - val_loss: 0.3547 - val_accuracy: 0.8496\n"
          ],
          "name": "stdout"
        },
        {
          "output_type": "stream",
          "text": [
            "\n",
            " 11%|█         | 19/180 [11:51<52:54, 19.72s/it]\u001b[A"
          ],
          "name": "stderr"
        },
        {
          "output_type": "stream",
          "text": [
            "Train on 5329 samples, validate on 1523 samples\n",
            "Epoch 1/5\n",
            "5329/5329 [==============================] - 6s 1ms/step - loss: 0.6766 - accuracy: 0.5782 - val_loss: 0.6371 - val_accuracy: 0.6815\n",
            "Epoch 2/5\n",
            "5329/5329 [==============================] - 5s 1ms/step - loss: 0.5139 - accuracy: 0.7619 - val_loss: 0.4243 - val_accuracy: 0.8148\n",
            "Epoch 3/5\n",
            "5329/5329 [==============================] - 6s 1ms/step - loss: 0.3909 - accuracy: 0.8367 - val_loss: 0.3810 - val_accuracy: 0.8470\n",
            "Epoch 4/5\n",
            "5329/5329 [==============================] - 6s 1ms/step - loss: 0.3436 - accuracy: 0.8611 - val_loss: 0.3555 - val_accuracy: 0.8582\n",
            "Epoch 5/5\n",
            "5329/5329 [==============================] - 5s 1ms/step - loss: 0.3138 - accuracy: 0.8756 - val_loss: 0.3428 - val_accuracy: 0.8582\n"
          ],
          "name": "stdout"
        },
        {
          "output_type": "stream",
          "text": [
            "\n",
            " 11%|█         | 20/180 [12:21<1:01:17, 22.98s/it]\u001b[A"
          ],
          "name": "stderr"
        },
        {
          "output_type": "stream",
          "text": [
            "Train on 5329 samples, validate on 1523 samples\n",
            "Epoch 1/10\n",
            "5329/5329 [==============================] - 3s 518us/step - loss: 0.6784 - accuracy: 0.5744 - val_loss: 0.6634 - val_accuracy: 0.5765\n",
            "Epoch 2/10\n",
            "5329/5329 [==============================] - 3s 470us/step - loss: 0.5950 - accuracy: 0.7063 - val_loss: 0.5113 - val_accuracy: 0.7695\n",
            "Epoch 3/10\n",
            "5329/5329 [==============================] - 2s 463us/step - loss: 0.4536 - accuracy: 0.7990 - val_loss: 0.4238 - val_accuracy: 0.8096\n",
            "Epoch 4/10\n",
            "5329/5329 [==============================] - 2s 468us/step - loss: 0.3873 - accuracy: 0.8332 - val_loss: 0.3885 - val_accuracy: 0.8411\n",
            "Epoch 5/10\n",
            "5329/5329 [==============================] - 3s 470us/step - loss: 0.3525 - accuracy: 0.8572 - val_loss: 0.3672 - val_accuracy: 0.8523\n",
            "Epoch 6/10\n",
            "5329/5329 [==============================] - 3s 480us/step - loss: 0.3269 - accuracy: 0.8651 - val_loss: 0.3544 - val_accuracy: 0.8536\n",
            "Epoch 7/10\n",
            "5329/5329 [==============================] - 3s 483us/step - loss: 0.3065 - accuracy: 0.8760 - val_loss: 0.3604 - val_accuracy: 0.8588\n",
            "Epoch 8/10\n",
            "5329/5329 [==============================] - 3s 484us/step - loss: 0.2908 - accuracy: 0.8831 - val_loss: 0.3388 - val_accuracy: 0.8628\n",
            "Epoch 9/10\n",
            "5329/5329 [==============================] - 3s 475us/step - loss: 0.2770 - accuracy: 0.8891 - val_loss: 0.3340 - val_accuracy: 0.8700\n",
            "Epoch 10/10\n",
            "5329/5329 [==============================] - 3s 482us/step - loss: 0.2659 - accuracy: 0.8927 - val_loss: 0.3338 - val_accuracy: 0.8674\n"
          ],
          "name": "stdout"
        },
        {
          "output_type": "stream",
          "text": [
            "\n",
            " 12%|█▏        | 21/180 [12:48<1:04:04, 24.18s/it]\u001b[A"
          ],
          "name": "stderr"
        },
        {
          "output_type": "stream",
          "text": [
            "Train on 5329 samples, validate on 1523 samples\n",
            "Epoch 1/10\n",
            "5329/5329 [==============================] - 3s 544us/step - loss: 0.6793 - accuracy: 0.5740 - val_loss: 0.6666 - val_accuracy: 0.5653\n",
            "Epoch 2/10\n",
            "5329/5329 [==============================] - 3s 499us/step - loss: 0.6000 - accuracy: 0.6862 - val_loss: 0.5038 - val_accuracy: 0.7695\n",
            "Epoch 3/10\n",
            "5329/5329 [==============================] - 3s 494us/step - loss: 0.4513 - accuracy: 0.8028 - val_loss: 0.4223 - val_accuracy: 0.8162\n",
            "Epoch 4/10\n",
            "5329/5329 [==============================] - 3s 482us/step - loss: 0.3865 - accuracy: 0.8381 - val_loss: 0.3848 - val_accuracy: 0.8385\n",
            "Epoch 5/10\n",
            "5329/5329 [==============================] - 3s 482us/step - loss: 0.3486 - accuracy: 0.8574 - val_loss: 0.3681 - val_accuracy: 0.8496\n",
            "Epoch 6/10\n",
            "5329/5329 [==============================] - 3s 478us/step - loss: 0.3240 - accuracy: 0.8683 - val_loss: 0.3518 - val_accuracy: 0.8582\n",
            "Epoch 7/10\n",
            "5329/5329 [==============================] - 3s 482us/step - loss: 0.3026 - accuracy: 0.8780 - val_loss: 0.3429 - val_accuracy: 0.8575\n",
            "Epoch 8/10\n",
            "5329/5329 [==============================] - 3s 487us/step - loss: 0.2854 - accuracy: 0.8844 - val_loss: 0.3390 - val_accuracy: 0.8595\n",
            "Epoch 9/10\n",
            "5329/5329 [==============================] - 3s 482us/step - loss: 0.2734 - accuracy: 0.8915 - val_loss: 0.3325 - val_accuracy: 0.8713\n",
            "Epoch 10/10\n",
            "5329/5329 [==============================] - 3s 483us/step - loss: 0.2611 - accuracy: 0.8960 - val_loss: 0.3292 - val_accuracy: 0.8733\n"
          ],
          "name": "stdout"
        },
        {
          "output_type": "stream",
          "text": [
            "\n",
            " 12%|█▏        | 22/180 [13:16<1:06:23, 25.21s/it]\u001b[A"
          ],
          "name": "stderr"
        },
        {
          "output_type": "stream",
          "text": [
            "Train on 5329 samples, validate on 1523 samples\n",
            "Epoch 1/10\n",
            "5329/5329 [==============================] - 4s 711us/step - loss: 0.6759 - accuracy: 0.5746 - val_loss: 0.6448 - val_accuracy: 0.6756\n",
            "Epoch 2/10\n",
            "5329/5329 [==============================] - 4s 664us/step - loss: 0.5371 - accuracy: 0.7519 - val_loss: 0.4454 - val_accuracy: 0.7945\n",
            "Epoch 3/10\n",
            "5329/5329 [==============================] - 4s 665us/step - loss: 0.4067 - accuracy: 0.8238 - val_loss: 0.4006 - val_accuracy: 0.8306\n",
            "Epoch 4/10\n",
            "5329/5329 [==============================] - 4s 671us/step - loss: 0.3590 - accuracy: 0.8523 - val_loss: 0.3638 - val_accuracy: 0.8536\n",
            "Epoch 5/10\n",
            "5329/5329 [==============================] - 4s 666us/step - loss: 0.3261 - accuracy: 0.8686 - val_loss: 0.3487 - val_accuracy: 0.8575\n",
            "Epoch 6/10\n",
            "5329/5329 [==============================] - 4s 662us/step - loss: 0.3038 - accuracy: 0.8750 - val_loss: 0.3435 - val_accuracy: 0.8674\n",
            "Epoch 7/10\n",
            "5329/5329 [==============================] - 4s 668us/step - loss: 0.2872 - accuracy: 0.8842 - val_loss: 0.3336 - val_accuracy: 0.8707\n",
            "Epoch 8/10\n",
            "5329/5329 [==============================] - 4s 666us/step - loss: 0.2686 - accuracy: 0.8932 - val_loss: 0.3266 - val_accuracy: 0.8766\n",
            "Epoch 9/10\n",
            "5329/5329 [==============================] - 4s 667us/step - loss: 0.2520 - accuracy: 0.9015 - val_loss: 0.3312 - val_accuracy: 0.8759\n",
            "Epoch 10/10\n",
            "5329/5329 [==============================] - 4s 663us/step - loss: 0.2404 - accuracy: 0.9041 - val_loss: 0.3224 - val_accuracy: 0.8792\n"
          ],
          "name": "stdout"
        },
        {
          "output_type": "stream",
          "text": [
            "\n",
            " 13%|█▎        | 23/180 [13:53<1:15:21, 28.80s/it]\u001b[A"
          ],
          "name": "stderr"
        },
        {
          "output_type": "stream",
          "text": [
            "Train on 5329 samples, validate on 1523 samples\n",
            "Epoch 1/10\n",
            "5329/5329 [==============================] - 6s 1ms/step - loss: 0.6745 - accuracy: 0.5830 - val_loss: 0.6135 - val_accuracy: 0.6868\n",
            "Epoch 2/10\n",
            "5329/5329 [==============================] - 5s 1ms/step - loss: 0.4985 - accuracy: 0.7707 - val_loss: 0.4213 - val_accuracy: 0.8273\n",
            "Epoch 3/10\n",
            "5329/5329 [==============================] - 5s 1ms/step - loss: 0.3906 - accuracy: 0.8390 - val_loss: 0.3786 - val_accuracy: 0.8503\n",
            "Epoch 4/10\n",
            "5329/5329 [==============================] - 5s 1ms/step - loss: 0.3463 - accuracy: 0.8613 - val_loss: 0.3640 - val_accuracy: 0.8542\n",
            "Epoch 5/10\n",
            "5329/5329 [==============================] - 5s 1ms/step - loss: 0.3182 - accuracy: 0.8737 - val_loss: 0.3470 - val_accuracy: 0.8661\n",
            "Epoch 6/10\n",
            "5329/5329 [==============================] - 5s 1ms/step - loss: 0.2966 - accuracy: 0.8844 - val_loss: 0.3422 - val_accuracy: 0.8601\n",
            "Epoch 7/10\n",
            "5329/5329 [==============================] - 5s 1ms/step - loss: 0.2800 - accuracy: 0.8929 - val_loss: 0.3340 - val_accuracy: 0.8713\n",
            "Epoch 8/10\n",
            "5329/5329 [==============================] - 5s 997us/step - loss: 0.2608 - accuracy: 0.9019 - val_loss: 0.3366 - val_accuracy: 0.8713\n",
            "Epoch 9/10\n",
            "5329/5329 [==============================] - 5s 1ms/step - loss: 0.2483 - accuracy: 0.9094 - val_loss: 0.3245 - val_accuracy: 0.8812\n",
            "Epoch 10/10\n",
            "5329/5329 [==============================] - 5s 1ms/step - loss: 0.2306 - accuracy: 0.9116 - val_loss: 0.3266 - val_accuracy: 0.8858\n"
          ],
          "name": "stdout"
        },
        {
          "output_type": "stream",
          "text": [
            "\n",
            " 13%|█▎        | 24/180 [14:48<1:35:24, 36.69s/it]\u001b[A"
          ],
          "name": "stderr"
        },
        {
          "output_type": "stream",
          "text": [
            "Train on 5329 samples, validate on 1523 samples\n",
            "Epoch 1/1\n",
            "5329/5329 [==============================] - 9s 2ms/step - loss: 0.5310 - accuracy: 0.7290 - val_loss: 0.4101 - val_accuracy: 0.8286\n"
          ],
          "name": "stdout"
        },
        {
          "output_type": "stream",
          "text": [
            "\n",
            " 14%|█▍        | 25/180 [14:59<1:14:35, 28.88s/it]\u001b[A"
          ],
          "name": "stderr"
        },
        {
          "output_type": "stream",
          "text": [
            "Train on 5329 samples, validate on 1523 samples\n",
            "Epoch 1/1\n",
            "5329/5329 [==============================] - 9s 2ms/step - loss: 0.5313 - accuracy: 0.7377 - val_loss: 0.3973 - val_accuracy: 0.8398\n"
          ],
          "name": "stdout"
        },
        {
          "output_type": "stream",
          "text": [
            "\n",
            " 14%|█▍        | 26/180 [15:09<59:58, 23.37s/it]  \u001b[A"
          ],
          "name": "stderr"
        },
        {
          "output_type": "stream",
          "text": [
            "Train on 5329 samples, validate on 1523 samples\n",
            "Epoch 1/1\n",
            "5329/5329 [==============================] - 10s 2ms/step - loss: 0.5159 - accuracy: 0.7429 - val_loss: 0.4054 - val_accuracy: 0.8293\n"
          ],
          "name": "stdout"
        },
        {
          "output_type": "stream",
          "text": [
            "\n",
            " 15%|█▌        | 27/180 [15:21<50:23, 19.76s/it]\u001b[A"
          ],
          "name": "stderr"
        },
        {
          "output_type": "stream",
          "text": [
            "Train on 5329 samples, validate on 1523 samples\n",
            "Epoch 1/1\n",
            "5329/5329 [==============================] - 12s 2ms/step - loss: 0.5174 - accuracy: 0.7448 - val_loss: 0.4003 - val_accuracy: 0.8372\n"
          ],
          "name": "stdout"
        },
        {
          "output_type": "stream",
          "text": [
            "\n",
            " 16%|█▌        | 28/180 [15:34<45:03, 17.79s/it]\u001b[A"
          ],
          "name": "stderr"
        },
        {
          "output_type": "stream",
          "text": [
            "Train on 5329 samples, validate on 1523 samples\n",
            "Epoch 1/5\n",
            "5329/5329 [==============================] - 9s 2ms/step - loss: 0.5321 - accuracy: 0.7277 - val_loss: 0.4049 - val_accuracy: 0.8267\n",
            "Epoch 2/5\n",
            "5329/5329 [==============================] - 9s 2ms/step - loss: 0.3882 - accuracy: 0.8347 - val_loss: 0.3640 - val_accuracy: 0.8529\n",
            "Epoch 3/5\n",
            "5329/5329 [==============================] - 9s 2ms/step - loss: 0.3367 - accuracy: 0.8626 - val_loss: 0.3399 - val_accuracy: 0.8680\n",
            "Epoch 4/5\n",
            "5329/5329 [==============================] - 9s 2ms/step - loss: 0.2986 - accuracy: 0.8788 - val_loss: 0.3349 - val_accuracy: 0.8667\n",
            "Epoch 5/5\n",
            "5329/5329 [==============================] - 9s 2ms/step - loss: 0.2610 - accuracy: 0.8929 - val_loss: 0.3104 - val_accuracy: 0.8720\n"
          ],
          "name": "stdout"
        },
        {
          "output_type": "stream",
          "text": [
            "\n",
            " 16%|█▌        | 29/180 [16:19<1:05:26, 26.01s/it]\u001b[A"
          ],
          "name": "stderr"
        },
        {
          "output_type": "stream",
          "text": [
            "Train on 5329 samples, validate on 1523 samples\n",
            "Epoch 1/5\n",
            "5329/5329 [==============================] - 10s 2ms/step - loss: 0.5257 - accuracy: 0.7309 - val_loss: 0.3977 - val_accuracy: 0.8359\n",
            "Epoch 2/5\n",
            "5329/5329 [==============================] - 9s 2ms/step - loss: 0.3896 - accuracy: 0.8358 - val_loss: 0.3615 - val_accuracy: 0.8608\n",
            "Epoch 3/5\n",
            "5329/5329 [==============================] - 9s 2ms/step - loss: 0.3361 - accuracy: 0.8626 - val_loss: 0.3306 - val_accuracy: 0.8654\n",
            "Epoch 4/5\n",
            "5329/5329 [==============================] - 9s 2ms/step - loss: 0.2967 - accuracy: 0.8822 - val_loss: 0.3144 - val_accuracy: 0.8792\n",
            "Epoch 5/5\n",
            "5329/5329 [==============================] - 9s 2ms/step - loss: 0.2531 - accuracy: 0.9011 - val_loss: 0.3012 - val_accuracy: 0.8805\n"
          ],
          "name": "stdout"
        },
        {
          "output_type": "stream",
          "text": [
            "\n",
            " 17%|█▋        | 30/180 [17:06<1:20:51, 32.35s/it]\u001b[A"
          ],
          "name": "stderr"
        },
        {
          "output_type": "stream",
          "text": [
            "Train on 5329 samples, validate on 1523 samples\n",
            "Epoch 1/5\n",
            "5329/5329 [==============================] - 10s 2ms/step - loss: 0.5260 - accuracy: 0.7397 - val_loss: 0.4035 - val_accuracy: 0.8326\n",
            "Epoch 2/5\n",
            "5329/5329 [==============================] - 10s 2ms/step - loss: 0.3870 - accuracy: 0.8354 - val_loss: 0.3554 - val_accuracy: 0.8601\n",
            "Epoch 3/5\n",
            "5329/5329 [==============================] - 10s 2ms/step - loss: 0.3313 - accuracy: 0.8677 - val_loss: 0.3301 - val_accuracy: 0.8739\n",
            "Epoch 4/5\n",
            "5329/5329 [==============================] - 10s 2ms/step - loss: 0.2865 - accuracy: 0.8840 - val_loss: 0.3247 - val_accuracy: 0.8720\n",
            "Epoch 5/5\n",
            "5329/5329 [==============================] - 10s 2ms/step - loss: 0.2398 - accuracy: 0.9079 - val_loss: 0.3017 - val_accuracy: 0.8877\n"
          ],
          "name": "stdout"
        },
        {
          "output_type": "stream",
          "text": [
            "\n",
            " 17%|█▋        | 31/180 [17:57<1:34:19, 37.99s/it]\u001b[A"
          ],
          "name": "stderr"
        },
        {
          "output_type": "stream",
          "text": [
            "Train on 5329 samples, validate on 1523 samples\n",
            "Epoch 1/5\n",
            "5329/5329 [==============================] - 12s 2ms/step - loss: 0.5141 - accuracy: 0.7461 - val_loss: 0.3953 - val_accuracy: 0.8457\n",
            "Epoch 2/5\n",
            "5329/5329 [==============================] - 12s 2ms/step - loss: 0.3829 - accuracy: 0.8426 - val_loss: 0.3558 - val_accuracy: 0.8654\n",
            "Epoch 3/5\n",
            "5329/5329 [==============================] - 12s 2ms/step - loss: 0.3297 - accuracy: 0.8694 - val_loss: 0.3451 - val_accuracy: 0.8608\n",
            "Epoch 4/5\n",
            "5329/5329 [==============================] - 12s 2ms/step - loss: 0.2792 - accuracy: 0.8910 - val_loss: 0.3182 - val_accuracy: 0.8720\n",
            "Epoch 5/5\n",
            "5329/5329 [==============================] - 12s 2ms/step - loss: 0.2230 - accuracy: 0.9152 - val_loss: 0.3028 - val_accuracy: 0.8936\n"
          ],
          "name": "stdout"
        },
        {
          "output_type": "stream",
          "text": [
            "\n",
            " 18%|█▊        | 32/180 [18:58<1:50:13, 44.69s/it]\u001b[A"
          ],
          "name": "stderr"
        },
        {
          "output_type": "stream",
          "text": [
            "Train on 5329 samples, validate on 1523 samples\n",
            "Epoch 1/10\n",
            "5329/5329 [==============================] - 9s 2ms/step - loss: 0.5422 - accuracy: 0.7311 - val_loss: 0.4058 - val_accuracy: 0.8240\n",
            "Epoch 2/10\n",
            "5329/5329 [==============================] - 9s 2ms/step - loss: 0.3901 - accuracy: 0.8337 - val_loss: 0.3674 - val_accuracy: 0.8470\n",
            "Epoch 3/10\n",
            "5329/5329 [==============================] - 9s 2ms/step - loss: 0.3414 - accuracy: 0.8602 - val_loss: 0.3456 - val_accuracy: 0.8628\n",
            "Epoch 4/10\n",
            "5329/5329 [==============================] - 9s 2ms/step - loss: 0.3085 - accuracy: 0.8733 - val_loss: 0.3312 - val_accuracy: 0.8674\n",
            "Epoch 5/10\n",
            "5329/5329 [==============================] - 10s 2ms/step - loss: 0.2749 - accuracy: 0.8893 - val_loss: 0.3202 - val_accuracy: 0.8720\n",
            "Epoch 6/10\n",
            "5329/5329 [==============================] - 8s 2ms/step - loss: 0.2449 - accuracy: 0.9013 - val_loss: 0.3138 - val_accuracy: 0.8805\n",
            "Epoch 7/10\n",
            "5329/5329 [==============================] - 8s 2ms/step - loss: 0.2169 - accuracy: 0.9131 - val_loss: 0.3188 - val_accuracy: 0.8798\n",
            "Epoch 8/10\n",
            "5329/5329 [==============================] - 9s 2ms/step - loss: 0.1909 - accuracy: 0.9272 - val_loss: 0.3166 - val_accuracy: 0.8864\n",
            "Epoch 9/10\n",
            "5329/5329 [==============================] - 9s 2ms/step - loss: 0.1712 - accuracy: 0.9371 - val_loss: 0.3480 - val_accuracy: 0.8903\n",
            "Epoch 10/10\n",
            "5329/5329 [==============================] - 9s 2ms/step - loss: 0.1498 - accuracy: 0.9456 - val_loss: 0.3468 - val_accuracy: 0.8956\n"
          ],
          "name": "stdout"
        },
        {
          "output_type": "stream",
          "text": [
            "\n",
            " 18%|█▊        | 33/180 [20:26<2:21:35, 57.79s/it]\u001b[A"
          ],
          "name": "stderr"
        },
        {
          "output_type": "stream",
          "text": [
            "Train on 5329 samples, validate on 1523 samples\n",
            "Epoch 1/10\n",
            "5329/5329 [==============================] - 9s 2ms/step - loss: 0.5348 - accuracy: 0.7225 - val_loss: 0.4193 - val_accuracy: 0.8240\n",
            "Epoch 2/10\n",
            "5329/5329 [==============================] - 9s 2ms/step - loss: 0.3902 - accuracy: 0.8347 - val_loss: 0.3651 - val_accuracy: 0.8503\n",
            "Epoch 3/10\n",
            "5329/5329 [==============================] - 9s 2ms/step - loss: 0.3376 - accuracy: 0.8602 - val_loss: 0.3461 - val_accuracy: 0.8621\n",
            "Epoch 4/10\n",
            "5329/5329 [==============================] - 9s 2ms/step - loss: 0.3029 - accuracy: 0.8801 - val_loss: 0.3200 - val_accuracy: 0.8680\n",
            "Epoch 5/10\n",
            "5329/5329 [==============================] - 9s 2ms/step - loss: 0.2669 - accuracy: 0.8945 - val_loss: 0.3039 - val_accuracy: 0.8772\n",
            "Epoch 6/10\n",
            "5329/5329 [==============================] - 9s 2ms/step - loss: 0.2275 - accuracy: 0.9146 - val_loss: 0.2995 - val_accuracy: 0.8792\n",
            "Epoch 7/10\n",
            "5329/5329 [==============================] - 9s 2ms/step - loss: 0.1978 - accuracy: 0.9259 - val_loss: 0.3240 - val_accuracy: 0.8812\n",
            "Epoch 8/10\n",
            "5329/5329 [==============================] - 9s 2ms/step - loss: 0.1683 - accuracy: 0.9390 - val_loss: 0.3198 - val_accuracy: 0.8871\n",
            "Epoch 9/10\n",
            "5329/5329 [==============================] - 9s 2ms/step - loss: 0.1472 - accuracy: 0.9454 - val_loss: 0.3640 - val_accuracy: 0.8897\n",
            "Epoch 10/10\n",
            "5329/5329 [==============================] - 9s 2ms/step - loss: 0.1332 - accuracy: 0.9529 - val_loss: 0.3452 - val_accuracy: 0.8976\n"
          ],
          "name": "stdout"
        },
        {
          "output_type": "stream",
          "text": [
            "\n",
            " 19%|█▉        | 34/180 [21:57<2:45:02, 67.82s/it]\u001b[A"
          ],
          "name": "stderr"
        },
        {
          "output_type": "stream",
          "text": [
            "Train on 5329 samples, validate on 1523 samples\n",
            "Epoch 1/10\n",
            "5329/5329 [==============================] - 10s 2ms/step - loss: 0.5233 - accuracy: 0.7433 - val_loss: 0.3955 - val_accuracy: 0.8339\n",
            "Epoch 2/10\n",
            "5329/5329 [==============================] - 10s 2ms/step - loss: 0.3907 - accuracy: 0.8351 - val_loss: 0.3570 - val_accuracy: 0.8601\n",
            "Epoch 3/10\n",
            "5329/5329 [==============================] - 10s 2ms/step - loss: 0.3342 - accuracy: 0.8662 - val_loss: 0.3364 - val_accuracy: 0.8687\n",
            "Epoch 4/10\n",
            "5329/5329 [==============================] - 10s 2ms/step - loss: 0.2883 - accuracy: 0.8897 - val_loss: 0.3252 - val_accuracy: 0.8700\n",
            "Epoch 5/10\n",
            "5329/5329 [==============================] - 10s 2ms/step - loss: 0.2449 - accuracy: 0.9062 - val_loss: 0.3351 - val_accuracy: 0.8680\n",
            "Epoch 6/10\n",
            "5329/5329 [==============================] - 10s 2ms/step - loss: 0.2071 - accuracy: 0.9234 - val_loss: 0.3021 - val_accuracy: 0.8897\n",
            "Epoch 7/10\n",
            "5329/5329 [==============================] - 10s 2ms/step - loss: 0.1659 - accuracy: 0.9386 - val_loss: 0.3181 - val_accuracy: 0.8982\n",
            "Epoch 8/10\n",
            "5329/5329 [==============================] - 10s 2ms/step - loss: 0.1390 - accuracy: 0.9491 - val_loss: 0.3332 - val_accuracy: 0.8976\n",
            "Epoch 9/10\n",
            "5329/5329 [==============================] - 10s 2ms/step - loss: 0.1187 - accuracy: 0.9542 - val_loss: 0.3414 - val_accuracy: 0.9009\n",
            "Epoch 10/10\n",
            "5329/5329 [==============================] - 10s 2ms/step - loss: 0.1028 - accuracy: 0.9617 - val_loss: 0.4150 - val_accuracy: 0.8917\n"
          ],
          "name": "stdout"
        },
        {
          "output_type": "stream",
          "text": [
            "\n",
            " 19%|█▉        | 35/180 [23:37<3:07:15, 77.49s/it]\u001b[A"
          ],
          "name": "stderr"
        },
        {
          "output_type": "stream",
          "text": [
            "Train on 5329 samples, validate on 1523 samples\n",
            "Epoch 1/10\n",
            "5329/5329 [==============================] - 12s 2ms/step - loss: 0.5121 - accuracy: 0.7517 - val_loss: 0.3753 - val_accuracy: 0.8490\n",
            "Epoch 2/10\n",
            "5329/5329 [==============================] - 12s 2ms/step - loss: 0.3799 - accuracy: 0.8403 - val_loss: 0.3491 - val_accuracy: 0.8641\n",
            "Epoch 3/10\n",
            "5329/5329 [==============================] - 12s 2ms/step - loss: 0.3223 - accuracy: 0.8703 - val_loss: 0.3184 - val_accuracy: 0.8726\n",
            "Epoch 4/10\n",
            "5329/5329 [==============================] - 12s 2ms/step - loss: 0.2616 - accuracy: 0.8964 - val_loss: 0.3026 - val_accuracy: 0.8858\n",
            "Epoch 5/10\n",
            "5329/5329 [==============================] - 12s 2ms/step - loss: 0.2052 - accuracy: 0.9236 - val_loss: 0.3036 - val_accuracy: 0.8864\n",
            "Epoch 6/10\n",
            "5329/5329 [==============================] - 12s 2ms/step - loss: 0.1629 - accuracy: 0.9400 - val_loss: 0.3086 - val_accuracy: 0.8923\n",
            "Epoch 7/10\n",
            "5329/5329 [==============================] - 12s 2ms/step - loss: 0.1301 - accuracy: 0.9518 - val_loss: 0.3441 - val_accuracy: 0.9022\n",
            "Epoch 8/10\n",
            "5329/5329 [==============================] - 12s 2ms/step - loss: 0.1149 - accuracy: 0.9553 - val_loss: 0.3643 - val_accuracy: 0.9048\n",
            "Epoch 9/10\n",
            "5329/5329 [==============================] - 12s 2ms/step - loss: 0.0967 - accuracy: 0.9589 - val_loss: 0.4071 - val_accuracy: 0.9041\n",
            "Epoch 10/10\n",
            "5329/5329 [==============================] - 12s 2ms/step - loss: 0.0861 - accuracy: 0.9610 - val_loss: 0.4926 - val_accuracy: 0.9002\n"
          ],
          "name": "stdout"
        },
        {
          "output_type": "stream",
          "text": [
            "\n",
            " 20%|██        | 36/180 [25:36<3:35:49, 89.93s/it]\u001b[A"
          ],
          "name": "stderr"
        },
        {
          "output_type": "stream",
          "text": [
            "Train on 5329 samples, validate on 1523 samples\n",
            "Epoch 1/1\n",
            "5329/5329 [==============================] - 9s 2ms/step - loss: 0.5842 - accuracy: 0.6915 - val_loss: 0.4477 - val_accuracy: 0.7925\n"
          ],
          "name": "stdout"
        },
        {
          "output_type": "stream",
          "text": [
            "\n",
            " 21%|██        | 37/180 [25:46<2:37:19, 66.01s/it]\u001b[A"
          ],
          "name": "stderr"
        },
        {
          "output_type": "stream",
          "text": [
            "Train on 5329 samples, validate on 1523 samples\n",
            "Epoch 1/1\n",
            "5329/5329 [==============================] - 9s 2ms/step - loss: 0.5647 - accuracy: 0.7026 - val_loss: 0.4170 - val_accuracy: 0.8181\n"
          ],
          "name": "stdout"
        },
        {
          "output_type": "stream",
          "text": [
            "\n",
            " 21%|██        | 38/180 [25:57<1:57:05, 49.48s/it]\u001b[A"
          ],
          "name": "stderr"
        },
        {
          "output_type": "stream",
          "text": [
            "Train on 5329 samples, validate on 1523 samples\n",
            "Epoch 1/1\n",
            "5329/5329 [==============================] - 10s 2ms/step - loss: 0.5822 - accuracy: 0.6887 - val_loss: 0.4181 - val_accuracy: 0.8168\n"
          ],
          "name": "stdout"
        },
        {
          "output_type": "stream",
          "text": [
            "\n",
            " 22%|██▏       | 39/180 [26:09<1:29:39, 38.15s/it]\u001b[A"
          ],
          "name": "stderr"
        },
        {
          "output_type": "stream",
          "text": [
            "Train on 5329 samples, validate on 1523 samples\n",
            "Epoch 1/1\n",
            "5329/5329 [==============================] - 12s 2ms/step - loss: 0.5600 - accuracy: 0.7090 - val_loss: 0.4247 - val_accuracy: 0.8155\n"
          ],
          "name": "stdout"
        },
        {
          "output_type": "stream",
          "text": [
            "\n",
            " 22%|██▏       | 40/180 [26:23<1:11:57, 30.84s/it]\u001b[A"
          ],
          "name": "stderr"
        },
        {
          "output_type": "stream",
          "text": [
            "Train on 5329 samples, validate on 1523 samples\n",
            "Epoch 1/5\n",
            "5329/5329 [==============================] - 9s 2ms/step - loss: 0.5851 - accuracy: 0.6791 - val_loss: 0.4332 - val_accuracy: 0.8155\n",
            "Epoch 2/5\n",
            "5329/5329 [==============================] - 10s 2ms/step - loss: 0.4162 - accuracy: 0.8204 - val_loss: 0.3814 - val_accuracy: 0.8503\n",
            "Epoch 3/5\n",
            "5329/5329 [==============================] - 9s 2ms/step - loss: 0.3597 - accuracy: 0.8495 - val_loss: 0.3496 - val_accuracy: 0.8601\n",
            "Epoch 4/5\n",
            "5329/5329 [==============================] - 9s 2ms/step - loss: 0.3294 - accuracy: 0.8596 - val_loss: 0.3475 - val_accuracy: 0.8615\n",
            "Epoch 5/5\n",
            "5329/5329 [==============================] - 9s 2ms/step - loss: 0.2976 - accuracy: 0.8784 - val_loss: 0.3299 - val_accuracy: 0.8654\n"
          ],
          "name": "stdout"
        },
        {
          "output_type": "stream",
          "text": [
            "\n",
            " 23%|██▎       | 41/180 [27:10<1:22:41, 35.70s/it]\u001b[A"
          ],
          "name": "stderr"
        },
        {
          "output_type": "stream",
          "text": [
            "Train on 5329 samples, validate on 1523 samples\n",
            "Epoch 1/5\n",
            "5329/5329 [==============================] - 9s 2ms/step - loss: 0.5791 - accuracy: 0.6889 - val_loss: 0.4292 - val_accuracy: 0.8116\n",
            "Epoch 2/5\n",
            "5329/5329 [==============================] - 9s 2ms/step - loss: 0.4186 - accuracy: 0.8125 - val_loss: 0.3843 - val_accuracy: 0.8378\n",
            "Epoch 3/5\n",
            "5329/5329 [==============================] - 9s 2ms/step - loss: 0.3683 - accuracy: 0.8405 - val_loss: 0.4472 - val_accuracy: 0.8175\n",
            "Epoch 4/5\n",
            "5329/5329 [==============================] - 9s 2ms/step - loss: 0.3298 - accuracy: 0.8623 - val_loss: 0.3411 - val_accuracy: 0.8641\n",
            "Epoch 5/5\n",
            "5329/5329 [==============================] - 9s 2ms/step - loss: 0.2983 - accuracy: 0.8805 - val_loss: 0.3257 - val_accuracy: 0.8647\n"
          ],
          "name": "stdout"
        },
        {
          "output_type": "stream",
          "text": [
            "\n",
            " 23%|██▎       | 42/180 [27:57<1:29:55, 39.10s/it]\u001b[A"
          ],
          "name": "stderr"
        },
        {
          "output_type": "stream",
          "text": [
            "Train on 5329 samples, validate on 1523 samples\n",
            "Epoch 1/5\n",
            "5329/5329 [==============================] - 10s 2ms/step - loss: 0.5695 - accuracy: 0.6988 - val_loss: 0.4340 - val_accuracy: 0.8043\n",
            "Epoch 2/5\n",
            "5329/5329 [==============================] - 10s 2ms/step - loss: 0.4192 - accuracy: 0.8215 - val_loss: 0.3766 - val_accuracy: 0.8418\n",
            "Epoch 3/5\n",
            "5329/5329 [==============================] - 11s 2ms/step - loss: 0.3730 - accuracy: 0.8405 - val_loss: 0.3536 - val_accuracy: 0.8569\n",
            "Epoch 4/5\n",
            "5329/5329 [==============================] - 11s 2ms/step - loss: 0.3320 - accuracy: 0.8615 - val_loss: 0.3388 - val_accuracy: 0.8654\n",
            "Epoch 5/5\n",
            "5329/5329 [==============================] - 10s 2ms/step - loss: 0.3000 - accuracy: 0.8752 - val_loss: 0.3213 - val_accuracy: 0.8687\n"
          ],
          "name": "stdout"
        },
        {
          "output_type": "stream",
          "text": [
            "\n",
            " 24%|██▍       | 43/180 [28:51<1:39:16, 43.48s/it]\u001b[A"
          ],
          "name": "stderr"
        },
        {
          "output_type": "stream",
          "text": [
            "Train on 5329 samples, validate on 1523 samples\n",
            "Epoch 1/5\n",
            "5329/5329 [==============================] - 12s 2ms/step - loss: 0.5624 - accuracy: 0.7090 - val_loss: 0.4082 - val_accuracy: 0.8188\n",
            "Epoch 2/5\n",
            "5329/5329 [==============================] - 12s 2ms/step - loss: 0.4098 - accuracy: 0.8234 - val_loss: 0.4261 - val_accuracy: 0.8227\n",
            "Epoch 3/5\n",
            "5329/5329 [==============================] - 12s 2ms/step - loss: 0.3697 - accuracy: 0.8386 - val_loss: 0.3573 - val_accuracy: 0.8529\n",
            "Epoch 4/5\n",
            "5329/5329 [==============================] - 12s 2ms/step - loss: 0.3294 - accuracy: 0.8651 - val_loss: 0.3516 - val_accuracy: 0.8542\n",
            "Epoch 5/5\n",
            "5329/5329 [==============================] - 13s 2ms/step - loss: 0.2987 - accuracy: 0.8778 - val_loss: 0.3264 - val_accuracy: 0.8687\n"
          ],
          "name": "stdout"
        },
        {
          "output_type": "stream",
          "text": [
            "\n",
            " 24%|██▍       | 44/180 [29:53<1:51:22, 49.14s/it]\u001b[A"
          ],
          "name": "stderr"
        },
        {
          "output_type": "stream",
          "text": [
            "Train on 5329 samples, validate on 1523 samples\n",
            "Epoch 1/10\n",
            "5329/5329 [==============================] - 9s 2ms/step - loss: 0.5770 - accuracy: 0.6926 - val_loss: 0.4595 - val_accuracy: 0.7846\n",
            "Epoch 2/10\n",
            "5329/5329 [==============================] - 9s 2ms/step - loss: 0.4220 - accuracy: 0.8195 - val_loss: 0.3911 - val_accuracy: 0.8398\n",
            "Epoch 3/10\n",
            "5329/5329 [==============================] - 9s 2ms/step - loss: 0.3662 - accuracy: 0.8441 - val_loss: 0.3562 - val_accuracy: 0.8536\n",
            "Epoch 4/10\n",
            "5329/5329 [==============================] - 9s 2ms/step - loss: 0.3233 - accuracy: 0.8670 - val_loss: 0.3436 - val_accuracy: 0.8601\n",
            "Epoch 5/10\n",
            "5329/5329 [==============================] - 9s 2ms/step - loss: 0.2881 - accuracy: 0.8805 - val_loss: 0.3223 - val_accuracy: 0.8641\n",
            "Epoch 6/10\n",
            "5329/5329 [==============================] - 9s 2ms/step - loss: 0.2573 - accuracy: 0.9009 - val_loss: 0.3159 - val_accuracy: 0.8785\n",
            "Epoch 7/10\n",
            "5329/5329 [==============================] - 9s 2ms/step - loss: 0.2278 - accuracy: 0.9097 - val_loss: 0.3077 - val_accuracy: 0.8844\n",
            "Epoch 8/10\n",
            "5329/5329 [==============================] - 9s 2ms/step - loss: 0.1960 - accuracy: 0.9248 - val_loss: 0.2984 - val_accuracy: 0.8923\n",
            "Epoch 9/10\n",
            "5329/5329 [==============================] - 9s 2ms/step - loss: 0.1704 - accuracy: 0.9339 - val_loss: 0.3110 - val_accuracy: 0.8930\n",
            "Epoch 10/10\n",
            "5329/5329 [==============================] - 9s 2ms/step - loss: 0.1447 - accuracy: 0.9465 - val_loss: 0.3310 - val_accuracy: 0.8956\n"
          ],
          "name": "stdout"
        },
        {
          "output_type": "stream",
          "text": [
            "\n",
            " 25%|██▌       | 45/180 [31:22<2:17:33, 61.14s/it]\u001b[A"
          ],
          "name": "stderr"
        },
        {
          "output_type": "stream",
          "text": [
            "Train on 5329 samples, validate on 1523 samples\n",
            "Epoch 1/10\n",
            "5329/5329 [==============================] - 9s 2ms/step - loss: 0.5738 - accuracy: 0.7003 - val_loss: 0.4381 - val_accuracy: 0.8050\n",
            "Epoch 2/10\n",
            "5329/5329 [==============================] - 9s 2ms/step - loss: 0.4182 - accuracy: 0.8174 - val_loss: 0.4131 - val_accuracy: 0.8207\n",
            "Epoch 3/10\n",
            "5329/5329 [==============================] - 10s 2ms/step - loss: 0.3716 - accuracy: 0.8435 - val_loss: 0.3576 - val_accuracy: 0.8569\n",
            "Epoch 4/10\n",
            "5329/5329 [==============================] - 9s 2ms/step - loss: 0.3332 - accuracy: 0.8572 - val_loss: 0.3436 - val_accuracy: 0.8582\n",
            "Epoch 5/10\n",
            "5329/5329 [==============================] - 9s 2ms/step - loss: 0.3000 - accuracy: 0.8771 - val_loss: 0.3200 - val_accuracy: 0.8720\n",
            "Epoch 6/10\n",
            "5329/5329 [==============================] - 9s 2ms/step - loss: 0.2688 - accuracy: 0.8904 - val_loss: 0.3223 - val_accuracy: 0.8700\n",
            "Epoch 7/10\n",
            "5329/5329 [==============================] - 9s 2ms/step - loss: 0.2406 - accuracy: 0.9039 - val_loss: 0.3518 - val_accuracy: 0.8516\n",
            "Epoch 8/10\n",
            "5329/5329 [==============================] - 9s 2ms/step - loss: 0.2105 - accuracy: 0.9171 - val_loss: 0.3121 - val_accuracy: 0.8890\n",
            "Epoch 9/10\n",
            "5329/5329 [==============================] - 9s 2ms/step - loss: 0.1835 - accuracy: 0.9298 - val_loss: 0.3268 - val_accuracy: 0.8943\n",
            "Epoch 10/10\n",
            "5329/5329 [==============================] - 9s 2ms/step - loss: 0.1601 - accuracy: 0.9403 - val_loss: 0.3078 - val_accuracy: 0.8917\n"
          ],
          "name": "stdout"
        },
        {
          "output_type": "stream",
          "text": [
            "\n",
            " 26%|██▌       | 46/180 [32:53<2:36:52, 70.24s/it]\u001b[A"
          ],
          "name": "stderr"
        },
        {
          "output_type": "stream",
          "text": [
            "Train on 5329 samples, validate on 1523 samples\n",
            "Epoch 1/10\n",
            "5329/5329 [==============================] - 10s 2ms/step - loss: 0.5733 - accuracy: 0.6986 - val_loss: 0.4252 - val_accuracy: 0.8116\n",
            "Epoch 2/10\n",
            "5329/5329 [==============================] - 10s 2ms/step - loss: 0.4143 - accuracy: 0.8174 - val_loss: 0.4017 - val_accuracy: 0.8286\n",
            "Epoch 3/10\n",
            "5329/5329 [==============================] - 10s 2ms/step - loss: 0.3632 - accuracy: 0.8482 - val_loss: 0.3677 - val_accuracy: 0.8378\n",
            "Epoch 4/10\n",
            "5329/5329 [==============================] - 10s 2ms/step - loss: 0.3222 - accuracy: 0.8651 - val_loss: 0.3338 - val_accuracy: 0.8601\n",
            "Epoch 5/10\n",
            "5329/5329 [==============================] - 10s 2ms/step - loss: 0.2897 - accuracy: 0.8805 - val_loss: 0.3130 - val_accuracy: 0.8700\n",
            "Epoch 6/10\n",
            "5329/5329 [==============================] - 11s 2ms/step - loss: 0.2536 - accuracy: 0.8951 - val_loss: 0.3264 - val_accuracy: 0.8680\n",
            "Epoch 7/10\n",
            "5329/5329 [==============================] - 11s 2ms/step - loss: 0.2227 - accuracy: 0.9120 - val_loss: 0.3080 - val_accuracy: 0.8785\n",
            "Epoch 8/10\n",
            "5329/5329 [==============================] - 10s 2ms/step - loss: 0.1926 - accuracy: 0.9242 - val_loss: 0.3064 - val_accuracy: 0.8844\n",
            "Epoch 9/10\n",
            "5329/5329 [==============================] - 10s 2ms/step - loss: 0.1626 - accuracy: 0.9381 - val_loss: 0.3008 - val_accuracy: 0.8963\n",
            "Epoch 10/10\n",
            "5329/5329 [==============================] - 10s 2ms/step - loss: 0.1417 - accuracy: 0.9488 - val_loss: 0.3320 - val_accuracy: 0.8989\n"
          ],
          "name": "stdout"
        },
        {
          "output_type": "stream",
          "text": [
            "\n",
            " 26%|██▌       | 47/180 [34:37<2:57:50, 80.23s/it]\u001b[A"
          ],
          "name": "stderr"
        },
        {
          "output_type": "stream",
          "text": [
            "Train on 5329 samples, validate on 1523 samples\n",
            "Epoch 1/10\n",
            "5329/5329 [==============================] - 12s 2ms/step - loss: 0.5662 - accuracy: 0.6996 - val_loss: 0.4784 - val_accuracy: 0.8194\n",
            "Epoch 2/10\n",
            "5329/5329 [==============================] - 12s 2ms/step - loss: 0.4192 - accuracy: 0.8191 - val_loss: 0.4685 - val_accuracy: 0.7866\n",
            "Epoch 3/10\n",
            "5329/5329 [==============================] - 12s 2ms/step - loss: 0.3700 - accuracy: 0.8414 - val_loss: 0.3585 - val_accuracy: 0.8555\n",
            "Epoch 4/10\n",
            "5329/5329 [==============================] - 12s 2ms/step - loss: 0.3323 - accuracy: 0.8564 - val_loss: 0.3373 - val_accuracy: 0.8582\n",
            "Epoch 5/10\n",
            "5329/5329 [==============================] - 12s 2ms/step - loss: 0.2956 - accuracy: 0.8797 - val_loss: 0.3245 - val_accuracy: 0.8693\n",
            "Epoch 6/10\n",
            "5329/5329 [==============================] - 12s 2ms/step - loss: 0.2701 - accuracy: 0.8906 - val_loss: 0.3025 - val_accuracy: 0.8812\n",
            "Epoch 7/10\n",
            "5329/5329 [==============================] - 12s 2ms/step - loss: 0.2407 - accuracy: 0.9065 - val_loss: 0.2984 - val_accuracy: 0.8864\n",
            "Epoch 8/10\n",
            "5329/5329 [==============================] - 12s 2ms/step - loss: 0.2066 - accuracy: 0.9221 - val_loss: 0.3872 - val_accuracy: 0.8542\n",
            "Epoch 9/10\n",
            "5329/5329 [==============================] - 12s 2ms/step - loss: 0.1858 - accuracy: 0.9285 - val_loss: 0.3031 - val_accuracy: 0.9002\n",
            "Epoch 10/10\n",
            "5329/5329 [==============================] - 12s 2ms/step - loss: 0.1605 - accuracy: 0.9413 - val_loss: 0.2768 - val_accuracy: 0.9028\n"
          ],
          "name": "stdout"
        },
        {
          "output_type": "stream",
          "text": [
            "\n",
            " 27%|██▋       | 48/180 [36:39<3:23:52, 92.67s/it]\u001b[A"
          ],
          "name": "stderr"
        },
        {
          "output_type": "stream",
          "text": [
            "Train on 5329 samples, validate on 1523 samples\n",
            "Epoch 1/1\n",
            "5329/5329 [==============================] - 3s 526us/step - loss: 0.6789 - accuracy: 0.5714 - val_loss: 0.6764 - val_accuracy: 0.5653\n"
          ],
          "name": "stdout"
        },
        {
          "output_type": "stream",
          "text": [
            "\n",
            " 27%|██▋       | 49/180 [36:43<2:24:22, 66.13s/it]\u001b[A"
          ],
          "name": "stderr"
        },
        {
          "output_type": "stream",
          "text": [
            "Train on 5329 samples, validate on 1523 samples\n",
            "Epoch 1/1\n",
            "5329/5329 [==============================] - 3s 547us/step - loss: 0.6790 - accuracy: 0.5699 - val_loss: 0.6722 - val_accuracy: 0.5653\n"
          ],
          "name": "stdout"
        },
        {
          "output_type": "stream",
          "text": [
            "\n",
            " 28%|██▊       | 50/180 [36:47<1:43:05, 47.58s/it]\u001b[A"
          ],
          "name": "stderr"
        },
        {
          "output_type": "stream",
          "text": [
            "Train on 5329 samples, validate on 1523 samples\n",
            "Epoch 1/1\n",
            "5329/5329 [==============================] - 4s 746us/step - loss: 0.6791 - accuracy: 0.5740 - val_loss: 0.6711 - val_accuracy: 0.5653\n"
          ],
          "name": "stdout"
        },
        {
          "output_type": "stream",
          "text": [
            "\n",
            " 28%|██▊       | 51/180 [36:53<1:15:05, 34.93s/it]\u001b[A"
          ],
          "name": "stderr"
        },
        {
          "output_type": "stream",
          "text": [
            "Train on 5329 samples, validate on 1523 samples\n",
            "Epoch 1/1\n",
            "5329/5329 [==============================] - 6s 1ms/step - loss: 0.6762 - accuracy: 0.5763 - val_loss: 0.6460 - val_accuracy: 0.6198\n"
          ],
          "name": "stdout"
        },
        {
          "output_type": "stream",
          "text": [
            "\n",
            " 29%|██▉       | 52/180 [37:00<56:54, 26.68s/it]  \u001b[A"
          ],
          "name": "stderr"
        },
        {
          "output_type": "stream",
          "text": [
            "Train on 5329 samples, validate on 1523 samples\n",
            "Epoch 1/5\n",
            "5329/5329 [==============================] - 3s 529us/step - loss: 0.6806 - accuracy: 0.5714 - val_loss: 0.6761 - val_accuracy: 0.5653\n",
            "Epoch 2/5\n",
            "5329/5329 [==============================] - 3s 482us/step - loss: 0.6387 - accuracy: 0.6378 - val_loss: 0.5618 - val_accuracy: 0.7400\n",
            "Epoch 3/5\n",
            "5329/5329 [==============================] - 3s 479us/step - loss: 0.4860 - accuracy: 0.7889 - val_loss: 0.4379 - val_accuracy: 0.8030\n",
            "Epoch 4/5\n",
            "5329/5329 [==============================] - 3s 473us/step - loss: 0.4025 - accuracy: 0.8285 - val_loss: 0.3937 - val_accuracy: 0.8326\n",
            "Epoch 5/5\n",
            "5329/5329 [==============================] - 3s 480us/step - loss: 0.3710 - accuracy: 0.8489 - val_loss: 0.3722 - val_accuracy: 0.8437\n"
          ],
          "name": "stdout"
        },
        {
          "output_type": "stream",
          "text": [
            "\n",
            " 29%|██▉       | 53/180 [37:14<48:40, 23.00s/it]\u001b[A"
          ],
          "name": "stderr"
        },
        {
          "output_type": "stream",
          "text": [
            "Train on 5329 samples, validate on 1523 samples\n",
            "Epoch 1/5\n",
            "5329/5329 [==============================] - 3s 544us/step - loss: 0.6777 - accuracy: 0.5737 - val_loss: 0.6691 - val_accuracy: 0.5653\n",
            "Epoch 2/5\n",
            "5329/5329 [==============================] - 3s 500us/step - loss: 0.5956 - accuracy: 0.6917 - val_loss: 0.4894 - val_accuracy: 0.7748\n",
            "Epoch 3/5\n",
            "5329/5329 [==============================] - 3s 494us/step - loss: 0.4420 - accuracy: 0.8080 - val_loss: 0.4073 - val_accuracy: 0.8201\n",
            "Epoch 4/5\n",
            "5329/5329 [==============================] - 3s 493us/step - loss: 0.3925 - accuracy: 0.8328 - val_loss: 0.3822 - val_accuracy: 0.8365\n",
            "Epoch 5/5\n",
            "5329/5329 [==============================] - 3s 493us/step - loss: 0.3472 - accuracy: 0.8527 - val_loss: 0.3628 - val_accuracy: 0.8490\n"
          ],
          "name": "stdout"
        },
        {
          "output_type": "stream",
          "text": [
            "\n",
            " 30%|███       | 54/180 [37:29<43:10, 20.56s/it]\u001b[A"
          ],
          "name": "stderr"
        },
        {
          "output_type": "stream",
          "text": [
            "Train on 5329 samples, validate on 1523 samples\n",
            "Epoch 1/5\n",
            "5329/5329 [==============================] - 4s 743us/step - loss: 0.6816 - accuracy: 0.5714 - val_loss: 0.6735 - val_accuracy: 0.5653\n",
            "Epoch 2/5\n",
            "5329/5329 [==============================] - 4s 688us/step - loss: 0.5943 - accuracy: 0.6825 - val_loss: 0.4692 - val_accuracy: 0.7853\n",
            "Epoch 3/5\n",
            "5329/5329 [==============================] - 4s 695us/step - loss: 0.4456 - accuracy: 0.8039 - val_loss: 0.4070 - val_accuracy: 0.8181\n",
            "Epoch 4/5\n",
            "5329/5329 [==============================] - 4s 690us/step - loss: 0.3742 - accuracy: 0.8414 - val_loss: 0.3819 - val_accuracy: 0.8391\n",
            "Epoch 5/5\n",
            "5329/5329 [==============================] - 4s 694us/step - loss: 0.3534 - accuracy: 0.8510 - val_loss: 0.3591 - val_accuracy: 0.8503\n"
          ],
          "name": "stdout"
        },
        {
          "output_type": "stream",
          "text": [
            "\n",
            " 31%|███       | 55/180 [37:49<42:34, 20.44s/it]\u001b[A"
          ],
          "name": "stderr"
        },
        {
          "output_type": "stream",
          "text": [
            "Train on 5329 samples, validate on 1523 samples\n",
            "Epoch 1/5\n",
            "5329/5329 [==============================] - 6s 1ms/step - loss: 0.6795 - accuracy: 0.5699 - val_loss: 0.6641 - val_accuracy: 0.5653\n",
            "Epoch 2/5\n",
            "5329/5329 [==============================] - 6s 1ms/step - loss: 0.5532 - accuracy: 0.7226 - val_loss: 0.4571 - val_accuracy: 0.7958\n",
            "Epoch 3/5\n",
            "5329/5329 [==============================] - 6s 1ms/step - loss: 0.4136 - accuracy: 0.8223 - val_loss: 0.3910 - val_accuracy: 0.8339\n",
            "Epoch 4/5\n",
            "5329/5329 [==============================] - 6s 1ms/step - loss: 0.3642 - accuracy: 0.8474 - val_loss: 0.3674 - val_accuracy: 0.8437\n",
            "Epoch 5/5\n",
            "5329/5329 [==============================] - 6s 1ms/step - loss: 0.3249 - accuracy: 0.8604 - val_loss: 0.3793 - val_accuracy: 0.8326\n"
          ],
          "name": "stdout"
        },
        {
          "output_type": "stream",
          "text": [
            "\n",
            " 31%|███       | 56/180 [38:19<48:03, 23.25s/it]\u001b[A"
          ],
          "name": "stderr"
        },
        {
          "output_type": "stream",
          "text": [
            "Train on 5329 samples, validate on 1523 samples\n",
            "Epoch 1/10\n",
            "5329/5329 [==============================] - 3s 524us/step - loss: 0.6806 - accuracy: 0.5710 - val_loss: 0.6763 - val_accuracy: 0.5653\n",
            "Epoch 2/10\n",
            "5329/5329 [==============================] - 3s 469us/step - loss: 0.6458 - accuracy: 0.6185 - val_loss: 0.5853 - val_accuracy: 0.6980\n",
            "Epoch 3/10\n",
            "5329/5329 [==============================] - 3s 481us/step - loss: 0.5035 - accuracy: 0.7797 - val_loss: 0.4456 - val_accuracy: 0.7997\n",
            "Epoch 4/10\n",
            "5329/5329 [==============================] - 3s 477us/step - loss: 0.4108 - accuracy: 0.8227 - val_loss: 0.4322 - val_accuracy: 0.8116\n",
            "Epoch 5/10\n",
            "5329/5329 [==============================] - 3s 474us/step - loss: 0.3723 - accuracy: 0.8412 - val_loss: 0.3902 - val_accuracy: 0.8378\n",
            "Epoch 6/10\n",
            "5329/5329 [==============================] - 3s 479us/step - loss: 0.3379 - accuracy: 0.8594 - val_loss: 0.3686 - val_accuracy: 0.8516\n",
            "Epoch 7/10\n",
            "5329/5329 [==============================] - 3s 473us/step - loss: 0.3212 - accuracy: 0.8660 - val_loss: 0.3516 - val_accuracy: 0.8549\n",
            "Epoch 8/10\n",
            "5329/5329 [==============================] - 3s 477us/step - loss: 0.3062 - accuracy: 0.8726 - val_loss: 0.3449 - val_accuracy: 0.8634\n",
            "Epoch 9/10\n",
            "5329/5329 [==============================] - 3s 477us/step - loss: 0.2889 - accuracy: 0.8820 - val_loss: 0.3427 - val_accuracy: 0.8555\n",
            "Epoch 10/10\n",
            "5329/5329 [==============================] - 3s 480us/step - loss: 0.2806 - accuracy: 0.8868 - val_loss: 0.3403 - val_accuracy: 0.8628\n"
          ],
          "name": "stdout"
        },
        {
          "output_type": "stream",
          "text": [
            "\n",
            " 32%|███▏      | 57/180 [38:46<50:01, 24.41s/it]\u001b[A"
          ],
          "name": "stderr"
        },
        {
          "output_type": "stream",
          "text": [
            "Train on 5329 samples, validate on 1523 samples\n",
            "Epoch 1/10\n",
            "5329/5329 [==============================] - 3s 546us/step - loss: 0.6794 - accuracy: 0.5740 - val_loss: 0.6752 - val_accuracy: 0.5653\n",
            "Epoch 2/10\n",
            "5329/5329 [==============================] - 3s 491us/step - loss: 0.6270 - accuracy: 0.6626 - val_loss: 0.5319 - val_accuracy: 0.7525\n",
            "Epoch 3/10\n",
            "5329/5329 [==============================] - 3s 496us/step - loss: 0.4681 - accuracy: 0.7966 - val_loss: 0.4226 - val_accuracy: 0.8070\n",
            "Epoch 4/10\n",
            "5329/5329 [==============================] - 3s 491us/step - loss: 0.4043 - accuracy: 0.8251 - val_loss: 0.4189 - val_accuracy: 0.8181\n",
            "Epoch 5/10\n",
            "5329/5329 [==============================] - 3s 503us/step - loss: 0.3568 - accuracy: 0.8521 - val_loss: 0.3938 - val_accuracy: 0.8411\n",
            "Epoch 6/10\n",
            "5329/5329 [==============================] - 3s 491us/step - loss: 0.3303 - accuracy: 0.8585 - val_loss: 0.3530 - val_accuracy: 0.8562\n",
            "Epoch 7/10\n",
            "5329/5329 [==============================] - 3s 491us/step - loss: 0.3131 - accuracy: 0.8655 - val_loss: 0.3430 - val_accuracy: 0.8628\n",
            "Epoch 8/10\n",
            "5329/5329 [==============================] - 3s 512us/step - loss: 0.2986 - accuracy: 0.8758 - val_loss: 0.3438 - val_accuracy: 0.8562\n",
            "Epoch 9/10\n",
            "5329/5329 [==============================] - 3s 504us/step - loss: 0.2782 - accuracy: 0.8852 - val_loss: 0.3382 - val_accuracy: 0.8641\n",
            "Epoch 10/10\n",
            "5329/5329 [==============================] - 3s 514us/step - loss: 0.2850 - accuracy: 0.8808 - val_loss: 0.3393 - val_accuracy: 0.8569\n"
          ],
          "name": "stdout"
        },
        {
          "output_type": "stream",
          "text": [
            "\n",
            " 32%|███▏      | 58/180 [39:15<52:01, 25.58s/it]\u001b[A"
          ],
          "name": "stderr"
        },
        {
          "output_type": "stream",
          "text": [
            "Train on 5329 samples, validate on 1523 samples\n",
            "Epoch 1/10\n",
            "5329/5329 [==============================] - 4s 747us/step - loss: 0.6778 - accuracy: 0.5725 - val_loss: 0.6632 - val_accuracy: 0.5653\n",
            "Epoch 2/10\n",
            "5329/5329 [==============================] - 4s 687us/step - loss: 0.5716 - accuracy: 0.7118 - val_loss: 0.4678 - val_accuracy: 0.7859\n",
            "Epoch 3/10\n",
            "5329/5329 [==============================] - 4s 693us/step - loss: 0.4267 - accuracy: 0.8140 - val_loss: 0.4201 - val_accuracy: 0.8116\n",
            "Epoch 4/10\n",
            "5329/5329 [==============================] - 4s 687us/step - loss: 0.3705 - accuracy: 0.8437 - val_loss: 0.3700 - val_accuracy: 0.8450\n",
            "Epoch 5/10\n",
            "5329/5329 [==============================] - 4s 692us/step - loss: 0.3388 - accuracy: 0.8536 - val_loss: 0.3526 - val_accuracy: 0.8569\n",
            "Epoch 6/10\n",
            "5329/5329 [==============================] - 4s 690us/step - loss: 0.3251 - accuracy: 0.8625 - val_loss: 0.3553 - val_accuracy: 0.8418\n",
            "Epoch 7/10\n",
            "5329/5329 [==============================] - 4s 691us/step - loss: 0.3030 - accuracy: 0.8741 - val_loss: 0.3718 - val_accuracy: 0.8536\n",
            "Epoch 8/10\n",
            "5329/5329 [==============================] - 4s 694us/step - loss: 0.2896 - accuracy: 0.8756 - val_loss: 0.3340 - val_accuracy: 0.8641\n",
            "Epoch 9/10\n",
            "5329/5329 [==============================] - 4s 692us/step - loss: 0.2962 - accuracy: 0.8726 - val_loss: 0.3279 - val_accuracy: 0.8687\n",
            "Epoch 10/10\n",
            "5329/5329 [==============================] - 4s 735us/step - loss: 0.2619 - accuracy: 0.8932 - val_loss: 0.3284 - val_accuracy: 0.8680\n"
          ],
          "name": "stdout"
        },
        {
          "output_type": "stream",
          "text": [
            "\n",
            " 33%|███▎      | 59/180 [39:54<59:35, 29.55s/it]\u001b[A"
          ],
          "name": "stderr"
        },
        {
          "output_type": "stream",
          "text": [
            "Train on 5329 samples, validate on 1523 samples\n",
            "Epoch 1/10\n",
            "5329/5329 [==============================] - 7s 1ms/step - loss: 0.6784 - accuracy: 0.5718 - val_loss: 0.6604 - val_accuracy: 0.5653\n",
            "Epoch 2/10\n",
            "5329/5329 [==============================] - 6s 1ms/step - loss: 0.5513 - accuracy: 0.7255 - val_loss: 0.4699 - val_accuracy: 0.7807\n",
            "Epoch 3/10\n",
            "5329/5329 [==============================] - 6s 1ms/step - loss: 0.4120 - accuracy: 0.8204 - val_loss: 0.3890 - val_accuracy: 0.8391\n",
            "Epoch 4/10\n",
            "5329/5329 [==============================] - 6s 1ms/step - loss: 0.3634 - accuracy: 0.8429 - val_loss: 0.3642 - val_accuracy: 0.8555\n",
            "Epoch 5/10\n",
            "5329/5329 [==============================] - 6s 1ms/step - loss: 0.3230 - accuracy: 0.8638 - val_loss: 0.3457 - val_accuracy: 0.8628\n",
            "Epoch 6/10\n",
            "5329/5329 [==============================] - 6s 1ms/step - loss: 0.3041 - accuracy: 0.8724 - val_loss: 0.3395 - val_accuracy: 0.8674\n",
            "Epoch 7/10\n",
            "5329/5329 [==============================] - 6s 1ms/step - loss: 0.2930 - accuracy: 0.8771 - val_loss: 0.3463 - val_accuracy: 0.8608\n",
            "Epoch 8/10\n",
            "5329/5329 [==============================] - 6s 1ms/step - loss: 0.2800 - accuracy: 0.8801 - val_loss: 0.3268 - val_accuracy: 0.8608\n",
            "Epoch 9/10\n",
            "5329/5329 [==============================] - 6s 1ms/step - loss: 0.2777 - accuracy: 0.8848 - val_loss: 0.3232 - val_accuracy: 0.8615\n",
            "Epoch 10/10\n",
            "5329/5329 [==============================] - 6s 1ms/step - loss: 0.2500 - accuracy: 0.8951 - val_loss: 0.3492 - val_accuracy: 0.8700\n"
          ],
          "name": "stdout"
        },
        {
          "output_type": "stream",
          "text": [
            "\n",
            " 33%|███▎      | 60/180 [40:56<1:18:48, 39.40s/it]\u001b[A"
          ],
          "name": "stderr"
        },
        {
          "output_type": "stream",
          "text": [
            "Train on 5329 samples, validate on 1523 samples\n",
            "Epoch 1/1\n",
            "5329/5329 [==============================] - 12s 2ms/step - loss: 0.5813 - accuracy: 0.6894 - val_loss: 0.4330 - val_accuracy: 0.8089\n"
          ],
          "name": "stdout"
        },
        {
          "output_type": "stream",
          "text": [
            "\n",
            " 34%|███▍      | 61/180 [41:09<1:02:31, 31.52s/it]\u001b[A"
          ],
          "name": "stderr"
        },
        {
          "output_type": "stream",
          "text": [
            "Train on 5329 samples, validate on 1523 samples\n",
            "Epoch 1/1\n",
            "5329/5329 [==============================] - 11s 2ms/step - loss: 0.5729 - accuracy: 0.6939 - val_loss: 0.4310 - val_accuracy: 0.8175\n"
          ],
          "name": "stdout"
        },
        {
          "output_type": "stream",
          "text": [
            "\n",
            " 34%|███▍      | 62/180 [41:22<50:48, 25.83s/it]  \u001b[A"
          ],
          "name": "stderr"
        },
        {
          "output_type": "stream",
          "text": [
            "Train on 5329 samples, validate on 1523 samples\n",
            "Epoch 1/1\n",
            "5329/5329 [==============================] - 12s 2ms/step - loss: 0.5653 - accuracy: 0.7050 - val_loss: 0.4210 - val_accuracy: 0.8135\n"
          ],
          "name": "stdout"
        },
        {
          "output_type": "stream",
          "text": [
            "\n",
            " 35%|███▌      | 63/180 [41:36<43:26, 22.27s/it]\u001b[A"
          ],
          "name": "stderr"
        },
        {
          "output_type": "stream",
          "text": [
            "Train on 5329 samples, validate on 1523 samples\n",
            "Epoch 1/1\n",
            "5329/5329 [==============================] - 14s 3ms/step - loss: 0.5599 - accuracy: 0.7161 - val_loss: 0.5563 - val_accuracy: 0.6651\n"
          ],
          "name": "stdout"
        },
        {
          "output_type": "stream",
          "text": [
            "\n",
            " 36%|███▌      | 64/180 [41:51<39:00, 20.18s/it]\u001b[A"
          ],
          "name": "stderr"
        },
        {
          "output_type": "stream",
          "text": [
            "Train on 5329 samples, validate on 1523 samples\n",
            "Epoch 1/5\n",
            "5329/5329 [==============================] - 11s 2ms/step - loss: 0.5759 - accuracy: 0.6939 - val_loss: 0.4526 - val_accuracy: 0.7879\n",
            "Epoch 2/5\n",
            "5329/5329 [==============================] - 10s 2ms/step - loss: 0.4149 - accuracy: 0.8219 - val_loss: 0.3747 - val_accuracy: 0.8503\n",
            "Epoch 3/5\n",
            "5329/5329 [==============================] - 11s 2ms/step - loss: 0.3631 - accuracy: 0.8448 - val_loss: 0.3629 - val_accuracy: 0.8483\n",
            "Epoch 4/5\n",
            "5329/5329 [==============================] - 10s 2ms/step - loss: 0.3263 - accuracy: 0.8645 - val_loss: 0.3324 - val_accuracy: 0.8647\n",
            "Epoch 5/5\n",
            "5329/5329 [==============================] - 10s 2ms/step - loss: 0.2976 - accuracy: 0.8780 - val_loss: 0.3253 - val_accuracy: 0.8707\n"
          ],
          "name": "stdout"
        },
        {
          "output_type": "stream",
          "text": [
            "\n",
            " 36%|███▌      | 65/180 [42:46<58:31, 30.53s/it]\u001b[A"
          ],
          "name": "stderr"
        },
        {
          "output_type": "stream",
          "text": [
            "Train on 5329 samples, validate on 1523 samples\n",
            "Epoch 1/5\n",
            "5329/5329 [==============================] - 11s 2ms/step - loss: 0.5656 - accuracy: 0.7029 - val_loss: 0.4241 - val_accuracy: 0.8109\n",
            "Epoch 2/5\n",
            "5329/5329 [==============================] - 10s 2ms/step - loss: 0.4130 - accuracy: 0.8242 - val_loss: 0.3796 - val_accuracy: 0.8411\n",
            "Epoch 3/5\n",
            "5329/5329 [==============================] - 9s 2ms/step - loss: 0.3684 - accuracy: 0.8399 - val_loss: 0.3507 - val_accuracy: 0.8601\n",
            "Epoch 4/5\n",
            "5329/5329 [==============================] - 11s 2ms/step - loss: 0.3276 - accuracy: 0.8640 - val_loss: 0.3370 - val_accuracy: 0.8634\n",
            "Epoch 5/5\n",
            "5329/5329 [==============================] - 10s 2ms/step - loss: 0.2987 - accuracy: 0.8748 - val_loss: 0.3234 - val_accuracy: 0.8713\n"
          ],
          "name": "stdout"
        },
        {
          "output_type": "stream",
          "text": [
            "\n",
            " 37%|███▋      | 66/180 [43:39<1:10:50, 37.29s/it]\u001b[A"
          ],
          "name": "stderr"
        },
        {
          "output_type": "stream",
          "text": [
            "Train on 5329 samples, validate on 1523 samples\n",
            "Epoch 1/5\n",
            "5329/5329 [==============================] - 12s 2ms/step - loss: 0.5568 - accuracy: 0.7088 - val_loss: 0.4253 - val_accuracy: 0.8194\n",
            "Epoch 2/5\n",
            "5329/5329 [==============================] - 12s 2ms/step - loss: 0.4195 - accuracy: 0.8155 - val_loss: 0.3861 - val_accuracy: 0.8352\n",
            "Epoch 3/5\n",
            "5329/5329 [==============================] - 12s 2ms/step - loss: 0.3668 - accuracy: 0.8416 - val_loss: 0.3489 - val_accuracy: 0.8562\n",
            "Epoch 4/5\n",
            "5329/5329 [==============================] - 14s 3ms/step - loss: 0.3336 - accuracy: 0.8579 - val_loss: 0.3312 - val_accuracy: 0.8647\n",
            "Epoch 5/5\n",
            "5329/5329 [==============================] - 12s 2ms/step - loss: 0.2980 - accuracy: 0.8782 - val_loss: 0.3147 - val_accuracy: 0.8772\n"
          ],
          "name": "stdout"
        },
        {
          "output_type": "stream",
          "text": [
            "\n",
            " 37%|███▋      | 67/180 [44:42<1:25:00, 45.14s/it]\u001b[A"
          ],
          "name": "stderr"
        },
        {
          "output_type": "stream",
          "text": [
            "Train on 5329 samples, validate on 1523 samples\n",
            "Epoch 1/5\n",
            "5329/5329 [==============================] - 14s 3ms/step - loss: 0.5676 - accuracy: 0.7069 - val_loss: 0.4451 - val_accuracy: 0.8122\n",
            "Epoch 2/5\n",
            "5329/5329 [==============================] - 13s 2ms/step - loss: 0.4163 - accuracy: 0.8208 - val_loss: 0.3728 - val_accuracy: 0.8483\n",
            "Epoch 3/5\n",
            "5329/5329 [==============================] - 13s 2ms/step - loss: 0.3665 - accuracy: 0.8456 - val_loss: 0.3756 - val_accuracy: 0.8411\n",
            "Epoch 4/5\n",
            "5329/5329 [==============================] - 13s 2ms/step - loss: 0.3290 - accuracy: 0.8638 - val_loss: 0.3334 - val_accuracy: 0.8628\n",
            "Epoch 5/5\n",
            "5329/5329 [==============================] - 13s 2ms/step - loss: 0.2946 - accuracy: 0.8782 - val_loss: 0.3311 - val_accuracy: 0.8641\n"
          ],
          "name": "stdout"
        },
        {
          "output_type": "stream",
          "text": [
            "\n",
            " 38%|███▊      | 68/180 [45:50<1:36:55, 51.93s/it]\u001b[A"
          ],
          "name": "stderr"
        },
        {
          "output_type": "stream",
          "text": [
            "Train on 5329 samples, validate on 1523 samples\n",
            "Epoch 1/10\n",
            "5329/5329 [==============================] - 11s 2ms/step - loss: 0.5690 - accuracy: 0.7014 - val_loss: 0.4218 - val_accuracy: 0.8122\n",
            "Epoch 2/10\n",
            "5329/5329 [==============================] - 11s 2ms/step - loss: 0.4160 - accuracy: 0.8185 - val_loss: 0.4051 - val_accuracy: 0.8221\n",
            "Epoch 3/10\n",
            "5329/5329 [==============================] - 10s 2ms/step - loss: 0.3702 - accuracy: 0.8412 - val_loss: 0.3602 - val_accuracy: 0.8529\n",
            "Epoch 4/10\n",
            "5329/5329 [==============================] - 10s 2ms/step - loss: 0.3390 - accuracy: 0.8630 - val_loss: 0.3451 - val_accuracy: 0.8588\n",
            "Epoch 5/10\n",
            "5329/5329 [==============================] - 10s 2ms/step - loss: 0.3092 - accuracy: 0.8709 - val_loss: 0.3384 - val_accuracy: 0.8621\n",
            "Epoch 6/10\n",
            "5329/5329 [==============================] - 11s 2ms/step - loss: 0.2776 - accuracy: 0.8857 - val_loss: 0.3309 - val_accuracy: 0.8661\n",
            "Epoch 7/10\n",
            "5329/5329 [==============================] - 10s 2ms/step - loss: 0.2488 - accuracy: 0.8985 - val_loss: 0.3155 - val_accuracy: 0.8779\n",
            "Epoch 8/10\n",
            "5329/5329 [==============================] - 10s 2ms/step - loss: 0.2172 - accuracy: 0.9148 - val_loss: 0.3100 - val_accuracy: 0.8844\n",
            "Epoch 9/10\n",
            "5329/5329 [==============================] - 10s 2ms/step - loss: 0.1933 - accuracy: 0.9253 - val_loss: 0.3128 - val_accuracy: 0.8969\n",
            "Epoch 10/10\n",
            "5329/5329 [==============================] - 10s 2ms/step - loss: 0.1674 - accuracy: 0.9364 - val_loss: 0.3144 - val_accuracy: 0.8943\n"
          ],
          "name": "stdout"
        },
        {
          "output_type": "stream",
          "text": [
            "\n",
            " 38%|███▊      | 69/180 [47:34<2:04:50, 67.49s/it]\u001b[A"
          ],
          "name": "stderr"
        },
        {
          "output_type": "stream",
          "text": [
            "Train on 5329 samples, validate on 1523 samples\n",
            "Epoch 1/10\n",
            "5329/5329 [==============================] - 11s 2ms/step - loss: 0.5769 - accuracy: 0.6881 - val_loss: 0.4456 - val_accuracy: 0.7945\n",
            "Epoch 2/10\n",
            "5329/5329 [==============================] - 11s 2ms/step - loss: 0.4191 - accuracy: 0.8184 - val_loss: 0.3969 - val_accuracy: 0.8280\n",
            "Epoch 3/10\n",
            "5329/5329 [==============================] - 10s 2ms/step - loss: 0.3676 - accuracy: 0.8431 - val_loss: 0.3943 - val_accuracy: 0.8391\n",
            "Epoch 4/10\n",
            "5329/5329 [==============================] - 10s 2ms/step - loss: 0.3289 - accuracy: 0.8598 - val_loss: 0.3550 - val_accuracy: 0.8464\n",
            "Epoch 5/10\n",
            "5329/5329 [==============================] - 10s 2ms/step - loss: 0.2957 - accuracy: 0.8790 - val_loss: 0.3178 - val_accuracy: 0.8700\n",
            "Epoch 6/10\n",
            "5329/5329 [==============================] - 11s 2ms/step - loss: 0.2647 - accuracy: 0.8930 - val_loss: 0.3264 - val_accuracy: 0.8621\n",
            "Epoch 7/10\n",
            "5329/5329 [==============================] - 11s 2ms/step - loss: 0.2318 - accuracy: 0.9101 - val_loss: 0.2970 - val_accuracy: 0.8805\n",
            "Epoch 8/10\n",
            "5329/5329 [==============================] - 10s 2ms/step - loss: 0.2011 - accuracy: 0.9223 - val_loss: 0.3081 - val_accuracy: 0.8903\n",
            "Epoch 9/10\n",
            "5329/5329 [==============================] - 10s 2ms/step - loss: 0.1741 - accuracy: 0.9336 - val_loss: 0.3104 - val_accuracy: 0.8949\n",
            "Epoch 10/10\n",
            "5329/5329 [==============================] - 10s 2ms/step - loss: 0.1498 - accuracy: 0.9426 - val_loss: 0.3643 - val_accuracy: 0.8995\n"
          ],
          "name": "stdout"
        },
        {
          "output_type": "stream",
          "text": [
            "\n",
            " 39%|███▉      | 70/180 [49:19<2:24:37, 78.89s/it]\u001b[A"
          ],
          "name": "stderr"
        },
        {
          "output_type": "stream",
          "text": [
            "Train on 5329 samples, validate on 1523 samples\n",
            "Epoch 1/10\n",
            "5329/5329 [==============================] - 11s 2ms/step - loss: 0.5744 - accuracy: 0.6954 - val_loss: 0.4487 - val_accuracy: 0.7899\n",
            "Epoch 2/10\n",
            "5329/5329 [==============================] - 12s 2ms/step - loss: 0.4151 - accuracy: 0.8191 - val_loss: 0.5453 - val_accuracy: 0.7065\n",
            "Epoch 3/10\n",
            "5329/5329 [==============================] - 12s 2ms/step - loss: 0.3701 - accuracy: 0.8426 - val_loss: 0.3533 - val_accuracy: 0.8536\n",
            "Epoch 4/10\n",
            "5329/5329 [==============================] - 13s 2ms/step - loss: 0.3311 - accuracy: 0.8640 - val_loss: 0.3317 - val_accuracy: 0.8615\n",
            "Epoch 5/10\n",
            "5329/5329 [==============================] - 11s 2ms/step - loss: 0.2873 - accuracy: 0.8863 - val_loss: 0.3079 - val_accuracy: 0.8746\n",
            "Epoch 6/10\n",
            "5329/5329 [==============================] - 12s 2ms/step - loss: 0.2555 - accuracy: 0.8989 - val_loss: 0.2975 - val_accuracy: 0.8864\n",
            "Epoch 7/10\n",
            "5329/5329 [==============================] - 11s 2ms/step - loss: 0.2213 - accuracy: 0.9116 - val_loss: 0.2990 - val_accuracy: 0.8917\n",
            "Epoch 8/10\n",
            "5329/5329 [==============================] - 12s 2ms/step - loss: 0.1940 - accuracy: 0.9223 - val_loss: 0.2986 - val_accuracy: 0.8923\n",
            "Epoch 9/10\n",
            "5329/5329 [==============================] - 12s 2ms/step - loss: 0.1680 - accuracy: 0.9362 - val_loss: 0.2833 - val_accuracy: 0.8995\n",
            "Epoch 10/10\n",
            "5329/5329 [==============================] - 12s 2ms/step - loss: 0.1469 - accuracy: 0.9448 - val_loss: 0.3164 - val_accuracy: 0.8949\n"
          ],
          "name": "stdout"
        },
        {
          "output_type": "stream",
          "text": [
            "\n",
            " 39%|███▉      | 71/180 [51:19<2:45:31, 91.12s/it]\u001b[A"
          ],
          "name": "stderr"
        },
        {
          "output_type": "stream",
          "text": [
            "Train on 5329 samples, validate on 1523 samples\n",
            "Epoch 1/10\n",
            "5329/5329 [==============================] - 14s 3ms/step - loss: 0.5670 - accuracy: 0.6983 - val_loss: 0.4912 - val_accuracy: 0.7630\n",
            "Epoch 2/10\n",
            "5329/5329 [==============================] - 13s 2ms/step - loss: 0.4179 - accuracy: 0.8193 - val_loss: 0.3708 - val_accuracy: 0.8490\n",
            "Epoch 3/10\n",
            "5329/5329 [==============================] - 13s 2ms/step - loss: 0.3696 - accuracy: 0.8467 - val_loss: 0.3739 - val_accuracy: 0.8477\n",
            "Epoch 4/10\n",
            "5329/5329 [==============================] - 14s 3ms/step - loss: 0.3308 - accuracy: 0.8630 - val_loss: 0.3300 - val_accuracy: 0.8641\n",
            "Epoch 5/10\n",
            "5329/5329 [==============================] - 14s 3ms/step - loss: 0.2975 - accuracy: 0.8795 - val_loss: 0.3114 - val_accuracy: 0.8700\n",
            "Epoch 6/10\n",
            "5329/5329 [==============================] - 13s 2ms/step - loss: 0.2633 - accuracy: 0.8930 - val_loss: 0.3119 - val_accuracy: 0.8746\n",
            "Epoch 7/10\n",
            "5329/5329 [==============================] - 13s 3ms/step - loss: 0.2258 - accuracy: 0.9112 - val_loss: 0.2994 - val_accuracy: 0.8798\n",
            "Epoch 8/10\n",
            "5329/5329 [==============================] - 14s 3ms/step - loss: 0.1939 - accuracy: 0.9236 - val_loss: 0.3197 - val_accuracy: 0.8930\n",
            "Epoch 9/10\n",
            "5329/5329 [==============================] - 13s 2ms/step - loss: 0.1678 - accuracy: 0.9362 - val_loss: 0.3236 - val_accuracy: 0.8917\n",
            "Epoch 10/10\n",
            "5329/5329 [==============================] - 13s 2ms/step - loss: 0.1438 - accuracy: 0.9488 - val_loss: 0.3118 - val_accuracy: 0.8969\n"
          ],
          "name": "stdout"
        },
        {
          "output_type": "stream",
          "text": [
            "\n",
            " 40%|████      | 72/180 [53:33<3:07:24, 104.11s/it]\u001b[A"
          ],
          "name": "stderr"
        },
        {
          "output_type": "stream",
          "text": [
            "Train on 5329 samples, validate on 1523 samples\n",
            "Epoch 1/1\n",
            "5329/5329 [==============================] - 11s 2ms/step - loss: 0.6828 - accuracy: 0.5740 - val_loss: 0.6808 - val_accuracy: 0.5653\n"
          ],
          "name": "stdout"
        },
        {
          "output_type": "stream",
          "text": [
            "\n",
            " 41%|████      | 73/180 [53:46<2:16:47, 76.71s/it] \u001b[A"
          ],
          "name": "stderr"
        },
        {
          "output_type": "stream",
          "text": [
            "Train on 5329 samples, validate on 1523 samples\n",
            "Epoch 1/1\n",
            "5329/5329 [==============================] - 11s 2ms/step - loss: 0.6827 - accuracy: 0.5740 - val_loss: 0.6822 - val_accuracy: 0.5653\n"
          ],
          "name": "stdout"
        },
        {
          "output_type": "stream",
          "text": [
            "\n",
            " 41%|████      | 74/180 [53:59<1:41:35, 57.50s/it]\u001b[A"
          ],
          "name": "stderr"
        },
        {
          "output_type": "stream",
          "text": [
            "Train on 5329 samples, validate on 1523 samples\n",
            "Epoch 1/1\n",
            "5329/5329 [==============================] - 14s 3ms/step - loss: 0.6844 - accuracy: 0.5740 - val_loss: 0.6831 - val_accuracy: 0.5653\n"
          ],
          "name": "stdout"
        },
        {
          "output_type": "stream",
          "text": [
            "\n",
            " 42%|████▏     | 75/180 [54:14<1:18:26, 44.82s/it]\u001b[A"
          ],
          "name": "stderr"
        },
        {
          "output_type": "stream",
          "text": [
            "Train on 5329 samples, validate on 1523 samples\n",
            "Epoch 1/1\n",
            "5329/5329 [==============================] - 15s 3ms/step - loss: 0.6840 - accuracy: 0.5740 - val_loss: 0.6846 - val_accuracy: 0.5653\n"
          ],
          "name": "stdout"
        },
        {
          "output_type": "stream",
          "text": [
            "\n",
            " 42%|████▏     | 76/180 [54:31<1:03:09, 36.44s/it]\u001b[A"
          ],
          "name": "stderr"
        },
        {
          "output_type": "stream",
          "text": [
            "Train on 5329 samples, validate on 1523 samples\n",
            "Epoch 1/5\n",
            "5329/5329 [==============================] - 11s 2ms/step - loss: 0.6822 - accuracy: 0.5727 - val_loss: 0.6780 - val_accuracy: 0.5653\n",
            "Epoch 2/5\n",
            "5329/5329 [==============================] - 10s 2ms/step - loss: 0.6698 - accuracy: 0.5740 - val_loss: 0.6659 - val_accuracy: 0.5653\n",
            "Epoch 3/5\n",
            "5329/5329 [==============================] - 10s 2ms/step - loss: 0.6505 - accuracy: 0.5838 - val_loss: 0.6401 - val_accuracy: 0.6257\n",
            "Epoch 4/5\n",
            "5329/5329 [==============================] - 11s 2ms/step - loss: 0.6166 - accuracy: 0.6846 - val_loss: 0.6017 - val_accuracy: 0.7209\n",
            "Epoch 5/5\n",
            "5329/5329 [==============================] - 11s 2ms/step - loss: 0.5698 - accuracy: 0.7643 - val_loss: 0.5563 - val_accuracy: 0.8004\n"
          ],
          "name": "stdout"
        },
        {
          "output_type": "stream",
          "text": [
            "\n",
            " 43%|████▎     | 77/180 [55:26<1:12:13, 42.08s/it]\u001b[A"
          ],
          "name": "stderr"
        },
        {
          "output_type": "stream",
          "text": [
            "Train on 5329 samples, validate on 1523 samples\n",
            "Epoch 1/5\n",
            "5329/5329 [==============================] - 11s 2ms/step - loss: 0.6833 - accuracy: 0.5716 - val_loss: 0.6813 - val_accuracy: 0.5653\n",
            "Epoch 2/5\n",
            "5329/5329 [==============================] - 10s 2ms/step - loss: 0.6740 - accuracy: 0.5740 - val_loss: 0.6700 - val_accuracy: 0.5653\n",
            "Epoch 3/5\n",
            "5329/5329 [==============================] - 11s 2ms/step - loss: 0.6565 - accuracy: 0.5797 - val_loss: 0.6464 - val_accuracy: 0.6113\n",
            "Epoch 4/5\n",
            "5329/5329 [==============================] - 11s 2ms/step - loss: 0.6251 - accuracy: 0.6656 - val_loss: 0.6105 - val_accuracy: 0.7019\n",
            "Epoch 5/5\n",
            "5329/5329 [==============================] - 10s 2ms/step - loss: 0.5820 - accuracy: 0.7604 - val_loss: 0.5681 - val_accuracy: 0.7590\n"
          ],
          "name": "stdout"
        },
        {
          "output_type": "stream",
          "text": [
            "\n",
            " 43%|████▎     | 78/180 [56:21<1:18:03, 45.92s/it]\u001b[A"
          ],
          "name": "stderr"
        },
        {
          "output_type": "stream",
          "text": [
            "Train on 5329 samples, validate on 1523 samples\n",
            "Epoch 1/5\n",
            "5329/5329 [==============================] - 13s 2ms/step - loss: 0.6831 - accuracy: 0.5740 - val_loss: 0.6839 - val_accuracy: 0.5653\n",
            "Epoch 2/5\n",
            "5329/5329 [==============================] - 13s 2ms/step - loss: 0.6773 - accuracy: 0.5740 - val_loss: 0.6747 - val_accuracy: 0.5653\n",
            "Epoch 3/5\n",
            "5329/5329 [==============================] - 13s 2ms/step - loss: 0.6630 - accuracy: 0.5738 - val_loss: 0.6550 - val_accuracy: 0.5653\n",
            "Epoch 4/5\n",
            "5329/5329 [==============================] - 13s 2ms/step - loss: 0.6338 - accuracy: 0.6303 - val_loss: 0.6192 - val_accuracy: 0.6993\n",
            "Epoch 5/5\n",
            "5329/5329 [==============================] - 13s 2ms/step - loss: 0.5904 - accuracy: 0.7401 - val_loss: 0.5740 - val_accuracy: 0.7748\n"
          ],
          "name": "stdout"
        },
        {
          "output_type": "stream",
          "text": [
            "\n",
            " 44%|████▍     | 79/180 [57:27<1:27:36, 52.05s/it]\u001b[A"
          ],
          "name": "stderr"
        },
        {
          "output_type": "stream",
          "text": [
            "Train on 5329 samples, validate on 1523 samples\n",
            "Epoch 1/5\n",
            "5329/5329 [==============================] - 15s 3ms/step - loss: 0.6843 - accuracy: 0.5735 - val_loss: 0.6844 - val_accuracy: 0.5653\n",
            "Epoch 2/5\n",
            "5329/5329 [==============================] - 15s 3ms/step - loss: 0.6800 - accuracy: 0.5740 - val_loss: 0.6788 - val_accuracy: 0.5653\n",
            "Epoch 3/5\n",
            "5329/5329 [==============================] - 15s 3ms/step - loss: 0.6688 - accuracy: 0.5740 - val_loss: 0.6624 - val_accuracy: 0.5653\n",
            "Epoch 4/5\n",
            "5329/5329 [==============================] - 15s 3ms/step - loss: 0.6431 - accuracy: 0.6016 - val_loss: 0.6305 - val_accuracy: 0.6323\n",
            "Epoch 5/5\n",
            "5329/5329 [==============================] - 14s 3ms/step - loss: 0.6020 - accuracy: 0.7135 - val_loss: 0.5870 - val_accuracy: 0.7623\n"
          ],
          "name": "stdout"
        },
        {
          "output_type": "stream",
          "text": [
            "\n",
            " 44%|████▍     | 80/180 [58:44<1:38:55, 59.36s/it]\u001b[A"
          ],
          "name": "stderr"
        },
        {
          "output_type": "stream",
          "text": [
            "Train on 5329 samples, validate on 1523 samples\n",
            "Epoch 1/10\n",
            "5329/5329 [==============================] - 11s 2ms/step - loss: 0.6817 - accuracy: 0.5688 - val_loss: 0.6820 - val_accuracy: 0.5653\n",
            "Epoch 2/10\n",
            "5329/5329 [==============================] - 10s 2ms/step - loss: 0.6722 - accuracy: 0.5740 - val_loss: 0.6671 - val_accuracy: 0.5653\n",
            "Epoch 3/10\n",
            "5329/5329 [==============================] - 11s 2ms/step - loss: 0.6525 - accuracy: 0.5851 - val_loss: 0.6419 - val_accuracy: 0.6369\n",
            "Epoch 4/10\n",
            "5329/5329 [==============================] - 10s 2ms/step - loss: 0.6199 - accuracy: 0.6827 - val_loss: 0.6053 - val_accuracy: 0.7006\n",
            "Epoch 5/10\n",
            "5329/5329 [==============================] - 10s 2ms/step - loss: 0.5758 - accuracy: 0.7572 - val_loss: 0.5613 - val_accuracy: 0.7741\n",
            "Epoch 6/10\n",
            "5329/5329 [==============================] - 10s 2ms/step - loss: 0.5271 - accuracy: 0.8137 - val_loss: 0.5180 - val_accuracy: 0.8024\n",
            "Epoch 7/10\n",
            "5329/5329 [==============================] - 11s 2ms/step - loss: 0.4799 - accuracy: 0.8343 - val_loss: 0.4775 - val_accuracy: 0.8188\n",
            "Epoch 8/10\n",
            "5329/5329 [==============================] - 10s 2ms/step - loss: 0.4393 - accuracy: 0.8465 - val_loss: 0.4501 - val_accuracy: 0.8332\n",
            "Epoch 9/10\n",
            "5329/5329 [==============================] - 12s 2ms/step - loss: 0.4052 - accuracy: 0.8604 - val_loss: 0.4217 - val_accuracy: 0.8345\n",
            "Epoch 10/10\n",
            "5329/5329 [==============================] - 10s 2ms/step - loss: 0.3768 - accuracy: 0.8701 - val_loss: 0.4020 - val_accuracy: 0.8450\n"
          ],
          "name": "stdout"
        },
        {
          "output_type": "stream",
          "text": [
            "\n",
            " 45%|████▌     | 81/180 [1:00:30<2:01:14, 73.48s/it]\u001b[A"
          ],
          "name": "stderr"
        },
        {
          "output_type": "stream",
          "text": [
            "Train on 5329 samples, validate on 1523 samples\n",
            "Epoch 1/10\n",
            "5329/5329 [==============================] - 11s 2ms/step - loss: 0.6826 - accuracy: 0.5740 - val_loss: 0.6816 - val_accuracy: 0.5653\n",
            "Epoch 2/10\n",
            "5329/5329 [==============================] - 11s 2ms/step - loss: 0.6744 - accuracy: 0.5740 - val_loss: 0.6702 - val_accuracy: 0.5653\n",
            "Epoch 3/10\n",
            "5329/5329 [==============================] - 10s 2ms/step - loss: 0.6559 - accuracy: 0.5767 - val_loss: 0.6438 - val_accuracy: 0.5909\n",
            "Epoch 4/10\n",
            "5329/5329 [==============================] - 10s 2ms/step - loss: 0.6166 - accuracy: 0.6907 - val_loss: 0.5962 - val_accuracy: 0.7400\n",
            "Epoch 5/10\n",
            "5329/5329 [==============================] - 11s 2ms/step - loss: 0.5572 - accuracy: 0.7945 - val_loss: 0.5373 - val_accuracy: 0.8207\n",
            "Epoch 6/10\n",
            "5329/5329 [==============================] - 10s 2ms/step - loss: 0.4949 - accuracy: 0.8381 - val_loss: 0.4810 - val_accuracy: 0.8221\n",
            "Epoch 7/10\n",
            "5329/5329 [==============================] - 11s 2ms/step - loss: 0.4406 - accuracy: 0.8566 - val_loss: 0.4400 - val_accuracy: 0.8326\n",
            "Epoch 8/10\n",
            "5329/5329 [==============================] - 10s 2ms/step - loss: 0.3980 - accuracy: 0.8673 - val_loss: 0.4145 - val_accuracy: 0.8457\n",
            "Epoch 9/10\n",
            "5329/5329 [==============================] - 10s 2ms/step - loss: 0.3693 - accuracy: 0.8730 - val_loss: 0.3933 - val_accuracy: 0.8457\n",
            "Epoch 10/10\n",
            "5329/5329 [==============================] - 11s 2ms/step - loss: 0.3449 - accuracy: 0.8782 - val_loss: 0.3801 - val_accuracy: 0.8536\n"
          ],
          "name": "stdout"
        },
        {
          "output_type": "stream",
          "text": [
            "\n",
            " 46%|████▌     | 82/180 [1:02:15<2:15:38, 83.04s/it]\u001b[A"
          ],
          "name": "stderr"
        },
        {
          "output_type": "stream",
          "text": [
            "Train on 5329 samples, validate on 1523 samples\n",
            "Epoch 1/10\n",
            "5329/5329 [==============================] - 13s 2ms/step - loss: 0.6842 - accuracy: 0.5665 - val_loss: 0.6834 - val_accuracy: 0.5653\n",
            "Epoch 2/10\n",
            "5329/5329 [==============================] - 13s 2ms/step - loss: 0.6768 - accuracy: 0.5740 - val_loss: 0.6732 - val_accuracy: 0.5653\n",
            "Epoch 3/10\n",
            "5329/5329 [==============================] - 13s 2ms/step - loss: 0.6608 - accuracy: 0.5738 - val_loss: 0.6513 - val_accuracy: 0.5680\n",
            "Epoch 4/10\n",
            "5329/5329 [==============================] - 14s 3ms/step - loss: 0.6298 - accuracy: 0.6421 - val_loss: 0.6166 - val_accuracy: 0.6678\n",
            "Epoch 5/10\n",
            "5329/5329 [==============================] - 14s 3ms/step - loss: 0.5871 - accuracy: 0.7444 - val_loss: 0.5738 - val_accuracy: 0.7689\n",
            "Epoch 6/10\n",
            "5329/5329 [==============================] - 12s 2ms/step - loss: 0.5389 - accuracy: 0.8041 - val_loss: 0.5276 - val_accuracy: 0.7873\n",
            "Epoch 7/10\n",
            "5329/5329 [==============================] - 13s 2ms/step - loss: 0.4900 - accuracy: 0.8304 - val_loss: 0.4875 - val_accuracy: 0.8194\n",
            "Epoch 8/10\n",
            "5329/5329 [==============================] - 13s 2ms/step - loss: 0.4472 - accuracy: 0.8484 - val_loss: 0.4523 - val_accuracy: 0.8293\n",
            "Epoch 9/10\n",
            "5329/5329 [==============================] - 13s 2ms/step - loss: 0.4113 - accuracy: 0.8546 - val_loss: 0.4264 - val_accuracy: 0.8326\n",
            "Epoch 10/10\n",
            "5329/5329 [==============================] - 13s 2ms/step - loss: 0.3825 - accuracy: 0.8662 - val_loss: 0.4095 - val_accuracy: 0.8418\n"
          ],
          "name": "stdout"
        },
        {
          "output_type": "stream",
          "text": [
            "\n",
            " 46%|████▌     | 83/180 [1:04:27<2:37:38, 97.51s/it]\u001b[A"
          ],
          "name": "stderr"
        },
        {
          "output_type": "stream",
          "text": [
            "Train on 5329 samples, validate on 1523 samples\n",
            "Epoch 1/10\n",
            "5329/5329 [==============================] - 16s 3ms/step - loss: 0.6844 - accuracy: 0.5722 - val_loss: 0.6843 - val_accuracy: 0.5653\n",
            "Epoch 2/10\n",
            "5329/5329 [==============================] - 15s 3ms/step - loss: 0.6815 - accuracy: 0.5740 - val_loss: 0.6824 - val_accuracy: 0.5653\n",
            "Epoch 3/10\n",
            "5329/5329 [==============================] - 15s 3ms/step - loss: 0.6765 - accuracy: 0.5740 - val_loss: 0.6735 - val_accuracy: 0.5653\n",
            "Epoch 4/10\n",
            "5329/5329 [==============================] - 14s 3ms/step - loss: 0.6570 - accuracy: 0.5753 - val_loss: 0.6413 - val_accuracy: 0.5798\n",
            "Epoch 5/10\n",
            "5329/5329 [==============================] - 15s 3ms/step - loss: 0.6097 - accuracy: 0.6936 - val_loss: 0.5832 - val_accuracy: 0.7859\n",
            "Epoch 6/10\n",
            "5329/5329 [==============================] - 15s 3ms/step - loss: 0.5391 - accuracy: 0.8206 - val_loss: 0.5136 - val_accuracy: 0.8260\n",
            "Epoch 7/10\n",
            "5329/5329 [==============================] - 15s 3ms/step - loss: 0.4674 - accuracy: 0.8495 - val_loss: 0.4550 - val_accuracy: 0.8431\n",
            "Epoch 8/10\n",
            "5329/5329 [==============================] - 14s 3ms/step - loss: 0.4118 - accuracy: 0.8653 - val_loss: 0.4208 - val_accuracy: 0.8365\n",
            "Epoch 9/10\n",
            "5329/5329 [==============================] - 14s 3ms/step - loss: 0.3772 - accuracy: 0.8698 - val_loss: 0.4001 - val_accuracy: 0.8444\n",
            "Epoch 10/10\n",
            "5329/5329 [==============================] - 15s 3ms/step - loss: 0.3525 - accuracy: 0.8760 - val_loss: 0.3868 - val_accuracy: 0.8444\n"
          ],
          "name": "stdout"
        },
        {
          "output_type": "stream",
          "text": [
            "\n",
            " 47%|████▋     | 84/180 [1:06:54<3:00:06, 112.57s/it]\u001b[A"
          ],
          "name": "stderr"
        },
        {
          "output_type": "stream",
          "text": [
            "Train on 5329 samples, validate on 1523 samples\n",
            "Epoch 1/1\n",
            "5329/5329 [==============================] - 3s 612us/step - loss: 0.6933 - accuracy: 0.4960 - val_loss: 0.6895 - val_accuracy: 0.5653\n"
          ],
          "name": "stdout"
        },
        {
          "output_type": "stream",
          "text": [
            "\n",
            " 47%|████▋     | 85/180 [1:06:59<2:07:02, 80.24s/it] \u001b[A"
          ],
          "name": "stderr"
        },
        {
          "output_type": "stream",
          "text": [
            "Train on 5329 samples, validate on 1523 samples\n",
            "Epoch 1/1\n",
            "5329/5329 [==============================] - 4s 663us/step - loss: 0.6860 - accuracy: 0.5740 - val_loss: 0.6857 - val_accuracy: 0.5653\n"
          ],
          "name": "stdout"
        },
        {
          "output_type": "stream",
          "text": [
            "\n",
            " 48%|████▊     | 86/180 [1:07:04<1:30:25, 57.72s/it]\u001b[A"
          ],
          "name": "stderr"
        },
        {
          "output_type": "stream",
          "text": [
            "Train on 5329 samples, validate on 1523 samples\n",
            "Epoch 1/1\n",
            "5329/5329 [==============================] - 5s 873us/step - loss: 0.6886 - accuracy: 0.5740 - val_loss: 0.6869 - val_accuracy: 0.5653\n"
          ],
          "name": "stdout"
        },
        {
          "output_type": "stream",
          "text": [
            "\n",
            " 48%|████▊     | 87/180 [1:07:11<1:05:29, 42.25s/it]\u001b[A"
          ],
          "name": "stderr"
        },
        {
          "output_type": "stream",
          "text": [
            "Train on 5329 samples, validate on 1523 samples\n",
            "Epoch 1/1\n",
            "5329/5329 [==============================] - 7s 1ms/step - loss: 0.6899 - accuracy: 0.5740 - val_loss: 0.6881 - val_accuracy: 0.5653\n"
          ],
          "name": "stdout"
        },
        {
          "output_type": "stream",
          "text": [
            "\n",
            " 49%|████▉     | 88/180 [1:07:20<49:29, 32.28s/it]  \u001b[A"
          ],
          "name": "stderr"
        },
        {
          "output_type": "stream",
          "text": [
            "Train on 5329 samples, validate on 1523 samples\n",
            "Epoch 1/5\n",
            "5329/5329 [==============================] - 3s 618us/step - loss: 0.6888 - accuracy: 0.5740 - val_loss: 0.6868 - val_accuracy: 0.5653\n",
            "Epoch 2/5\n",
            "5329/5329 [==============================] - 3s 627us/step - loss: 0.6844 - accuracy: 0.5740 - val_loss: 0.6850 - val_accuracy: 0.5653\n",
            "Epoch 3/5\n",
            "5329/5329 [==============================] - 3s 629us/step - loss: 0.6826 - accuracy: 0.5740 - val_loss: 0.6843 - val_accuracy: 0.5653\n",
            "Epoch 4/5\n",
            "5329/5329 [==============================] - 3s 599us/step - loss: 0.6820 - accuracy: 0.5740 - val_loss: 0.6841 - val_accuracy: 0.5653\n",
            "Epoch 5/5\n",
            "5329/5329 [==============================] - 3s 593us/step - loss: 0.6815 - accuracy: 0.5740 - val_loss: 0.6837 - val_accuracy: 0.5653\n"
          ],
          "name": "stdout"
        },
        {
          "output_type": "stream",
          "text": [
            "\n",
            " 49%|████▉     | 89/180 [1:07:37<42:24, 27.96s/it]\u001b[A"
          ],
          "name": "stderr"
        },
        {
          "output_type": "stream",
          "text": [
            "Train on 5329 samples, validate on 1523 samples\n",
            "Epoch 1/5\n",
            "5329/5329 [==============================] - 4s 709us/step - loss: 0.6886 - accuracy: 0.5740 - val_loss: 0.6869 - val_accuracy: 0.5653\n",
            "Epoch 2/5\n",
            "5329/5329 [==============================] - 3s 647us/step - loss: 0.6842 - accuracy: 0.5740 - val_loss: 0.6849 - val_accuracy: 0.5653\n",
            "Epoch 3/5\n",
            "5329/5329 [==============================] - 3s 631us/step - loss: 0.6826 - accuracy: 0.5740 - val_loss: 0.6844 - val_accuracy: 0.5653\n",
            "Epoch 4/5\n",
            "5329/5329 [==============================] - 3s 612us/step - loss: 0.6821 - accuracy: 0.5740 - val_loss: 0.6843 - val_accuracy: 0.5653\n",
            "Epoch 5/5\n",
            "5329/5329 [==============================] - 3s 623us/step - loss: 0.6818 - accuracy: 0.5740 - val_loss: 0.6842 - val_accuracy: 0.5653\n"
          ],
          "name": "stdout"
        },
        {
          "output_type": "stream",
          "text": [
            "\n",
            " 50%|█████     | 90/180 [1:07:56<37:45, 25.17s/it]\u001b[A"
          ],
          "name": "stderr"
        },
        {
          "output_type": "stream",
          "text": [
            "Train on 5329 samples, validate on 1523 samples\n",
            "Epoch 1/5\n",
            "5329/5329 [==============================] - 5s 930us/step - loss: 0.6915 - accuracy: 0.5455 - val_loss: 0.6889 - val_accuracy: 0.5653\n",
            "Epoch 2/5\n",
            "5329/5329 [==============================] - 5s 874us/step - loss: 0.6863 - accuracy: 0.5740 - val_loss: 0.6860 - val_accuracy: 0.5653\n",
            "Epoch 3/5\n",
            "5329/5329 [==============================] - 5s 856us/step - loss: 0.6836 - accuracy: 0.5740 - val_loss: 0.6847 - val_accuracy: 0.5653\n",
            "Epoch 4/5\n",
            "5329/5329 [==============================] - 5s 893us/step - loss: 0.6825 - accuracy: 0.5740 - val_loss: 0.6845 - val_accuracy: 0.5653\n",
            "Epoch 5/5\n",
            "5329/5329 [==============================] - 5s 870us/step - loss: 0.6821 - accuracy: 0.5740 - val_loss: 0.6844 - val_accuracy: 0.5653\n"
          ],
          "name": "stdout"
        },
        {
          "output_type": "stream",
          "text": [
            "\n",
            " 51%|█████     | 91/180 [1:08:21<37:21, 25.19s/it]\u001b[A"
          ],
          "name": "stderr"
        },
        {
          "output_type": "stream",
          "text": [
            "Train on 5329 samples, validate on 1523 samples\n",
            "Epoch 1/5\n",
            "5329/5329 [==============================] - 8s 1ms/step - loss: 0.6906 - accuracy: 0.5616 - val_loss: 0.6886 - val_accuracy: 0.5653\n",
            "Epoch 2/5\n",
            "5329/5329 [==============================] - 7s 1ms/step - loss: 0.6861 - accuracy: 0.5740 - val_loss: 0.6860 - val_accuracy: 0.5653\n",
            "Epoch 3/5\n",
            "5329/5329 [==============================] - 7s 1ms/step - loss: 0.6838 - accuracy: 0.5740 - val_loss: 0.6849 - val_accuracy: 0.5653\n",
            "Epoch 4/5\n",
            "5329/5329 [==============================] - 7s 1ms/step - loss: 0.6828 - accuracy: 0.5740 - val_loss: 0.6846 - val_accuracy: 0.5653\n",
            "Epoch 5/5\n",
            "5329/5329 [==============================] - 7s 1ms/step - loss: 0.6824 - accuracy: 0.5740 - val_loss: 0.6846 - val_accuracy: 0.5653\n"
          ],
          "name": "stdout"
        },
        {
          "output_type": "stream",
          "text": [
            "\n",
            " 51%|█████     | 92/180 [1:08:59<42:24, 28.91s/it]\u001b[A"
          ],
          "name": "stderr"
        },
        {
          "output_type": "stream",
          "text": [
            "Train on 5329 samples, validate on 1523 samples\n",
            "Epoch 1/10\n",
            "5329/5329 [==============================] - 3s 645us/step - loss: 0.6948 - accuracy: 0.4736 - val_loss: 0.6905 - val_accuracy: 0.5653\n",
            "Epoch 2/10\n",
            "5329/5329 [==============================] - 3s 598us/step - loss: 0.6874 - accuracy: 0.5740 - val_loss: 0.6863 - val_accuracy: 0.5653\n",
            "Epoch 3/10\n",
            "5329/5329 [==============================] - 3s 565us/step - loss: 0.6837 - accuracy: 0.5740 - val_loss: 0.6844 - val_accuracy: 0.5653\n",
            "Epoch 4/10\n",
            "5329/5329 [==============================] - 3s 570us/step - loss: 0.6821 - accuracy: 0.5740 - val_loss: 0.6838 - val_accuracy: 0.5653\n",
            "Epoch 5/10\n",
            "5329/5329 [==============================] - 3s 576us/step - loss: 0.6813 - accuracy: 0.5740 - val_loss: 0.6833 - val_accuracy: 0.5653\n",
            "Epoch 6/10\n",
            "5329/5329 [==============================] - 3s 637us/step - loss: 0.6806 - accuracy: 0.5740 - val_loss: 0.6825 - val_accuracy: 0.5653\n",
            "Epoch 7/10\n",
            "5329/5329 [==============================] - 3s 596us/step - loss: 0.6793 - accuracy: 0.5740 - val_loss: 0.6812 - val_accuracy: 0.5653\n",
            "Epoch 8/10\n",
            "5329/5329 [==============================] - 3s 606us/step - loss: 0.6777 - accuracy: 0.5740 - val_loss: 0.6797 - val_accuracy: 0.5653\n",
            "Epoch 9/10\n",
            "5329/5329 [==============================] - 3s 538us/step - loss: 0.6760 - accuracy: 0.5740 - val_loss: 0.6781 - val_accuracy: 0.5653\n",
            "Epoch 10/10\n",
            "5329/5329 [==============================] - 3s 598us/step - loss: 0.6742 - accuracy: 0.5740 - val_loss: 0.6765 - val_accuracy: 0.5653\n"
          ],
          "name": "stdout"
        },
        {
          "output_type": "stream",
          "text": [
            "\n",
            " 52%|█████▏    | 93/180 [1:09:32<43:49, 30.23s/it]\u001b[A"
          ],
          "name": "stderr"
        },
        {
          "output_type": "stream",
          "text": [
            "Train on 5329 samples, validate on 1523 samples\n",
            "Epoch 1/10\n",
            "5329/5329 [==============================] - 4s 707us/step - loss: 0.6872 - accuracy: 0.5740 - val_loss: 0.6862 - val_accuracy: 0.5653\n",
            "Epoch 2/10\n",
            "5329/5329 [==============================] - 3s 583us/step - loss: 0.6838 - accuracy: 0.5740 - val_loss: 0.6847 - val_accuracy: 0.5653\n",
            "Epoch 3/10\n",
            "5329/5329 [==============================] - 3s 605us/step - loss: 0.6824 - accuracy: 0.5740 - val_loss: 0.6844 - val_accuracy: 0.5653\n",
            "Epoch 4/10\n",
            "5329/5329 [==============================] - 3s 636us/step - loss: 0.6821 - accuracy: 0.5740 - val_loss: 0.6843 - val_accuracy: 0.5653\n",
            "Epoch 5/10\n",
            "5329/5329 [==============================] - 3s 632us/step - loss: 0.6818 - accuracy: 0.5740 - val_loss: 0.6842 - val_accuracy: 0.5653\n",
            "Epoch 6/10\n",
            "5329/5329 [==============================] - 3s 614us/step - loss: 0.6815 - accuracy: 0.5740 - val_loss: 0.6840 - val_accuracy: 0.5653\n",
            "Epoch 7/10\n",
            "5329/5329 [==============================] - 3s 606us/step - loss: 0.6811 - accuracy: 0.5740 - val_loss: 0.6835 - val_accuracy: 0.5653\n",
            "Epoch 8/10\n",
            "5329/5329 [==============================] - 3s 590us/step - loss: 0.6805 - accuracy: 0.5740 - val_loss: 0.6827 - val_accuracy: 0.5653\n",
            "Epoch 9/10\n",
            "5329/5329 [==============================] - 3s 577us/step - loss: 0.6795 - accuracy: 0.5740 - val_loss: 0.6816 - val_accuracy: 0.5653\n",
            "Epoch 10/10\n",
            "5329/5329 [==============================] - 3s 579us/step - loss: 0.6783 - accuracy: 0.5740 - val_loss: 0.6803 - val_accuracy: 0.5653\n"
          ],
          "name": "stdout"
        },
        {
          "output_type": "stream",
          "text": [
            "\n",
            " 52%|█████▏    | 94/180 [1:10:07<45:04, 31.45s/it]\u001b[A"
          ],
          "name": "stderr"
        },
        {
          "output_type": "stream",
          "text": [
            "Train on 5329 samples, validate on 1523 samples\n",
            "Epoch 1/10\n",
            "5329/5329 [==============================] - 5s 884us/step - loss: 0.6914 - accuracy: 0.5372 - val_loss: 0.6888 - val_accuracy: 0.5653\n",
            "Epoch 2/10\n",
            "5329/5329 [==============================] - 4s 811us/step - loss: 0.6862 - accuracy: 0.5740 - val_loss: 0.6859 - val_accuracy: 0.5653\n",
            "Epoch 3/10\n",
            "5329/5329 [==============================] - 4s 806us/step - loss: 0.6837 - accuracy: 0.5740 - val_loss: 0.6848 - val_accuracy: 0.5653\n",
            "Epoch 4/10\n",
            "5329/5329 [==============================] - 5s 942us/step - loss: 0.6826 - accuracy: 0.5740 - val_loss: 0.6845 - val_accuracy: 0.5653\n",
            "Epoch 5/10\n",
            "5329/5329 [==============================] - 4s 805us/step - loss: 0.6822 - accuracy: 0.5740 - val_loss: 0.6845 - val_accuracy: 0.5653\n",
            "Epoch 6/10\n",
            "5329/5329 [==============================] - 4s 803us/step - loss: 0.6820 - accuracy: 0.5740 - val_loss: 0.6844 - val_accuracy: 0.5653\n",
            "Epoch 7/10\n",
            "5329/5329 [==============================] - 4s 807us/step - loss: 0.6818 - accuracy: 0.5740 - val_loss: 0.6843 - val_accuracy: 0.5653\n",
            "Epoch 8/10\n",
            "5329/5329 [==============================] - 4s 822us/step - loss: 0.6818 - accuracy: 0.5740 - val_loss: 0.6842 - val_accuracy: 0.5653\n",
            "Epoch 9/10\n",
            "5329/5329 [==============================] - 5s 857us/step - loss: 0.6815 - accuracy: 0.5740 - val_loss: 0.6840 - val_accuracy: 0.5653\n",
            "Epoch 10/10\n",
            "5329/5329 [==============================] - 4s 824us/step - loss: 0.6813 - accuracy: 0.5740 - val_loss: 0.6835 - val_accuracy: 0.5653\n"
          ],
          "name": "stdout"
        },
        {
          "output_type": "stream",
          "text": [
            "\n",
            " 53%|█████▎    | 95/180 [1:10:53<50:46, 35.84s/it]\u001b[A"
          ],
          "name": "stderr"
        },
        {
          "output_type": "stream",
          "text": [
            "Train on 5329 samples, validate on 1523 samples\n",
            "Epoch 1/10\n",
            "5329/5329 [==============================] - 7s 1ms/step - loss: 0.6901 - accuracy: 0.5680 - val_loss: 0.6881 - val_accuracy: 0.5653\n",
            "Epoch 2/10\n",
            "5329/5329 [==============================] - 7s 1ms/step - loss: 0.6856 - accuracy: 0.5740 - val_loss: 0.6858 - val_accuracy: 0.5653\n",
            "Epoch 3/10\n",
            "5329/5329 [==============================] - 7s 1ms/step - loss: 0.6836 - accuracy: 0.5740 - val_loss: 0.6848 - val_accuracy: 0.5653\n",
            "Epoch 4/10\n",
            "5329/5329 [==============================] - 7s 1ms/step - loss: 0.6827 - accuracy: 0.5740 - val_loss: 0.6846 - val_accuracy: 0.5653\n",
            "Epoch 5/10\n",
            "5329/5329 [==============================] - 7s 1ms/step - loss: 0.6823 - accuracy: 0.5740 - val_loss: 0.6846 - val_accuracy: 0.5653\n",
            "Epoch 6/10\n",
            "5329/5329 [==============================] - 7s 1ms/step - loss: 0.6822 - accuracy: 0.5740 - val_loss: 0.6846 - val_accuracy: 0.5653\n",
            "Epoch 7/10\n",
            "5329/5329 [==============================] - 7s 1ms/step - loss: 0.6821 - accuracy: 0.5740 - val_loss: 0.6847 - val_accuracy: 0.5653\n",
            "Epoch 8/10\n",
            "5329/5329 [==============================] - 7s 1ms/step - loss: 0.6821 - accuracy: 0.5740 - val_loss: 0.6847 - val_accuracy: 0.5653\n",
            "Epoch 9/10\n",
            "5329/5329 [==============================] - 7s 1ms/step - loss: 0.6821 - accuracy: 0.5740 - val_loss: 0.6847 - val_accuracy: 0.5653\n",
            "Epoch 10/10\n",
            "5329/5329 [==============================] - 7s 1ms/step - loss: 0.6821 - accuracy: 0.5740 - val_loss: 0.6846 - val_accuracy: 0.5653\n"
          ],
          "name": "stdout"
        },
        {
          "output_type": "stream",
          "text": [
            "\n",
            " 53%|█████▎    | 96/180 [1:12:02<1:04:05, 45.78s/it]\u001b[A"
          ],
          "name": "stderr"
        },
        {
          "output_type": "stream",
          "text": [
            "Train on 5329 samples, validate on 1523 samples\n",
            "Epoch 1/1\n",
            "5329/5329 [==============================] - 10s 2ms/step - loss: 0.6825 - accuracy: 0.5740 - val_loss: 0.6809 - val_accuracy: 0.5653\n"
          ],
          "name": "stdout"
        },
        {
          "output_type": "stream",
          "text": [
            "\n",
            " 54%|█████▍    | 97/180 [1:12:13<49:03, 35.46s/it]  \u001b[A"
          ],
          "name": "stderr"
        },
        {
          "output_type": "stream",
          "text": [
            "Train on 5329 samples, validate on 1523 samples\n",
            "Epoch 1/1\n",
            "5329/5329 [==============================] - 10s 2ms/step - loss: 0.6835 - accuracy: 0.5716 - val_loss: 0.6815 - val_accuracy: 0.5653\n"
          ],
          "name": "stdout"
        },
        {
          "output_type": "stream",
          "text": [
            "\n",
            " 54%|█████▍    | 98/180 [1:12:25<38:43, 28.33s/it]\u001b[A"
          ],
          "name": "stderr"
        },
        {
          "output_type": "stream",
          "text": [
            "Train on 5329 samples, validate on 1523 samples\n",
            "Epoch 1/1\n",
            "5329/5329 [==============================] - 12s 2ms/step - loss: 0.6837 - accuracy: 0.5720 - val_loss: 0.6831 - val_accuracy: 0.5653\n"
          ],
          "name": "stdout"
        },
        {
          "output_type": "stream",
          "text": [
            "\n",
            " 55%|█████▌    | 99/180 [1:12:38<32:21, 23.97s/it]\u001b[A"
          ],
          "name": "stderr"
        },
        {
          "output_type": "stream",
          "text": [
            "Train on 5329 samples, validate on 1523 samples\n",
            "Epoch 1/1\n",
            "5329/5329 [==============================] - 14s 3ms/step - loss: 0.6835 - accuracy: 0.5740 - val_loss: 0.6846 - val_accuracy: 0.5653\n"
          ],
          "name": "stdout"
        },
        {
          "output_type": "stream",
          "text": [
            "\n",
            " 56%|█████▌    | 100/180 [1:12:54<28:46, 21.58s/it]\u001b[A"
          ],
          "name": "stderr"
        },
        {
          "output_type": "stream",
          "text": [
            "Train on 5329 samples, validate on 1523 samples\n",
            "Epoch 1/5\n",
            "5329/5329 [==============================] - 10s 2ms/step - loss: 0.6835 - accuracy: 0.5699 - val_loss: 0.6806 - val_accuracy: 0.5653\n",
            "Epoch 2/5\n",
            "5329/5329 [==============================] - 9s 2ms/step - loss: 0.6724 - accuracy: 0.5740 - val_loss: 0.6672 - val_accuracy: 0.5653\n",
            "Epoch 3/5\n",
            "5329/5329 [==============================] - 10s 2ms/step - loss: 0.6579 - accuracy: 0.5691 - val_loss: 0.6484 - val_accuracy: 0.5719\n",
            "Epoch 4/5\n",
            "5329/5329 [==============================] - 9s 2ms/step - loss: 0.6280 - accuracy: 0.6391 - val_loss: 0.6166 - val_accuracy: 0.7446\n",
            "Epoch 5/5\n",
            "5329/5329 [==============================] - 10s 2ms/step - loss: 0.5890 - accuracy: 0.7553 - val_loss: 0.5750 - val_accuracy: 0.7649\n"
          ],
          "name": "stdout"
        },
        {
          "output_type": "stream",
          "text": [
            "\n",
            " 56%|█████▌    | 101/180 [1:13:44<39:25, 29.94s/it]\u001b[A"
          ],
          "name": "stderr"
        },
        {
          "output_type": "stream",
          "text": [
            "Train on 5329 samples, validate on 1523 samples\n",
            "Epoch 1/5\n",
            "5329/5329 [==============================] - 10s 2ms/step - loss: 0.6833 - accuracy: 0.5740 - val_loss: 0.6819 - val_accuracy: 0.5653\n",
            "Epoch 2/5\n",
            "5329/5329 [==============================] - 11s 2ms/step - loss: 0.6750 - accuracy: 0.5740 - val_loss: 0.6706 - val_accuracy: 0.5653\n",
            "Epoch 3/5\n",
            "5329/5329 [==============================] - 10s 2ms/step - loss: 0.6564 - accuracy: 0.5783 - val_loss: 0.6455 - val_accuracy: 0.6238\n",
            "Epoch 4/5\n",
            "5329/5329 [==============================] - 10s 2ms/step - loss: 0.6215 - accuracy: 0.6716 - val_loss: 0.6059 - val_accuracy: 0.7091\n",
            "Epoch 5/5\n",
            "5329/5329 [==============================] - 10s 2ms/step - loss: 0.5728 - accuracy: 0.7682 - val_loss: 0.5572 - val_accuracy: 0.7781\n"
          ],
          "name": "stdout"
        },
        {
          "output_type": "stream",
          "text": [
            "\n",
            " 57%|█████▋    | 102/180 [1:14:35<47:15, 36.35s/it]\u001b[A"
          ],
          "name": "stderr"
        },
        {
          "output_type": "stream",
          "text": [
            "Train on 5329 samples, validate on 1523 samples\n",
            "Epoch 1/5\n",
            "5329/5329 [==============================] - 12s 2ms/step - loss: 0.6846 - accuracy: 0.5710 - val_loss: 0.6832 - val_accuracy: 0.5653\n",
            "Epoch 2/5\n",
            "5329/5329 [==============================] - 12s 2ms/step - loss: 0.6774 - accuracy: 0.5740 - val_loss: 0.6749 - val_accuracy: 0.5653\n",
            "Epoch 3/5\n",
            "5329/5329 [==============================] - 12s 2ms/step - loss: 0.6623 - accuracy: 0.5746 - val_loss: 0.6517 - val_accuracy: 0.5693\n",
            "Epoch 4/5\n",
            "5329/5329 [==============================] - 12s 2ms/step - loss: 0.6282 - accuracy: 0.6425 - val_loss: 0.6080 - val_accuracy: 0.7406\n",
            "Epoch 5/5\n",
            "5329/5329 [==============================] - 12s 2ms/step - loss: 0.5722 - accuracy: 0.7799 - val_loss: 0.5498 - val_accuracy: 0.7925\n"
          ],
          "name": "stdout"
        },
        {
          "output_type": "stream",
          "text": [
            "\n",
            " 57%|█████▋    | 103/180 [1:15:35<55:51, 43.53s/it]\u001b[A"
          ],
          "name": "stderr"
        },
        {
          "output_type": "stream",
          "text": [
            "Train on 5329 samples, validate on 1523 samples\n",
            "Epoch 1/5\n",
            "5329/5329 [==============================] - 14s 3ms/step - loss: 0.6835 - accuracy: 0.5740 - val_loss: 0.6846 - val_accuracy: 0.5653\n",
            "Epoch 2/5\n",
            "5329/5329 [==============================] - 14s 3ms/step - loss: 0.6805 - accuracy: 0.5740 - val_loss: 0.6792 - val_accuracy: 0.5653\n",
            "Epoch 3/5\n",
            "5329/5329 [==============================] - 14s 3ms/step - loss: 0.6686 - accuracy: 0.5740 - val_loss: 0.6586 - val_accuracy: 0.5653\n",
            "Epoch 4/5\n",
            "5329/5329 [==============================] - 14s 3ms/step - loss: 0.6341 - accuracy: 0.6294 - val_loss: 0.6125 - val_accuracy: 0.7223\n",
            "Epoch 5/5\n",
            "5329/5329 [==============================] - 13s 3ms/step - loss: 0.5744 - accuracy: 0.7831 - val_loss: 0.5503 - val_accuracy: 0.7905\n"
          ],
          "name": "stdout"
        },
        {
          "output_type": "stream",
          "text": [
            "\n",
            " 58%|█████▊    | 104/180 [1:16:45<1:05:01, 51.34s/it]\u001b[A"
          ],
          "name": "stderr"
        },
        {
          "output_type": "stream",
          "text": [
            "Train on 5329 samples, validate on 1523 samples\n",
            "Epoch 1/10\n",
            "5329/5329 [==============================] - 10s 2ms/step - loss: 0.6832 - accuracy: 0.5620 - val_loss: 0.6792 - val_accuracy: 0.5653\n",
            "Epoch 2/10\n",
            "5329/5329 [==============================] - 9s 2ms/step - loss: 0.6703 - accuracy: 0.5740 - val_loss: 0.6657 - val_accuracy: 0.5653\n",
            "Epoch 3/10\n",
            "5329/5329 [==============================] - 10s 2ms/step - loss: 0.6512 - accuracy: 0.5830 - val_loss: 0.6406 - val_accuracy: 0.5903\n",
            "Epoch 4/10\n",
            "5329/5329 [==============================] - 9s 2ms/step - loss: 0.6162 - accuracy: 0.6720 - val_loss: 0.5995 - val_accuracy: 0.7111\n",
            "Epoch 5/10\n",
            "5329/5329 [==============================] - 9s 2ms/step - loss: 0.5668 - accuracy: 0.7677 - val_loss: 0.5486 - val_accuracy: 0.7840\n",
            "Epoch 6/10\n",
            "5329/5329 [==============================] - 9s 2ms/step - loss: 0.5135 - accuracy: 0.8193 - val_loss: 0.5018 - val_accuracy: 0.8122\n",
            "Epoch 7/10\n",
            "5329/5329 [==============================] - 10s 2ms/step - loss: 0.4668 - accuracy: 0.8399 - val_loss: 0.4642 - val_accuracy: 0.8293\n",
            "Epoch 8/10\n",
            "5329/5329 [==============================] - 10s 2ms/step - loss: 0.4288 - accuracy: 0.8514 - val_loss: 0.4370 - val_accuracy: 0.8286\n",
            "Epoch 9/10\n",
            "5329/5329 [==============================] - 10s 2ms/step - loss: 0.3979 - accuracy: 0.8623 - val_loss: 0.4149 - val_accuracy: 0.8398\n",
            "Epoch 10/10\n",
            "5329/5329 [==============================] - 10s 2ms/step - loss: 0.3739 - accuracy: 0.8690 - val_loss: 0.3992 - val_accuracy: 0.8431\n"
          ],
          "name": "stdout"
        },
        {
          "output_type": "stream",
          "text": [
            "\n",
            " 58%|█████▊    | 105/180 [1:18:23<1:21:40, 65.34s/it]\u001b[A"
          ],
          "name": "stderr"
        },
        {
          "output_type": "stream",
          "text": [
            "Train on 5329 samples, validate on 1523 samples\n",
            "Epoch 1/10\n",
            "5329/5329 [==============================] - 10s 2ms/step - loss: 0.6834 - accuracy: 0.5667 - val_loss: 0.6815 - val_accuracy: 0.5653\n",
            "Epoch 2/10\n",
            "5329/5329 [==============================] - 10s 2ms/step - loss: 0.6732 - accuracy: 0.5740 - val_loss: 0.6681 - val_accuracy: 0.5653\n",
            "Epoch 3/10\n",
            "5329/5329 [==============================] - 10s 2ms/step - loss: 0.6547 - accuracy: 0.5845 - val_loss: 0.6446 - val_accuracy: 0.5877\n",
            "Epoch 4/10\n",
            "5329/5329 [==============================] - 10s 2ms/step - loss: 0.6233 - accuracy: 0.6718 - val_loss: 0.6106 - val_accuracy: 0.6763\n",
            "Epoch 5/10\n",
            "5329/5329 [==============================] - 10s 2ms/step - loss: 0.5793 - accuracy: 0.7530 - val_loss: 0.5640 - val_accuracy: 0.7814\n",
            "Epoch 6/10\n",
            "5329/5329 [==============================] - 10s 2ms/step - loss: 0.5286 - accuracy: 0.8127 - val_loss: 0.5186 - val_accuracy: 0.8037\n",
            "Epoch 7/10\n",
            "5329/5329 [==============================] - 10s 2ms/step - loss: 0.4783 - accuracy: 0.8358 - val_loss: 0.4784 - val_accuracy: 0.8148\n",
            "Epoch 8/10\n",
            "5329/5329 [==============================] - 10s 2ms/step - loss: 0.4347 - accuracy: 0.8488 - val_loss: 0.4451 - val_accuracy: 0.8188\n",
            "Epoch 9/10\n",
            "5329/5329 [==============================] - 10s 2ms/step - loss: 0.4005 - accuracy: 0.8598 - val_loss: 0.4210 - val_accuracy: 0.8339\n",
            "Epoch 10/10\n",
            "5329/5329 [==============================] - 10s 2ms/step - loss: 0.3723 - accuracy: 0.8692 - val_loss: 0.4037 - val_accuracy: 0.8319\n"
          ],
          "name": "stdout"
        },
        {
          "output_type": "stream",
          "text": [
            "\n",
            " 59%|█████▉    | 106/180 [1:20:02<1:32:53, 75.31s/it]\u001b[A"
          ],
          "name": "stderr"
        },
        {
          "output_type": "stream",
          "text": [
            "Train on 5329 samples, validate on 1523 samples\n",
            "Epoch 1/10\n",
            "5329/5329 [==============================] - 12s 2ms/step - loss: 0.6837 - accuracy: 0.5740 - val_loss: 0.6830 - val_accuracy: 0.5653\n",
            "Epoch 2/10\n",
            "5329/5329 [==============================] - 12s 2ms/step - loss: 0.6771 - accuracy: 0.5740 - val_loss: 0.6747 - val_accuracy: 0.5653\n",
            "Epoch 3/10\n",
            "5329/5329 [==============================] - 13s 2ms/step - loss: 0.6626 - accuracy: 0.5744 - val_loss: 0.6542 - val_accuracy: 0.5653\n",
            "Epoch 4/10\n",
            "5329/5329 [==============================] - 12s 2ms/step - loss: 0.6336 - accuracy: 0.6275 - val_loss: 0.6188 - val_accuracy: 0.6986\n",
            "Epoch 5/10\n",
            "5329/5329 [==============================] - 12s 2ms/step - loss: 0.5902 - accuracy: 0.7465 - val_loss: 0.5754 - val_accuracy: 0.7695\n",
            "Epoch 6/10\n",
            "5329/5329 [==============================] - 14s 3ms/step - loss: 0.5375 - accuracy: 0.8030 - val_loss: 0.5236 - val_accuracy: 0.7997\n",
            "Epoch 7/10\n",
            "5329/5329 [==============================] - 14s 3ms/step - loss: 0.4848 - accuracy: 0.8274 - val_loss: 0.4816 - val_accuracy: 0.7991\n",
            "Epoch 8/10\n",
            "5329/5329 [==============================] - 14s 3ms/step - loss: 0.4396 - accuracy: 0.8442 - val_loss: 0.4485 - val_accuracy: 0.8247\n",
            "Epoch 9/10\n",
            "5329/5329 [==============================] - 13s 2ms/step - loss: 0.4049 - accuracy: 0.8518 - val_loss: 0.4287 - val_accuracy: 0.8267\n",
            "Epoch 10/10\n",
            "5329/5329 [==============================] - 14s 3ms/step - loss: 0.3787 - accuracy: 0.8615 - val_loss: 0.4077 - val_accuracy: 0.8313\n"
          ],
          "name": "stdout"
        },
        {
          "output_type": "stream",
          "text": [
            "\n",
            " 59%|█████▉    | 107/180 [1:22:12<1:51:50, 91.92s/it]\u001b[A"
          ],
          "name": "stderr"
        },
        {
          "output_type": "stream",
          "text": [
            "Train on 5329 samples, validate on 1523 samples\n",
            "Epoch 1/10\n",
            "5329/5329 [==============================] - 16s 3ms/step - loss: 0.6837 - accuracy: 0.5740 - val_loss: 0.6846 - val_accuracy: 0.5653\n",
            "Epoch 2/10\n",
            "5329/5329 [==============================] - 15s 3ms/step - loss: 0.6802 - accuracy: 0.5740 - val_loss: 0.6788 - val_accuracy: 0.5653\n",
            "Epoch 3/10\n",
            "5329/5329 [==============================] - 15s 3ms/step - loss: 0.6680 - accuracy: 0.5740 - val_loss: 0.6588 - val_accuracy: 0.5653\n",
            "Epoch 4/10\n",
            "5329/5329 [==============================] - 16s 3ms/step - loss: 0.6760 - accuracy: 0.5491 - val_loss: 0.6832 - val_accuracy: 0.5653\n",
            "Epoch 5/10\n",
            "5329/5329 [==============================] - 15s 3ms/step - loss: 0.6789 - accuracy: 0.5740 - val_loss: 0.6785 - val_accuracy: 0.5653\n",
            "Epoch 6/10\n",
            "5329/5329 [==============================] - 15s 3ms/step - loss: 0.6707 - accuracy: 0.5740 - val_loss: 0.6661 - val_accuracy: 0.5653\n",
            "Epoch 7/10\n",
            "5329/5329 [==============================] - 15s 3ms/step - loss: 0.6800 - accuracy: 0.5740 - val_loss: 0.6780 - val_accuracy: 0.5653\n",
            "Epoch 8/10\n",
            "5329/5329 [==============================] - 15s 3ms/step - loss: 0.6459 - accuracy: 0.6189 - val_loss: 0.6003 - val_accuracy: 0.7544\n",
            "Epoch 9/10\n",
            "5329/5329 [==============================] - 15s 3ms/step - loss: 0.5522 - accuracy: 0.8092 - val_loss: 0.5229 - val_accuracy: 0.8181\n",
            "Epoch 10/10\n",
            "5329/5329 [==============================] - 16s 3ms/step - loss: 0.4754 - accuracy: 0.8514 - val_loss: 0.4670 - val_accuracy: 0.8313\n"
          ],
          "name": "stdout"
        },
        {
          "output_type": "stream",
          "text": [
            "\n",
            " 60%|██████    | 108/180 [1:24:46<2:12:25, 110.35s/it]\u001b[A"
          ],
          "name": "stderr"
        },
        {
          "output_type": "stream",
          "text": [
            "Train on 5329 samples, validate on 1523 samples\n",
            "Epoch 1/1\n",
            "5329/5329 [==============================] - 10s 2ms/step - loss: 0.5928 - accuracy: 0.6829 - val_loss: 0.4734 - val_accuracy: 0.7853\n"
          ],
          "name": "stdout"
        },
        {
          "output_type": "stream",
          "text": [
            "\n",
            " 61%|██████    | 109/180 [1:24:57<1:35:30, 80.71s/it] \u001b[A"
          ],
          "name": "stderr"
        },
        {
          "output_type": "stream",
          "text": [
            "Train on 5329 samples, validate on 1523 samples\n",
            "Epoch 1/1\n",
            "5329/5329 [==============================] - 10s 2ms/step - loss: 0.5778 - accuracy: 0.6919 - val_loss: 0.4360 - val_accuracy: 0.8135\n"
          ],
          "name": "stdout"
        },
        {
          "output_type": "stream",
          "text": [
            "\n",
            " 61%|██████    | 110/180 [1:25:09<1:10:07, 60.10s/it]\u001b[A"
          ],
          "name": "stderr"
        },
        {
          "output_type": "stream",
          "text": [
            "Train on 5329 samples, validate on 1523 samples\n",
            "Epoch 1/1\n",
            "5329/5329 [==============================] - 11s 2ms/step - loss: 0.5699 - accuracy: 0.7073 - val_loss: 0.4430 - val_accuracy: 0.8043\n"
          ],
          "name": "stdout"
        },
        {
          "output_type": "stream",
          "text": [
            "\n",
            " 62%|██████▏   | 111/180 [1:25:22<52:42, 45.84s/it]  \u001b[A"
          ],
          "name": "stderr"
        },
        {
          "output_type": "stream",
          "text": [
            "Train on 5329 samples, validate on 1523 samples\n",
            "Epoch 1/1\n",
            "5329/5329 [==============================] - 13s 2ms/step - loss: 0.5697 - accuracy: 0.6979 - val_loss: 0.4576 - val_accuracy: 0.7997\n"
          ],
          "name": "stdout"
        },
        {
          "output_type": "stream",
          "text": [
            "\n",
            " 62%|██████▏   | 112/180 [1:25:36<41:20, 36.47s/it]\u001b[A"
          ],
          "name": "stderr"
        },
        {
          "output_type": "stream",
          "text": [
            "Train on 5329 samples, validate on 1523 samples\n",
            "Epoch 1/5\n",
            "5329/5329 [==============================] - 10s 2ms/step - loss: 0.5881 - accuracy: 0.6932 - val_loss: 0.4703 - val_accuracy: 0.8168\n",
            "Epoch 2/5\n",
            "5329/5329 [==============================] - 10s 2ms/step - loss: 0.4421 - accuracy: 0.8077 - val_loss: 0.4215 - val_accuracy: 0.8083\n",
            "Epoch 3/5\n",
            "5329/5329 [==============================] - 10s 2ms/step - loss: 0.3813 - accuracy: 0.8394 - val_loss: 0.3636 - val_accuracy: 0.8542\n",
            "Epoch 4/5\n",
            "5329/5329 [==============================] - 10s 2ms/step - loss: 0.3389 - accuracy: 0.8613 - val_loss: 0.3544 - val_accuracy: 0.8490\n",
            "Epoch 5/5\n",
            "5329/5329 [==============================] - 10s 2ms/step - loss: 0.2983 - accuracy: 0.8754 - val_loss: 0.3208 - val_accuracy: 0.8687\n"
          ],
          "name": "stdout"
        },
        {
          "output_type": "stream",
          "text": [
            "\n",
            " 63%|██████▎   | 113/180 [1:26:29<46:13, 41.40s/it]\u001b[A"
          ],
          "name": "stderr"
        },
        {
          "output_type": "stream",
          "text": [
            "Train on 5329 samples, validate on 1523 samples\n",
            "Epoch 1/5\n",
            "5329/5329 [==============================] - 11s 2ms/step - loss: 0.5764 - accuracy: 0.6956 - val_loss: 0.4466 - val_accuracy: 0.8188\n",
            "Epoch 2/5\n",
            "5329/5329 [==============================] - 10s 2ms/step - loss: 0.4350 - accuracy: 0.8116 - val_loss: 0.3833 - val_accuracy: 0.8477\n",
            "Epoch 3/5\n",
            "5329/5329 [==============================] - 10s 2ms/step - loss: 0.3785 - accuracy: 0.8337 - val_loss: 0.3495 - val_accuracy: 0.8588\n",
            "Epoch 4/5\n",
            "5329/5329 [==============================] - 10s 2ms/step - loss: 0.3350 - accuracy: 0.8589 - val_loss: 0.3394 - val_accuracy: 0.8621\n",
            "Epoch 5/5\n",
            "5329/5329 [==============================] - 10s 2ms/step - loss: 0.3032 - accuracy: 0.8731 - val_loss: 0.3506 - val_accuracy: 0.8601\n"
          ],
          "name": "stdout"
        },
        {
          "output_type": "stream",
          "text": [
            "\n",
            " 63%|██████▎   | 114/180 [1:27:23<49:29, 44.99s/it]\u001b[A"
          ],
          "name": "stderr"
        },
        {
          "output_type": "stream",
          "text": [
            "Train on 5329 samples, validate on 1523 samples\n",
            "Epoch 1/5\n",
            "5329/5329 [==============================] - 11s 2ms/step - loss: 0.5790 - accuracy: 0.6979 - val_loss: 0.4369 - val_accuracy: 0.8162\n",
            "Epoch 2/5\n",
            "5329/5329 [==============================] - 11s 2ms/step - loss: 0.4253 - accuracy: 0.8184 - val_loss: 0.4109 - val_accuracy: 0.8201\n",
            "Epoch 3/5\n",
            "5329/5329 [==============================] - 11s 2ms/step - loss: 0.3729 - accuracy: 0.8409 - val_loss: 0.3658 - val_accuracy: 0.8496\n",
            "Epoch 4/5\n",
            "5329/5329 [==============================] - 11s 2ms/step - loss: 0.3400 - accuracy: 0.8596 - val_loss: 0.3395 - val_accuracy: 0.8608\n",
            "Epoch 5/5\n",
            "5329/5329 [==============================] - 12s 2ms/step - loss: 0.2925 - accuracy: 0.8773 - val_loss: 0.3037 - val_accuracy: 0.8720\n"
          ],
          "name": "stdout"
        },
        {
          "output_type": "stream",
          "text": [
            "\n",
            " 64%|██████▍   | 115/180 [1:28:21<53:00, 48.93s/it]\u001b[A"
          ],
          "name": "stderr"
        },
        {
          "output_type": "stream",
          "text": [
            "Train on 5329 samples, validate on 1523 samples\n",
            "Epoch 1/5\n",
            "5329/5329 [==============================] - 13s 2ms/step - loss: 0.5768 - accuracy: 0.7014 - val_loss: 0.4372 - val_accuracy: 0.8070\n",
            "Epoch 2/5\n",
            "5329/5329 [==============================] - 13s 2ms/step - loss: 0.4292 - accuracy: 0.8097 - val_loss: 0.3854 - val_accuracy: 0.8411\n",
            "Epoch 3/5\n",
            "5329/5329 [==============================] - 12s 2ms/step - loss: 0.3771 - accuracy: 0.8371 - val_loss: 0.3574 - val_accuracy: 0.8516\n",
            "Epoch 4/5\n",
            "5329/5329 [==============================] - 13s 2ms/step - loss: 0.3344 - accuracy: 0.8596 - val_loss: 0.3294 - val_accuracy: 0.8615\n",
            "Epoch 5/5\n",
            "5329/5329 [==============================] - 12s 2ms/step - loss: 0.2848 - accuracy: 0.8823 - val_loss: 0.3174 - val_accuracy: 0.8733\n"
          ],
          "name": "stdout"
        },
        {
          "output_type": "stream",
          "text": [
            "\n",
            " 64%|██████▍   | 116/180 [1:29:26<57:15, 53.67s/it]\u001b[A"
          ],
          "name": "stderr"
        },
        {
          "output_type": "stream",
          "text": [
            "Train on 5329 samples, validate on 1523 samples\n",
            "Epoch 1/10\n",
            "5329/5329 [==============================] - 10s 2ms/step - loss: 0.5881 - accuracy: 0.6872 - val_loss: 0.4436 - val_accuracy: 0.8175\n",
            "Epoch 2/10\n",
            "5329/5329 [==============================] - 10s 2ms/step - loss: 0.4395 - accuracy: 0.8062 - val_loss: 0.4077 - val_accuracy: 0.8444\n",
            "Epoch 3/10\n",
            "5329/5329 [==============================] - 9s 2ms/step - loss: 0.3758 - accuracy: 0.8345 - val_loss: 0.3763 - val_accuracy: 0.8437\n",
            "Epoch 4/10\n",
            "5329/5329 [==============================] - 9s 2ms/step - loss: 0.3407 - accuracy: 0.8540 - val_loss: 0.3284 - val_accuracy: 0.8647\n",
            "Epoch 5/10\n",
            "5329/5329 [==============================] - 10s 2ms/step - loss: 0.2956 - accuracy: 0.8786 - val_loss: 0.3046 - val_accuracy: 0.8693\n",
            "Epoch 6/10\n",
            "5329/5329 [==============================] - 10s 2ms/step - loss: 0.2554 - accuracy: 0.8942 - val_loss: 0.2884 - val_accuracy: 0.8838\n",
            "Epoch 7/10\n",
            "5329/5329 [==============================] - 9s 2ms/step - loss: 0.2232 - accuracy: 0.9131 - val_loss: 0.2747 - val_accuracy: 0.8956\n",
            "Epoch 8/10\n",
            "5329/5329 [==============================] - 10s 2ms/step - loss: 0.1771 - accuracy: 0.9289 - val_loss: 0.2797 - val_accuracy: 0.8989\n",
            "Epoch 9/10\n",
            "5329/5329 [==============================] - 11s 2ms/step - loss: 0.1573 - accuracy: 0.9443 - val_loss: 0.2886 - val_accuracy: 0.8956\n",
            "Epoch 10/10\n",
            "5329/5329 [==============================] - 9s 2ms/step - loss: 0.1371 - accuracy: 0.9499 - val_loss: 0.2661 - val_accuracy: 0.9087\n"
          ],
          "name": "stdout"
        },
        {
          "output_type": "stream",
          "text": [
            "\n",
            " 65%|██████▌   | 117/180 [1:31:05<1:10:37, 67.26s/it]\u001b[A"
          ],
          "name": "stderr"
        },
        {
          "output_type": "stream",
          "text": [
            "Train on 5329 samples, validate on 1523 samples\n",
            "Epoch 1/10\n",
            "5329/5329 [==============================] - 10s 2ms/step - loss: 0.5962 - accuracy: 0.6847 - val_loss: 0.4711 - val_accuracy: 0.7800\n",
            "Epoch 2/10\n",
            "5329/5329 [==============================] - 9s 2ms/step - loss: 0.4357 - accuracy: 0.8041 - val_loss: 0.3869 - val_accuracy: 0.8437\n",
            "Epoch 3/10\n",
            "5329/5329 [==============================] - 9s 2ms/step - loss: 0.3790 - accuracy: 0.8369 - val_loss: 0.3628 - val_accuracy: 0.8588\n",
            "Epoch 4/10\n",
            "5329/5329 [==============================] - 9s 2ms/step - loss: 0.3378 - accuracy: 0.8519 - val_loss: 0.3364 - val_accuracy: 0.8621\n",
            "Epoch 5/10\n",
            "5329/5329 [==============================] - 10s 2ms/step - loss: 0.3038 - accuracy: 0.8726 - val_loss: 0.4019 - val_accuracy: 0.8313\n",
            "Epoch 6/10\n",
            "5329/5329 [==============================] - 10s 2ms/step - loss: 0.2707 - accuracy: 0.8887 - val_loss: 0.2906 - val_accuracy: 0.8759\n",
            "Epoch 7/10\n",
            "5329/5329 [==============================] - 10s 2ms/step - loss: 0.2232 - accuracy: 0.9084 - val_loss: 0.3001 - val_accuracy: 0.8858\n",
            "Epoch 8/10\n",
            "5329/5329 [==============================] - 10s 2ms/step - loss: 0.1916 - accuracy: 0.9281 - val_loss: 0.2675 - val_accuracy: 0.8897\n",
            "Epoch 9/10\n",
            "5329/5329 [==============================] - 9s 2ms/step - loss: 0.1614 - accuracy: 0.9411 - val_loss: 0.2972 - val_accuracy: 0.9107\n",
            "Epoch 10/10\n",
            "5329/5329 [==============================] - 10s 2ms/step - loss: 0.1406 - accuracy: 0.9493 - val_loss: 0.2836 - val_accuracy: 0.9022\n"
          ],
          "name": "stdout"
        },
        {
          "output_type": "stream",
          "text": [
            "\n",
            " 66%|██████▌   | 118/180 [1:32:43<1:19:08, 76.60s/it]\u001b[A"
          ],
          "name": "stderr"
        },
        {
          "output_type": "stream",
          "text": [
            "Train on 5329 samples, validate on 1523 samples\n",
            "Epoch 1/10\n",
            "5329/5329 [==============================] - 11s 2ms/step - loss: 0.5780 - accuracy: 0.6904 - val_loss: 0.4225 - val_accuracy: 0.8221\n",
            "Epoch 2/10\n",
            "5329/5329 [==============================] - 10s 2ms/step - loss: 0.4302 - accuracy: 0.8092 - val_loss: 0.3808 - val_accuracy: 0.8359\n",
            "Epoch 3/10\n",
            "5329/5329 [==============================] - 12s 2ms/step - loss: 0.3782 - accuracy: 0.8369 - val_loss: 0.3649 - val_accuracy: 0.8575\n",
            "Epoch 4/10\n",
            "5329/5329 [==============================] - 11s 2ms/step - loss: 0.3384 - accuracy: 0.8544 - val_loss: 0.3295 - val_accuracy: 0.8647\n",
            "Epoch 5/10\n",
            "5329/5329 [==============================] - 10s 2ms/step - loss: 0.2985 - accuracy: 0.8730 - val_loss: 0.3045 - val_accuracy: 0.8746\n",
            "Epoch 6/10\n",
            "5329/5329 [==============================] - 11s 2ms/step - loss: 0.2478 - accuracy: 0.8983 - val_loss: 0.2874 - val_accuracy: 0.8871\n",
            "Epoch 7/10\n",
            "5329/5329 [==============================] - 11s 2ms/step - loss: 0.2036 - accuracy: 0.9161 - val_loss: 0.2788 - val_accuracy: 0.8897\n",
            "Epoch 8/10\n",
            "5329/5329 [==============================] - 11s 2ms/step - loss: 0.1700 - accuracy: 0.9317 - val_loss: 0.2897 - val_accuracy: 0.8989\n",
            "Epoch 9/10\n",
            "5329/5329 [==============================] - 12s 2ms/step - loss: 0.1412 - accuracy: 0.9465 - val_loss: 0.3150 - val_accuracy: 0.8989\n",
            "Epoch 10/10\n",
            "5329/5329 [==============================] - 12s 2ms/step - loss: 0.1204 - accuracy: 0.9552 - val_loss: 0.3235 - val_accuracy: 0.9054\n"
          ],
          "name": "stdout"
        },
        {
          "output_type": "stream",
          "text": [
            "\n",
            " 66%|██████▌   | 119/180 [1:34:37<1:29:23, 87.92s/it]\u001b[A"
          ],
          "name": "stderr"
        },
        {
          "output_type": "stream",
          "text": [
            "Train on 5329 samples, validate on 1523 samples\n",
            "Epoch 1/10\n",
            "5329/5329 [==============================] - 13s 3ms/step - loss: 0.5807 - accuracy: 0.6894 - val_loss: 0.4653 - val_accuracy: 0.7938\n",
            "Epoch 2/10\n",
            "5329/5329 [==============================] - 13s 2ms/step - loss: 0.4272 - accuracy: 0.8152 - val_loss: 0.4177 - val_accuracy: 0.8102\n",
            "Epoch 3/10\n",
            "5329/5329 [==============================] - 13s 2ms/step - loss: 0.3783 - accuracy: 0.8418 - val_loss: 0.4436 - val_accuracy: 0.8299\n",
            "Epoch 4/10\n",
            "5329/5329 [==============================] - 14s 3ms/step - loss: 0.3243 - accuracy: 0.8621 - val_loss: 0.3357 - val_accuracy: 0.8615\n",
            "Epoch 5/10\n",
            "5329/5329 [==============================] - 13s 2ms/step - loss: 0.2771 - accuracy: 0.8816 - val_loss: 0.3012 - val_accuracy: 0.8779\n",
            "Epoch 6/10\n",
            "5329/5329 [==============================] - 14s 3ms/step - loss: 0.2344 - accuracy: 0.9045 - val_loss: 0.3135 - val_accuracy: 0.8812\n",
            "Epoch 7/10\n",
            "5329/5329 [==============================] - 13s 2ms/step - loss: 0.2002 - accuracy: 0.9229 - val_loss: 0.2868 - val_accuracy: 0.8917\n",
            "Epoch 8/10\n",
            "5329/5329 [==============================] - 14s 3ms/step - loss: 0.1741 - accuracy: 0.9338 - val_loss: 0.3049 - val_accuracy: 0.9002\n",
            "Epoch 9/10\n",
            "5329/5329 [==============================] - 12s 2ms/step - loss: 0.1448 - accuracy: 0.9471 - val_loss: 0.3172 - val_accuracy: 0.9015\n",
            "Epoch 10/10\n",
            "5329/5329 [==============================] - 13s 2ms/step - loss: 0.1264 - accuracy: 0.9533 - val_loss: 0.3052 - val_accuracy: 0.9068\n"
          ],
          "name": "stdout"
        },
        {
          "output_type": "stream",
          "text": [
            "\n",
            " 67%|██████▋   | 120/180 [1:36:51<1:41:48, 101.81s/it]\u001b[A"
          ],
          "name": "stderr"
        },
        {
          "output_type": "stream",
          "text": [
            "Train on 5329 samples, validate on 1523 samples\n",
            "Epoch 1/1\n",
            "5329/5329 [==============================] - 3s 597us/step - loss: 0.6774 - accuracy: 0.5744 - val_loss: 0.6710 - val_accuracy: 0.5653\n"
          ],
          "name": "stdout"
        },
        {
          "output_type": "stream",
          "text": [
            "\n",
            " 67%|██████▋   | 121/180 [1:36:56<1:11:28, 72.68s/it] \u001b[A"
          ],
          "name": "stderr"
        },
        {
          "output_type": "stream",
          "text": [
            "Train on 5329 samples, validate on 1523 samples\n",
            "Epoch 1/1\n",
            "5329/5329 [==============================] - 3s 576us/step - loss: 0.6787 - accuracy: 0.5695 - val_loss: 0.6682 - val_accuracy: 0.5653\n"
          ],
          "name": "stdout"
        },
        {
          "output_type": "stream",
          "text": [
            "\n",
            " 68%|██████▊   | 122/180 [1:37:01<50:31, 52.27s/it]  \u001b[A"
          ],
          "name": "stderr"
        },
        {
          "output_type": "stream",
          "text": [
            "Train on 5329 samples, validate on 1523 samples\n",
            "Epoch 1/1\n",
            "5329/5329 [==============================] - 4s 763us/step - loss: 0.6843 - accuracy: 0.5707 - val_loss: 0.6818 - val_accuracy: 0.5653\n"
          ],
          "name": "stdout"
        },
        {
          "output_type": "stream",
          "text": [
            "\n",
            " 68%|██████▊   | 123/180 [1:37:06<36:20, 38.25s/it]\u001b[A"
          ],
          "name": "stderr"
        },
        {
          "output_type": "stream",
          "text": [
            "Train on 5329 samples, validate on 1523 samples\n",
            "Epoch 1/1\n",
            "5329/5329 [==============================] - 6s 1ms/step - loss: 0.6793 - accuracy: 0.5731 - val_loss: 0.6589 - val_accuracy: 0.5877\n"
          ],
          "name": "stdout"
        },
        {
          "output_type": "stream",
          "text": [
            "\n",
            " 69%|██████▉   | 124/180 [1:37:14<27:09, 29.10s/it]\u001b[A"
          ],
          "name": "stderr"
        },
        {
          "output_type": "stream",
          "text": [
            "Train on 5329 samples, validate on 1523 samples\n",
            "Epoch 1/5\n",
            "5329/5329 [==============================] - 3s 627us/step - loss: 0.6794 - accuracy: 0.5740 - val_loss: 0.6731 - val_accuracy: 0.5653\n",
            "Epoch 2/5\n",
            "5329/5329 [==============================] - 3s 611us/step - loss: 0.6292 - accuracy: 0.6480 - val_loss: 0.5793 - val_accuracy: 0.6868\n",
            "Epoch 3/5\n",
            "5329/5329 [==============================] - 3s 577us/step - loss: 0.5016 - accuracy: 0.7829 - val_loss: 0.4506 - val_accuracy: 0.8116\n",
            "Epoch 4/5\n",
            "5329/5329 [==============================] - 3s 563us/step - loss: 0.4291 - accuracy: 0.8167 - val_loss: 0.4093 - val_accuracy: 0.8286\n",
            "Epoch 5/5\n",
            "5329/5329 [==============================] - 3s 529us/step - loss: 0.3842 - accuracy: 0.8454 - val_loss: 0.4125 - val_accuracy: 0.8273\n"
          ],
          "name": "stdout"
        },
        {
          "output_type": "stream",
          "text": [
            "\n",
            " 69%|██████▉   | 125/180 [1:37:31<23:23, 25.52s/it]\u001b[A"
          ],
          "name": "stderr"
        },
        {
          "output_type": "stream",
          "text": [
            "Train on 5329 samples, validate on 1523 samples\n",
            "Epoch 1/5\n",
            "5329/5329 [==============================] - 3s 645us/step - loss: 0.6797 - accuracy: 0.5768 - val_loss: 0.6717 - val_accuracy: 0.5653\n",
            "Epoch 2/5\n",
            "5329/5329 [==============================] - 3s 522us/step - loss: 0.6209 - accuracy: 0.6497 - val_loss: 0.5317 - val_accuracy: 0.7584\n",
            "Epoch 3/5\n",
            "5329/5329 [==============================] - 3s 516us/step - loss: 0.4683 - accuracy: 0.7962 - val_loss: 0.4296 - val_accuracy: 0.8175\n",
            "Epoch 4/5\n",
            "5329/5329 [==============================] - 3s 564us/step - loss: 0.3948 - accuracy: 0.8386 - val_loss: 0.4003 - val_accuracy: 0.8332\n",
            "Epoch 5/5\n",
            "5329/5329 [==============================] - 3s 560us/step - loss: 0.3601 - accuracy: 0.8484 - val_loss: 0.3957 - val_accuracy: 0.8365\n"
          ],
          "name": "stdout"
        },
        {
          "output_type": "stream",
          "text": [
            "\n",
            " 70%|███████   | 126/180 [1:37:48<20:32, 22.83s/it]\u001b[A"
          ],
          "name": "stderr"
        },
        {
          "output_type": "stream",
          "text": [
            "Train on 5329 samples, validate on 1523 samples\n",
            "Epoch 1/5\n",
            "5329/5329 [==============================] - 4s 804us/step - loss: 0.6808 - accuracy: 0.5768 - val_loss: 0.6825 - val_accuracy: 0.5653\n",
            "Epoch 2/5\n",
            "5329/5329 [==============================] - 4s 712us/step - loss: 0.6030 - accuracy: 0.6740 - val_loss: 0.4808 - val_accuracy: 0.7748\n",
            "Epoch 3/5\n",
            "5329/5329 [==============================] - 4s 724us/step - loss: 0.4401 - accuracy: 0.8041 - val_loss: 0.4232 - val_accuracy: 0.8168\n",
            "Epoch 4/5\n",
            "5329/5329 [==============================] - 4s 723us/step - loss: 0.3814 - accuracy: 0.8433 - val_loss: 0.3965 - val_accuracy: 0.8293\n",
            "Epoch 5/5\n",
            "5329/5329 [==============================] - 4s 692us/step - loss: 0.3451 - accuracy: 0.8553 - val_loss: 0.3593 - val_accuracy: 0.8536\n"
          ],
          "name": "stdout"
        },
        {
          "output_type": "stream",
          "text": [
            "\n",
            " 71%|███████   | 127/180 [1:38:09<19:42, 22.31s/it]\u001b[A"
          ],
          "name": "stderr"
        },
        {
          "output_type": "stream",
          "text": [
            "Train on 5329 samples, validate on 1523 samples\n",
            "Epoch 1/5\n",
            "5329/5329 [==============================] - 6s 1ms/step - loss: 0.6782 - accuracy: 0.5707 - val_loss: 0.6558 - val_accuracy: 0.6041\n",
            "Epoch 2/5\n",
            "5329/5329 [==============================] - 6s 1ms/step - loss: 0.5405 - accuracy: 0.7335 - val_loss: 0.4407 - val_accuracy: 0.8056\n",
            "Epoch 3/5\n",
            "5329/5329 [==============================] - 5s 1ms/step - loss: 0.4080 - accuracy: 0.8238 - val_loss: 0.3866 - val_accuracy: 0.8411\n",
            "Epoch 4/5\n",
            "5329/5329 [==============================] - 5s 1ms/step - loss: 0.3715 - accuracy: 0.8379 - val_loss: 0.4141 - val_accuracy: 0.8155\n",
            "Epoch 5/5\n",
            "5329/5329 [==============================] - 5s 1ms/step - loss: 0.3392 - accuracy: 0.8519 - val_loss: 0.3495 - val_accuracy: 0.8575\n"
          ],
          "name": "stdout"
        },
        {
          "output_type": "stream",
          "text": [
            "\n",
            " 71%|███████   | 128/180 [1:38:38<21:12, 24.48s/it]\u001b[A"
          ],
          "name": "stderr"
        },
        {
          "output_type": "stream",
          "text": [
            "Train on 5329 samples, validate on 1523 samples\n",
            "Epoch 1/10\n",
            "5329/5329 [==============================] - 3s 562us/step - loss: 0.6785 - accuracy: 0.5699 - val_loss: 0.6698 - val_accuracy: 0.5653\n",
            "Epoch 2/10\n",
            "5329/5329 [==============================] - 3s 519us/step - loss: 0.6282 - accuracy: 0.6515 - val_loss: 0.5709 - val_accuracy: 0.7380\n",
            "Epoch 3/10\n",
            "5329/5329 [==============================] - 3s 514us/step - loss: 0.5067 - accuracy: 0.7767 - val_loss: 0.4785 - val_accuracy: 0.7735\n",
            "Epoch 4/10\n",
            "5329/5329 [==============================] - 3s 471us/step - loss: 0.4195 - accuracy: 0.8251 - val_loss: 0.4023 - val_accuracy: 0.8326\n",
            "Epoch 5/10\n",
            "5329/5329 [==============================] - 3s 535us/step - loss: 0.3803 - accuracy: 0.8429 - val_loss: 0.3879 - val_accuracy: 0.8418\n",
            "Epoch 6/10\n",
            "5329/5329 [==============================] - 3s 581us/step - loss: 0.3448 - accuracy: 0.8546 - val_loss: 0.3905 - val_accuracy: 0.8359\n",
            "Epoch 7/10\n",
            "5329/5329 [==============================] - 3s 535us/step - loss: 0.3339 - accuracy: 0.8623 - val_loss: 0.3882 - val_accuracy: 0.8391\n",
            "Epoch 8/10\n",
            "5329/5329 [==============================] - 3s 533us/step - loss: 0.3162 - accuracy: 0.8698 - val_loss: 0.3508 - val_accuracy: 0.8529\n",
            "Epoch 9/10\n",
            "5329/5329 [==============================] - 3s 516us/step - loss: 0.3012 - accuracy: 0.8730 - val_loss: 0.3462 - val_accuracy: 0.8542\n",
            "Epoch 10/10\n",
            "5329/5329 [==============================] - 3s 481us/step - loss: 0.2924 - accuracy: 0.8795 - val_loss: 0.3460 - val_accuracy: 0.8549\n"
          ],
          "name": "stdout"
        },
        {
          "output_type": "stream",
          "text": [
            "\n",
            " 72%|███████▏  | 129/180 [1:39:08<22:06, 26.00s/it]\u001b[A"
          ],
          "name": "stderr"
        },
        {
          "output_type": "stream",
          "text": [
            "Train on 5329 samples, validate on 1523 samples\n",
            "Epoch 1/10\n",
            "5329/5329 [==============================] - 3s 537us/step - loss: 0.6792 - accuracy: 0.5740 - val_loss: 0.6720 - val_accuracy: 0.5653\n",
            "Epoch 2/10\n",
            "5329/5329 [==============================] - 3s 487us/step - loss: 0.6147 - accuracy: 0.6714 - val_loss: 0.5122 - val_accuracy: 0.7722\n",
            "Epoch 3/10\n",
            "5329/5329 [==============================] - 3s 495us/step - loss: 0.4576 - accuracy: 0.8037 - val_loss: 0.4428 - val_accuracy: 0.8043\n",
            "Epoch 4/10\n",
            "5329/5329 [==============================] - 3s 490us/step - loss: 0.3923 - accuracy: 0.8367 - val_loss: 0.3831 - val_accuracy: 0.8404\n",
            "Epoch 5/10\n",
            "5329/5329 [==============================] - 3s 483us/step - loss: 0.3569 - accuracy: 0.8529 - val_loss: 0.3712 - val_accuracy: 0.8483\n",
            "Epoch 6/10\n",
            "5329/5329 [==============================] - 3s 521us/step - loss: 0.3387 - accuracy: 0.8593 - val_loss: 0.3575 - val_accuracy: 0.8503\n",
            "Epoch 7/10\n",
            "5329/5329 [==============================] - 3s 493us/step - loss: 0.3039 - accuracy: 0.8722 - val_loss: 0.3507 - val_accuracy: 0.8608\n",
            "Epoch 8/10\n",
            "5329/5329 [==============================] - 3s 485us/step - loss: 0.2904 - accuracy: 0.8795 - val_loss: 0.3357 - val_accuracy: 0.8680\n",
            "Epoch 9/10\n",
            "5329/5329 [==============================] - 3s 522us/step - loss: 0.2898 - accuracy: 0.8745 - val_loss: 0.3381 - val_accuracy: 0.8582\n",
            "Epoch 10/10\n",
            "5329/5329 [==============================] - 3s 484us/step - loss: 0.2776 - accuracy: 0.8840 - val_loss: 0.3277 - val_accuracy: 0.8680\n"
          ],
          "name": "stdout"
        },
        {
          "output_type": "stream",
          "text": [
            "\n",
            " 72%|███████▏  | 130/180 [1:39:36<22:11, 26.63s/it]\u001b[A"
          ],
          "name": "stderr"
        },
        {
          "output_type": "stream",
          "text": [
            "Train on 5329 samples, validate on 1523 samples\n",
            "Epoch 1/10\n",
            "5329/5329 [==============================] - 4s 744us/step - loss: 0.6767 - accuracy: 0.5742 - val_loss: 0.6670 - val_accuracy: 0.5653\n",
            "Epoch 2/10\n",
            "5329/5329 [==============================] - 4s 695us/step - loss: 0.5750 - accuracy: 0.7148 - val_loss: 0.4630 - val_accuracy: 0.7859\n",
            "Epoch 3/10\n",
            "5329/5329 [==============================] - 4s 680us/step - loss: 0.4273 - accuracy: 0.8163 - val_loss: 0.3988 - val_accuracy: 0.8313\n",
            "Epoch 4/10\n",
            "5329/5329 [==============================] - 4s 671us/step - loss: 0.3696 - accuracy: 0.8469 - val_loss: 0.3686 - val_accuracy: 0.8523\n",
            "Epoch 5/10\n",
            "5329/5329 [==============================] - 4s 680us/step - loss: 0.3372 - accuracy: 0.8576 - val_loss: 0.3816 - val_accuracy: 0.8444\n",
            "Epoch 6/10\n",
            "5329/5329 [==============================] - 4s 716us/step - loss: 0.3215 - accuracy: 0.8636 - val_loss: 0.3564 - val_accuracy: 0.8575\n",
            "Epoch 7/10\n",
            "5329/5329 [==============================] - 4s 731us/step - loss: 0.2934 - accuracy: 0.8763 - val_loss: 0.3376 - val_accuracy: 0.8601\n",
            "Epoch 8/10\n",
            "5329/5329 [==============================] - 4s 671us/step - loss: 0.2825 - accuracy: 0.8825 - val_loss: 0.3476 - val_accuracy: 0.8641\n",
            "Epoch 9/10\n",
            "5329/5329 [==============================] - 4s 706us/step - loss: 0.2783 - accuracy: 0.8790 - val_loss: 0.4354 - val_accuracy: 0.7899\n",
            "Epoch 10/10\n",
            "5329/5329 [==============================] - 4s 674us/step - loss: 0.2651 - accuracy: 0.8872 - val_loss: 0.3309 - val_accuracy: 0.8647\n"
          ],
          "name": "stdout"
        },
        {
          "output_type": "stream",
          "text": [
            "\n",
            " 73%|███████▎  | 131/180 [1:40:15<24:41, 30.23s/it]\u001b[A"
          ],
          "name": "stderr"
        },
        {
          "output_type": "stream",
          "text": [
            "Train on 5329 samples, validate on 1523 samples\n",
            "Epoch 1/10\n",
            "5329/5329 [==============================] - 6s 1ms/step - loss: 0.6753 - accuracy: 0.5783 - val_loss: 0.6422 - val_accuracy: 0.6362\n",
            "Epoch 2/10\n",
            "5329/5329 [==============================] - 5s 1ms/step - loss: 0.5266 - accuracy: 0.7514 - val_loss: 0.4437 - val_accuracy: 0.7984\n",
            "Epoch 3/10\n",
            "5329/5329 [==============================] - 5s 1ms/step - loss: 0.4002 - accuracy: 0.8290 - val_loss: 0.3803 - val_accuracy: 0.8431\n",
            "Epoch 4/10\n",
            "5329/5329 [==============================] - 6s 1ms/step - loss: 0.3522 - accuracy: 0.8525 - val_loss: 0.3590 - val_accuracy: 0.8490\n",
            "Epoch 5/10\n",
            "5329/5329 [==============================] - 6s 1ms/step - loss: 0.3255 - accuracy: 0.8621 - val_loss: 0.3498 - val_accuracy: 0.8615\n",
            "Epoch 6/10\n",
            "5329/5329 [==============================] - 6s 1ms/step - loss: 0.3121 - accuracy: 0.8705 - val_loss: 0.3367 - val_accuracy: 0.8634\n",
            "Epoch 7/10\n",
            "5329/5329 [==============================] - 7s 1ms/step - loss: 0.2848 - accuracy: 0.8771 - val_loss: 0.3724 - val_accuracy: 0.8555\n",
            "Epoch 8/10\n",
            "5329/5329 [==============================] - 6s 1ms/step - loss: 0.3124 - accuracy: 0.8638 - val_loss: 0.3473 - val_accuracy: 0.8582\n",
            "Epoch 9/10\n",
            "5329/5329 [==============================] - 6s 1ms/step - loss: 0.2826 - accuracy: 0.8825 - val_loss: 0.4296 - val_accuracy: 0.7997\n",
            "Epoch 10/10\n",
            "5329/5329 [==============================] - 6s 1ms/step - loss: 0.2780 - accuracy: 0.8777 - val_loss: 0.3602 - val_accuracy: 0.8588\n"
          ],
          "name": "stdout"
        },
        {
          "output_type": "stream",
          "text": [
            "\n",
            " 73%|███████▎  | 132/180 [1:41:14<31:12, 39.01s/it]\u001b[A"
          ],
          "name": "stderr"
        },
        {
          "output_type": "stream",
          "text": [
            "Train on 5329 samples, validate on 1523 samples\n",
            "Epoch 1/1\n",
            "5329/5329 [==============================] - 11s 2ms/step - loss: 0.5919 - accuracy: 0.6853 - val_loss: 0.5040 - val_accuracy: 0.7590\n"
          ],
          "name": "stdout"
        },
        {
          "output_type": "stream",
          "text": [
            "\n",
            " 74%|███████▍  | 133/180 [1:41:27<24:19, 31.06s/it]\u001b[A"
          ],
          "name": "stderr"
        },
        {
          "output_type": "stream",
          "text": [
            "Train on 5329 samples, validate on 1523 samples\n",
            "Epoch 1/1\n",
            "5329/5329 [==============================] - 11s 2ms/step - loss: 0.5877 - accuracy: 0.6879 - val_loss: 0.4580 - val_accuracy: 0.8116\n"
          ],
          "name": "stdout"
        },
        {
          "output_type": "stream",
          "text": [
            "\n",
            " 74%|███████▍  | 134/180 [1:41:39<19:28, 25.41s/it]\u001b[A"
          ],
          "name": "stderr"
        },
        {
          "output_type": "stream",
          "text": [
            "Train on 5329 samples, validate on 1523 samples\n",
            "Epoch 1/1\n",
            "5329/5329 [==============================] - 12s 2ms/step - loss: 0.5757 - accuracy: 0.6889 - val_loss: 0.4540 - val_accuracy: 0.8201\n"
          ],
          "name": "stdout"
        },
        {
          "output_type": "stream",
          "text": [
            "\n",
            " 75%|███████▌  | 135/180 [1:41:52<16:20, 21.78s/it]\u001b[A"
          ],
          "name": "stderr"
        },
        {
          "output_type": "stream",
          "text": [
            "Train on 5329 samples, validate on 1523 samples\n",
            "Epoch 1/1\n",
            "5329/5329 [==============================] - 13s 2ms/step - loss: 0.5851 - accuracy: 0.6934 - val_loss: 0.4560 - val_accuracy: 0.8122\n"
          ],
          "name": "stdout"
        },
        {
          "output_type": "stream",
          "text": [
            "\n",
            " 76%|███████▌  | 136/180 [1:42:07<14:27, 19.72s/it]\u001b[A"
          ],
          "name": "stderr"
        },
        {
          "output_type": "stream",
          "text": [
            "Train on 5329 samples, validate on 1523 samples\n",
            "Epoch 1/5\n",
            "5329/5329 [==============================] - 10s 2ms/step - loss: 0.5962 - accuracy: 0.6806 - val_loss: 0.4507 - val_accuracy: 0.8083\n",
            "Epoch 2/5\n",
            "5329/5329 [==============================] - 11s 2ms/step - loss: 0.4373 - accuracy: 0.8067 - val_loss: 0.3889 - val_accuracy: 0.8444\n",
            "Epoch 3/5\n",
            "5329/5329 [==============================] - 11s 2ms/step - loss: 0.3759 - accuracy: 0.8390 - val_loss: 0.3606 - val_accuracy: 0.8444\n",
            "Epoch 4/5\n",
            "5329/5329 [==============================] - 11s 2ms/step - loss: 0.3303 - accuracy: 0.8604 - val_loss: 0.3221 - val_accuracy: 0.8779\n",
            "Epoch 5/5\n",
            "5329/5329 [==============================] - 11s 2ms/step - loss: 0.2942 - accuracy: 0.8750 - val_loss: 0.3015 - val_accuracy: 0.8733\n"
          ],
          "name": "stdout"
        },
        {
          "output_type": "stream",
          "text": [
            "\n",
            " 76%|███████▌  | 137/180 [1:43:04<22:05, 30.82s/it]\u001b[A"
          ],
          "name": "stderr"
        },
        {
          "output_type": "stream",
          "text": [
            "Train on 5329 samples, validate on 1523 samples\n",
            "Epoch 1/5\n",
            "5329/5329 [==============================] - 10s 2ms/step - loss: 0.5907 - accuracy: 0.6838 - val_loss: 0.4482 - val_accuracy: 0.8116\n",
            "Epoch 2/5\n",
            "5329/5329 [==============================] - 10s 2ms/step - loss: 0.4320 - accuracy: 0.8137 - val_loss: 0.5231 - val_accuracy: 0.7085\n",
            "Epoch 3/5\n",
            "5329/5329 [==============================] - 11s 2ms/step - loss: 0.3804 - accuracy: 0.8366 - val_loss: 0.3519 - val_accuracy: 0.8601\n",
            "Epoch 4/5\n",
            "5329/5329 [==============================] - 10s 2ms/step - loss: 0.3384 - accuracy: 0.8553 - val_loss: 0.3359 - val_accuracy: 0.8615\n",
            "Epoch 5/5\n",
            "5329/5329 [==============================] - 10s 2ms/step - loss: 0.2936 - accuracy: 0.8745 - val_loss: 0.3027 - val_accuracy: 0.8766\n"
          ],
          "name": "stdout"
        },
        {
          "output_type": "stream",
          "text": [
            "\n",
            " 77%|███████▋  | 138/180 [1:43:57<26:09, 37.37s/it]\u001b[A"
          ],
          "name": "stderr"
        },
        {
          "output_type": "stream",
          "text": [
            "Train on 5329 samples, validate on 1523 samples\n",
            "Epoch 1/5\n",
            "5329/5329 [==============================] - 12s 2ms/step - loss: 0.5818 - accuracy: 0.6909 - val_loss: 0.4506 - val_accuracy: 0.8109\n",
            "Epoch 2/5\n",
            "5329/5329 [==============================] - 11s 2ms/step - loss: 0.4286 - accuracy: 0.8153 - val_loss: 0.4080 - val_accuracy: 0.8345\n",
            "Epoch 3/5\n",
            "5329/5329 [==============================] - 12s 2ms/step - loss: 0.3751 - accuracy: 0.8420 - val_loss: 0.3504 - val_accuracy: 0.8601\n",
            "Epoch 4/5\n",
            "5329/5329 [==============================] - 11s 2ms/step - loss: 0.3417 - accuracy: 0.8514 - val_loss: 0.3375 - val_accuracy: 0.8674\n",
            "Epoch 5/5\n",
            "5329/5329 [==============================] - 12s 2ms/step - loss: 0.2932 - accuracy: 0.8750 - val_loss: 0.3161 - val_accuracy: 0.8555\n"
          ],
          "name": "stdout"
        },
        {
          "output_type": "stream",
          "text": [
            "\n",
            " 77%|███████▋  | 139/180 [1:44:56<30:00, 43.91s/it]\u001b[A"
          ],
          "name": "stderr"
        },
        {
          "output_type": "stream",
          "text": [
            "Train on 5329 samples, validate on 1523 samples\n",
            "Epoch 1/5\n",
            "5329/5329 [==============================] - 13s 2ms/step - loss: 0.5820 - accuracy: 0.6879 - val_loss: 0.4711 - val_accuracy: 0.7991\n",
            "Epoch 2/5\n",
            "5329/5329 [==============================] - 13s 2ms/step - loss: 0.4301 - accuracy: 0.8142 - val_loss: 0.3816 - val_accuracy: 0.8457\n",
            "Epoch 3/5\n",
            "5329/5329 [==============================] - 13s 2ms/step - loss: 0.3746 - accuracy: 0.8409 - val_loss: 0.3584 - val_accuracy: 0.8490\n",
            "Epoch 4/5\n",
            "5329/5329 [==============================] - 12s 2ms/step - loss: 0.3307 - accuracy: 0.8594 - val_loss: 0.3242 - val_accuracy: 0.8680\n",
            "Epoch 5/5\n",
            "5329/5329 [==============================] - 13s 2ms/step - loss: 0.2758 - accuracy: 0.8842 - val_loss: 0.2992 - val_accuracy: 0.8752\n"
          ],
          "name": "stdout"
        },
        {
          "output_type": "stream",
          "text": [
            "\n",
            " 78%|███████▊  | 140/180 [1:46:01<33:37, 50.43s/it]\u001b[A"
          ],
          "name": "stderr"
        },
        {
          "output_type": "stream",
          "text": [
            "Train on 5329 samples, validate on 1523 samples\n",
            "Epoch 1/10\n",
            "5329/5329 [==============================] - 11s 2ms/step - loss: 0.5804 - accuracy: 0.6885 - val_loss: 0.4608 - val_accuracy: 0.8083\n",
            "Epoch 2/10\n",
            "5329/5329 [==============================] - 10s 2ms/step - loss: 0.4299 - accuracy: 0.8199 - val_loss: 0.3921 - val_accuracy: 0.8411\n",
            "Epoch 3/10\n",
            "5329/5329 [==============================] - 10s 2ms/step - loss: 0.3765 - accuracy: 0.8364 - val_loss: 0.3542 - val_accuracy: 0.8628\n",
            "Epoch 4/10\n",
            "5329/5329 [==============================] - 11s 2ms/step - loss: 0.3311 - accuracy: 0.8649 - val_loss: 0.3416 - val_accuracy: 0.8634\n",
            "Epoch 5/10\n",
            "5329/5329 [==============================] - 10s 2ms/step - loss: 0.2883 - accuracy: 0.8848 - val_loss: 0.3143 - val_accuracy: 0.8726\n",
            "Epoch 6/10\n",
            "5329/5329 [==============================] - 10s 2ms/step - loss: 0.2487 - accuracy: 0.8987 - val_loss: 0.3758 - val_accuracy: 0.8575\n",
            "Epoch 7/10\n",
            "5329/5329 [==============================] - 10s 2ms/step - loss: 0.2135 - accuracy: 0.9152 - val_loss: 0.3153 - val_accuracy: 0.8700\n",
            "Epoch 8/10\n",
            "5329/5329 [==============================] - 10s 2ms/step - loss: 0.1881 - accuracy: 0.9298 - val_loss: 0.2696 - val_accuracy: 0.9009\n",
            "Epoch 9/10\n",
            "5329/5329 [==============================] - 9s 2ms/step - loss: 0.1577 - accuracy: 0.9415 - val_loss: 0.2791 - val_accuracy: 0.9002\n",
            "Epoch 10/10\n",
            "5329/5329 [==============================] - 10s 2ms/step - loss: 0.1358 - accuracy: 0.9535 - val_loss: 0.3185 - val_accuracy: 0.9015\n"
          ],
          "name": "stdout"
        },
        {
          "output_type": "stream",
          "text": [
            "\n",
            " 78%|███████▊  | 141/180 [1:47:44<42:54, 66.02s/it]\u001b[A"
          ],
          "name": "stderr"
        },
        {
          "output_type": "stream",
          "text": [
            "Train on 5329 samples, validate on 1523 samples\n",
            "Epoch 1/10\n",
            "5329/5329 [==============================] - 11s 2ms/step - loss: 0.5849 - accuracy: 0.6883 - val_loss: 0.4519 - val_accuracy: 0.8050\n",
            "Epoch 2/10\n",
            "5329/5329 [==============================] - 11s 2ms/step - loss: 0.4315 - accuracy: 0.8112 - val_loss: 0.4118 - val_accuracy: 0.8155\n",
            "Epoch 3/10\n",
            "5329/5329 [==============================] - 10s 2ms/step - loss: 0.3730 - accuracy: 0.8403 - val_loss: 0.4573 - val_accuracy: 0.7636\n",
            "Epoch 4/10\n",
            "5329/5329 [==============================] - 10s 2ms/step - loss: 0.3410 - accuracy: 0.8581 - val_loss: 0.3432 - val_accuracy: 0.8536\n",
            "Epoch 5/10\n",
            "5329/5329 [==============================] - 10s 2ms/step - loss: 0.3009 - accuracy: 0.8735 - val_loss: 0.3181 - val_accuracy: 0.8707\n",
            "Epoch 6/10\n",
            "5329/5329 [==============================] - 12s 2ms/step - loss: 0.2559 - accuracy: 0.8929 - val_loss: 0.2789 - val_accuracy: 0.8897\n",
            "Epoch 7/10\n",
            "5329/5329 [==============================] - 11s 2ms/step - loss: 0.2245 - accuracy: 0.9111 - val_loss: 0.3890 - val_accuracy: 0.8339\n",
            "Epoch 8/10\n",
            "5329/5329 [==============================] - 10s 2ms/step - loss: 0.1884 - accuracy: 0.9289 - val_loss: 0.3788 - val_accuracy: 0.8391\n",
            "Epoch 9/10\n",
            "5329/5329 [==============================] - 10s 2ms/step - loss: 0.1612 - accuracy: 0.9413 - val_loss: 0.3075 - val_accuracy: 0.8963\n",
            "Epoch 10/10\n",
            "5329/5329 [==============================] - 10s 2ms/step - loss: 0.1445 - accuracy: 0.9454 - val_loss: 0.2735 - val_accuracy: 0.9114\n"
          ],
          "name": "stdout"
        },
        {
          "output_type": "stream",
          "text": [
            "\n",
            " 79%|███████▉  | 142/180 [1:49:32<49:46, 78.60s/it]\u001b[A"
          ],
          "name": "stderr"
        },
        {
          "output_type": "stream",
          "text": [
            "Train on 5329 samples, validate on 1523 samples\n",
            "Epoch 1/10\n",
            "5329/5329 [==============================] - 12s 2ms/step - loss: 0.5761 - accuracy: 0.6981 - val_loss: 0.4450 - val_accuracy: 0.8102\n",
            "Epoch 2/10\n",
            "5329/5329 [==============================] - 11s 2ms/step - loss: 0.4270 - accuracy: 0.8140 - val_loss: 0.4051 - val_accuracy: 0.8490\n",
            "Epoch 3/10\n",
            "5329/5329 [==============================] - 11s 2ms/step - loss: 0.3732 - accuracy: 0.8337 - val_loss: 0.4479 - val_accuracy: 0.7840\n",
            "Epoch 4/10\n",
            "5329/5329 [==============================] - 11s 2ms/step - loss: 0.3348 - accuracy: 0.8563 - val_loss: 0.3560 - val_accuracy: 0.8457\n",
            "Epoch 5/10\n",
            "5329/5329 [==============================] - 11s 2ms/step - loss: 0.3048 - accuracy: 0.8711 - val_loss: 0.3119 - val_accuracy: 0.8746\n",
            "Epoch 6/10\n",
            "5329/5329 [==============================] - 11s 2ms/step - loss: 0.2516 - accuracy: 0.8945 - val_loss: 0.3269 - val_accuracy: 0.8838\n",
            "Epoch 7/10\n",
            "5329/5329 [==============================] - 11s 2ms/step - loss: 0.2208 - accuracy: 0.9096 - val_loss: 0.3434 - val_accuracy: 0.8720\n",
            "Epoch 8/10\n",
            "5329/5329 [==============================] - 12s 2ms/step - loss: 0.1793 - accuracy: 0.9294 - val_loss: 0.3006 - val_accuracy: 0.8759\n",
            "Epoch 9/10\n",
            "5329/5329 [==============================] - 12s 2ms/step - loss: 0.1469 - accuracy: 0.9454 - val_loss: 0.3591 - val_accuracy: 0.8739\n",
            "Epoch 10/10\n",
            "5329/5329 [==============================] - 10s 2ms/step - loss: 0.1292 - accuracy: 0.9540 - val_loss: 0.3066 - val_accuracy: 0.9002\n"
          ],
          "name": "stdout"
        },
        {
          "output_type": "stream",
          "text": [
            "\n",
            " 79%|███████▉  | 143/180 [1:51:28<55:23, 89.82s/it]\u001b[A"
          ],
          "name": "stderr"
        },
        {
          "output_type": "stream",
          "text": [
            "Train on 5329 samples, validate on 1523 samples\n",
            "Epoch 1/10\n",
            "5329/5329 [==============================] - 14s 3ms/step - loss: 0.5650 - accuracy: 0.7129 - val_loss: 0.4286 - val_accuracy: 0.8194\n",
            "Epoch 2/10\n",
            "5329/5329 [==============================] - 14s 3ms/step - loss: 0.4228 - accuracy: 0.8155 - val_loss: 0.3756 - val_accuracy: 0.8437\n",
            "Epoch 3/10\n",
            "5329/5329 [==============================] - 14s 3ms/step - loss: 0.3768 - accuracy: 0.8401 - val_loss: 0.3531 - val_accuracy: 0.8562\n",
            "Epoch 4/10\n",
            "5329/5329 [==============================] - 13s 3ms/step - loss: 0.3254 - accuracy: 0.8593 - val_loss: 0.3424 - val_accuracy: 0.8588\n",
            "Epoch 5/10\n",
            "5329/5329 [==============================] - 13s 2ms/step - loss: 0.2804 - accuracy: 0.8803 - val_loss: 0.3166 - val_accuracy: 0.8687\n",
            "Epoch 6/10\n",
            "5329/5329 [==============================] - 14s 3ms/step - loss: 0.2436 - accuracy: 0.8981 - val_loss: 0.3014 - val_accuracy: 0.8726\n",
            "Epoch 7/10\n",
            "5329/5329 [==============================] - 13s 3ms/step - loss: 0.2065 - accuracy: 0.9169 - val_loss: 0.3375 - val_accuracy: 0.8752\n",
            "Epoch 8/10\n",
            "5329/5329 [==============================] - 15s 3ms/step - loss: 0.1758 - accuracy: 0.9319 - val_loss: 0.3453 - val_accuracy: 0.8654\n",
            "Epoch 9/10\n",
            "5329/5329 [==============================] - 14s 3ms/step - loss: 0.1484 - accuracy: 0.9445 - val_loss: 0.3017 - val_accuracy: 0.8969\n",
            "Epoch 10/10\n",
            "5329/5329 [==============================] - 13s 2ms/step - loss: 0.1277 - accuracy: 0.9531 - val_loss: 0.2990 - val_accuracy: 0.9015\n"
          ],
          "name": "stdout"
        },
        {
          "output_type": "stream",
          "text": [
            "\n",
            " 80%|████████  | 144/180 [1:53:47<1:02:47, 104.66s/it]\u001b[A"
          ],
          "name": "stderr"
        },
        {
          "output_type": "stream",
          "text": [
            "Train on 5329 samples, validate on 1523 samples\n",
            "Epoch 1/1\n",
            "5329/5329 [==============================] - 11s 2ms/step - loss: 0.6131 - accuracy: 0.6851 - val_loss: 0.4365 - val_accuracy: 0.7925\n"
          ],
          "name": "stdout"
        },
        {
          "output_type": "stream",
          "text": [
            "\n",
            " 81%|████████  | 145/180 [1:53:59<44:52, 76.94s/it]   \u001b[A"
          ],
          "name": "stderr"
        },
        {
          "output_type": "stream",
          "text": [
            "Train on 5329 samples, validate on 1523 samples\n",
            "Epoch 1/1\n",
            "5329/5329 [==============================] - 10s 2ms/step - loss: 0.5767 - accuracy: 0.6984 - val_loss: 0.4243 - val_accuracy: 0.8076\n"
          ],
          "name": "stdout"
        },
        {
          "output_type": "stream",
          "text": [
            "\n",
            " 81%|████████  | 146/180 [1:54:11<32:26, 57.26s/it]\u001b[A"
          ],
          "name": "stderr"
        },
        {
          "output_type": "stream",
          "text": [
            "Train on 5329 samples, validate on 1523 samples\n",
            "Epoch 1/1\n",
            "5329/5329 [==============================] - 12s 2ms/step - loss: 0.7107 - accuracy: 0.6889 - val_loss: 0.4304 - val_accuracy: 0.8083\n"
          ],
          "name": "stdout"
        },
        {
          "output_type": "stream",
          "text": [
            "\n",
            " 82%|████████▏ | 147/180 [1:54:24<24:15, 44.09s/it]\u001b[A"
          ],
          "name": "stderr"
        },
        {
          "output_type": "stream",
          "text": [
            "Train on 5329 samples, validate on 1523 samples\n",
            "Epoch 1/1\n",
            "5329/5329 [==============================] - 13s 2ms/step - loss: 0.5966 - accuracy: 0.6834 - val_loss: 0.4467 - val_accuracy: 0.7938\n"
          ],
          "name": "stdout"
        },
        {
          "output_type": "stream",
          "text": [
            "\n",
            " 82%|████████▏ | 148/180 [1:54:38<18:42, 35.08s/it]\u001b[A"
          ],
          "name": "stderr"
        },
        {
          "output_type": "stream",
          "text": [
            "Train on 5329 samples, validate on 1523 samples\n",
            "Epoch 1/5\n",
            "5329/5329 [==============================] - 10s 2ms/step - loss: 0.5730 - accuracy: 0.6990 - val_loss: 0.4444 - val_accuracy: 0.7892\n",
            "Epoch 2/5\n",
            "5329/5329 [==============================] - 9s 2ms/step - loss: 0.4240 - accuracy: 0.8182 - val_loss: 0.3894 - val_accuracy: 0.8418\n",
            "Epoch 3/5\n",
            "5329/5329 [==============================] - 9s 2ms/step - loss: nan - accuracy: 0.6605 - val_loss: nan - val_accuracy: 0.0000e+00\n",
            "Epoch 4/5\n",
            "5329/5329 [==============================] - 10s 2ms/step - loss: nan - accuracy: 0.0000e+00 - val_loss: nan - val_accuracy: 0.0000e+00\n",
            "Epoch 5/5\n",
            "5329/5329 [==============================] - 10s 2ms/step - loss: nan - accuracy: 0.0000e+00 - val_loss: nan - val_accuracy: 0.0000e+00\n"
          ],
          "name": "stdout"
        },
        {
          "output_type": "stream",
          "text": [
            "\n",
            " 83%|████████▎ | 149/180 [1:55:28<20:29, 39.65s/it]\u001b[A"
          ],
          "name": "stderr"
        },
        {
          "output_type": "stream",
          "text": [
            "Train on 5329 samples, validate on 1523 samples\n",
            "Epoch 1/5\n",
            "5329/5329 [==============================] - 10s 2ms/step - loss: 0.5683 - accuracy: 0.7029 - val_loss: 0.4285 - val_accuracy: 0.8148\n",
            "Epoch 2/5\n",
            "5329/5329 [==============================] - 10s 2ms/step - loss: 0.4190 - accuracy: 0.8178 - val_loss: 0.3918 - val_accuracy: 0.8365\n",
            "Epoch 3/5\n",
            "5329/5329 [==============================] - 10s 2ms/step - loss: nan - accuracy: 0.1651 - val_loss: nan - val_accuracy: 0.0000e+00\n",
            "Epoch 4/5\n",
            "5329/5329 [==============================] - 10s 2ms/step - loss: nan - accuracy: 0.0000e+00 - val_loss: nan - val_accuracy: 0.0000e+00\n",
            "Epoch 5/5\n",
            "5329/5329 [==============================] - 10s 2ms/step - loss: nan - accuracy: 0.0000e+00 - val_loss: nan - val_accuracy: 0.0000e+00\n"
          ],
          "name": "stdout"
        },
        {
          "output_type": "stream",
          "text": [
            "\n",
            " 83%|████████▎ | 150/180 [1:56:21<21:45, 43.51s/it]\u001b[A"
          ],
          "name": "stderr"
        },
        {
          "output_type": "stream",
          "text": [
            "Train on 5329 samples, validate on 1523 samples\n",
            "Epoch 1/5\n",
            "5329/5329 [==============================] - 11s 2ms/step - loss: 2.1020 - accuracy: 0.6896 - val_loss: 0.4289 - val_accuracy: 0.8063\n",
            "Epoch 2/5\n",
            "5329/5329 [==============================] - 11s 2ms/step - loss: 1961157505323.7717 - accuracy: 0.8047 - val_loss: 0.7324 - val_accuracy: 0.8155\n",
            "Epoch 3/5\n",
            "5329/5329 [==============================] - 11s 2ms/step - loss: 0.6632 - accuracy: 0.8229 - val_loss: 0.4047 - val_accuracy: 0.8437\n",
            "Epoch 4/5\n",
            "5329/5329 [==============================] - 11s 2ms/step - loss: 0.3927 - accuracy: 0.8506 - val_loss: 0.4988 - val_accuracy: 0.8070\n",
            "Epoch 5/5\n",
            "5329/5329 [==============================] - 11s 2ms/step - loss: 0.3562 - accuracy: 0.8655 - val_loss: 0.7090 - val_accuracy: 0.8555\n"
          ],
          "name": "stdout"
        },
        {
          "output_type": "stream",
          "text": [
            "\n",
            " 84%|████████▍ | 151/180 [1:57:17<22:55, 47.43s/it]\u001b[A"
          ],
          "name": "stderr"
        },
        {
          "output_type": "stream",
          "text": [
            "Train on 5329 samples, validate on 1523 samples\n",
            "Epoch 1/5\n",
            "5329/5329 [==============================] - 13s 2ms/step - loss: 0.5946 - accuracy: 0.6846 - val_loss: 0.4508 - val_accuracy: 0.8109\n",
            "Epoch 2/5\n",
            "5329/5329 [==============================] - 13s 2ms/step - loss: 0.4211 - accuracy: 0.8131 - val_loss: 0.3887 - val_accuracy: 0.8385\n",
            "Epoch 3/5\n",
            "5329/5329 [==============================] - 13s 2ms/step - loss: nan - accuracy: 0.4299 - val_loss: nan - val_accuracy: 0.0000e+00\n",
            "Epoch 4/5\n",
            "5329/5329 [==============================] - 12s 2ms/step - loss: nan - accuracy: 0.0000e+00 - val_loss: nan - val_accuracy: 0.0000e+00\n",
            "Epoch 5/5\n",
            "5329/5329 [==============================] - 13s 2ms/step - loss: nan - accuracy: 0.0000e+00 - val_loss: nan - val_accuracy: 0.0000e+00\n"
          ],
          "name": "stdout"
        },
        {
          "output_type": "stream",
          "text": [
            "\n",
            " 84%|████████▍ | 152/180 [1:58:23<24:44, 53.01s/it]\u001b[A"
          ],
          "name": "stderr"
        },
        {
          "output_type": "stream",
          "text": [
            "Train on 5329 samples, validate on 1523 samples\n",
            "Epoch 1/10\n",
            "5329/5329 [==============================] - 11s 2ms/step - loss: 0.5970 - accuracy: 0.6939 - val_loss: 0.4385 - val_accuracy: 0.7971\n",
            "Epoch 2/10\n",
            "5329/5329 [==============================] - 11s 2ms/step - loss: 0.4459 - accuracy: 0.8144 - val_loss: 0.3919 - val_accuracy: 0.8306\n",
            "Epoch 3/10\n",
            "5329/5329 [==============================] - 11s 2ms/step - loss: 0.3536 - accuracy: 0.8461 - val_loss: 0.3681 - val_accuracy: 0.8464\n",
            "Epoch 4/10\n",
            "5329/5329 [==============================] - 11s 2ms/step - loss: 0.3153 - accuracy: 0.8647 - val_loss: nan - val_accuracy: 0.8227\n",
            "Epoch 5/10\n",
            "5329/5329 [==============================] - 10s 2ms/step - loss: nan - accuracy: 0.2488 - val_loss: nan - val_accuracy: 0.0000e+00\n",
            "Epoch 6/10\n",
            "5329/5329 [==============================] - 10s 2ms/step - loss: nan - accuracy: 0.0000e+00 - val_loss: nan - val_accuracy: 0.0000e+00\n",
            "Epoch 7/10\n",
            "5329/5329 [==============================] - 10s 2ms/step - loss: nan - accuracy: 0.0000e+00 - val_loss: nan - val_accuracy: 0.0000e+00\n",
            "Epoch 8/10\n",
            "5329/5329 [==============================] - 10s 2ms/step - loss: nan - accuracy: 0.0000e+00 - val_loss: nan - val_accuracy: 0.0000e+00\n",
            "Epoch 9/10\n",
            "5329/5329 [==============================] - 9s 2ms/step - loss: nan - accuracy: 0.0000e+00 - val_loss: nan - val_accuracy: 0.0000e+00\n",
            "Epoch 10/10\n",
            "5329/5329 [==============================] - 10s 2ms/step - loss: nan - accuracy: 0.0000e+00 - val_loss: nan - val_accuracy: 0.0000e+00\n"
          ],
          "name": "stdout"
        },
        {
          "output_type": "stream",
          "text": [
            "\n",
            " 85%|████████▌ | 153/180 [2:00:09<30:55, 68.72s/it]\u001b[A"
          ],
          "name": "stderr"
        },
        {
          "output_type": "stream",
          "text": [
            "Train on 5329 samples, validate on 1523 samples\n",
            "Epoch 1/10\n",
            "5329/5329 [==============================] - 12s 2ms/step - loss: 0.6397 - accuracy: 0.6842 - val_loss: 0.4569 - val_accuracy: 0.7919\n",
            "Epoch 2/10\n",
            "5329/5329 [==============================] - 10s 2ms/step - loss: 0.6243 - accuracy: 0.8065 - val_loss: 0.4654 - val_accuracy: 0.8024\n",
            "Epoch 3/10\n",
            "5329/5329 [==============================] - 10s 2ms/step - loss: nan - accuracy: 0.4277 - val_loss: nan - val_accuracy: 0.0000e+00\n",
            "Epoch 4/10\n",
            "5329/5329 [==============================] - 11s 2ms/step - loss: nan - accuracy: 0.0000e+00 - val_loss: nan - val_accuracy: 0.0000e+00\n",
            "Epoch 5/10\n",
            "5329/5329 [==============================] - 10s 2ms/step - loss: nan - accuracy: 0.0000e+00 - val_loss: nan - val_accuracy: 0.0000e+00\n",
            "Epoch 6/10\n",
            "5329/5329 [==============================] - 10s 2ms/step - loss: nan - accuracy: 0.0000e+00 - val_loss: nan - val_accuracy: 0.0000e+00\n",
            "Epoch 7/10\n",
            "5329/5329 [==============================] - 11s 2ms/step - loss: nan - accuracy: 0.0000e+00 - val_loss: nan - val_accuracy: 0.0000e+00\n",
            "Epoch 8/10\n",
            "5329/5329 [==============================] - 10s 2ms/step - loss: nan - accuracy: 0.0000e+00 - val_loss: nan - val_accuracy: 0.0000e+00\n",
            "Epoch 9/10\n",
            "5329/5329 [==============================] - 10s 2ms/step - loss: nan - accuracy: 0.0000e+00 - val_loss: nan - val_accuracy: 0.0000e+00\n",
            "Epoch 10/10\n",
            "5329/5329 [==============================] - 10s 2ms/step - loss: nan - accuracy: 0.0000e+00 - val_loss: nan - val_accuracy: 0.0000e+00\n"
          ],
          "name": "stdout"
        },
        {
          "output_type": "stream",
          "text": [
            "\n",
            " 86%|████████▌ | 154/180 [2:01:55<34:39, 79.99s/it]\u001b[A"
          ],
          "name": "stderr"
        },
        {
          "output_type": "stream",
          "text": [
            "Train on 5329 samples, validate on 1523 samples\n",
            "Epoch 1/10\n",
            "5329/5329 [==============================] - 12s 2ms/step - loss: 0.5811 - accuracy: 0.7044 - val_loss: 0.4287 - val_accuracy: 0.8116\n",
            "Epoch 2/10\n",
            "5329/5329 [==============================] - 11s 2ms/step - loss: 1099.8078 - accuracy: 0.7861 - val_loss: 0.4936 - val_accuracy: 0.8332\n",
            "Epoch 3/10\n",
            "5329/5329 [==============================] - 11s 2ms/step - loss: 0.4304 - accuracy: 0.8330 - val_loss: 0.4225 - val_accuracy: 0.8529\n",
            "Epoch 4/10\n",
            "5329/5329 [==============================] - 11s 2ms/step - loss: 0.3530 - accuracy: 0.8600 - val_loss: 0.4528 - val_accuracy: 0.8470\n",
            "Epoch 5/10\n",
            "5329/5329 [==============================] - 11s 2ms/step - loss: 0.3406 - accuracy: 0.8673 - val_loss: 0.4617 - val_accuracy: 0.8667\n",
            "Epoch 6/10\n",
            "5329/5329 [==============================] - 11s 2ms/step - loss: 0.3263 - accuracy: 0.8735 - val_loss: 0.5177 - val_accuracy: 0.8595\n",
            "Epoch 7/10\n",
            "5329/5329 [==============================] - 11s 2ms/step - loss: nan - accuracy: 0.7771 - val_loss: nan - val_accuracy: 0.0000e+00\n",
            "Epoch 8/10\n",
            "5329/5329 [==============================] - 12s 2ms/step - loss: nan - accuracy: 0.0000e+00 - val_loss: nan - val_accuracy: 0.0000e+00\n",
            "Epoch 9/10\n",
            "5329/5329 [==============================] - 11s 2ms/step - loss: nan - accuracy: 0.0000e+00 - val_loss: nan - val_accuracy: 0.0000e+00\n",
            "Epoch 10/10\n",
            "5329/5329 [==============================] - 11s 2ms/step - loss: nan - accuracy: 0.0000e+00 - val_loss: nan - val_accuracy: 0.0000e+00\n"
          ],
          "name": "stdout"
        },
        {
          "output_type": "stream",
          "text": [
            "\n",
            " 86%|████████▌ | 155/180 [2:03:49<37:31, 90.06s/it]\u001b[A"
          ],
          "name": "stderr"
        },
        {
          "output_type": "stream",
          "text": [
            "Train on 5329 samples, validate on 1523 samples\n",
            "Epoch 1/10\n",
            "5329/5329 [==============================] - 14s 3ms/step - loss: 1.0743 - accuracy: 0.6652 - val_loss: 0.4576 - val_accuracy: 0.7840\n",
            "Epoch 2/10\n",
            "5329/5329 [==============================] - 18s 3ms/step - loss: 0.4255 - accuracy: 0.8137 - val_loss: 0.4139 - val_accuracy: 0.8253\n",
            "Epoch 3/10\n",
            "5329/5329 [==============================] - 13s 2ms/step - loss: nan - accuracy: 0.5695 - val_loss: nan - val_accuracy: 0.0000e+00\n",
            "Epoch 4/10\n",
            "5329/5329 [==============================] - 14s 3ms/step - loss: nan - accuracy: 0.0000e+00 - val_loss: nan - val_accuracy: 0.0000e+00\n",
            "Epoch 5/10\n",
            "5329/5329 [==============================] - 13s 2ms/step - loss: nan - accuracy: 0.0000e+00 - val_loss: nan - val_accuracy: 0.0000e+00\n",
            "Epoch 6/10\n",
            "5329/5329 [==============================] - 13s 2ms/step - loss: nan - accuracy: 0.0000e+00 - val_loss: nan - val_accuracy: 0.0000e+00\n",
            "Epoch 7/10\n",
            "5329/5329 [==============================] - 13s 2ms/step - loss: nan - accuracy: 0.0000e+00 - val_loss: nan - val_accuracy: 0.0000e+00\n",
            "Epoch 8/10\n",
            "5329/5329 [==============================] - 13s 2ms/step - loss: nan - accuracy: 0.0000e+00 - val_loss: nan - val_accuracy: 0.0000e+00\n",
            "Epoch 9/10\n",
            "5329/5329 [==============================] - 13s 2ms/step - loss: nan - accuracy: 0.0000e+00 - val_loss: nan - val_accuracy: 0.0000e+00\n",
            "Epoch 10/10\n",
            "5329/5329 [==============================] - 13s 2ms/step - loss: nan - accuracy: 0.0000e+00 - val_loss: nan - val_accuracy: 0.0000e+00\n"
          ],
          "name": "stdout"
        },
        {
          "output_type": "stream",
          "text": [
            "\n",
            " 87%|████████▋ | 156/180 [2:06:06<41:39, 104.13s/it]\u001b[A"
          ],
          "name": "stderr"
        },
        {
          "output_type": "stream",
          "text": [
            "Train on 5329 samples, validate on 1523 samples\n",
            "Epoch 1/1\n",
            "5329/5329 [==============================] - 3s 591us/step - loss: 0.7003 - accuracy: 0.5498 - val_loss: 0.6759 - val_accuracy: 0.5653\n"
          ],
          "name": "stdout"
        },
        {
          "output_type": "stream",
          "text": [
            "\n",
            " 87%|████████▋ | 157/180 [2:06:10<28:28, 74.29s/it] \u001b[A"
          ],
          "name": "stderr"
        },
        {
          "output_type": "stream",
          "text": [
            "Train on 5329 samples, validate on 1523 samples\n",
            "Epoch 1/1\n",
            "5329/5329 [==============================] - 3s 578us/step - loss: 0.7721 - accuracy: 0.5568 - val_loss: 0.6787 - val_accuracy: 0.5653\n"
          ],
          "name": "stdout"
        },
        {
          "output_type": "stream",
          "text": [
            "\n",
            " 88%|████████▊ | 158/180 [2:06:15<19:35, 53.42s/it]\u001b[A"
          ],
          "name": "stderr"
        },
        {
          "output_type": "stream",
          "text": [
            "Train on 5329 samples, validate on 1523 samples\n",
            "Epoch 1/1\n",
            "5329/5329 [==============================] - 4s 801us/step - loss: 0.7138 - accuracy: 0.5421 - val_loss: 0.6690 - val_accuracy: 0.5712\n"
          ],
          "name": "stdout"
        },
        {
          "output_type": "stream",
          "text": [
            "\n",
            " 88%|████████▊ | 159/180 [2:06:21<13:41, 39.13s/it]\u001b[A"
          ],
          "name": "stderr"
        },
        {
          "output_type": "stream",
          "text": [
            "Train on 5329 samples, validate on 1523 samples\n",
            "Epoch 1/1\n",
            "5329/5329 [==============================] - 6s 1ms/step - loss: 0.7313 - accuracy: 0.5421 - val_loss: 0.6765 - val_accuracy: 0.6251\n"
          ],
          "name": "stdout"
        },
        {
          "output_type": "stream",
          "text": [
            "\n",
            " 89%|████████▉ | 160/180 [2:06:28<09:52, 29.64s/it]\u001b[A"
          ],
          "name": "stderr"
        },
        {
          "output_type": "stream",
          "text": [
            "Train on 5329 samples, validate on 1523 samples\n",
            "Epoch 1/5\n",
            "5329/5329 [==============================] - 3s 586us/step - loss: 0.7884 - accuracy: 0.5463 - val_loss: 0.6735 - val_accuracy: 0.5653\n",
            "Epoch 2/5\n",
            "5329/5329 [==============================] - 3s 597us/step - loss: 0.6582 - accuracy: 0.5956 - val_loss: 0.6342 - val_accuracy: 0.6763\n",
            "Epoch 3/5\n",
            "5329/5329 [==============================] - 3s 500us/step - loss: 0.5773 - accuracy: 0.7345 - val_loss: 0.4994 - val_accuracy: 0.7695\n",
            "Epoch 4/5\n",
            "5329/5329 [==============================] - 3s 580us/step - loss: 0.4402 - accuracy: 0.8015 - val_loss: 0.4108 - val_accuracy: 0.8148\n",
            "Epoch 5/5\n",
            "5329/5329 [==============================] - 3s 586us/step - loss: 0.3862 - accuracy: 0.8290 - val_loss: 0.3886 - val_accuracy: 0.8306\n"
          ],
          "name": "stdout"
        },
        {
          "output_type": "stream",
          "text": [
            "\n",
            " 89%|████████▉ | 161/180 [2:06:45<08:10, 25.79s/it]\u001b[A"
          ],
          "name": "stderr"
        },
        {
          "output_type": "stream",
          "text": [
            "Train on 5329 samples, validate on 1523 samples\n",
            "Epoch 1/5\n",
            "5329/5329 [==============================] - 4s 665us/step - loss: 0.6812 - accuracy: 0.5637 - val_loss: 0.6675 - val_accuracy: 0.5653\n",
            "Epoch 2/5\n",
            "5329/5329 [==============================] - 3s 555us/step - loss: 0.5975 - accuracy: 0.6941 - val_loss: 0.4929 - val_accuracy: 0.7643\n",
            "Epoch 3/5\n",
            "5329/5329 [==============================] - 3s 593us/step - loss: 0.4444 - accuracy: 0.8017 - val_loss: 0.4403 - val_accuracy: 0.7997\n",
            "Epoch 4/5\n",
            "5329/5329 [==============================] - 3s 495us/step - loss: 0.3755 - accuracy: 0.8369 - val_loss: 0.4164 - val_accuracy: 0.8129\n",
            "Epoch 5/5\n",
            "5329/5329 [==============================] - 3s 526us/step - loss: 0.3452 - accuracy: 0.8512 - val_loss: 0.3783 - val_accuracy: 0.8431\n"
          ],
          "name": "stdout"
        },
        {
          "output_type": "stream",
          "text": [
            "\n",
            " 90%|█████████ | 162/180 [2:07:02<06:56, 23.13s/it]\u001b[A"
          ],
          "name": "stderr"
        },
        {
          "output_type": "stream",
          "text": [
            "Train on 5329 samples, validate on 1523 samples\n",
            "Epoch 1/5\n",
            "5329/5329 [==============================] - 4s 761us/step - loss: 0.7618 - accuracy: 0.5528 - val_loss: 0.6787 - val_accuracy: 0.5653\n",
            "Epoch 2/5\n",
            "5329/5329 [==============================] - 4s 711us/step - loss: 0.6582 - accuracy: 0.6159 - val_loss: 0.6088 - val_accuracy: 0.7150\n",
            "Epoch 3/5\n",
            "5329/5329 [==============================] - 4s 702us/step - loss: 0.5262 - accuracy: 0.7681 - val_loss: 0.4458 - val_accuracy: 0.7971\n",
            "Epoch 4/5\n",
            "5329/5329 [==============================] - 4s 732us/step - loss: 0.4146 - accuracy: 0.8159 - val_loss: 0.3980 - val_accuracy: 0.8221\n",
            "Epoch 5/5\n",
            "5329/5329 [==============================] - 4s 703us/step - loss: 0.3730 - accuracy: 0.8414 - val_loss: 0.4075 - val_accuracy: 0.8286\n"
          ],
          "name": "stdout"
        },
        {
          "output_type": "stream",
          "text": [
            "\n",
            " 91%|█████████ | 163/180 [2:07:23<06:21, 22.42s/it]\u001b[A"
          ],
          "name": "stderr"
        },
        {
          "output_type": "stream",
          "text": [
            "Train on 5329 samples, validate on 1523 samples\n",
            "Epoch 1/5\n",
            "5329/5329 [==============================] - 6s 1ms/step - loss: 1.3721 - accuracy: 0.5247 - val_loss: 0.6791 - val_accuracy: 0.5653\n",
            "Epoch 2/5\n",
            "5329/5329 [==============================] - 6s 1ms/step - loss: 0.6715 - accuracy: 0.5911 - val_loss: 0.6537 - val_accuracy: 0.5877\n",
            "Epoch 3/5\n",
            "5329/5329 [==============================] - 6s 1ms/step - loss: 0.6018 - accuracy: 0.7014 - val_loss: 0.5088 - val_accuracy: 0.7787\n",
            "Epoch 4/5\n",
            "5329/5329 [==============================] - 6s 1ms/step - loss: 0.4543 - accuracy: 0.7960 - val_loss: 0.4139 - val_accuracy: 0.8135\n",
            "Epoch 5/5\n",
            "5329/5329 [==============================] - 6s 1ms/step - loss: 0.3911 - accuracy: 0.8275 - val_loss: 0.3818 - val_accuracy: 0.8359\n"
          ],
          "name": "stdout"
        },
        {
          "output_type": "stream",
          "text": [
            "\n",
            " 91%|█████████ | 164/180 [2:07:53<06:37, 24.86s/it]\u001b[A"
          ],
          "name": "stderr"
        },
        {
          "output_type": "stream",
          "text": [
            "Train on 5329 samples, validate on 1523 samples\n",
            "Epoch 1/10\n",
            "5329/5329 [==============================] - 3s 613us/step - loss: 0.7052 - accuracy: 0.5545 - val_loss: 0.6705 - val_accuracy: 0.5653\n",
            "Epoch 2/10\n",
            "5329/5329 [==============================] - 3s 485us/step - loss: 0.6380 - accuracy: 0.6433 - val_loss: 0.5689 - val_accuracy: 0.7505\n",
            "Epoch 3/10\n",
            "5329/5329 [==============================] - 3s 477us/step - loss: 0.4899 - accuracy: 0.7703 - val_loss: 0.4221 - val_accuracy: 0.8109\n",
            "Epoch 4/10\n",
            "5329/5329 [==============================] - 3s 491us/step - loss: 0.3981 - accuracy: 0.8268 - val_loss: 0.3864 - val_accuracy: 0.8319\n",
            "Epoch 5/10\n",
            "5329/5329 [==============================] - 3s 516us/step - loss: 0.3667 - accuracy: 0.8390 - val_loss: 0.3906 - val_accuracy: 0.8339\n",
            "Epoch 6/10\n",
            "5329/5329 [==============================] - 3s 568us/step - loss: 0.3316 - accuracy: 0.8585 - val_loss: 0.3627 - val_accuracy: 0.8523\n",
            "Epoch 7/10\n",
            "5329/5329 [==============================] - 3s 545us/step - loss: 0.3078 - accuracy: 0.8701 - val_loss: 0.3575 - val_accuracy: 0.8529\n",
            "Epoch 8/10\n",
            "5329/5329 [==============================] - 3s 579us/step - loss: 0.2911 - accuracy: 0.8771 - val_loss: 0.3467 - val_accuracy: 0.8601\n",
            "Epoch 9/10\n",
            "5329/5329 [==============================] - 3s 561us/step - loss: 0.2865 - accuracy: 0.8801 - val_loss: 0.3483 - val_accuracy: 0.8582\n",
            "Epoch 10/10\n",
            "5329/5329 [==============================] - 3s 533us/step - loss: 0.2668 - accuracy: 0.8859 - val_loss: 0.3566 - val_accuracy: 0.8628\n"
          ],
          "name": "stdout"
        },
        {
          "output_type": "stream",
          "text": [
            "\n",
            " 92%|█████████▏| 165/180 [2:08:24<06:37, 26.52s/it]\u001b[A"
          ],
          "name": "stderr"
        },
        {
          "output_type": "stream",
          "text": [
            "Train on 5329 samples, validate on 1523 samples\n",
            "Epoch 1/10\n",
            "5329/5329 [==============================] - 3s 579us/step - loss: 0.6968 - accuracy: 0.5498 - val_loss: 0.6724 - val_accuracy: 0.5653\n",
            "Epoch 2/10\n",
            "5329/5329 [==============================] - 3s 602us/step - loss: 0.6269 - accuracy: 0.6527 - val_loss: 0.5363 - val_accuracy: 0.7525\n",
            "Epoch 3/10\n",
            "5329/5329 [==============================] - 3s 557us/step - loss: 0.4672 - accuracy: 0.7895 - val_loss: 0.4432 - val_accuracy: 0.7991\n",
            "Epoch 4/10\n",
            "5329/5329 [==============================] - 3s 553us/step - loss: 0.3938 - accuracy: 0.8260 - val_loss: 0.3942 - val_accuracy: 0.8299\n",
            "Epoch 5/10\n",
            "5329/5329 [==============================] - 3s 529us/step - loss: 0.3565 - accuracy: 0.8426 - val_loss: 0.3697 - val_accuracy: 0.8385\n",
            "Epoch 6/10\n",
            "5329/5329 [==============================] - 3s 552us/step - loss: 0.3311 - accuracy: 0.8546 - val_loss: 0.3787 - val_accuracy: 0.8332\n",
            "Epoch 7/10\n",
            "5329/5329 [==============================] - 3s 561us/step - loss: 0.3265 - accuracy: 0.8596 - val_loss: 0.3576 - val_accuracy: 0.8496\n",
            "Epoch 8/10\n",
            "5329/5329 [==============================] - 3s 560us/step - loss: 0.2914 - accuracy: 0.8722 - val_loss: 0.3542 - val_accuracy: 0.8483\n",
            "Epoch 9/10\n",
            "5329/5329 [==============================] - 3s 556us/step - loss: 0.2840 - accuracy: 0.8748 - val_loss: 0.4344 - val_accuracy: 0.8109\n",
            "Epoch 10/10\n",
            "5329/5329 [==============================] - 3s 560us/step - loss: nan - accuracy: 0.2971 - val_loss: nan - val_accuracy: 0.0000e+00\n"
          ],
          "name": "stdout"
        },
        {
          "output_type": "stream",
          "text": [
            "\n",
            " 92%|█████████▏| 166/180 [2:08:55<06:32, 28.05s/it]\u001b[A"
          ],
          "name": "stderr"
        },
        {
          "output_type": "stream",
          "text": [
            "Train on 5329 samples, validate on 1523 samples\n",
            "Epoch 1/10\n",
            "5329/5329 [==============================] - 4s 786us/step - loss: 0.6862 - accuracy: 0.5628 - val_loss: 0.6834 - val_accuracy: 0.4800\n",
            "Epoch 2/10\n",
            "5329/5329 [==============================] - 4s 739us/step - loss: 0.6063 - accuracy: 0.6814 - val_loss: 0.4901 - val_accuracy: 0.7695\n",
            "Epoch 3/10\n",
            "5329/5329 [==============================] - 4s 698us/step - loss: 0.4456 - accuracy: 0.7990 - val_loss: 0.4434 - val_accuracy: 0.7978\n",
            "Epoch 4/10\n",
            "5329/5329 [==============================] - 4s 753us/step - loss: 0.3964 - accuracy: 0.8219 - val_loss: 0.4243 - val_accuracy: 0.8135\n",
            "Epoch 5/10\n",
            "5329/5329 [==============================] - 4s 764us/step - loss: 0.3636 - accuracy: 0.8471 - val_loss: 0.3652 - val_accuracy: 0.8365\n",
            "Epoch 6/10\n",
            "5329/5329 [==============================] - 4s 792us/step - loss: 0.3320 - accuracy: 0.8568 - val_loss: 0.3594 - val_accuracy: 0.8464\n",
            "Epoch 7/10\n",
            "5329/5329 [==============================] - 4s 767us/step - loss: 0.3154 - accuracy: 0.8621 - val_loss: 0.3471 - val_accuracy: 0.8555\n",
            "Epoch 8/10\n",
            "5329/5329 [==============================] - 4s 712us/step - loss: 0.3009 - accuracy: 0.8694 - val_loss: 0.3505 - val_accuracy: 0.8601\n",
            "Epoch 9/10\n",
            "5329/5329 [==============================] - 4s 756us/step - loss: 0.2890 - accuracy: 0.8769 - val_loss: 0.3439 - val_accuracy: 0.8562\n",
            "Epoch 10/10\n",
            "5329/5329 [==============================] - 4s 756us/step - loss: 0.2729 - accuracy: 0.8829 - val_loss: 0.3489 - val_accuracy: 0.8575\n"
          ],
          "name": "stdout"
        },
        {
          "output_type": "stream",
          "text": [
            "\n",
            " 93%|█████████▎| 167/180 [2:09:37<06:57, 32.12s/it]\u001b[A"
          ],
          "name": "stderr"
        },
        {
          "output_type": "stream",
          "text": [
            "Train on 5329 samples, validate on 1523 samples\n",
            "Epoch 1/10\n",
            "5329/5329 [==============================] - 6s 1ms/step - loss: 0.7397 - accuracy: 0.5451 - val_loss: 0.6727 - val_accuracy: 0.5653\n",
            "Epoch 2/10\n",
            "5329/5329 [==============================] - 6s 1ms/step - loss: 0.6472 - accuracy: 0.6373 - val_loss: 0.5634 - val_accuracy: 0.7623\n",
            "Epoch 3/10\n",
            "5329/5329 [==============================] - 6s 1ms/step - loss: 0.4894 - accuracy: 0.7756 - val_loss: 0.4263 - val_accuracy: 0.8070\n",
            "Epoch 4/10\n",
            "5329/5329 [==============================] - 5s 1ms/step - loss: 0.4091 - accuracy: 0.8202 - val_loss: 0.3904 - val_accuracy: 0.8319\n",
            "Epoch 5/10\n",
            "5329/5329 [==============================] - 6s 1ms/step - loss: 0.3722 - accuracy: 0.8407 - val_loss: 0.3721 - val_accuracy: 0.8411\n",
            "Epoch 6/10\n",
            "5329/5329 [==============================] - 6s 1ms/step - loss: 0.3402 - accuracy: 0.8551 - val_loss: 0.4046 - val_accuracy: 0.8207\n",
            "Epoch 7/10\n",
            "5329/5329 [==============================] - 6s 1ms/step - loss: 0.3271 - accuracy: 0.8621 - val_loss: 0.3617 - val_accuracy: 0.8516\n",
            "Epoch 8/10\n",
            "5329/5329 [==============================] - 6s 1ms/step - loss: 0.2980 - accuracy: 0.8782 - val_loss: 0.3520 - val_accuracy: 0.8523\n",
            "Epoch 9/10\n",
            "5329/5329 [==============================] - 6s 1ms/step - loss: 0.2860 - accuracy: 0.8793 - val_loss: 0.3662 - val_accuracy: 0.8529\n",
            "Epoch 10/10\n",
            "5329/5329 [==============================] - 6s 1ms/step - loss: 0.2826 - accuracy: 0.8812 - val_loss: 0.3467 - val_accuracy: 0.8661\n"
          ],
          "name": "stdout"
        },
        {
          "output_type": "stream",
          "text": [
            "\n",
            " 93%|█████████▎| 168/180 [2:10:36<08:03, 40.25s/it]\u001b[A"
          ],
          "name": "stderr"
        },
        {
          "output_type": "stream",
          "text": [
            "Train on 5329 samples, validate on 1523 samples\n",
            "Epoch 1/1\n",
            "5329/5329 [==============================] - 11s 2ms/step - loss: 0.5737 - accuracy: 0.7022 - val_loss: 0.4220 - val_accuracy: 0.8122\n"
          ],
          "name": "stdout"
        },
        {
          "output_type": "stream",
          "text": [
            "\n",
            " 94%|█████████▍| 169/180 [2:10:49<05:51, 31.91s/it]\u001b[A"
          ],
          "name": "stderr"
        },
        {
          "output_type": "stream",
          "text": [
            "Train on 5329 samples, validate on 1523 samples\n",
            "Epoch 1/1\n",
            "5329/5329 [==============================] - 10s 2ms/step - loss: 0.5897 - accuracy: 0.6831 - val_loss: 0.4422 - val_accuracy: 0.7932\n"
          ],
          "name": "stdout"
        },
        {
          "output_type": "stream",
          "text": [
            "\n",
            " 94%|█████████▍| 170/180 [2:11:01<04:19, 25.94s/it]\u001b[A"
          ],
          "name": "stderr"
        },
        {
          "output_type": "stream",
          "text": [
            "Train on 5329 samples, validate on 1523 samples\n",
            "Epoch 1/1\n",
            "5329/5329 [==============================] - 11s 2ms/step - loss: 0.7011 - accuracy: 0.6906 - val_loss: 0.4374 - val_accuracy: 0.7978\n"
          ],
          "name": "stdout"
        },
        {
          "output_type": "stream",
          "text": [
            "\n",
            " 95%|█████████▌| 171/180 [2:11:14<03:18, 22.04s/it]\u001b[A"
          ],
          "name": "stderr"
        },
        {
          "output_type": "stream",
          "text": [
            "Train on 5329 samples, validate on 1523 samples\n",
            "Epoch 1/1\n",
            "5329/5329 [==============================] - 14s 3ms/step - loss: 0.6024 - accuracy: 0.6769 - val_loss: nan - val_accuracy: 0.8063\n"
          ],
          "name": "stdout"
        },
        {
          "output_type": "stream",
          "text": [
            "\n",
            " 96%|█████████▌| 172/180 [2:11:29<02:41, 20.16s/it]\u001b[A"
          ],
          "name": "stderr"
        },
        {
          "output_type": "stream",
          "text": [
            "Train on 5329 samples, validate on 1523 samples\n",
            "Epoch 1/5\n",
            "5329/5329 [==============================] - 10s 2ms/step - loss: 0.6185 - accuracy: 0.6692 - val_loss: 0.4479 - val_accuracy: 0.8102\n",
            "Epoch 2/5\n",
            "5329/5329 [==============================] - 9s 2ms/step - loss: 0.4231 - accuracy: 0.8095 - val_loss: 0.3835 - val_accuracy: 0.8260\n",
            "Epoch 3/5\n",
            "5329/5329 [==============================] - 10s 2ms/step - loss: 0.3481 - accuracy: 0.8384 - val_loss: 0.3888 - val_accuracy: 0.8477\n",
            "Epoch 4/5\n",
            "5329/5329 [==============================] - 10s 2ms/step - loss: nan - accuracy: 0.1015 - val_loss: nan - val_accuracy: 0.0000e+00\n",
            "Epoch 5/5\n",
            "5329/5329 [==============================] - 9s 2ms/step - loss: nan - accuracy: 0.0000e+00 - val_loss: nan - val_accuracy: 0.0000e+00\n"
          ],
          "name": "stdout"
        },
        {
          "output_type": "stream",
          "text": [
            "\n",
            " 96%|█████████▌| 173/180 [2:12:19<03:23, 29.03s/it]\u001b[A"
          ],
          "name": "stderr"
        },
        {
          "output_type": "stream",
          "text": [
            "Train on 5329 samples, validate on 1523 samples\n",
            "Epoch 1/5\n",
            "5329/5329 [==============================] - 10s 2ms/step - loss: 0.6006 - accuracy: 0.6804 - val_loss: 0.4336 - val_accuracy: 0.8037\n",
            "Epoch 2/5\n",
            "5329/5329 [==============================] - 10s 2ms/step - loss: 0.4146 - accuracy: 0.8193 - val_loss: 0.3890 - val_accuracy: 0.8286\n",
            "Epoch 3/5\n",
            "5329/5329 [==============================] - 10s 2ms/step - loss: 0.3502 - accuracy: 0.8465 - val_loss: 0.3561 - val_accuracy: 0.8510\n",
            "Epoch 4/5\n",
            "5329/5329 [==============================] - 10s 2ms/step - loss: nan - accuracy: 0.2000 - val_loss: nan - val_accuracy: 0.0000e+00\n",
            "Epoch 5/5\n",
            "5329/5329 [==============================] - 11s 2ms/step - loss: nan - accuracy: 0.0000e+00 - val_loss: nan - val_accuracy: 0.0000e+00\n"
          ],
          "name": "stdout"
        },
        {
          "output_type": "stream",
          "text": [
            "\n",
            " 97%|█████████▋| 174/180 [2:13:11<03:35, 35.92s/it]\u001b[A"
          ],
          "name": "stderr"
        },
        {
          "output_type": "stream",
          "text": [
            "Train on 5329 samples, validate on 1523 samples\n",
            "Epoch 1/5\n",
            "5329/5329 [==============================] - 12s 2ms/step - loss: 0.6278 - accuracy: 0.6754 - val_loss: 0.4313 - val_accuracy: 0.7991\n",
            "Epoch 2/5\n",
            "5329/5329 [==============================] - 11s 2ms/step - loss: 0.4311 - accuracy: 0.8138 - val_loss: 0.3920 - val_accuracy: 0.8319\n",
            "Epoch 3/5\n",
            "5329/5329 [==============================] - 11s 2ms/step - loss: 0.3584 - accuracy: 0.8426 - val_loss: 0.3591 - val_accuracy: 0.8503\n",
            "Epoch 4/5\n",
            "5329/5329 [==============================] - 11s 2ms/step - loss: 0.3176 - accuracy: 0.8609 - val_loss: nan - val_accuracy: 0.8555\n",
            "Epoch 5/5\n",
            "5329/5329 [==============================] - 11s 2ms/step - loss: nan - accuracy: 0.3774 - val_loss: nan - val_accuracy: 0.0000e+00\n"
          ],
          "name": "stdout"
        },
        {
          "output_type": "stream",
          "text": [
            "\n",
            " 97%|█████████▋| 175/180 [2:14:08<03:31, 42.30s/it]\u001b[A"
          ],
          "name": "stderr"
        },
        {
          "output_type": "stream",
          "text": [
            "Train on 5329 samples, validate on 1523 samples\n",
            "Epoch 1/5\n",
            "5329/5329 [==============================] - 12s 2ms/step - loss: 0.6137 - accuracy: 0.6641 - val_loss: 0.5572 - val_accuracy: 0.6763\n",
            "Epoch 2/5\n",
            "5329/5329 [==============================] - 13s 2ms/step - loss: nan - accuracy: 0.0852 - val_loss: nan - val_accuracy: 0.0000e+00\n",
            "Epoch 3/5\n",
            "5329/5329 [==============================] - 14s 3ms/step - loss: nan - accuracy: 0.0000e+00 - val_loss: nan - val_accuracy: 0.0000e+00\n",
            "Epoch 4/5\n",
            "5329/5329 [==============================] - 14s 3ms/step - loss: nan - accuracy: 0.0000e+00 - val_loss: nan - val_accuracy: 0.0000e+00\n",
            "Epoch 5/5\n",
            "5329/5329 [==============================] - 13s 2ms/step - loss: nan - accuracy: 0.0000e+00 - val_loss: nan - val_accuracy: 0.0000e+00\n"
          ],
          "name": "stdout"
        },
        {
          "output_type": "stream",
          "text": [
            "\n",
            " 98%|█████████▊| 176/180 [2:15:16<03:19, 49.86s/it]\u001b[A"
          ],
          "name": "stderr"
        },
        {
          "output_type": "stream",
          "text": [
            "Train on 5329 samples, validate on 1523 samples\n",
            "Epoch 1/10\n",
            "5329/5329 [==============================] - 11s 2ms/step - loss: 105.6361 - accuracy: 0.7050 - val_loss: 0.4226 - val_accuracy: 0.8188\n",
            "Epoch 2/10\n",
            "5329/5329 [==============================] - 10s 2ms/step - loss: nan - accuracy: 0.6832 - val_loss: nan - val_accuracy: 0.0000e+00\n",
            "Epoch 3/10\n",
            "5329/5329 [==============================] - 10s 2ms/step - loss: nan - accuracy: 0.0000e+00 - val_loss: nan - val_accuracy: 0.0000e+00\n",
            "Epoch 4/10\n",
            "5329/5329 [==============================] - 11s 2ms/step - loss: nan - accuracy: 0.0000e+00 - val_loss: nan - val_accuracy: 0.0000e+00\n",
            "Epoch 5/10\n",
            "5329/5329 [==============================] - 9s 2ms/step - loss: nan - accuracy: 0.0000e+00 - val_loss: nan - val_accuracy: 0.0000e+00\n",
            "Epoch 6/10\n",
            "5329/5329 [==============================] - 10s 2ms/step - loss: nan - accuracy: 0.0000e+00 - val_loss: nan - val_accuracy: 0.0000e+00\n",
            "Epoch 7/10\n",
            "5329/5329 [==============================] - 9s 2ms/step - loss: nan - accuracy: 0.0000e+00 - val_loss: nan - val_accuracy: 0.0000e+00\n",
            "Epoch 8/10\n",
            "5329/5329 [==============================] - 10s 2ms/step - loss: nan - accuracy: 0.0000e+00 - val_loss: nan - val_accuracy: 0.0000e+00\n",
            "Epoch 9/10\n",
            "5329/5329 [==============================] - 10s 2ms/step - loss: nan - accuracy: 0.0000e+00 - val_loss: nan - val_accuracy: 0.0000e+00\n",
            "Epoch 10/10\n",
            "5329/5329 [==============================] - 10s 2ms/step - loss: nan - accuracy: 0.0000e+00 - val_loss: nan - val_accuracy: 0.0000e+00\n"
          ],
          "name": "stdout"
        },
        {
          "output_type": "stream",
          "text": [
            "\n",
            " 98%|█████████▊| 177/180 [2:16:57<03:15, 65.16s/it]\u001b[A"
          ],
          "name": "stderr"
        },
        {
          "output_type": "stream",
          "text": [
            "Train on 5329 samples, validate on 1523 samples\n",
            "Epoch 1/10\n",
            "5329/5329 [==============================] - 10s 2ms/step - loss: 0.5697 - accuracy: 0.6936 - val_loss: 0.4403 - val_accuracy: 0.8083\n",
            "Epoch 2/10\n",
            "5329/5329 [==============================] - 11s 2ms/step - loss: 81583.2004 - accuracy: 0.8182 - val_loss: 0.3823 - val_accuracy: 0.8299\n",
            "Epoch 3/10\n",
            "5329/5329 [==============================] - 10s 2ms/step - loss: 62961.2046 - accuracy: 0.8422 - val_loss: 0.4057 - val_accuracy: 0.8398\n",
            "Epoch 4/10\n",
            "5329/5329 [==============================] - 9s 2ms/step - loss: 0.2975 - accuracy: 0.8660 - val_loss: 0.4149 - val_accuracy: 0.8542\n",
            "Epoch 5/10\n",
            "5329/5329 [==============================] - 10s 2ms/step - loss: nan - accuracy: 0.7634 - val_loss: nan - val_accuracy: 0.0000e+00\n",
            "Epoch 6/10\n",
            "5329/5329 [==============================] - 9s 2ms/step - loss: nan - accuracy: 0.0000e+00 - val_loss: nan - val_accuracy: 0.0000e+00\n",
            "Epoch 7/10\n",
            "5329/5329 [==============================] - 9s 2ms/step - loss: nan - accuracy: 0.0000e+00 - val_loss: nan - val_accuracy: 0.0000e+00\n",
            "Epoch 8/10\n",
            "5329/5329 [==============================] - 10s 2ms/step - loss: nan - accuracy: 0.0000e+00 - val_loss: nan - val_accuracy: 0.0000e+00\n",
            "Epoch 9/10\n",
            "5329/5329 [==============================] - 9s 2ms/step - loss: nan - accuracy: 0.0000e+00 - val_loss: nan - val_accuracy: 0.0000e+00\n",
            "Epoch 10/10\n",
            "5329/5329 [==============================] - 9s 2ms/step - loss: nan - accuracy: 0.0000e+00 - val_loss: nan - val_accuracy: 0.0000e+00\n"
          ],
          "name": "stdout"
        },
        {
          "output_type": "stream",
          "text": [
            "\n",
            " 99%|█████████▉| 178/180 [2:18:34<02:29, 74.88s/it]\u001b[A"
          ],
          "name": "stderr"
        },
        {
          "output_type": "stream",
          "text": [
            "Train on 5329 samples, validate on 1523 samples\n",
            "Epoch 1/10\n",
            "5329/5329 [==============================] - 11s 2ms/step - loss: 0.9131 - accuracy: 0.6887 - val_loss: 0.4275 - val_accuracy: 0.8168\n",
            "Epoch 2/10\n",
            "5329/5329 [==============================] - 11s 2ms/step - loss: 0.4163 - accuracy: 0.8219 - val_loss: nan - val_accuracy: 0.8345\n",
            "Epoch 3/10\n",
            "5329/5329 [==============================] - 11s 2ms/step - loss: nan - accuracy: 0.0595 - val_loss: nan - val_accuracy: 0.0000e+00\n",
            "Epoch 4/10\n",
            "5329/5329 [==============================] - 11s 2ms/step - loss: nan - accuracy: 0.0000e+00 - val_loss: nan - val_accuracy: 0.0000e+00\n",
            "Epoch 5/10\n",
            "5329/5329 [==============================] - 11s 2ms/step - loss: nan - accuracy: 0.0000e+00 - val_loss: nan - val_accuracy: 0.0000e+00\n",
            "Epoch 6/10\n",
            "5329/5329 [==============================] - 11s 2ms/step - loss: nan - accuracy: 0.0000e+00 - val_loss: nan - val_accuracy: 0.0000e+00\n",
            "Epoch 7/10\n",
            "5329/5329 [==============================] - 11s 2ms/step - loss: nan - accuracy: 0.0000e+00 - val_loss: nan - val_accuracy: 0.0000e+00\n",
            "Epoch 8/10\n",
            "5329/5329 [==============================] - 11s 2ms/step - loss: nan - accuracy: 0.0000e+00 - val_loss: nan - val_accuracy: 0.0000e+00\n",
            "Epoch 9/10\n",
            "5329/5329 [==============================] - 12s 2ms/step - loss: nan - accuracy: 0.0000e+00 - val_loss: nan - val_accuracy: 0.0000e+00\n",
            "Epoch 10/10\n",
            "5329/5329 [==============================] - 11s 2ms/step - loss: nan - accuracy: 0.0000e+00 - val_loss: nan - val_accuracy: 0.0000e+00\n"
          ],
          "name": "stdout"
        },
        {
          "output_type": "stream",
          "text": [
            "\n",
            " 99%|█████████▉| 179/180 [2:20:26<01:25, 85.83s/it]\u001b[A"
          ],
          "name": "stderr"
        },
        {
          "output_type": "stream",
          "text": [
            "Train on 5329 samples, validate on 1523 samples\n",
            "Epoch 1/10\n",
            "5329/5329 [==============================] - 13s 2ms/step - loss: 3.6565 - accuracy: 0.6767 - val_loss: 0.4549 - val_accuracy: 0.8043\n",
            "Epoch 2/10\n",
            "5329/5329 [==============================] - 12s 2ms/step - loss: 0.4193 - accuracy: 0.8176 - val_loss: 0.3984 - val_accuracy: 0.8227\n",
            "Epoch 3/10\n",
            "5329/5329 [==============================] - 13s 2ms/step - loss: nan - accuracy: 0.4586 - val_loss: nan - val_accuracy: 0.0000e+00\n",
            "Epoch 4/10\n",
            "5329/5329 [==============================] - 13s 2ms/step - loss: nan - accuracy: 0.0000e+00 - val_loss: nan - val_accuracy: 0.0000e+00\n",
            "Epoch 5/10\n",
            "5329/5329 [==============================] - 13s 2ms/step - loss: nan - accuracy: 0.0000e+00 - val_loss: nan - val_accuracy: 0.0000e+00\n",
            "Epoch 6/10\n",
            "5329/5329 [==============================] - 14s 3ms/step - loss: nan - accuracy: 0.0000e+00 - val_loss: nan - val_accuracy: 0.0000e+00\n",
            "Epoch 7/10\n",
            "5329/5329 [==============================] - 14s 3ms/step - loss: nan - accuracy: 0.0000e+00 - val_loss: nan - val_accuracy: 0.0000e+00\n",
            "Epoch 8/10\n",
            "5329/5329 [==============================] - 13s 3ms/step - loss: nan - accuracy: 0.0000e+00 - val_loss: nan - val_accuracy: 0.0000e+00\n",
            "Epoch 9/10\n",
            "5329/5329 [==============================] - 13s 2ms/step - loss: nan - accuracy: 0.0000e+00 - val_loss: nan - val_accuracy: 0.0000e+00\n",
            "Epoch 10/10\n",
            "5329/5329 [==============================] - 13s 2ms/step - loss: nan - accuracy: 0.0000e+00 - val_loss: nan - val_accuracy: 0.0000e+00\n"
          ],
          "name": "stdout"
        },
        {
          "output_type": "stream",
          "text": [
            "\n",
            "100%|██████████| 180/180 [2:22:39<00:00, 47.55s/it] \n"
          ],
          "name": "stderr"
        }
      ]
    },
    {
      "cell_type": "code",
      "metadata": {
        "id": "m2H7Il5NfZyu",
        "colab_type": "code",
        "colab": {
          "base_uri": "https://localhost:8080/",
          "height": 204
        },
        "outputId": "6fd87b43-8fd1-4d9c-8587-991d40fd5488"
      },
      "source": [
        "#experiment_data = t.data\n",
        "#experiment_data.head()"
      ],
      "execution_count": 375,
      "outputs": [
        {
          "output_type": "execute_result",
          "data": {
            "text/html": [
              "<div>\n",
              "<style scoped>\n",
              "    .dataframe tbody tr th:only-of-type {\n",
              "        vertical-align: middle;\n",
              "    }\n",
              "\n",
              "    .dataframe tbody tr th {\n",
              "        vertical-align: top;\n",
              "    }\n",
              "\n",
              "    .dataframe thead th {\n",
              "        text-align: right;\n",
              "    }\n",
              "</style>\n",
              "<table border=\"1\" class=\"dataframe\">\n",
              "  <thead>\n",
              "    <tr style=\"text-align: right;\">\n",
              "      <th></th>\n",
              "      <th>round_epochs</th>\n",
              "      <th>val_loss</th>\n",
              "      <th>val_accuracy</th>\n",
              "      <th>loss</th>\n",
              "      <th>accuracy</th>\n",
              "      <th>activation</th>\n",
              "      <th>batch size</th>\n",
              "      <th>epochs</th>\n",
              "      <th>neuron_units_1</th>\n",
              "    </tr>\n",
              "  </thead>\n",
              "  <tbody>\n",
              "    <tr>\n",
              "      <th>0</th>\n",
              "      <td>1</td>\n",
              "      <td>0.414556</td>\n",
              "      <td>0.818122</td>\n",
              "      <td>0.534374</td>\n",
              "      <td>0.721148</td>\n",
              "      <td>relu</td>\n",
              "      <td>5</td>\n",
              "      <td>1</td>\n",
              "      <td>20</td>\n",
              "    </tr>\n",
              "    <tr>\n",
              "      <th>1</th>\n",
              "      <td>1</td>\n",
              "      <td>0.395249</td>\n",
              "      <td>0.835194</td>\n",
              "      <td>0.526109</td>\n",
              "      <td>0.739914</td>\n",
              "      <td>relu</td>\n",
              "      <td>5</td>\n",
              "      <td>1</td>\n",
              "      <td>32</td>\n",
              "    </tr>\n",
              "    <tr>\n",
              "      <th>2</th>\n",
              "      <td>1</td>\n",
              "      <td>0.402230</td>\n",
              "      <td>0.832567</td>\n",
              "      <td>0.515658</td>\n",
              "      <td>0.747607</td>\n",
              "      <td>relu</td>\n",
              "      <td>5</td>\n",
              "      <td>1</td>\n",
              "      <td>64</td>\n",
              "    </tr>\n",
              "    <tr>\n",
              "      <th>3</th>\n",
              "      <td>1</td>\n",
              "      <td>0.383480</td>\n",
              "      <td>0.845699</td>\n",
              "      <td>0.510647</td>\n",
              "      <td>0.748170</td>\n",
              "      <td>relu</td>\n",
              "      <td>5</td>\n",
              "      <td>1</td>\n",
              "      <td>128</td>\n",
              "    </tr>\n",
              "    <tr>\n",
              "      <th>4</th>\n",
              "      <td>5</td>\n",
              "      <td>0.330322</td>\n",
              "      <td>0.866054</td>\n",
              "      <td>0.259439</td>\n",
              "      <td>0.895478</td>\n",
              "      <td>relu</td>\n",
              "      <td>5</td>\n",
              "      <td>5</td>\n",
              "      <td>20</td>\n",
              "    </tr>\n",
              "  </tbody>\n",
              "</table>\n",
              "</div>"
            ],
            "text/plain": [
              "   round_epochs  val_loss  val_accuracy  ...  batch size  epochs neuron_units_1\n",
              "0             1  0.414556      0.818122  ...           5       1             20\n",
              "1             1  0.395249      0.835194  ...           5       1             32\n",
              "2             1  0.402230      0.832567  ...           5       1             64\n",
              "3             1  0.383480      0.845699  ...           5       1            128\n",
              "4             5  0.330322      0.866054  ...           5       5             20\n",
              "\n",
              "[5 rows x 9 columns]"
            ]
          },
          "metadata": {
            "tags": []
          },
          "execution_count": 375
        }
      ]
    },
    {
      "cell_type": "code",
      "metadata": {
        "id": "ng9h8P7FgM8_",
        "colab_type": "code",
        "colab": {}
      },
      "source": [
        "#maxim=experiment_data['val_accuracy'].idxmax()"
      ],
      "execution_count": 376,
      "outputs": []
    },
    {
      "cell_type": "code",
      "metadata": {
        "id": "sb3VCH5agO5l",
        "colab_type": "code",
        "colab": {
          "base_uri": "https://localhost:8080/",
          "height": 187
        },
        "outputId": "c1075930-b879-4458-eb67-6fd84d7ced39"
      },
      "source": [
        "#experiment_data.iloc[maxim]"
      ],
      "execution_count": 377,
      "outputs": [
        {
          "output_type": "execute_result",
          "data": {
            "text/plain": [
              "round_epochs            10\n",
              "val_loss          0.273535\n",
              "val_accuracy      0.911359\n",
              "loss              0.144524\n",
              "accuracy          0.945393\n",
              "activation            tanh\n",
              "batch size               5\n",
              "epochs                  10\n",
              "neuron_units_1          32\n",
              "Name: 141, dtype: object"
            ]
          },
          "metadata": {
            "tags": []
          },
          "execution_count": 377
        }
      ]
    },
    {
      "cell_type": "code",
      "metadata": {
        "id": "h342iEJtqagi",
        "colab_type": "code",
        "colab": {
          "base_uri": "https://localhost:8080/",
          "height": 17
        },
        "outputId": "9ae14c49-be8e-4494-b353-1b863cfe29bc"
      },
      "source": [
        "experiment_data.to_csv('experiment.csv')\n",
        "#files.download('experiment.csv')"
      ],
      "execution_count": 378,
      "outputs": [
        {
          "output_type": "display_data",
          "data": {
            "application/javascript": [
              "\n",
              "    async function download(id, filename, size) {\n",
              "      if (!google.colab.kernel.accessAllowed) {\n",
              "        return;\n",
              "      }\n",
              "      const div = document.createElement('div');\n",
              "      const label = document.createElement('label');\n",
              "      label.textContent = `Downloading \"${filename}\": `;\n",
              "      div.appendChild(label);\n",
              "      const progress = document.createElement('progress');\n",
              "      progress.max = size;\n",
              "      div.appendChild(progress);\n",
              "      document.body.appendChild(div);\n",
              "\n",
              "      const buffers = [];\n",
              "      let downloaded = 0;\n",
              "\n",
              "      const channel = await google.colab.kernel.comms.open(id);\n",
              "      // Send a message to notify the kernel that we're ready.\n",
              "      channel.send({})\n",
              "\n",
              "      for await (const message of channel.messages) {\n",
              "        // Send a message to notify the kernel that we're ready.\n",
              "        channel.send({})\n",
              "        if (message.buffers) {\n",
              "          for (const buffer of message.buffers) {\n",
              "            buffers.push(buffer);\n",
              "            downloaded += buffer.byteLength;\n",
              "            progress.value = downloaded;\n",
              "          }\n",
              "        }\n",
              "      }\n",
              "      const blob = new Blob(buffers, {type: 'application/binary'});\n",
              "      const a = document.createElement('a');\n",
              "      a.href = window.URL.createObjectURL(blob);\n",
              "      a.download = filename;\n",
              "      div.appendChild(a);\n",
              "      a.click();\n",
              "      div.remove();\n",
              "    }\n",
              "  "
            ],
            "text/plain": [
              "<IPython.core.display.Javascript object>"
            ]
          },
          "metadata": {
            "tags": []
          }
        },
        {
          "output_type": "display_data",
          "data": {
            "application/javascript": [
              "download(\"download_867d39a7-993d-4f3c-8813-c5433ec16474\", \"experiment.csv\", 16512)"
            ],
            "text/plain": [
              "<IPython.core.display.Javascript object>"
            ]
          },
          "metadata": {
            "tags": []
          }
        }
      ]
    },
    {
      "cell_type": "markdown",
      "metadata": {
        "id": "ep4clqa0Bchy",
        "colab_type": "text"
      },
      "source": [
        "Dalos experimentales:\n",
        "\n",
        "round_epochs            10\n",
        "val_loss          0.273535\n",
        "val_accuracy      0.911359\n",
        "loss              0.144524\n",
        "accuracy          0.945393\n",
        "activation            tanh\n",
        "batch size               5\n",
        "epochs                  10\n",
        "neuron_units_1          32\n",
        "\n",
        "\n",
        "\n"
      ]
    },
    {
      "cell_type": "code",
      "metadata": {
        "id": "icih9-VtBaAa",
        "colab_type": "code",
        "colab": {
          "base_uri": "https://localhost:8080/",
          "height": 204
        },
        "outputId": "f299dcbb-a306-4c08-e9ac-951beefb39b4"
      },
      "source": [
        "# Divide el set en train y validation, y entrena con el modelo tomando los hiperparámetros sugeridos\n",
        "\n",
        "x_train, x_test, y_train, y_test = train_test_split(train_df['text'],train_df['target'],random_state=7,test_size = 0.20)\n",
        "  \n",
        "tokenizer = Tokenizer(num_words=2000)\n",
        "tokenizer.fit_on_texts(x_train)\n",
        "\n",
        "train_sequences = tokenizer.texts_to_sequences(x_train)\n",
        "validation_sequences = tokenizer.texts_to_sequences(x_validation)\n",
        "train_data = pad_sequences(train_sequences, maxlen=100)\n",
        "validation_data = pad_sequences(validation_sequences, maxlen=100)\n",
        "\n",
        "\n",
        "#input_dim = x_train.shape[1]\n",
        "\n",
        "best_model = Sequential()\n",
        "best_model.add(layers.Embedding(2000, 100, input_length=100))\n",
        "best_model.add(Conv1D(128, 5, activation='elu'))\n",
        "best_model.add(layers.GlobalAveragePooling1D())\n",
        "#best_model.add(Conv1D(512, 5, activation='elu'))\n",
        "#best_model.add(layers.GlobalAveragePooling1D())\n",
        "#best_model.add(Conv1D(512, 5, activation='elu'))\n",
        "#best_model.add(layers.GlobalAveragePooling1D())\n",
        "#best_model.add(MaxPooling1D(5))\n",
        "#best_model.add(layers.Dropout(0.25))\n",
        "#best_model.add(Flatten())\n",
        "best_model.add(layers.Dense(128 ,activation='elu'))\n",
        "#best_model.add(layers.Dense(128 ,activation='relu'))\n",
        "best_model.add(layers.Dense(1,activation='sigmoid'))\n",
        "best_model.compile(loss='binary_crossentropy', optimizer='adam', metrics=['accuracy'])\n",
        "out = best_model.fit(train_data,y_train,epochs=5,verbose = 1,validation_data = (validation_data,y_validation),batch_size=50)"
      ],
      "execution_count": 379,
      "outputs": [
        {
          "output_type": "stream",
          "text": [
            "Train on 6090 samples, validate on 1523 samples\n",
            "Epoch 1/5\n",
            "6090/6090 [==============================] - 8s 1ms/step - loss: 0.6434 - accuracy: 0.6197 - val_loss: 0.5679 - val_accuracy: 0.7255\n",
            "Epoch 2/5\n",
            "6090/6090 [==============================] - 8s 1ms/step - loss: 0.4508 - accuracy: 0.7944 - val_loss: 0.4634 - val_accuracy: 0.7958\n",
            "Epoch 3/5\n",
            "6090/6090 [==============================] - 7s 1ms/step - loss: 0.3752 - accuracy: 0.8401 - val_loss: 0.4552 - val_accuracy: 0.8056\n",
            "Epoch 4/5\n",
            "6090/6090 [==============================] - 8s 1ms/step - loss: 0.3429 - accuracy: 0.8509 - val_loss: 0.4671 - val_accuracy: 0.7925\n",
            "Epoch 5/5\n",
            "6090/6090 [==============================] - 8s 1ms/step - loss: 0.3379 - accuracy: 0.8529 - val_loss: 0.4924 - val_accuracy: 0.7787\n"
          ],
          "name": "stdout"
        }
      ]
    },
    {
      "cell_type": "code",
      "metadata": {
        "id": "ZALQoegkTQEu",
        "colab_type": "code",
        "colab": {
          "base_uri": "https://localhost:8080/",
          "height": 34
        },
        "outputId": "f9e307f1-002d-4d57-9be0-279c2e43e6ca"
      },
      "source": [
        "prediction=best_model.predict_classes(validation_data, batch_size=50)\n",
        "score = roc_auc_score(y_validation, prediction)\n",
        "score"
      ],
      "execution_count": 380,
      "outputs": [
        {
          "output_type": "execute_result",
          "data": {
            "text/plain": [
              "0.781778196504451"
            ]
          },
          "metadata": {
            "tags": []
          },
          "execution_count": 380
        }
      ]
    },
    {
      "cell_type": "code",
      "metadata": {
        "id": "0ol2R8WZ5iRW",
        "colab_type": "code",
        "colab": {
          "base_uri": "https://localhost:8080/",
          "height": 34
        },
        "outputId": "65616db9-7f23-46c9-fcbb-226812898afb"
      },
      "source": [
        "accuracy=metrics.accuracy_score(y_validation, prediction)\n",
        "accuracy"
      ],
      "execution_count": 381,
      "outputs": [
        {
          "output_type": "execute_result",
          "data": {
            "text/plain": [
              "0.7787261982928431"
            ]
          },
          "metadata": {
            "tags": []
          },
          "execution_count": 381
        }
      ]
    },
    {
      "cell_type": "code",
      "metadata": {
        "id": "gAnMJ35VuKY2",
        "colab_type": "code",
        "colab": {
          "base_uri": "https://localhost:8080/",
          "height": 136
        },
        "outputId": "e4050894-04f7-4436-f3a1-f70106848edd"
      },
      "source": [
        "#Reentrena con el set completo y realiza predicción.\n",
        "\n",
        "#set_sequences = tokenizer.texts_to_sequences(train_df['text'])\n",
        "#set_data = pad_sequences(set_sequences, maxlen=100)\n",
        "\n",
        "#out = best_model.fit(set_data,train_df['target'],epochs = 5,verbose = 1,batch_size=62)\n",
        "\n",
        "#out = best_model.fit(data_train,train_df['target'],epochs = 5,verbose = 1,batch_size=62)\n",
        "#data_test = vectorizer.transform(test_df['text']).toarray()\n",
        "test_prediction = tokenizer.texts_to_sequences(test_df['text'])\n",
        "prediction_data = pad_sequences(test_prediction, maxlen=100)\n",
        "\n",
        "prediction2=best_model.predict_classes(prediction_data, batch_size=50)\n",
        "prediction2"
      ],
      "execution_count": 382,
      "outputs": [
        {
          "output_type": "execute_result",
          "data": {
            "text/plain": [
              "array([[1],\n",
              "       [1],\n",
              "       [1],\n",
              "       ...,\n",
              "       [1],\n",
              "       [1],\n",
              "       [1]], dtype=int32)"
            ]
          },
          "metadata": {
            "tags": []
          },
          "execution_count": 382
        }
      ]
    },
    {
      "cell_type": "code",
      "metadata": {
        "id": "proKjqG3t9hY",
        "colab_type": "code",
        "colab": {}
      },
      "source": [
        "# Genera archivo submit.\n",
        "\n",
        "test_df['target'] = prediction2\n",
        "export = pd.DataFrame()\n",
        "export['id'] = test_df['id']\n",
        "export['target'] = test_df['target']\n",
        "export = export.set_index('id')\n",
        "export.to_csv('submit.csv')\n",
        "#files.download('submit.csv')"
      ],
      "execution_count": 383,
      "outputs": []
    }
  ]
}