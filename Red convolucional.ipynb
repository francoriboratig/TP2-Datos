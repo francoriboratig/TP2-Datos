{
  "nbformat": 4,
  "nbformat_minor": 0,
  "metadata": {
    "colab": {
      "name": "Keras hyperparameter tuning.ipynb",
      "provenance": [],
      "collapsed_sections": [],
      "include_colab_link": true
    },
    "kernelspec": {
      "name": "python3",
      "display_name": "Python 3"
    }
  },
  "cells": [
    {
      "cell_type": "markdown",
      "metadata": {
        "id": "view-in-github",
        "colab_type": "text"
      },
      "source": [
        "<a href=\"https://colab.research.google.com/github/francoriboratig/TP2-Datos/blob/master/Red%20convolucional.ipynb\" target=\"_parent\"><img src=\"https://colab.research.google.com/assets/colab-badge.svg\" alt=\"Open In Colab\"/></a>"
      ]
    },
    {
      "cell_type": "code",
      "metadata": {
        "id": "xB4ZOJSvG-Fi",
        "colab_type": "code",
        "colab": {
          "base_uri": "https://localhost:8080/",
          "height": 1000
        },
        "outputId": "da1e4904-6e31-4cc8-a2d9-dbd5c265d500"
      },
      "source": [
        "import numpy as np\n",
        "import tensorflow as tf\n",
        "import pandas as pd\n",
        "import tensorflow.keras as keras\n",
        "import sklearn as sklearn\n",
        "from sklearn.model_selection import train_test_split\n",
        "from sklearn.feature_extraction.text import CountVectorizer\n",
        "from tensorflow.keras.preprocessing.text import Tokenizer\n",
        "from tensorflow.keras.preprocessing.sequence import pad_sequences\n",
        "from keras.layers import MaxPooling1D\n",
        "from keras.layers import Conv1D\n",
        "from keras.layers.recurrent import LSTM\n",
        "from keras.models import Sequential\n",
        "from keras import layers\n",
        "from google.colab import files\n",
        "from sklearn.metrics import roc_auc_score\n",
        "from sklearn import metrics\n",
        "!pip install talos\n",
        "import talos"
      ],
      "execution_count": 1,
      "outputs": [
        {
          "output_type": "stream",
          "text": [
            "/usr/local/lib/python3.6/dist-packages/tensorflow/python/framework/dtypes.py:516: FutureWarning: Passing (type, 1) or '1type' as a synonym of type is deprecated; in a future version of numpy, it will be understood as (type, (1,)) / '(1,)type'.\n",
            "  _np_qint8 = np.dtype([(\"qint8\", np.int8, 1)])\n",
            "/usr/local/lib/python3.6/dist-packages/tensorflow/python/framework/dtypes.py:517: FutureWarning: Passing (type, 1) or '1type' as a synonym of type is deprecated; in a future version of numpy, it will be understood as (type, (1,)) / '(1,)type'.\n",
            "  _np_quint8 = np.dtype([(\"quint8\", np.uint8, 1)])\n",
            "/usr/local/lib/python3.6/dist-packages/tensorflow/python/framework/dtypes.py:518: FutureWarning: Passing (type, 1) or '1type' as a synonym of type is deprecated; in a future version of numpy, it will be understood as (type, (1,)) / '(1,)type'.\n",
            "  _np_qint16 = np.dtype([(\"qint16\", np.int16, 1)])\n",
            "/usr/local/lib/python3.6/dist-packages/tensorflow/python/framework/dtypes.py:519: FutureWarning: Passing (type, 1) or '1type' as a synonym of type is deprecated; in a future version of numpy, it will be understood as (type, (1,)) / '(1,)type'.\n",
            "  _np_quint16 = np.dtype([(\"quint16\", np.uint16, 1)])\n",
            "/usr/local/lib/python3.6/dist-packages/tensorflow/python/framework/dtypes.py:520: FutureWarning: Passing (type, 1) or '1type' as a synonym of type is deprecated; in a future version of numpy, it will be understood as (type, (1,)) / '(1,)type'.\n",
            "  _np_qint32 = np.dtype([(\"qint32\", np.int32, 1)])\n",
            "/usr/local/lib/python3.6/dist-packages/tensorflow/python/framework/dtypes.py:525: FutureWarning: Passing (type, 1) or '1type' as a synonym of type is deprecated; in a future version of numpy, it will be understood as (type, (1,)) / '(1,)type'.\n",
            "  np_resource = np.dtype([(\"resource\", np.ubyte, 1)])\n",
            "/usr/local/lib/python3.6/dist-packages/tensorboard/compat/tensorflow_stub/dtypes.py:541: FutureWarning: Passing (type, 1) or '1type' as a synonym of type is deprecated; in a future version of numpy, it will be understood as (type, (1,)) / '(1,)type'.\n",
            "  _np_qint8 = np.dtype([(\"qint8\", np.int8, 1)])\n",
            "/usr/local/lib/python3.6/dist-packages/tensorboard/compat/tensorflow_stub/dtypes.py:542: FutureWarning: Passing (type, 1) or '1type' as a synonym of type is deprecated; in a future version of numpy, it will be understood as (type, (1,)) / '(1,)type'.\n",
            "  _np_quint8 = np.dtype([(\"quint8\", np.uint8, 1)])\n",
            "/usr/local/lib/python3.6/dist-packages/tensorboard/compat/tensorflow_stub/dtypes.py:543: FutureWarning: Passing (type, 1) or '1type' as a synonym of type is deprecated; in a future version of numpy, it will be understood as (type, (1,)) / '(1,)type'.\n",
            "  _np_qint16 = np.dtype([(\"qint16\", np.int16, 1)])\n",
            "/usr/local/lib/python3.6/dist-packages/tensorboard/compat/tensorflow_stub/dtypes.py:544: FutureWarning: Passing (type, 1) or '1type' as a synonym of type is deprecated; in a future version of numpy, it will be understood as (type, (1,)) / '(1,)type'.\n",
            "  _np_quint16 = np.dtype([(\"quint16\", np.uint16, 1)])\n",
            "/usr/local/lib/python3.6/dist-packages/tensorboard/compat/tensorflow_stub/dtypes.py:545: FutureWarning: Passing (type, 1) or '1type' as a synonym of type is deprecated; in a future version of numpy, it will be understood as (type, (1,)) / '(1,)type'.\n",
            "  _np_qint32 = np.dtype([(\"qint32\", np.int32, 1)])\n",
            "/usr/local/lib/python3.6/dist-packages/tensorboard/compat/tensorflow_stub/dtypes.py:550: FutureWarning: Passing (type, 1) or '1type' as a synonym of type is deprecated; in a future version of numpy, it will be understood as (type, (1,)) / '(1,)type'.\n",
            "  np_resource = np.dtype([(\"resource\", np.ubyte, 1)])\n",
            "Using TensorFlow backend.\n"
          ],
          "name": "stderr"
        },
        {
          "output_type": "stream",
          "text": [
            "Requirement already satisfied: talos in /usr/local/lib/python3.6/dist-packages (0.6.6)\n",
            "Requirement already satisfied: tensorflow==1.14.0 in /usr/local/lib/python3.6/dist-packages (from talos) (1.14.0)\n",
            "Requirement already satisfied: numpy in /usr/local/lib/python3.6/dist-packages (from talos) (1.18.5)\n",
            "Requirement already satisfied: sklearn in /usr/local/lib/python3.6/dist-packages (from talos) (0.0)\n",
            "Requirement already satisfied: pandas in /usr/local/lib/python3.6/dist-packages (from talos) (1.0.5)\n",
            "Requirement already satisfied: wrangle in /usr/local/lib/python3.6/dist-packages (from talos) (0.6.7)\n",
            "Requirement already satisfied: keras==2.3.0 in /usr/local/lib/python3.6/dist-packages (from talos) (2.3.0)\n",
            "Requirement already satisfied: tqdm in /usr/local/lib/python3.6/dist-packages (from talos) (4.41.1)\n",
            "Requirement already satisfied: statsmodels>=0.11.0 in /usr/local/lib/python3.6/dist-packages (from talos) (0.11.1)\n",
            "Requirement already satisfied: chances in /usr/local/lib/python3.6/dist-packages (from talos) (0.1.9)\n",
            "Requirement already satisfied: astetik in /usr/local/lib/python3.6/dist-packages (from talos) (1.9.9)\n",
            "Requirement already satisfied: kerasplotlib in /usr/local/lib/python3.6/dist-packages (from talos) (0.1.6)\n",
            "Requirement already satisfied: requests in /usr/local/lib/python3.6/dist-packages (from talos) (2.23.0)\n",
            "Requirement already satisfied: astor>=0.6.0 in /usr/local/lib/python3.6/dist-packages (from tensorflow==1.14.0->talos) (0.8.1)\n",
            "Requirement already satisfied: six>=1.10.0 in /usr/local/lib/python3.6/dist-packages (from tensorflow==1.14.0->talos) (1.15.0)\n",
            "Requirement already satisfied: protobuf>=3.6.1 in /usr/local/lib/python3.6/dist-packages (from tensorflow==1.14.0->talos) (3.12.4)\n",
            "Requirement already satisfied: wrapt>=1.11.1 in /usr/local/lib/python3.6/dist-packages (from tensorflow==1.14.0->talos) (1.12.1)\n",
            "Requirement already satisfied: absl-py>=0.7.0 in /usr/local/lib/python3.6/dist-packages (from tensorflow==1.14.0->talos) (0.9.0)\n",
            "Requirement already satisfied: wheel>=0.26 in /usr/local/lib/python3.6/dist-packages (from tensorflow==1.14.0->talos) (0.34.2)\n",
            "Requirement already satisfied: keras-preprocessing>=1.0.5 in /usr/local/lib/python3.6/dist-packages (from tensorflow==1.14.0->talos) (1.1.2)\n",
            "Requirement already satisfied: tensorflow-estimator<1.15.0rc0,>=1.14.0rc0 in /usr/local/lib/python3.6/dist-packages (from tensorflow==1.14.0->talos) (1.14.0)\n",
            "Requirement already satisfied: termcolor>=1.1.0 in /usr/local/lib/python3.6/dist-packages (from tensorflow==1.14.0->talos) (1.1.0)\n",
            "Requirement already satisfied: grpcio>=1.8.6 in /usr/local/lib/python3.6/dist-packages (from tensorflow==1.14.0->talos) (1.30.0)\n",
            "Requirement already satisfied: google-pasta>=0.1.6 in /usr/local/lib/python3.6/dist-packages (from tensorflow==1.14.0->talos) (0.2.0)\n",
            "Requirement already satisfied: gast>=0.2.0 in /usr/local/lib/python3.6/dist-packages (from tensorflow==1.14.0->talos) (0.3.3)\n",
            "Requirement already satisfied: keras-applications>=1.0.6 in /usr/local/lib/python3.6/dist-packages (from tensorflow==1.14.0->talos) (1.0.8)\n",
            "Requirement already satisfied: tensorboard<1.15.0,>=1.14.0 in /usr/local/lib/python3.6/dist-packages (from tensorflow==1.14.0->talos) (1.14.0)\n",
            "Requirement already satisfied: scikit-learn in /usr/local/lib/python3.6/dist-packages (from sklearn->talos) (0.22.2.post1)\n",
            "Requirement already satisfied: pytz>=2017.2 in /usr/local/lib/python3.6/dist-packages (from pandas->talos) (2018.9)\n",
            "Requirement already satisfied: python-dateutil>=2.6.1 in /usr/local/lib/python3.6/dist-packages (from pandas->talos) (2.8.1)\n",
            "Requirement already satisfied: scipy==1.2 in /usr/local/lib/python3.6/dist-packages (from wrangle->talos) (1.2.0)\n",
            "Requirement already satisfied: pyyaml in /usr/local/lib/python3.6/dist-packages (from keras==2.3.0->talos) (3.13)\n",
            "Requirement already satisfied: h5py in /usr/local/lib/python3.6/dist-packages (from keras==2.3.0->talos) (2.10.0)\n",
            "Requirement already satisfied: patsy>=0.5 in /usr/local/lib/python3.6/dist-packages (from statsmodels>=0.11.0->talos) (0.5.1)\n",
            "Requirement already satisfied: geonamescache in /usr/local/lib/python3.6/dist-packages (from astetik->talos) (1.2.0)\n",
            "Requirement already satisfied: ipython in /usr/local/lib/python3.6/dist-packages (from kerasplotlib->talos) (5.5.0)\n",
            "Requirement already satisfied: urllib3!=1.25.0,!=1.25.1,<1.26,>=1.21.1 in /usr/local/lib/python3.6/dist-packages (from requests->talos) (1.24.3)\n",
            "Requirement already satisfied: chardet<4,>=3.0.2 in /usr/local/lib/python3.6/dist-packages (from requests->talos) (3.0.4)\n",
            "Requirement already satisfied: certifi>=2017.4.17 in /usr/local/lib/python3.6/dist-packages (from requests->talos) (2020.6.20)\n",
            "Requirement already satisfied: idna<3,>=2.5 in /usr/local/lib/python3.6/dist-packages (from requests->talos) (2.10)\n",
            "Requirement already satisfied: setuptools in /usr/local/lib/python3.6/dist-packages (from protobuf>=3.6.1->tensorflow==1.14.0->talos) (49.2.0)\n",
            "Requirement already satisfied: markdown>=2.6.8 in /usr/local/lib/python3.6/dist-packages (from tensorboard<1.15.0,>=1.14.0->tensorflow==1.14.0->talos) (3.2.2)\n",
            "Requirement already satisfied: werkzeug>=0.11.15 in /usr/local/lib/python3.6/dist-packages (from tensorboard<1.15.0,>=1.14.0->tensorflow==1.14.0->talos) (1.0.1)\n",
            "Requirement already satisfied: joblib>=0.11 in /usr/local/lib/python3.6/dist-packages (from scikit-learn->sklearn->talos) (0.16.0)\n",
            "Requirement already satisfied: decorator in /usr/local/lib/python3.6/dist-packages (from ipython->kerasplotlib->talos) (4.4.2)\n",
            "Requirement already satisfied: simplegeneric>0.8 in /usr/local/lib/python3.6/dist-packages (from ipython->kerasplotlib->talos) (0.8.1)\n",
            "Requirement already satisfied: pickleshare in /usr/local/lib/python3.6/dist-packages (from ipython->kerasplotlib->talos) (0.7.5)\n",
            "Requirement already satisfied: pygments in /usr/local/lib/python3.6/dist-packages (from ipython->kerasplotlib->talos) (2.1.3)\n",
            "Requirement already satisfied: pexpect; sys_platform != \"win32\" in /usr/local/lib/python3.6/dist-packages (from ipython->kerasplotlib->talos) (4.8.0)\n",
            "Requirement already satisfied: traitlets>=4.2 in /usr/local/lib/python3.6/dist-packages (from ipython->kerasplotlib->talos) (4.3.3)\n",
            "Requirement already satisfied: prompt-toolkit<2.0.0,>=1.0.4 in /usr/local/lib/python3.6/dist-packages (from ipython->kerasplotlib->talos) (1.0.18)\n",
            "Requirement already satisfied: importlib-metadata; python_version < \"3.8\" in /usr/local/lib/python3.6/dist-packages (from markdown>=2.6.8->tensorboard<1.15.0,>=1.14.0->tensorflow==1.14.0->talos) (1.7.0)\n",
            "Requirement already satisfied: ptyprocess>=0.5 in /usr/local/lib/python3.6/dist-packages (from pexpect; sys_platform != \"win32\"->ipython->kerasplotlib->talos) (0.6.0)\n",
            "Requirement already satisfied: ipython-genutils in /usr/local/lib/python3.6/dist-packages (from traitlets>=4.2->ipython->kerasplotlib->talos) (0.2.0)\n",
            "Requirement already satisfied: wcwidth in /usr/local/lib/python3.6/dist-packages (from prompt-toolkit<2.0.0,>=1.0.4->ipython->kerasplotlib->talos) (0.2.5)\n",
            "Requirement already satisfied: zipp>=0.5 in /usr/local/lib/python3.6/dist-packages (from importlib-metadata; python_version < \"3.8\"->markdown>=2.6.8->tensorboard<1.15.0,>=1.14.0->tensorflow==1.14.0->talos) (3.1.0)\n"
          ],
          "name": "stdout"
        }
      ]
    },
    {
      "cell_type": "code",
      "metadata": {
        "id": "O9xxlwGhHzu-",
        "colab_type": "code",
        "colab": {
          "base_uri": "https://localhost:8080/",
          "height": 204
        },
        "outputId": "ae01f778-e55d-4314-ae38-80d898fdd52c"
      },
      "source": [
        "# CARGAMOS LOS CSV\n",
        "url_train = 'https://raw.githubusercontent.com/JulioCastillo1/TP1-Datos/master/train.csv'\n",
        "url_test = 'https://raw.githubusercontent.com/francoriboratig/TP2-Datos/master/test.csv'\n",
        "\n",
        "train_df = pd.read_csv(url_train)\n",
        "test_df = pd.read_csv(url_test)\n",
        "train_df = train_df.drop(['keyword', 'location','id'], axis = 1)\n",
        "train_df.head()"
      ],
      "execution_count": 2,
      "outputs": [
        {
          "output_type": "execute_result",
          "data": {
            "text/html": [
              "<div>\n",
              "<style scoped>\n",
              "    .dataframe tbody tr th:only-of-type {\n",
              "        vertical-align: middle;\n",
              "    }\n",
              "\n",
              "    .dataframe tbody tr th {\n",
              "        vertical-align: top;\n",
              "    }\n",
              "\n",
              "    .dataframe thead th {\n",
              "        text-align: right;\n",
              "    }\n",
              "</style>\n",
              "<table border=\"1\" class=\"dataframe\">\n",
              "  <thead>\n",
              "    <tr style=\"text-align: right;\">\n",
              "      <th></th>\n",
              "      <th>text</th>\n",
              "      <th>target</th>\n",
              "    </tr>\n",
              "  </thead>\n",
              "  <tbody>\n",
              "    <tr>\n",
              "      <th>0</th>\n",
              "      <td>Our Deeds are the Reason of this #earthquake M...</td>\n",
              "      <td>1</td>\n",
              "    </tr>\n",
              "    <tr>\n",
              "      <th>1</th>\n",
              "      <td>Forest fire near La Ronge Sask. Canada</td>\n",
              "      <td>1</td>\n",
              "    </tr>\n",
              "    <tr>\n",
              "      <th>2</th>\n",
              "      <td>All residents asked to 'shelter in place' are ...</td>\n",
              "      <td>1</td>\n",
              "    </tr>\n",
              "    <tr>\n",
              "      <th>3</th>\n",
              "      <td>13,000 people receive #wildfires evacuation or...</td>\n",
              "      <td>1</td>\n",
              "    </tr>\n",
              "    <tr>\n",
              "      <th>4</th>\n",
              "      <td>Just got sent this photo from Ruby #Alaska as ...</td>\n",
              "      <td>1</td>\n",
              "    </tr>\n",
              "  </tbody>\n",
              "</table>\n",
              "</div>"
            ],
            "text/plain": [
              "                                                text  target\n",
              "0  Our Deeds are the Reason of this #earthquake M...       1\n",
              "1             Forest fire near La Ronge Sask. Canada       1\n",
              "2  All residents asked to 'shelter in place' are ...       1\n",
              "3  13,000 people receive #wildfires evacuation or...       1\n",
              "4  Just got sent this photo from Ruby #Alaska as ...       1"
            ]
          },
          "metadata": {
            "tags": []
          },
          "execution_count": 2
        }
      ]
    },
    {
      "cell_type": "code",
      "metadata": {
        "id": "S3FM6fG3H0yk",
        "colab_type": "code",
        "colab": {
          "base_uri": "https://localhost:8080/",
          "height": 34
        },
        "outputId": "7dd24247-5553-4680-82f6-599a5297484c"
      },
      "source": [
        "train_df.shape"
      ],
      "execution_count": 3,
      "outputs": [
        {
          "output_type": "execute_result",
          "data": {
            "text/plain": [
              "(7613, 2)"
            ]
          },
          "metadata": {
            "tags": []
          },
          "execution_count": 3
        }
      ]
    },
    {
      "cell_type": "code",
      "metadata": {
        "id": "AqSkKT5iH_vk",
        "colab_type": "code",
        "colab": {}
      },
      "source": [
        "x_train, x_validation, y_train, y_validation = train_test_split(train_df['text'],train_df['target'],random_state=7,test_size = 0.20)\n",
        "x_train = train_df['text']\n",
        "y_train = train_df['target']"
      ],
      "execution_count": 4,
      "outputs": []
    },
    {
      "cell_type": "code",
      "metadata": {
        "id": "AdwFLQIZGltH",
        "colab_type": "code",
        "colab": {}
      },
      "source": [
        "def modelardo(x_train,y_train,x_test,y_test,params):\n",
        "  vectorizer = CountVectorizer()\n",
        "  vectorizer.fit(x_train)\n",
        "\n",
        "  x_train = vectorizer.transform(x_train)\n",
        "  x_test = vectorizer.transform(x_test)\n",
        "  input_dim = x_train.shape[1]\n",
        "  model = Sequential()\n",
        "  model.add(layers.Dense(params['first neuron units'],input_dim=input_dim,activation=params['first neuron activation']))\n",
        "  model.add(layers.Dense(1,activation = 'sigmoid'))\n",
        "  model.compile(loss='binary_crossentropy', optimizer='adam', metrics=['accuracy'])\n",
        "  out = model.fit(x_train,y_train,epochs = params['epochs'],verbose = 0,validation_data = (x_test,y_test),batch_size=params['batch size'])\n",
        "  return out,model\n"
      ],
      "execution_count": 5,
      "outputs": []
    },
    {
      "cell_type": "code",
      "metadata": {
        "id": "65ek_jHon6Tv",
        "colab_type": "code",
        "colab": {
          "base_uri": "https://localhost:8080/",
          "height": 34
        },
        "outputId": "dfff94e0-37da-4d61-b0be-60efa1f9dc05"
      },
      "source": [
        "x_train.shape\n",
        "#t = talos.Scan(x_train,y_train,params=p,model=modelardo,experiment_name='diabetes')\n",
        "#Este proceso tarda 1,5hs aprox en colab. Y tiene muy poquitos hiperparámetros para tunear"
      ],
      "execution_count": 6,
      "outputs": [
        {
          "output_type": "execute_result",
          "data": {
            "text/plain": [
              "(7613,)"
            ]
          },
          "metadata": {
            "tags": []
          },
          "execution_count": 6
        }
      ]
    },
    {
      "cell_type": "code",
      "metadata": {
        "id": "gWtUPtK4zyqB",
        "colab_type": "code",
        "colab": {}
      },
      "source": [
        "#experiment_data = t.data\n",
        "#experiment_data.head()"
      ],
      "execution_count": 7,
      "outputs": []
    },
    {
      "cell_type": "code",
      "metadata": {
        "id": "AAekZ6rH0eQn",
        "colab_type": "code",
        "colab": {}
      },
      "source": [
        "#experiment_data['val_accuracy'].idxmax()"
      ],
      "execution_count": 8,
      "outputs": []
    },
    {
      "cell_type": "code",
      "metadata": {
        "id": "v40O3fc_3rJV",
        "colab_type": "code",
        "colab": {}
      },
      "source": [
        "#experiment_data.iloc[205]"
      ],
      "execution_count": 9,
      "outputs": []
    },
    {
      "cell_type": "code",
      "metadata": {
        "id": "HTETHVmSySMz",
        "colab_type": "code",
        "colab": {}
      },
      "source": [
        "#vectorizer = CountVectorizer()\n",
        "#vectorizer.fit(train_df['text'])\n",
        "\n",
        "#data_train = vectorizer.fit_transform(train_df['text']).toarray()\n"
      ],
      "execution_count": 10,
      "outputs": []
    },
    {
      "cell_type": "code",
      "metadata": {
        "id": "xZ5ELEGE31CU",
        "colab_type": "code",
        "colab": {}
      },
      "source": [
        "# Función con el modelo para pasar por parámetro a talos.\n",
        "\n",
        "def modelo(x_train,y_train,x_test,y_test,params):\n",
        "  tokenizer = Tokenizer(num_words=2000)\n",
        "  tokenizer.fit_on_texts(x_train)\n",
        "\n",
        "  train_sequences = tokenizer.texts_to_sequences(x_train)\n",
        "  validation_sequences = tokenizer.texts_to_sequences(x_validation)\n",
        "  train_data = pad_sequences(train_sequences, maxlen=100)\n",
        "  validation_data = pad_sequences(validation_sequences, maxlen=100)\n",
        "\n",
        "\n",
        "  #input_dim = x_train.shape[1]\n",
        "\n",
        "  best_model = Sequential()\n",
        "  best_model.add(layers.Embedding(2000, 100, input_length=100))\n",
        "  best_model.add(Conv1D(128, 5, activation = params['activation']))\n",
        "  best_model.add(layers.GlobalAveragePooling1D())\n",
        "  #best_model.add(Conv1D(512, 5, activation='relu'))\n",
        "  #best_model.add(layers.GlobalAveragePooling1D())\n",
        "  #best_model.add(Conv1D(512, 5, activation='relu'))\n",
        "  #best_model.add(layers.GlobalAveragePooling1D())\n",
        "  #best_model.add(MaxPooling1D(5))\n",
        "  #best_model.add(layers.Dropout(0.25))\n",
        "  #best_model.add(Flatten())\n",
        "  #best_model.add(LSTM(64))\n",
        "  best_model.add(layers.Dense(128, activation = params['activation']))\n",
        "  #best_model.add(layers.Dense(128 ,activation='relu'))\n",
        "  best_model.add(layers.Dense(units = 1, activation='sigmoid'))\n",
        "  #best_model.add(layers.Dense(1,activation = 'sigmoid'))\n",
        "  best_model.compile(loss='binary_crossentropy', optimizer='adam', metrics=['accuracy'])\n",
        "  out = best_model.fit(train_data,y_train,epochs = params['epochs'],verbose = 1,validation_data = (validation_data,y_validation),batch_size=params['batch size'])\n",
        "  return out, best_model\n",
        "\n",
        "#loss, accuracy = best_model.evaluate(train_data, y_train, verbose=False)\n",
        "#print(\"Training Accuracy: {:.4f}\".format(accuracy))\n",
        "#loss, accuracy = best_model.evaluate(validation_data, y_validation, verbose=False)\n",
        "#print(\"Testing Accuracy:  {:.4f}\".format(accuracy))\n",
        "\n",
        "p = {\n",
        "    'neuron_units': [20,32,64,128,256,512],\n",
        "    'activation' : ['relu','elu','softmax','tanh','exponential'],\n",
        "    'epochs' : [1,2,3,4,5,10],\n",
        "    'batch size': [5,100,5],\n",
        "}\n",
        "\n",
        "#t = talos.Scan(x_train, y_train, params = p, model = modelo, experiment_name = 'Convo hyperparam tuning')"
      ],
      "execution_count": 11,
      "outputs": []
    },
    {
      "cell_type": "code",
      "metadata": {
        "id": "icih9-VtBaAa",
        "colab_type": "code",
        "colab": {
          "base_uri": "https://localhost:8080/",
          "height": 309
        },
        "outputId": "19ac840f-5466-4c0b-d4ed-ff87f62c5cf6"
      },
      "source": [
        "# Divide el set en train y validation, y entrena con el modelo tomando los hiperparámetros sugeridos\n",
        "\n",
        "x_train, x_test, y_train, y_test = train_test_split(train_df['text'],train_df['target'],random_state=7,test_size = 0.20)\n",
        "  \n",
        "tokenizer = Tokenizer(num_words=2000)\n",
        "tokenizer.fit_on_texts(x_train)\n",
        "\n",
        "train_sequences = tokenizer.texts_to_sequences(x_train)\n",
        "validation_sequences = tokenizer.texts_to_sequences(x_validation)\n",
        "train_data = pad_sequences(train_sequences, maxlen=100)\n",
        "validation_data = pad_sequences(validation_sequences, maxlen=100)\n",
        "\n",
        "\n",
        "#input_dim = x_train.shape[1]\n",
        "\n",
        "best_model = Sequential()\n",
        "best_model.add(layers.Embedding(2000, 100, input_length=100))\n",
        "best_model.add(Conv1D(128, 5, activation='elu'))\n",
        "best_model.add(layers.GlobalAveragePooling1D())\n",
        "#best_model.add(Conv1D(512, 5, activation='relu'))\n",
        "#best_model.add(layers.GlobalAveragePooling1D())\n",
        "#best_model.add(Conv1D(512, 5, activation='relu'))\n",
        "#best_model.add(layers.GlobalAveragePooling1D())\n",
        "#best_model.add(MaxPooling1D(5))\n",
        "#best_model.add(layers.Dropout(0.25))\n",
        "#best_model.add(Flatten())\n",
        "#best_model.add(LSTM(64))\n",
        "best_model.add(layers.Dense(128 ,activation='elu'))\n",
        "#best_model.add(layers.Dense(128 ,activation='relu'))\n",
        "best_model.add(layers.Dense(1,activation='sigmoid'))\n",
        "#best_model.add(layers.Dense(1,activation = 'sigmoid'))\n",
        "best_model.compile(loss='binary_crossentropy', optimizer='adam', metrics=['accuracy'])\n",
        "out = best_model.fit(train_data,y_train,epochs=5,verbose = 1,validation_data = (validation_data,y_validation),batch_size=50)"
      ],
      "execution_count": 12,
      "outputs": [
        {
          "output_type": "stream",
          "text": [
            "WARNING:tensorflow:From /usr/local/lib/python3.6/dist-packages/tensorflow/python/ops/nn_impl.py:180: add_dispatch_support.<locals>.wrapper (from tensorflow.python.ops.array_ops) is deprecated and will be removed in a future version.\n",
            "Instructions for updating:\n",
            "Use tf.where in 2.0, which has the same broadcast rule as np.where\n",
            "WARNING:tensorflow:From /usr/local/lib/python3.6/dist-packages/keras/backend/tensorflow_backend.py:422: The name tf.global_variables is deprecated. Please use tf.compat.v1.global_variables instead.\n",
            "\n",
            "Train on 6090 samples, validate on 1523 samples\n",
            "Epoch 1/5\n",
            "6090/6090 [==============================] - 7s 1ms/step - loss: 0.6226 - accuracy: 0.6378 - val_loss: 0.4953 - val_accuracy: 0.7722\n",
            "Epoch 2/5\n",
            "6090/6090 [==============================] - 7s 1ms/step - loss: 0.4379 - accuracy: 0.8064 - val_loss: 0.4580 - val_accuracy: 0.8017\n",
            "Epoch 3/5\n",
            "6090/6090 [==============================] - 7s 1ms/step - loss: 0.3820 - accuracy: 0.8374 - val_loss: 0.4596 - val_accuracy: 0.8076\n",
            "Epoch 4/5\n",
            "6090/6090 [==============================] - 7s 1ms/step - loss: 0.3462 - accuracy: 0.8499 - val_loss: 0.4725 - val_accuracy: 0.8024\n",
            "Epoch 5/5\n",
            "6090/6090 [==============================] - 7s 1ms/step - loss: 0.3259 - accuracy: 0.8622 - val_loss: 0.4775 - val_accuracy: 0.8043\n"
          ],
          "name": "stdout"
        }
      ]
    },
    {
      "cell_type": "code",
      "metadata": {
        "id": "ZALQoegkTQEu",
        "colab_type": "code",
        "colab": {
          "base_uri": "https://localhost:8080/",
          "height": 34
        },
        "outputId": "e98650ab-b38b-4f76-9c78-475771690506"
      },
      "source": [
        "prediction=best_model.predict_classes(validation_data, batch_size=50)\n",
        "score = roc_auc_score(y_validation, prediction)\n",
        "score"
      ],
      "execution_count": 13,
      "outputs": [
        {
          "output_type": "execute_result",
          "data": {
            "text/plain": [
              "0.7941268320753988"
            ]
          },
          "metadata": {
            "tags": []
          },
          "execution_count": 13
        }
      ]
    },
    {
      "cell_type": "code",
      "metadata": {
        "id": "0ol2R8WZ5iRW",
        "colab_type": "code",
        "colab": {
          "base_uri": "https://localhost:8080/",
          "height": 34
        },
        "outputId": "d429c0ac-58e2-4772-91b2-eb87d0f4e18a"
      },
      "source": [
        "accuracy=metrics.accuracy_score(y_validation, prediction)\n",
        "accuracy"
      ],
      "execution_count": 14,
      "outputs": [
        {
          "output_type": "execute_result",
          "data": {
            "text/plain": [
              "0.804333552199606"
            ]
          },
          "metadata": {
            "tags": []
          },
          "execution_count": 14
        }
      ]
    },
    {
      "cell_type": "code",
      "metadata": {
        "id": "gAnMJ35VuKY2",
        "colab_type": "code",
        "colab": {
          "base_uri": "https://localhost:8080/",
          "height": 136
        },
        "outputId": "55cd602f-9e7f-486d-c80e-a7020b089a8e"
      },
      "source": [
        "#Reentrena con el set completo y realiza predicción.\n",
        "\n",
        "#set_sequences = tokenizer.texts_to_sequences(train_df['text'])\n",
        "#set_data = pad_sequences(set_sequences, maxlen=100)\n",
        "\n",
        "#out = best_model.fit(set_data,train_df['target'],epochs = 5,verbose = 1,batch_size=62)\n",
        "\n",
        "#out = best_model.fit(data_train,train_df['target'],epochs = 5,verbose = 1,batch_size=62)\n",
        "#data_test = vectorizer.transform(test_df['text']).toarray()\n",
        "test_prediction = tokenizer.texts_to_sequences(test_df['text'])\n",
        "prediction_data = pad_sequences(test_prediction, maxlen=100)\n",
        "\n",
        "prediction2=best_model.predict_classes(prediction_data, batch_size=50)\n",
        "prediction2"
      ],
      "execution_count": 15,
      "outputs": [
        {
          "output_type": "execute_result",
          "data": {
            "text/plain": [
              "array([[0],\n",
              "       [1],\n",
              "       [1],\n",
              "       ...,\n",
              "       [1],\n",
              "       [1],\n",
              "       [0]], dtype=int32)"
            ]
          },
          "metadata": {
            "tags": []
          },
          "execution_count": 15
        }
      ]
    },
    {
      "cell_type": "code",
      "metadata": {
        "id": "proKjqG3t9hY",
        "colab_type": "code",
        "colab": {}
      },
      "source": [
        "# Genera archivo submit.\n",
        "\n",
        "test_df['target'] = prediction2\n",
        "export = pd.DataFrame()\n",
        "export['id'] = test_df['id']\n",
        "export['target'] = test_df['target']\n",
        "export = export.set_index('id')\n",
        "export.to_csv('submit.csv')\n",
        "#files.download('submit.csv')"
      ],
      "execution_count": 16,
      "outputs": []
    }
  ]
}