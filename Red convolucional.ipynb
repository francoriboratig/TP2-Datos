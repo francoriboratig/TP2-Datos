{
  "nbformat": 4,
  "nbformat_minor": 0,
  "metadata": {
    "kernelspec": {
      "display_name": "Python 3",
      "language": "python",
      "name": "python3"
    },
    "language_info": {
      "codemirror_mode": {
        "name": "ipython",
        "version": 3
      },
      "file_extension": ".py",
      "mimetype": "text/x-python",
      "name": "python",
      "nbconvert_exporter": "python",
      "pygments_lexer": "ipython3",
      "version": "3.7.7"
    },
    "colab": {
      "name": "Red convolucional.ipynb",
      "provenance": [],
      "include_colab_link": true
    }
  },
  "cells": [
    {
      "cell_type": "markdown",
      "metadata": {
        "id": "view-in-github",
        "colab_type": "text"
      },
      "source": [
        "<a href=\"https://colab.research.google.com/github/francoriboratig/TP2-Datos/blob/master/Red%20convolucional.ipynb\" target=\"_parent\"><img src=\"https://colab.research.google.com/assets/colab-badge.svg\" alt=\"Open In Colab\"/></a>"
      ]
    },
    {
      "cell_type": "code",
      "metadata": {
        "id": "0wcmc7yo2Iaz",
        "colab_type": "code",
        "colab": {
          "base_uri": "https://localhost:8080/",
          "height": 85
        },
        "outputId": "0215e78f-3178-46b8-96ee-fb7328e82039"
      },
      "source": [
        "import numpy as np\n",
        "import tensorflow as tf\n",
        "import pandas as pd\n",
        "import random\n",
        "\n",
        "!pip install -q tensorflow-hub\n",
        "!pip install -q tfds-nightly\n",
        "import tensorflow_hub as hub\n",
        "import tensorflow_datasets as tfds\n",
        "\n",
        "print(\"Version: \", tf.__version__)\n",
        "print(\"Eager mode: \", tf.executing_eagerly())\n",
        "print(\"Hub version: \", hub.__version__)\n",
        "print(\"GPU is\", \"available\" if tf.config.experimental.list_physical_devices(\"GPU\") else \"NOT AVAILABLE\")\n"
      ],
      "execution_count": 52,
      "outputs": [
        {
          "output_type": "stream",
          "text": [
            "Version:  2.2.0\n",
            "Eager mode:  True\n",
            "Hub version:  0.8.0\n",
            "GPU is NOT AVAILABLE\n"
          ],
          "name": "stdout"
        }
      ]
    },
    {
      "cell_type": "code",
      "metadata": {
        "id": "2pHyci8dgDGq",
        "colab_type": "code",
        "colab": {
          "base_uri": "https://localhost:8080/",
          "height": 204
        },
        "outputId": "b6d2f19d-18a5-4701-98c9-6a6d9bec4649"
      },
      "source": [
        "url_train = 'https://raw.githubusercontent.com/JulioCastillo1/TP1-Datos/master/train.csv'\n",
        "\n",
        "train_df = pd.read_csv(url_train)\n",
        "train_df.head()"
      ],
      "execution_count": 53,
      "outputs": [
        {
          "output_type": "execute_result",
          "data": {
            "text/html": [
              "<div>\n",
              "<style scoped>\n",
              "    .dataframe tbody tr th:only-of-type {\n",
              "        vertical-align: middle;\n",
              "    }\n",
              "\n",
              "    .dataframe tbody tr th {\n",
              "        vertical-align: top;\n",
              "    }\n",
              "\n",
              "    .dataframe thead th {\n",
              "        text-align: right;\n",
              "    }\n",
              "</style>\n",
              "<table border=\"1\" class=\"dataframe\">\n",
              "  <thead>\n",
              "    <tr style=\"text-align: right;\">\n",
              "      <th></th>\n",
              "      <th>id</th>\n",
              "      <th>keyword</th>\n",
              "      <th>location</th>\n",
              "      <th>text</th>\n",
              "      <th>target</th>\n",
              "    </tr>\n",
              "  </thead>\n",
              "  <tbody>\n",
              "    <tr>\n",
              "      <th>0</th>\n",
              "      <td>1</td>\n",
              "      <td>NaN</td>\n",
              "      <td>NaN</td>\n",
              "      <td>Our Deeds are the Reason of this #earthquake M...</td>\n",
              "      <td>1</td>\n",
              "    </tr>\n",
              "    <tr>\n",
              "      <th>1</th>\n",
              "      <td>4</td>\n",
              "      <td>NaN</td>\n",
              "      <td>NaN</td>\n",
              "      <td>Forest fire near La Ronge Sask. Canada</td>\n",
              "      <td>1</td>\n",
              "    </tr>\n",
              "    <tr>\n",
              "      <th>2</th>\n",
              "      <td>5</td>\n",
              "      <td>NaN</td>\n",
              "      <td>NaN</td>\n",
              "      <td>All residents asked to 'shelter in place' are ...</td>\n",
              "      <td>1</td>\n",
              "    </tr>\n",
              "    <tr>\n",
              "      <th>3</th>\n",
              "      <td>6</td>\n",
              "      <td>NaN</td>\n",
              "      <td>NaN</td>\n",
              "      <td>13,000 people receive #wildfires evacuation or...</td>\n",
              "      <td>1</td>\n",
              "    </tr>\n",
              "    <tr>\n",
              "      <th>4</th>\n",
              "      <td>7</td>\n",
              "      <td>NaN</td>\n",
              "      <td>NaN</td>\n",
              "      <td>Just got sent this photo from Ruby #Alaska as ...</td>\n",
              "      <td>1</td>\n",
              "    </tr>\n",
              "  </tbody>\n",
              "</table>\n",
              "</div>"
            ],
            "text/plain": [
              "   id keyword  ...                                               text target\n",
              "0   1     NaN  ...  Our Deeds are the Reason of this #earthquake M...      1\n",
              "1   4     NaN  ...             Forest fire near La Ronge Sask. Canada      1\n",
              "2   5     NaN  ...  All residents asked to 'shelter in place' are ...      1\n",
              "3   6     NaN  ...  13,000 people receive #wildfires evacuation or...      1\n",
              "4   7     NaN  ...  Just got sent this photo from Ruby #Alaska as ...      1\n",
              "\n",
              "[5 rows x 5 columns]"
            ]
          },
          "metadata": {
            "tags": []
          },
          "execution_count": 53
        }
      ]
    },
    {
      "cell_type": "code",
      "metadata": {
        "id": "IgP7Jo-zhsnW",
        "colab_type": "code",
        "colab": {}
      },
      "source": [
        "train_df = train_df.drop(['keyword', 'location'], axis = 1)"
      ],
      "execution_count": 54,
      "outputs": []
    },
    {
      "cell_type": "code",
      "metadata": {
        "id": "60oFZjwvh9zn",
        "colab_type": "code",
        "colab": {
          "base_uri": "https://localhost:8080/",
          "height": 204
        },
        "outputId": "1adbdf9a-0c4b-48e3-f954-836e679dc021"
      },
      "source": [
        "train_df.head()"
      ],
      "execution_count": 55,
      "outputs": [
        {
          "output_type": "execute_result",
          "data": {
            "text/html": [
              "<div>\n",
              "<style scoped>\n",
              "    .dataframe tbody tr th:only-of-type {\n",
              "        vertical-align: middle;\n",
              "    }\n",
              "\n",
              "    .dataframe tbody tr th {\n",
              "        vertical-align: top;\n",
              "    }\n",
              "\n",
              "    .dataframe thead th {\n",
              "        text-align: right;\n",
              "    }\n",
              "</style>\n",
              "<table border=\"1\" class=\"dataframe\">\n",
              "  <thead>\n",
              "    <tr style=\"text-align: right;\">\n",
              "      <th></th>\n",
              "      <th>id</th>\n",
              "      <th>text</th>\n",
              "      <th>target</th>\n",
              "    </tr>\n",
              "  </thead>\n",
              "  <tbody>\n",
              "    <tr>\n",
              "      <th>0</th>\n",
              "      <td>1</td>\n",
              "      <td>Our Deeds are the Reason of this #earthquake M...</td>\n",
              "      <td>1</td>\n",
              "    </tr>\n",
              "    <tr>\n",
              "      <th>1</th>\n",
              "      <td>4</td>\n",
              "      <td>Forest fire near La Ronge Sask. Canada</td>\n",
              "      <td>1</td>\n",
              "    </tr>\n",
              "    <tr>\n",
              "      <th>2</th>\n",
              "      <td>5</td>\n",
              "      <td>All residents asked to 'shelter in place' are ...</td>\n",
              "      <td>1</td>\n",
              "    </tr>\n",
              "    <tr>\n",
              "      <th>3</th>\n",
              "      <td>6</td>\n",
              "      <td>13,000 people receive #wildfires evacuation or...</td>\n",
              "      <td>1</td>\n",
              "    </tr>\n",
              "    <tr>\n",
              "      <th>4</th>\n",
              "      <td>7</td>\n",
              "      <td>Just got sent this photo from Ruby #Alaska as ...</td>\n",
              "      <td>1</td>\n",
              "    </tr>\n",
              "  </tbody>\n",
              "</table>\n",
              "</div>"
            ],
            "text/plain": [
              "   id                                               text  target\n",
              "0   1  Our Deeds are the Reason of this #earthquake M...       1\n",
              "1   4             Forest fire near La Ronge Sask. Canada       1\n",
              "2   5  All residents asked to 'shelter in place' are ...       1\n",
              "3   6  13,000 people receive #wildfires evacuation or...       1\n",
              "4   7  Just got sent this photo from Ruby #Alaska as ...       1"
            ]
          },
          "metadata": {
            "tags": []
          },
          "execution_count": 55
        }
      ]
    },
    {
      "cell_type": "code",
      "metadata": {
        "id": "Cw0HFe5EkJae",
        "colab_type": "code",
        "colab": {
          "base_uri": "https://localhost:8080/",
          "height": 255
        },
        "outputId": "a50c7be1-cc97-433d-debf-3909a07765e8"
      },
      "source": [
        "embedding = \"https://tfhub.dev/google/tf2-preview/gnews-swivel-20dim/1\"\n",
        "\n",
        "hub_layer = hub.KerasLayer(embedding, input_shape=[], \n",
        "                           dtype=tf.string, trainable=True)\n",
        "\n",
        "train_text_list = np.asarray(train_df['text'])\n",
        "train_target_list = np.asarray(train_df['target'])\n",
        "\n",
        "hub_layer(train_text_list[:3])\n",
        "\n"
      ],
      "execution_count": 56,
      "outputs": [
        {
          "output_type": "execute_result",
          "data": {
            "text/plain": [
              "<tf.Tensor: shape=(3, 20), dtype=float32, numpy=\n",
              "array([[ 0.00723878,  0.15689617,  1.2953067 , -0.04077986, -0.16036902,\n",
              "        -1.2004429 , -0.40451345, -0.5239726 , -0.23558664, -0.35022184,\n",
              "        -0.28988177, -0.47197863, -0.07621863,  0.17048942, -0.8323773 ,\n",
              "         0.02260084,  0.16125458, -0.64086777, -0.569074  ,  0.04000134],\n",
              "       [-0.4983734 ,  1.2828879 , -0.18836124, -0.94734734,  0.8805808 ,\n",
              "        -0.17885518, -0.01543166,  0.3832704 , -1.508848  ,  1.7532811 ,\n",
              "        -0.75493276,  0.60124093, -0.14378418, -0.891944  ,  0.43213663,\n",
              "         1.3467408 , -1.4859253 ,  1.5762157 , -0.37878054,  0.9423684 ],\n",
              "       [ 0.08814443, -0.31140247,  0.6044149 ,  1.7130805 ,  1.3203121 ,\n",
              "        -3.201303  ,  0.8445131 ,  0.9621795 , -1.5353138 ,  2.2069528 ,\n",
              "        -0.2790253 ,  0.01095965, -2.2282734 ,  0.2043116 , -2.17501   ,\n",
              "         1.3441613 ,  0.11884003, -1.2388006 , -0.25501075,  0.69527215]],\n",
              "      dtype=float32)>"
            ]
          },
          "metadata": {
            "tags": []
          },
          "execution_count": 56
        }
      ]
    },
    {
      "cell_type": "code",
      "metadata": {
        "id": "pa9js3I9la4T",
        "colab_type": "code",
        "colab": {
          "base_uri": "https://localhost:8080/",
          "height": 255
        },
        "outputId": "b7b10e29-f891-4bc6-dd6c-440af80cf0bc"
      },
      "source": [
        "model = tf.keras.Sequential()\n",
        "model.add(hub_layer)\n",
        "model.add(tf.keras.layers.Dense(16, activation='relu'))\n",
        "model.add(tf.keras.layers.Dense(1))\n",
        "\n",
        "model.summary()"
      ],
      "execution_count": 57,
      "outputs": [
        {
          "output_type": "stream",
          "text": [
            "Model: \"sequential_7\"\n",
            "_________________________________________________________________\n",
            "Layer (type)                 Output Shape              Param #   \n",
            "=================================================================\n",
            "keras_layer_7 (KerasLayer)   (None, 20)                400020    \n",
            "_________________________________________________________________\n",
            "dense_14 (Dense)             (None, 16)                336       \n",
            "_________________________________________________________________\n",
            "dense_15 (Dense)             (None, 1)                 17        \n",
            "=================================================================\n",
            "Total params: 400,373\n",
            "Trainable params: 400,373\n",
            "Non-trainable params: 0\n",
            "_________________________________________________________________\n"
          ],
          "name": "stdout"
        }
      ]
    },
    {
      "cell_type": "code",
      "metadata": {
        "id": "t31VOjJynfzN",
        "colab_type": "code",
        "colab": {
          "base_uri": "https://localhost:8080/",
          "height": 697
        },
        "outputId": "bea489a9-51ca-4876-b125-c01cd86ffca4"
      },
      "source": [
        "model.compile(optimizer = 'adam',\n",
        "              loss = tf.keras.losses.BinaryCrossentropy(from_logits=True),\n",
        "              metrics = ['accuracy'])\n",
        "\n",
        "# LO QUE SIGUE NO ANDA, no tengo train_data (ni validation_data, pero es análogo), deben\n",
        "# tener formato Prefetch DataShape y no se cómo crearlo a partir de train_text_list, train_df o lo que sea\n",
        "\n",
        "history = model.fit(train_text_list, train_target_list, batch_size=512,\n",
        "                    epochs=20,\n",
        "                    verbose=1)\n"
      ],
      "execution_count": 58,
      "outputs": [
        {
          "output_type": "stream",
          "text": [
            "Epoch 1/20\n",
            "15/15 [==============================] - 0s 11ms/step - loss: 0.6728 - accuracy: 0.5765\n",
            "Epoch 2/20\n",
            "15/15 [==============================] - 0s 10ms/step - loss: 0.6145 - accuracy: 0.6149\n",
            "Epoch 3/20\n",
            "15/15 [==============================] - 0s 12ms/step - loss: 0.5767 - accuracy: 0.6612\n",
            "Epoch 4/20\n",
            "15/15 [==============================] - 0s 11ms/step - loss: 0.5491 - accuracy: 0.6951\n",
            "Epoch 5/20\n",
            "15/15 [==============================] - 0s 10ms/step - loss: 0.5282 - accuracy: 0.7172\n",
            "Epoch 6/20\n",
            "15/15 [==============================] - 0s 11ms/step - loss: 0.5105 - accuracy: 0.7358\n",
            "Epoch 7/20\n",
            "15/15 [==============================] - 0s 11ms/step - loss: 0.4955 - accuracy: 0.7544\n",
            "Epoch 8/20\n",
            "15/15 [==============================] - 0s 11ms/step - loss: 0.4824 - accuracy: 0.7647\n",
            "Epoch 9/20\n",
            "15/15 [==============================] - 0s 11ms/step - loss: 0.4697 - accuracy: 0.7734\n",
            "Epoch 10/20\n",
            "15/15 [==============================] - 0s 11ms/step - loss: 0.4581 - accuracy: 0.7826\n",
            "Epoch 11/20\n",
            "15/15 [==============================] - 0s 11ms/step - loss: 0.4468 - accuracy: 0.7876\n",
            "Epoch 12/20\n",
            "15/15 [==============================] - 0s 11ms/step - loss: 0.4361 - accuracy: 0.7932\n",
            "Epoch 13/20\n",
            "15/15 [==============================] - 0s 10ms/step - loss: 0.4255 - accuracy: 0.8013\n",
            "Epoch 14/20\n",
            "15/15 [==============================] - 0s 11ms/step - loss: 0.4154 - accuracy: 0.8076\n",
            "Epoch 15/20\n",
            "15/15 [==============================] - 0s 11ms/step - loss: 0.4051 - accuracy: 0.8127\n",
            "Epoch 16/20\n",
            "15/15 [==============================] - 0s 10ms/step - loss: 0.3951 - accuracy: 0.8182\n",
            "Epoch 17/20\n",
            "15/15 [==============================] - 0s 11ms/step - loss: 0.3853 - accuracy: 0.8241\n",
            "Epoch 18/20\n",
            "15/15 [==============================] - 0s 11ms/step - loss: 0.3752 - accuracy: 0.8325\n",
            "Epoch 19/20\n",
            "15/15 [==============================] - 0s 11ms/step - loss: 0.3651 - accuracy: 0.8380\n",
            "Epoch 20/20\n",
            "15/15 [==============================] - 0s 11ms/step - loss: 0.3556 - accuracy: 0.8420\n"
          ],
          "name": "stdout"
        }
      ]
    },
    {
      "cell_type": "code",
      "metadata": {
        "id": "KuY4c8Tdm-7F",
        "colab_type": "code",
        "colab": {
          "base_uri": "https://localhost:8080/",
          "height": 51
        },
        "outputId": "4a4d7cdf-4a9a-4600-c176-331f13dd9d83"
      },
      "source": [
        "_,precision = model.evaluate(train_text_list, train_target_list)\n",
        "print('Precisión: %.2f' % (precision*100))"
      ],
      "execution_count": 63,
      "outputs": [
        {
          "output_type": "stream",
          "text": [
            "238/238 [==============================] - 1s 2ms/step - loss: 0.3487 - accuracy: 0.8467\n",
            "Precisión: 84.67\n"
          ],
          "name": "stdout"
        }
      ]
    }
  ]
}