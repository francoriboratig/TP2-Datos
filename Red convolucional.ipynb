{
  "nbformat": 4,
  "nbformat_minor": 0,
  "metadata": {
    "kernelspec": {
      "display_name": "Python 3",
      "language": "python",
      "name": "python3"
    },
    "language_info": {
      "codemirror_mode": {
        "name": "ipython",
        "version": 3
      },
      "file_extension": ".py",
      "mimetype": "text/x-python",
      "name": "python",
      "nbconvert_exporter": "python",
      "pygments_lexer": "ipython3",
      "version": "3.7.7"
    },
    "colab": {
      "name": "Red convolucional.ipynb",
      "provenance": [],
      "include_colab_link": true
    }
  },
  "cells": [
    {
      "cell_type": "markdown",
      "metadata": {
        "id": "view-in-github",
        "colab_type": "text"
      },
      "source": [
        "<a href=\"https://colab.research.google.com/github/francoriboratig/TP2-Datos/blob/master/Red%20convolucional.ipynb\" target=\"_parent\"><img src=\"https://colab.research.google.com/assets/colab-badge.svg\" alt=\"Open In Colab\"/></a>"
      ]
    },
    {
      "cell_type": "code",
      "metadata": {
        "id": "0wcmc7yo2Iaz",
        "colab_type": "code",
        "colab": {
          "base_uri": "https://localhost:8080/",
          "height": 86
        },
        "outputId": "843cefa9-9228-4c7f-9bd3-f2b786a2cb6d"
      },
      "source": [
        "# ARRANCAMOS CON LO BÁSICO\n",
        "import numpy as np\n",
        "import tensorflow as tf\n",
        "import pandas as pd\n",
        "from google.colab import files\n",
        "\n",
        "!pip install -q tensorflow-hub\n",
        "import tensorflow_hub as hub\n",
        "\n",
        "print(\"Version: \", tf.__version__)\n",
        "print(\"Eager mode: \", tf.executing_eagerly())\n",
        "print(\"Hub version: \", hub.__version__)\n",
        "print(\"GPU is\", \"available\" if tf.config.experimental.list_physical_devices(\"GPU\") else \"NOT AVAILABLE\")\n"
      ],
      "execution_count": 9,
      "outputs": [
        {
          "output_type": "stream",
          "text": [
            "Version:  2.2.0\n",
            "Eager mode:  True\n",
            "Hub version:  0.8.0\n",
            "GPU is NOT AVAILABLE\n"
          ],
          "name": "stdout"
        }
      ]
    },
    {
      "cell_type": "code",
      "metadata": {
        "id": "2pHyci8dgDGq",
        "colab_type": "code",
        "colab": {
          "base_uri": "https://localhost:8080/",
          "height": 206
        },
        "outputId": "5a4a3b0e-6b68-4405-c965-3d1df8b8b7e0"
      },
      "source": [
        "# CARGAMOS LOS CSV\n",
        "url_train = 'https://raw.githubusercontent.com/JulioCastillo1/TP1-Datos/master/train.csv'\n",
        "url_test = 'https://raw.githubusercontent.com/francoriboratig/TP2-Datos/master/test.csv'\n",
        "\n",
        "train_df = pd.read_csv(url_train)\n",
        "test_df = pd.read_csv(url_test)\n",
        "train_df.head()"
      ],
      "execution_count": 11,
      "outputs": [
        {
          "output_type": "execute_result",
          "data": {
            "text/html": [
              "<div>\n",
              "<style scoped>\n",
              "    .dataframe tbody tr th:only-of-type {\n",
              "        vertical-align: middle;\n",
              "    }\n",
              "\n",
              "    .dataframe tbody tr th {\n",
              "        vertical-align: top;\n",
              "    }\n",
              "\n",
              "    .dataframe thead th {\n",
              "        text-align: right;\n",
              "    }\n",
              "</style>\n",
              "<table border=\"1\" class=\"dataframe\">\n",
              "  <thead>\n",
              "    <tr style=\"text-align: right;\">\n",
              "      <th></th>\n",
              "      <th>id</th>\n",
              "      <th>keyword</th>\n",
              "      <th>location</th>\n",
              "      <th>text</th>\n",
              "      <th>target</th>\n",
              "    </tr>\n",
              "  </thead>\n",
              "  <tbody>\n",
              "    <tr>\n",
              "      <th>0</th>\n",
              "      <td>1</td>\n",
              "      <td>NaN</td>\n",
              "      <td>NaN</td>\n",
              "      <td>Our Deeds are the Reason of this #earthquake M...</td>\n",
              "      <td>1</td>\n",
              "    </tr>\n",
              "    <tr>\n",
              "      <th>1</th>\n",
              "      <td>4</td>\n",
              "      <td>NaN</td>\n",
              "      <td>NaN</td>\n",
              "      <td>Forest fire near La Ronge Sask. Canada</td>\n",
              "      <td>1</td>\n",
              "    </tr>\n",
              "    <tr>\n",
              "      <th>2</th>\n",
              "      <td>5</td>\n",
              "      <td>NaN</td>\n",
              "      <td>NaN</td>\n",
              "      <td>All residents asked to 'shelter in place' are ...</td>\n",
              "      <td>1</td>\n",
              "    </tr>\n",
              "    <tr>\n",
              "      <th>3</th>\n",
              "      <td>6</td>\n",
              "      <td>NaN</td>\n",
              "      <td>NaN</td>\n",
              "      <td>13,000 people receive #wildfires evacuation or...</td>\n",
              "      <td>1</td>\n",
              "    </tr>\n",
              "    <tr>\n",
              "      <th>4</th>\n",
              "      <td>7</td>\n",
              "      <td>NaN</td>\n",
              "      <td>NaN</td>\n",
              "      <td>Just got sent this photo from Ruby #Alaska as ...</td>\n",
              "      <td>1</td>\n",
              "    </tr>\n",
              "  </tbody>\n",
              "</table>\n",
              "</div>"
            ],
            "text/plain": [
              "   id keyword  ...                                               text target\n",
              "0   1     NaN  ...  Our Deeds are the Reason of this #earthquake M...      1\n",
              "1   4     NaN  ...             Forest fire near La Ronge Sask. Canada      1\n",
              "2   5     NaN  ...  All residents asked to 'shelter in place' are ...      1\n",
              "3   6     NaN  ...  13,000 people receive #wildfires evacuation or...      1\n",
              "4   7     NaN  ...  Just got sent this photo from Ruby #Alaska as ...      1\n",
              "\n",
              "[5 rows x 5 columns]"
            ]
          },
          "metadata": {
            "tags": []
          },
          "execution_count": 11
        }
      ]
    },
    {
      "cell_type": "code",
      "metadata": {
        "id": "IgP7Jo-zhsnW",
        "colab_type": "code",
        "colab": {
          "base_uri": "https://localhost:8080/",
          "height": 34
        },
        "outputId": "3495007b-523d-4805-87f3-5395d552ba51"
      },
      "source": [
        "# LIMPIAMOS Y CHUSMEAMOS\n",
        "train_df = train_df.drop(['keyword', 'location'], axis = 1)\n",
        "train_df.shape"
      ],
      "execution_count": 13,
      "outputs": [
        {
          "output_type": "execute_result",
          "data": {
            "text/plain": [
              "(7613, 3)"
            ]
          },
          "metadata": {
            "tags": []
          },
          "execution_count": 13
        }
      ]
    },
    {
      "cell_type": "code",
      "metadata": {
        "id": "Cw0HFe5EkJae",
        "colab_type": "code",
        "colab": {
          "base_uri": "https://localhost:8080/",
          "height": 260
        },
        "outputId": "8f9ee6f7-82e5-4414-ddff-c9c1d4a0addc"
      },
      "source": [
        "# HACEMOS UN EMBEDDING PROVISTO POR UN \"TensorFlow Hub model\"\n",
        "\n",
        "embedding_url = \"https://tfhub.dev/google/tf2-preview/gnews-swivel-20dim/1\"\n",
        "\n",
        "hub_layer = hub.KerasLayer(embedding_url,\n",
        "                           input_shape = [], \n",
        "                           dtype = tf.string,\n",
        "                           trainable = True)\n",
        "\n",
        "train_text_list = np.asarray(train_df['text'])\n",
        "train_target_list = np.asarray(train_df['target'])\n",
        "\n",
        "hub_layer(train_text_list[:3])\n",
        "\n"
      ],
      "execution_count": 14,
      "outputs": [
        {
          "output_type": "execute_result",
          "data": {
            "text/plain": [
              "<tf.Tensor: shape=(3, 20), dtype=float32, numpy=\n",
              "array([[ 0.00723878,  0.15689617,  1.2953067 , -0.04077986, -0.16036902,\n",
              "        -1.2004429 , -0.40451345, -0.5239726 , -0.23558664, -0.35022184,\n",
              "        -0.28988177, -0.47197863, -0.07621863,  0.17048942, -0.8323773 ,\n",
              "         0.02260084,  0.16125458, -0.64086777, -0.569074  ,  0.04000134],\n",
              "       [-0.4983734 ,  1.2828879 , -0.18836124, -0.94734734,  0.8805808 ,\n",
              "        -0.17885518, -0.01543166,  0.3832704 , -1.508848  ,  1.7532811 ,\n",
              "        -0.75493276,  0.60124093, -0.14378418, -0.891944  ,  0.43213663,\n",
              "         1.3467408 , -1.4859253 ,  1.5762157 , -0.37878054,  0.9423684 ],\n",
              "       [ 0.08814443, -0.31140247,  0.6044149 ,  1.7130805 ,  1.3203121 ,\n",
              "        -3.201303  ,  0.8445131 ,  0.9621795 , -1.5353138 ,  2.2069528 ,\n",
              "        -0.2790253 ,  0.01095965, -2.2282734 ,  0.2043116 , -2.17501   ,\n",
              "         1.3441613 ,  0.11884003, -1.2388006 , -0.25501075,  0.69527215]],\n",
              "      dtype=float32)>"
            ]
          },
          "metadata": {
            "tags": []
          },
          "execution_count": 14
        }
      ]
    },
    {
      "cell_type": "code",
      "metadata": {
        "id": "pa9js3I9la4T",
        "colab_type": "code",
        "colab": {
          "base_uri": "https://localhost:8080/",
          "height": 295
        },
        "outputId": "01426ab8-6cde-4bd1-ed33-243477c5d9d0"
      },
      "source": [
        "# ARMAMOS EL MODELO\n",
        "model = tf.keras.Sequential()\n",
        "model.add(hub_layer)\n",
        "model.add(tf.keras.layers.Dense(16, activation = 'relu'))\n",
        "model.add(tf.keras.layers.Dense(16, activation = 'relu'))\n",
        "model.add(tf.keras.layers.Dense(1))\n",
        "\n",
        "model.summary()"
      ],
      "execution_count": 22,
      "outputs": [
        {
          "output_type": "stream",
          "text": [
            "Model: \"sequential_2\"\n",
            "_________________________________________________________________\n",
            "Layer (type)                 Output Shape              Param #   \n",
            "=================================================================\n",
            "keras_layer_2 (KerasLayer)   (None, 20)                400020    \n",
            "_________________________________________________________________\n",
            "dense_6 (Dense)              (None, 16)                336       \n",
            "_________________________________________________________________\n",
            "dense_7 (Dense)              (None, 16)                272       \n",
            "_________________________________________________________________\n",
            "dense_8 (Dense)              (None, 1)                 17        \n",
            "=================================================================\n",
            "Total params: 400,645\n",
            "Trainable params: 400,645\n",
            "Non-trainable params: 0\n",
            "_________________________________________________________________\n"
          ],
          "name": "stdout"
        }
      ]
    },
    {
      "cell_type": "code",
      "metadata": {
        "id": "t31VOjJynfzN",
        "colab_type": "code",
        "colab": {
          "base_uri": "https://localhost:8080/",
          "height": 573
        },
        "outputId": "f2daf8eb-c330-4262-cbc3-c2585df86439"
      },
      "source": [
        "# COMPILAMOS Y ENTRENAMOS\n",
        "\n",
        "# NOTAS:\n",
        "# Con 20 epochs obtiene mejor resultado que con 30\n",
        "\n",
        "model.compile(optimizer = 'adam',\n",
        "              loss = tf.keras.losses.BinaryCrossentropy(from_logits = True),\n",
        "              metrics = ['accuracy'])\n",
        "\n",
        "history = model.fit(train_text_list, train_target_list, batch_size=512,\n",
        "                    epochs = 20,\n",
        "                    verbose = 1)"
      ],
      "execution_count": 23,
      "outputs": [
        {
          "output_type": "stream",
          "text": [
            "Epoch 1/16\n",
            "15/15 [==============================] - 0s 11ms/step - loss: 0.6451 - accuracy: 0.5726\n",
            "Epoch 2/16\n",
            "15/15 [==============================] - 0s 11ms/step - loss: 0.5777 - accuracy: 0.6124\n",
            "Epoch 3/16\n",
            "15/15 [==============================] - 0s 12ms/step - loss: 0.5273 - accuracy: 0.6863\n",
            "Epoch 4/16\n",
            "15/15 [==============================] - 0s 11ms/step - loss: 0.4808 - accuracy: 0.7458\n",
            "Epoch 5/16\n",
            "15/15 [==============================] - 0s 13ms/step - loss: 0.4369 - accuracy: 0.7843\n",
            "Epoch 6/16\n",
            "15/15 [==============================] - 0s 12ms/step - loss: 0.3948 - accuracy: 0.8154\n",
            "Epoch 7/16\n",
            "15/15 [==============================] - 0s 11ms/step - loss: 0.3548 - accuracy: 0.8446\n",
            "Epoch 8/16\n",
            "15/15 [==============================] - 0s 12ms/step - loss: 0.3186 - accuracy: 0.8617\n",
            "Epoch 9/16\n",
            "15/15 [==============================] - 0s 12ms/step - loss: 0.2872 - accuracy: 0.8778\n",
            "Epoch 10/16\n",
            "15/15 [==============================] - 0s 11ms/step - loss: 0.2610 - accuracy: 0.8895\n",
            "Epoch 11/16\n",
            "15/15 [==============================] - 0s 11ms/step - loss: 0.2387 - accuracy: 0.8998\n",
            "Epoch 12/16\n",
            "15/15 [==============================] - 0s 12ms/step - loss: 0.2200 - accuracy: 0.9091\n",
            "Epoch 13/16\n",
            "15/15 [==============================] - 0s 11ms/step - loss: 0.2042 - accuracy: 0.9183\n",
            "Epoch 14/16\n",
            "15/15 [==============================] - 0s 11ms/step - loss: 0.1906 - accuracy: 0.9230\n",
            "Epoch 15/16\n",
            "15/15 [==============================] - 0s 12ms/step - loss: 0.1783 - accuracy: 0.9301\n",
            "Epoch 16/16\n",
            "15/15 [==============================] - 0s 11ms/step - loss: 0.1686 - accuracy: 0.9346\n"
          ],
          "name": "stdout"
        }
      ]
    },
    {
      "cell_type": "code",
      "metadata": {
        "id": "KuY4c8Tdm-7F",
        "colab_type": "code",
        "colab": {
          "base_uri": "https://localhost:8080/",
          "height": 52
        },
        "outputId": "d8e8889f-1de4-4774-e844-474b1fe6c02a"
      },
      "source": [
        "# EVALUAMOS CON EL SET DE VALIDACION\n",
        "loss, precision = model.evaluate(train_text_list, train_target_list)\n",
        "print('Precisión: %.2f' % (precision*100))"
      ],
      "execution_count": 18,
      "outputs": [
        {
          "output_type": "stream",
          "text": [
            "238/238 [==============================] - 0s 2ms/step - loss: 0.2914 - accuracy: 0.8748\n",
            "Precisión: 87.48\n"
          ],
          "name": "stdout"
        }
      ]
    },
    {
      "cell_type": "code",
      "metadata": {
        "id": "wpAEhLQGySbR",
        "colab_type": "code",
        "colab": {
          "base_uri": "https://localhost:8080/",
          "height": 139
        },
        "outputId": "3c5eee50-37d3-45e3-e3ac-686680b7a168"
      },
      "source": [
        "# ARMAMOS LA PREDICCIÓN\n",
        "test_text_list = np.asarray(test_df['text'])\n",
        "prediction = (model.predict(test_text_list) > 0.5).astype(\"int32\")\n",
        "prediction"
      ],
      "execution_count": 19,
      "outputs": [
        {
          "output_type": "execute_result",
          "data": {
            "text/plain": [
              "array([[1],\n",
              "       [1],\n",
              "       [1],\n",
              "       ...,\n",
              "       [1],\n",
              "       [1],\n",
              "       [0]], dtype=int32)"
            ]
          },
          "metadata": {
            "tags": []
          },
          "execution_count": 19
        }
      ]
    },
    {
      "cell_type": "code",
      "metadata": {
        "id": "KkSvLRovz4i-",
        "colab_type": "code",
        "colab": {
          "base_uri": "https://localhost:8080/",
          "height": 17
        },
        "outputId": "af2e93f9-1ee1-4b9d-f78b-79d958db9e49"
      },
      "source": [
        "# EXPORTAMOS EL CSV EN EL FORMATO QUE PIDE KAGGLE\n",
        "test_df['target'] = prediction\n",
        "export = pd.DataFrame()\n",
        "export['id'] = test_df['id']\n",
        "export['target'] = test_df['target']\n",
        "export = export.set_index('id')\n",
        "export.to_csv('submit.csv')\n",
        "files.download('submit.csv')"
      ],
      "execution_count": 20,
      "outputs": [
        {
          "output_type": "display_data",
          "data": {
            "application/javascript": [
              "\n",
              "    async function download(id, filename, size) {\n",
              "      if (!google.colab.kernel.accessAllowed) {\n",
              "        return;\n",
              "      }\n",
              "      const div = document.createElement('div');\n",
              "      const label = document.createElement('label');\n",
              "      label.textContent = `Downloading \"${filename}\": `;\n",
              "      div.appendChild(label);\n",
              "      const progress = document.createElement('progress');\n",
              "      progress.max = size;\n",
              "      div.appendChild(progress);\n",
              "      document.body.appendChild(div);\n",
              "\n",
              "      const buffers = [];\n",
              "      let downloaded = 0;\n",
              "\n",
              "      const channel = await google.colab.kernel.comms.open(id);\n",
              "      // Send a message to notify the kernel that we're ready.\n",
              "      channel.send({})\n",
              "\n",
              "      for await (const message of channel.messages) {\n",
              "        // Send a message to notify the kernel that we're ready.\n",
              "        channel.send({})\n",
              "        if (message.buffers) {\n",
              "          for (const buffer of message.buffers) {\n",
              "            buffers.push(buffer);\n",
              "            downloaded += buffer.byteLength;\n",
              "            progress.value = downloaded;\n",
              "          }\n",
              "        }\n",
              "      }\n",
              "      const blob = new Blob(buffers, {type: 'application/binary'});\n",
              "      const a = document.createElement('a');\n",
              "      a.href = window.URL.createObjectURL(blob);\n",
              "      a.download = filename;\n",
              "      div.appendChild(a);\n",
              "      a.click();\n",
              "      div.remove();\n",
              "    }\n",
              "  "
            ],
            "text/plain": [
              "<IPython.core.display.Javascript object>"
            ]
          },
          "metadata": {
            "tags": []
          }
        },
        {
          "output_type": "display_data",
          "data": {
            "application/javascript": [
              "download(\"download_92e381bd-26ca-4b06-be1e-ce8d2aa0a775\", \"submit.csv\", 22746)"
            ],
            "text/plain": [
              "<IPython.core.display.Javascript object>"
            ]
          },
          "metadata": {
            "tags": []
          }
        }
      ]
    }
  ]
}