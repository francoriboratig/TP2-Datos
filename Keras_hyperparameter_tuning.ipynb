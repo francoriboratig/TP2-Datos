{
  "nbformat": 4,
  "nbformat_minor": 0,
  "metadata": {
    "colab": {
      "name": "Keras hyperparameter tuning.ipynb",
      "provenance": [],
      "collapsed_sections": [],
      "authorship_tag": "ABX9TyONEWV4li9H/W9MZl91hA/1",
      "include_colab_link": true
    },
    "kernelspec": {
      "name": "python3",
      "display_name": "Python 3"
    }
  },
  "cells": [
    {
      "cell_type": "markdown",
      "metadata": {
        "id": "view-in-github",
        "colab_type": "text"
      },
      "source": [
        "<a href=\"https://colab.research.google.com/github/francoriboratig/TP2-Datos/blob/master/Keras_hyperparameter_tuning.ipynb\" target=\"_parent\"><img src=\"https://colab.research.google.com/assets/colab-badge.svg\" alt=\"Open In Colab\"/></a>"
      ]
    },
    {
      "cell_type": "code",
      "metadata": {
        "id": "xB4ZOJSvG-Fi",
        "colab_type": "code",
        "colab": {
          "base_uri": "https://localhost:8080/",
          "height": 978
        },
        "outputId": "37960a41-415e-46fc-f6af-4830240e6fca"
      },
      "source": [
        "import numpy as np\n",
        "import tensorflow as tf\n",
        "import pandas as pd\n",
        "import tensorflow.keras as keras\n",
        "import sklearn as sklearn\n",
        "from sklearn.model_selection import train_test_split\n",
        "from sklearn.feature_extraction.text import CountVectorizer\n",
        "from keras.models import Sequential\n",
        "from keras import layers\n",
        "from google.colab import files\n",
        "!pip install talos\n",
        "import talos"
      ],
      "execution_count": null,
      "outputs": [
        {
          "output_type": "stream",
          "text": [
            "Requirement already satisfied: talos in /usr/local/lib/python3.6/dist-packages (0.6.6)\n",
            "Requirement already satisfied: sklearn in /usr/local/lib/python3.6/dist-packages (from talos) (0.0)\n",
            "Requirement already satisfied: keras==2.3.0 in /usr/local/lib/python3.6/dist-packages (from talos) (2.3.0)\n",
            "Requirement already satisfied: kerasplotlib in /usr/local/lib/python3.6/dist-packages (from talos) (0.1.6)\n",
            "Requirement already satisfied: tqdm in /usr/local/lib/python3.6/dist-packages (from talos) (4.41.1)\n",
            "Requirement already satisfied: tensorflow==1.14.0 in /usr/local/lib/python3.6/dist-packages (from talos) (1.14.0)\n",
            "Requirement already satisfied: requests in /usr/local/lib/python3.6/dist-packages (from talos) (2.23.0)\n",
            "Requirement already satisfied: chances in /usr/local/lib/python3.6/dist-packages (from talos) (0.1.9)\n",
            "Requirement already satisfied: pandas in /usr/local/lib/python3.6/dist-packages (from talos) (1.0.5)\n",
            "Requirement already satisfied: statsmodels>=0.11.0 in /usr/local/lib/python3.6/dist-packages (from talos) (0.11.1)\n",
            "Requirement already satisfied: numpy in /usr/local/lib/python3.6/dist-packages (from talos) (1.18.5)\n",
            "Requirement already satisfied: wrangle in /usr/local/lib/python3.6/dist-packages (from talos) (0.6.7)\n",
            "Requirement already satisfied: astetik in /usr/local/lib/python3.6/dist-packages (from talos) (1.9.9)\n",
            "Requirement already satisfied: scikit-learn in /usr/local/lib/python3.6/dist-packages (from sklearn->talos) (0.22.2.post1)\n",
            "Requirement already satisfied: keras-applications>=1.0.6 in /usr/local/lib/python3.6/dist-packages (from keras==2.3.0->talos) (1.0.8)\n",
            "Requirement already satisfied: six>=1.9.0 in /usr/local/lib/python3.6/dist-packages (from keras==2.3.0->talos) (1.12.0)\n",
            "Requirement already satisfied: keras-preprocessing>=1.0.5 in /usr/local/lib/python3.6/dist-packages (from keras==2.3.0->talos) (1.1.2)\n",
            "Requirement already satisfied: h5py in /usr/local/lib/python3.6/dist-packages (from keras==2.3.0->talos) (2.10.0)\n",
            "Requirement already satisfied: pyyaml in /usr/local/lib/python3.6/dist-packages (from keras==2.3.0->talos) (3.13)\n",
            "Requirement already satisfied: scipy>=0.14 in /usr/local/lib/python3.6/dist-packages (from keras==2.3.0->talos) (1.2.0)\n",
            "Requirement already satisfied: ipython in /usr/local/lib/python3.6/dist-packages (from kerasplotlib->talos) (5.5.0)\n",
            "Requirement already satisfied: protobuf>=3.6.1 in /usr/local/lib/python3.6/dist-packages (from tensorflow==1.14.0->talos) (3.12.2)\n",
            "Requirement already satisfied: grpcio>=1.8.6 in /usr/local/lib/python3.6/dist-packages (from tensorflow==1.14.0->talos) (1.30.0)\n",
            "Requirement already satisfied: tensorboard<1.15.0,>=1.14.0 in /usr/local/lib/python3.6/dist-packages (from tensorflow==1.14.0->talos) (1.14.0)\n",
            "Requirement already satisfied: gast>=0.2.0 in /usr/local/lib/python3.6/dist-packages (from tensorflow==1.14.0->talos) (0.3.3)\n",
            "Requirement already satisfied: absl-py>=0.7.0 in /usr/local/lib/python3.6/dist-packages (from tensorflow==1.14.0->talos) (0.9.0)\n",
            "Requirement already satisfied: google-pasta>=0.1.6 in /usr/local/lib/python3.6/dist-packages (from tensorflow==1.14.0->talos) (0.2.0)\n",
            "Requirement already satisfied: wheel>=0.26 in /usr/local/lib/python3.6/dist-packages (from tensorflow==1.14.0->talos) (0.34.2)\n",
            "Requirement already satisfied: astor>=0.6.0 in /usr/local/lib/python3.6/dist-packages (from tensorflow==1.14.0->talos) (0.8.1)\n",
            "Requirement already satisfied: termcolor>=1.1.0 in /usr/local/lib/python3.6/dist-packages (from tensorflow==1.14.0->talos) (1.1.0)\n",
            "Requirement already satisfied: wrapt>=1.11.1 in /usr/local/lib/python3.6/dist-packages (from tensorflow==1.14.0->talos) (1.12.1)\n",
            "Requirement already satisfied: tensorflow-estimator<1.15.0rc0,>=1.14.0rc0 in /usr/local/lib/python3.6/dist-packages (from tensorflow==1.14.0->talos) (1.14.0)\n",
            "Requirement already satisfied: idna<3,>=2.5 in /usr/local/lib/python3.6/dist-packages (from requests->talos) (2.10)\n",
            "Requirement already satisfied: certifi>=2017.4.17 in /usr/local/lib/python3.6/dist-packages (from requests->talos) (2020.6.20)\n",
            "Requirement already satisfied: chardet<4,>=3.0.2 in /usr/local/lib/python3.6/dist-packages (from requests->talos) (3.0.4)\n",
            "Requirement already satisfied: urllib3!=1.25.0,!=1.25.1,<1.26,>=1.21.1 in /usr/local/lib/python3.6/dist-packages (from requests->talos) (1.24.3)\n",
            "Requirement already satisfied: python-dateutil>=2.6.1 in /usr/local/lib/python3.6/dist-packages (from pandas->talos) (2.8.1)\n",
            "Requirement already satisfied: pytz>=2017.2 in /usr/local/lib/python3.6/dist-packages (from pandas->talos) (2018.9)\n",
            "Requirement already satisfied: patsy>=0.5 in /usr/local/lib/python3.6/dist-packages (from statsmodels>=0.11.0->talos) (0.5.1)\n",
            "Requirement already satisfied: geonamescache in /usr/local/lib/python3.6/dist-packages (from astetik->talos) (1.2.0)\n",
            "Requirement already satisfied: joblib>=0.11 in /usr/local/lib/python3.6/dist-packages (from scikit-learn->sklearn->talos) (0.16.0)\n",
            "Requirement already satisfied: decorator in /usr/local/lib/python3.6/dist-packages (from ipython->kerasplotlib->talos) (4.4.2)\n",
            "Requirement already satisfied: pygments in /usr/local/lib/python3.6/dist-packages (from ipython->kerasplotlib->talos) (2.1.3)\n",
            "Requirement already satisfied: prompt-toolkit<2.0.0,>=1.0.4 in /usr/local/lib/python3.6/dist-packages (from ipython->kerasplotlib->talos) (1.0.18)\n",
            "Requirement already satisfied: simplegeneric>0.8 in /usr/local/lib/python3.6/dist-packages (from ipython->kerasplotlib->talos) (0.8.1)\n",
            "Requirement already satisfied: setuptools>=18.5 in /usr/local/lib/python3.6/dist-packages (from ipython->kerasplotlib->talos) (49.1.0)\n",
            "Requirement already satisfied: pexpect; sys_platform != \"win32\" in /usr/local/lib/python3.6/dist-packages (from ipython->kerasplotlib->talos) (4.8.0)\n",
            "Requirement already satisfied: pickleshare in /usr/local/lib/python3.6/dist-packages (from ipython->kerasplotlib->talos) (0.7.5)\n",
            "Requirement already satisfied: traitlets>=4.2 in /usr/local/lib/python3.6/dist-packages (from ipython->kerasplotlib->talos) (4.3.3)\n",
            "Requirement already satisfied: markdown>=2.6.8 in /usr/local/lib/python3.6/dist-packages (from tensorboard<1.15.0,>=1.14.0->tensorflow==1.14.0->talos) (3.2.2)\n",
            "Requirement already satisfied: werkzeug>=0.11.15 in /usr/local/lib/python3.6/dist-packages (from tensorboard<1.15.0,>=1.14.0->tensorflow==1.14.0->talos) (1.0.1)\n",
            "Requirement already satisfied: wcwidth in /usr/local/lib/python3.6/dist-packages (from prompt-toolkit<2.0.0,>=1.0.4->ipython->kerasplotlib->talos) (0.2.5)\n",
            "Requirement already satisfied: ptyprocess>=0.5 in /usr/local/lib/python3.6/dist-packages (from pexpect; sys_platform != \"win32\"->ipython->kerasplotlib->talos) (0.6.0)\n",
            "Requirement already satisfied: ipython-genutils in /usr/local/lib/python3.6/dist-packages (from traitlets>=4.2->ipython->kerasplotlib->talos) (0.2.0)\n",
            "Requirement already satisfied: importlib-metadata; python_version < \"3.8\" in /usr/local/lib/python3.6/dist-packages (from markdown>=2.6.8->tensorboard<1.15.0,>=1.14.0->tensorflow==1.14.0->talos) (1.7.0)\n",
            "Requirement already satisfied: zipp>=0.5 in /usr/local/lib/python3.6/dist-packages (from importlib-metadata; python_version < \"3.8\"->markdown>=2.6.8->tensorboard<1.15.0,>=1.14.0->tensorflow==1.14.0->talos) (3.1.0)\n"
          ],
          "name": "stdout"
        }
      ]
    },
    {
      "cell_type": "code",
      "metadata": {
        "id": "O9xxlwGhHzu-",
        "colab_type": "code",
        "colab": {
          "base_uri": "https://localhost:8080/",
          "height": 195
        },
        "outputId": "7d8ee0bf-c185-424a-8888-3e025a17613e"
      },
      "source": [
        "# CARGAMOS LOS CSV\n",
        "url_train = 'https://raw.githubusercontent.com/JulioCastillo1/TP1-Datos/master/train.csv'\n",
        "url_test = 'https://raw.githubusercontent.com/francoriboratig/TP2-Datos/master/test.csv'\n",
        "\n",
        "train_df = pd.read_csv(url_train)\n",
        "test_df = pd.read_csv(url_test)\n",
        "train_df = train_df.drop(['keyword', 'location','id'], axis = 1)\n",
        "train_df.head()"
      ],
      "execution_count": null,
      "outputs": [
        {
          "output_type": "execute_result",
          "data": {
            "text/html": [
              "<div>\n",
              "<style scoped>\n",
              "    .dataframe tbody tr th:only-of-type {\n",
              "        vertical-align: middle;\n",
              "    }\n",
              "\n",
              "    .dataframe tbody tr th {\n",
              "        vertical-align: top;\n",
              "    }\n",
              "\n",
              "    .dataframe thead th {\n",
              "        text-align: right;\n",
              "    }\n",
              "</style>\n",
              "<table border=\"1\" class=\"dataframe\">\n",
              "  <thead>\n",
              "    <tr style=\"text-align: right;\">\n",
              "      <th></th>\n",
              "      <th>text</th>\n",
              "      <th>target</th>\n",
              "    </tr>\n",
              "  </thead>\n",
              "  <tbody>\n",
              "    <tr>\n",
              "      <th>0</th>\n",
              "      <td>Our Deeds are the Reason of this #earthquake M...</td>\n",
              "      <td>1</td>\n",
              "    </tr>\n",
              "    <tr>\n",
              "      <th>1</th>\n",
              "      <td>Forest fire near La Ronge Sask. Canada</td>\n",
              "      <td>1</td>\n",
              "    </tr>\n",
              "    <tr>\n",
              "      <th>2</th>\n",
              "      <td>All residents asked to 'shelter in place' are ...</td>\n",
              "      <td>1</td>\n",
              "    </tr>\n",
              "    <tr>\n",
              "      <th>3</th>\n",
              "      <td>13,000 people receive #wildfires evacuation or...</td>\n",
              "      <td>1</td>\n",
              "    </tr>\n",
              "    <tr>\n",
              "      <th>4</th>\n",
              "      <td>Just got sent this photo from Ruby #Alaska as ...</td>\n",
              "      <td>1</td>\n",
              "    </tr>\n",
              "  </tbody>\n",
              "</table>\n",
              "</div>"
            ],
            "text/plain": [
              "                                                text  target\n",
              "0  Our Deeds are the Reason of this #earthquake M...       1\n",
              "1             Forest fire near La Ronge Sask. Canada       1\n",
              "2  All residents asked to 'shelter in place' are ...       1\n",
              "3  13,000 people receive #wildfires evacuation or...       1\n",
              "4  Just got sent this photo from Ruby #Alaska as ...       1"
            ]
          },
          "metadata": {
            "tags": []
          },
          "execution_count": 37
        }
      ]
    },
    {
      "cell_type": "code",
      "metadata": {
        "id": "S3FM6fG3H0yk",
        "colab_type": "code",
        "colab": {
          "base_uri": "https://localhost:8080/",
          "height": 34
        },
        "outputId": "a0d7d1f8-96dc-4ba5-ceb7-d95ef13e1743"
      },
      "source": [
        "train_df.shape"
      ],
      "execution_count": null,
      "outputs": [
        {
          "output_type": "execute_result",
          "data": {
            "text/plain": [
              "(7613, 2)"
            ]
          },
          "metadata": {
            "tags": []
          },
          "execution_count": 38
        }
      ]
    },
    {
      "cell_type": "code",
      "metadata": {
        "id": "AqSkKT5iH_vk",
        "colab_type": "code",
        "colab": {}
      },
      "source": [
        "x_train, x_test, y_train, y_test = train_test_split(train_df['text'],train_df['target'],random_state=7,test_size = 0.20)\n",
        "x_train = train_df['text']\n",
        "y_train = train_df['target']"
      ],
      "execution_count": null,
      "outputs": []
    },
    {
      "cell_type": "code",
      "metadata": {
        "id": "8M9STHOkPBmO",
        "colab_type": "code",
        "colab": {}
      },
      "source": [
        "#vectorizer = CountVectorizer()\n",
        "#vectorizer.fit(x_train)\n",
        "\n",
        "#x_train = vectorizer.transform(x_train)\n",
        "#x_test = vectorizer.transform(x_test)\n",
        "#x_train"
      ],
      "execution_count": null,
      "outputs": []
    },
    {
      "cell_type": "code",
      "metadata": {
        "id": "i57twx8jV4O8",
        "colab_type": "code",
        "colab": {}
      },
      "source": [
        "#input_dim = x_train.shape[1]\n",
        "\n",
        "#model = Sequential()\n",
        "#model.add(layers.Dense(4,input_dim=input_dim,activation='relu'))\n",
        "#model.add(layers.Dense(1,activation = 'sigmoid'))"
      ],
      "execution_count": null,
      "outputs": []
    },
    {
      "cell_type": "code",
      "metadata": {
        "id": "-FVIG92hYvuC",
        "colab_type": "code",
        "colab": {}
      },
      "source": [
        "#model.compile(loss='binary_crossentropy', optimizer='adam', metrics=['accuracy'])\n",
        "#model.summary()"
      ],
      "execution_count": null,
      "outputs": []
    },
    {
      "cell_type": "code",
      "metadata": {
        "id": "IGWkBMO5ZpAP",
        "colab_type": "code",
        "colab": {}
      },
      "source": [
        "#history = model.fit(x_train,y_train,epochs = 10,verbose = 1,validation_data = (x_test,y_test),batch_size=15)"
      ],
      "execution_count": null,
      "outputs": []
    },
    {
      "cell_type": "code",
      "metadata": {
        "id": "tjeKk5v5dChB",
        "colab_type": "code",
        "colab": {}
      },
      "source": [
        ""
      ],
      "execution_count": null,
      "outputs": []
    },
    {
      "cell_type": "code",
      "metadata": {
        "id": "TvWMa185fJt3",
        "colab_type": "code",
        "colab": {}
      },
      "source": [
        "def modelardo(x_train,y_train,x_test,y_test,params):\n",
        "  vectorizer = CountVectorizer()\n",
        "  vectorizer.fit(x_train)\n",
        "\n",
        "  x_train = vectorizer.transform(x_train)\n",
        "  x_test = vectorizer.transform(x_test)\n",
        "  input_dim = x_train.shape[1]\n",
        "  model = Sequential()\n",
        "  model.add(layers.Dense(params['first neuron units'],input_dim=input_dim,activation=params['first neuron activation']))\n",
        "  model.add(layers.Dense(1,activation = 'sigmoid'))\n",
        "  model.compile(loss='binary_crossentropy', optimizer='adam', metrics=['accuracy'])\n",
        "  out = model.fit(x_train,y_train,epochs = params['epochs'],verbose = 0,validation_data = (x_test,y_test),batch_size=params['batch size'])\n",
        "  return out,model"
      ],
      "execution_count": null,
      "outputs": []
    },
    {
      "cell_type": "code",
      "metadata": {
        "id": "XnDp_UakofxU",
        "colab_type": "code",
        "colab": {}
      },
      "source": [
        "p = {\n",
        "    'first neuron units': (2,20,1),\n",
        "    'first neuron activation': ['relu','elu','sigmoid','softmax','tanh','exponential'],\n",
        "    'epochs': [1,2,3,4,5,6,7,10,20,100],\n",
        "    'batch size': (5,100,5)\n",
        "}"
      ],
      "execution_count": null,
      "outputs": []
    },
    {
      "cell_type": "code",
      "metadata": {
        "id": "JMKY4ZKGnUYb",
        "colab_type": "code",
        "colab": {}
      },
      "source": [
        "#loss, accuracy = model.evaluate(x_train, y_train, verbose=False)\n",
        "#print(\"Training Accuracy: {:.4f}\".format(accuracy))\n",
        "#loss, accuracy = model.evaluate(x_test, y_test, verbose=False)\n",
        "#print(\"Testing Accuracy:  {:.4f}\".format(accuracy))"
      ],
      "execution_count": null,
      "outputs": []
    },
    {
      "cell_type": "code",
      "metadata": {
        "id": "65ek_jHon6Tv",
        "colab_type": "code",
        "colab": {
          "base_uri": "https://localhost:8080/",
          "height": 1000
        },
        "outputId": "1944c149-7775-4503-fdf7-bb68f5cd4fe6"
      },
      "source": [
        "x_train.shape\n",
        "t = talos.Scan(x_train,y_train,params=p,model=modelardo,experiment_name='diabetes')\n",
        "#Este proceso tarda 1,5hs aprox en colab. Y tiene muy poquitos hiperparámetros para tunear"
      ],
      "execution_count": null,
      "outputs": [
        {
          "output_type": "stream",
          "text": [
            "\n",
            "  0%|          | 0/300 [00:00<?, ?it/s]\u001b[A\n",
            "  0%|          | 1/300 [00:03<17:45,  3.56s/it]\u001b[A\n",
            "  1%|          | 2/300 [00:07<17:31,  3.53s/it]\u001b[A\n",
            "  1%|          | 3/300 [00:10<17:21,  3.51s/it]\u001b[A\n",
            "  1%|▏         | 4/300 [00:13<17:19,  3.51s/it]\u001b[A\n",
            "  2%|▏         | 5/300 [00:17<17:14,  3.51s/it]\u001b[A\n",
            "  2%|▏         | 6/300 [00:21<17:13,  3.52s/it]\u001b[A\n",
            "  2%|▏         | 7/300 [00:27<20:58,  4.30s/it]\u001b[A\n",
            "  3%|▎         | 8/300 [00:33<23:30,  4.83s/it]\u001b[A\n",
            "  3%|▎         | 9/300 [00:39<25:31,  5.26s/it]\u001b[A\n",
            "  3%|▎         | 10/300 [00:45<26:54,  5.57s/it]\u001b[A\n",
            "  4%|▎         | 11/300 [00:51<27:27,  5.70s/it]\u001b[A\n",
            "  4%|▍         | 12/300 [00:57<28:02,  5.84s/it]\u001b[A\n",
            "  4%|▍         | 13/300 [01:06<32:20,  6.76s/it]\u001b[A\n",
            "  5%|▍         | 14/300 [01:16<36:48,  7.72s/it]\u001b[A\n",
            "  5%|▌         | 15/300 [01:25<38:08,  8.03s/it]\u001b[A\n",
            "  5%|▌         | 16/300 [01:34<39:33,  8.36s/it]\u001b[A\n",
            "  6%|▌         | 17/300 [01:43<40:14,  8.53s/it]\u001b[A\n",
            "  6%|▌         | 18/300 [01:52<40:20,  8.58s/it]\u001b[A\n",
            "  6%|▋         | 19/300 [02:04<45:27,  9.71s/it]\u001b[A\n",
            "  7%|▋         | 20/300 [02:17<49:43, 10.65s/it]\u001b[A\n",
            "  7%|▋         | 21/300 [02:30<52:24, 11.27s/it]\u001b[A\n",
            "  7%|▋         | 22/300 [02:41<52:45, 11.39s/it]\u001b[A\n",
            "  8%|▊         | 23/300 [02:53<52:44, 11.42s/it]\u001b[A\n",
            "  8%|▊         | 24/300 [03:05<52:58, 11.52s/it]\u001b[A\n",
            "  8%|▊         | 25/300 [03:19<56:32, 12.33s/it]\u001b[A\n",
            "  9%|▊         | 26/300 [03:33<58:52, 12.89s/it]\u001b[A\n",
            "  9%|▉         | 27/300 [03:47<1:00:06, 13.21s/it]\u001b[A\n",
            "  9%|▉         | 28/300 [04:01<1:01:20, 13.53s/it]\u001b[A\n",
            " 10%|▉         | 29/300 [04:16<1:02:14, 13.78s/it]\u001b[A\n",
            " 10%|█         | 30/300 [04:30<1:02:46, 13.95s/it]\u001b[A\n",
            " 10%|█         | 31/300 [04:47<1:06:16, 14.78s/it]\u001b[A\n",
            " 11%|█         | 32/300 [05:03<1:08:28, 15.33s/it]\u001b[A\n",
            " 11%|█         | 33/300 [05:20<1:10:34, 15.86s/it]\u001b[A\n",
            " 11%|█▏        | 34/300 [05:38<1:12:10, 16.28s/it]\u001b[A\n",
            " 12%|█▏        | 35/300 [05:55<1:12:53, 16.50s/it]\u001b[A\n",
            " 12%|█▏        | 36/300 [06:11<1:12:42, 16.52s/it]\u001b[A\n",
            " 12%|█▏        | 37/300 [06:33<1:18:50, 17.99s/it]\u001b[A\n",
            " 13%|█▎        | 38/300 [06:53<1:22:04, 18.79s/it]\u001b[A\n",
            " 13%|█▎        | 39/300 [07:15<1:24:47, 19.49s/it]\u001b[A\n",
            " 13%|█▎        | 40/300 [07:38<1:29:40, 20.69s/it]\u001b[A\n",
            " 14%|█▎        | 41/300 [07:57<1:27:45, 20.33s/it]\u001b[A\n",
            " 14%|█▍        | 42/300 [08:18<1:27:06, 20.26s/it]\u001b[A\n",
            " 14%|█▍        | 43/300 [08:45<1:35:52, 22.38s/it]\u001b[A\n",
            " 15%|█▍        | 44/300 [09:13<1:42:33, 24.04s/it]\u001b[A\n",
            " 15%|█▌        | 45/300 [09:41<1:47:29, 25.29s/it]\u001b[A\n",
            " 15%|█▌        | 46/300 [10:09<1:50:32, 26.11s/it]\u001b[A\n",
            " 16%|█▌        | 47/300 [10:37<1:52:29, 26.68s/it]\u001b[A\n",
            " 16%|█▌        | 48/300 [11:05<1:53:47, 27.09s/it]\u001b[A\n",
            " 16%|█▋        | 49/300 [12:03<2:32:23, 36.43s/it]\u001b[A\n",
            " 17%|█▋        | 50/300 [13:01<2:58:31, 42.85s/it]\u001b[A\n",
            " 17%|█▋        | 51/300 [13:56<3:12:33, 46.40s/it]\u001b[A\n",
            " 17%|█▋        | 52/300 [14:52<3:23:21, 49.20s/it]\u001b[A\n",
            " 18%|█▊        | 53/300 [15:46<3:28:44, 50.71s/it]\u001b[A\n",
            " 18%|█▊        | 54/300 [16:42<3:34:04, 52.21s/it]\u001b[A\n",
            " 18%|█▊        | 55/300 [21:18<8:08:11, 119.56s/it]\u001b[A\n",
            " 19%|█▊        | 56/300 [25:47<11:08:32, 164.40s/it]\u001b[A\n",
            " 19%|█▉        | 57/300 [30:26<13:24:45, 198.71s/it]\u001b[A\n",
            " 19%|█▉        | 58/300 [35:00<14:52:02, 221.17s/it]\u001b[A\n",
            " 20%|█▉        | 59/300 [39:36<15:54:51, 237.72s/it]\u001b[A\n",
            " 20%|██        | 60/300 [44:06<16:29:42, 247.43s/it]\u001b[A\n",
            " 20%|██        | 61/300 [44:08<11:32:32, 173.86s/it]\u001b[A\n",
            " 21%|██        | 62/300 [44:10<8:05:20, 122.35s/it] \u001b[A\n",
            " 21%|██        | 63/300 [44:13<5:40:49, 86.28s/it] \u001b[A\n",
            " 21%|██▏       | 64/300 [44:15<4:00:04, 61.03s/it]\u001b[A\n",
            " 22%|██▏       | 65/300 [44:17<2:49:51, 43.37s/it]\u001b[A\n",
            " 22%|██▏       | 66/300 [44:19<2:00:53, 31.00s/it]\u001b[A\n",
            " 22%|██▏       | 67/300 [44:22<1:28:15, 22.73s/it]\u001b[A\n",
            " 23%|██▎       | 68/300 [44:26<1:05:34, 16.96s/it]\u001b[A\n",
            " 23%|██▎       | 69/300 [44:29<49:47, 12.93s/it]  \u001b[A\n",
            " 23%|██▎       | 70/300 [44:33<38:35, 10.07s/it]\u001b[A\n",
            " 24%|██▎       | 71/300 [44:36<30:43,  8.05s/it]\u001b[A\n",
            " 24%|██▍       | 72/300 [44:40<25:20,  6.67s/it]\u001b[A\n",
            " 24%|██▍       | 73/300 [44:44<23:03,  6.09s/it]\u001b[A\n",
            " 25%|██▍       | 74/300 [44:49<21:14,  5.64s/it]\u001b[A\n",
            " 25%|██▌       | 75/300 [44:54<20:06,  5.36s/it]\u001b[A\n",
            " 25%|██▌       | 76/300 [44:58<19:26,  5.21s/it]\u001b[A\n",
            " 26%|██▌       | 77/300 [45:03<18:53,  5.08s/it]\u001b[A\n",
            " 26%|██▌       | 78/300 [45:08<18:24,  4.98s/it]\u001b[A\n",
            " 26%|██▋       | 79/300 [45:14<19:36,  5.33s/it]\u001b[A\n",
            " 27%|██▋       | 80/300 [45:20<20:17,  5.54s/it]\u001b[A\n",
            " 27%|██▋       | 81/300 [45:26<20:48,  5.70s/it]\u001b[A\n",
            " 27%|██▋       | 82/300 [45:32<21:05,  5.81s/it]\u001b[A\n",
            " 28%|██▊       | 83/300 [45:38<21:06,  5.84s/it]\u001b[A\n",
            " 28%|██▊       | 84/300 [45:45<21:37,  6.01s/it]\u001b[A\n",
            " 28%|██▊       | 85/300 [45:52<23:21,  6.52s/it]\u001b[A\n",
            " 29%|██▊       | 86/300 [46:00<24:36,  6.90s/it]\u001b[A\n",
            " 29%|██▉       | 87/300 [46:08<25:33,  7.20s/it]\u001b[A\n",
            " 29%|██▉       | 88/300 [46:16<25:58,  7.35s/it]\u001b[A\n",
            " 30%|██▉       | 89/300 [46:23<26:15,  7.47s/it]\u001b[A\n",
            " 30%|███       | 90/300 [46:31<26:15,  7.50s/it]\u001b[A\n",
            " 30%|███       | 91/300 [46:40<27:21,  7.85s/it]\u001b[A\n",
            " 31%|███       | 92/300 [46:48<28:06,  8.11s/it]\u001b[A\n",
            " 31%|███       | 93/300 [46:57<28:26,  8.25s/it]\u001b[A\n",
            " 31%|███▏      | 94/300 [47:06<29:04,  8.47s/it]\u001b[A\n",
            " 32%|███▏      | 95/300 [47:15<29:26,  8.62s/it]\u001b[A\n",
            " 32%|███▏      | 96/300 [47:24<29:22,  8.64s/it]\u001b[A\n",
            " 32%|███▏      | 97/300 [47:34<30:57,  9.15s/it]\u001b[A\n",
            " 33%|███▎      | 98/300 [47:44<32:08,  9.55s/it]\u001b[A\n",
            " 33%|███▎      | 99/300 [47:54<32:29,  9.70s/it]\u001b[A\n",
            " 33%|███▎      | 100/300 [48:05<33:13,  9.97s/it]\u001b[A\n",
            " 34%|███▎      | 101/300 [48:16<33:46, 10.18s/it]\u001b[A\n",
            " 34%|███▍      | 102/300 [48:26<33:29, 10.15s/it]\u001b[A\n",
            " 34%|███▍      | 103/300 [48:41<37:57, 11.56s/it]\u001b[A\n",
            " 35%|███▍      | 104/300 [48:55<40:12, 12.31s/it]\u001b[A\n",
            " 35%|███▌      | 105/300 [49:09<41:46, 12.85s/it]\u001b[A\n",
            " 35%|███▌      | 106/300 [49:23<42:42, 13.21s/it]\u001b[A\n",
            " 36%|███▌      | 107/300 [49:37<43:22, 13.48s/it]\u001b[A\n",
            " 36%|███▌      | 108/300 [49:50<43:02, 13.45s/it]\u001b[A\n",
            " 36%|███▋      | 109/300 [50:17<55:09, 17.33s/it]\u001b[A\n",
            " 37%|███▋      | 110/300 [50:42<1:02:25, 19.72s/it]\u001b[A\n",
            " 37%|███▋      | 111/300 [51:08<1:08:16, 21.67s/it]\u001b[A\n",
            " 37%|███▋      | 112/300 [51:34<1:11:39, 22.87s/it]\u001b[A\n",
            " 38%|███▊      | 113/300 [51:59<1:13:39, 23.63s/it]\u001b[A\n",
            " 38%|███▊      | 114/300 [52:25<1:15:16, 24.28s/it]\u001b[A\n",
            " 38%|███▊      | 115/300 [54:39<2:56:17, 57.18s/it]\u001b[A\n",
            " 39%|███▊      | 116/300 [56:46<3:59:48, 78.20s/it]\u001b[A\n",
            " 39%|███▉      | 117/300 [58:56<4:45:52, 93.73s/it]\u001b[A\n",
            " 39%|███▉      | 118/300 [1:01:11<5:21:56, 106.13s/it]\u001b[A\n",
            " 40%|███▉      | 119/300 [1:03:16<5:36:47, 111.64s/it]\u001b[A\n",
            " 40%|████      | 120/300 [1:05:22<5:47:44, 115.92s/it]\u001b[A\n",
            " 40%|████      | 121/300 [1:05:24<4:03:51, 81.74s/it] \u001b[A\n",
            " 41%|████      | 122/300 [1:05:26<2:51:33, 57.83s/it]\u001b[A\n",
            " 41%|████      | 123/300 [1:05:28<2:01:15, 41.11s/it]\u001b[A\n",
            " 41%|████▏     | 124/300 [1:05:30<1:26:08, 29.37s/it]\u001b[A\n",
            " 42%|████▏     | 125/300 [1:05:32<1:01:40, 21.15s/it]\u001b[A\n",
            " 42%|████▏     | 126/300 [1:05:34<44:37, 15.39s/it]  \u001b[A\n",
            " 42%|████▏     | 127/300 [1:05:37<33:44, 11.70s/it]\u001b[A\n",
            " 43%|████▎     | 128/300 [1:05:40<26:08,  9.12s/it]\u001b[A\n",
            " 43%|████▎     | 129/300 [1:05:43<20:48,  7.30s/it]\u001b[A\n",
            " 43%|████▎     | 130/300 [1:05:46<17:00,  6.00s/it]\u001b[A\n",
            " 44%|████▎     | 131/300 [1:05:49<14:22,  5.11s/it]\u001b[A\n",
            " 44%|████▍     | 132/300 [1:05:52<12:33,  4.49s/it]\u001b[A\n",
            " 44%|████▍     | 133/300 [1:05:56<12:13,  4.39s/it]\u001b[A\n",
            " 45%|████▍     | 134/300 [1:06:00<12:00,  4.34s/it]\u001b[A\n",
            " 45%|████▌     | 135/300 [1:06:05<11:53,  4.33s/it]\u001b[A\n",
            " 45%|████▌     | 136/300 [1:06:09<11:47,  4.31s/it]\u001b[A\n",
            " 46%|████▌     | 137/300 [1:06:13<11:41,  4.31s/it]\u001b[A\n",
            " 46%|████▌     | 138/300 [1:06:17<11:30,  4.26s/it]\u001b[A\n",
            " 46%|████▋     | 139/300 [1:06:23<12:17,  4.58s/it]\u001b[A\n",
            " 47%|████▋     | 140/300 [1:06:28<12:53,  4.83s/it]\u001b[A\n",
            " 47%|████▋     | 141/300 [1:06:33<13:07,  4.96s/it]\u001b[A\n",
            " 47%|████▋     | 142/300 [1:06:39<13:27,  5.11s/it]\u001b[A\n",
            " 48%|████▊     | 143/300 [1:06:44<13:36,  5.20s/it]\u001b[A\n",
            " 48%|████▊     | 144/300 [1:06:50<13:31,  5.20s/it]\u001b[A\n",
            " 48%|████▊     | 145/300 [1:06:56<14:20,  5.55s/it]\u001b[A\n",
            " 49%|████▊     | 146/300 [1:07:02<14:52,  5.79s/it]\u001b[A\n",
            " 49%|████▉     | 147/300 [1:07:09<15:20,  6.02s/it]\u001b[A\n",
            " 49%|████▉     | 148/300 [1:07:15<15:36,  6.16s/it]\u001b[A\n",
            " 50%|████▉     | 149/300 [1:07:22<15:32,  6.18s/it]\u001b[A\n",
            " 50%|█████     | 150/300 [1:07:28<15:47,  6.32s/it]\u001b[A\n",
            " 50%|█████     | 151/300 [1:07:36<16:41,  6.72s/it]\u001b[A\n",
            " 51%|█████     | 152/300 [1:07:44<17:23,  7.05s/it]\u001b[A\n",
            " 51%|█████     | 153/300 [1:07:52<18:05,  7.38s/it]\u001b[A\n",
            " 51%|█████▏    | 154/300 [1:07:59<18:08,  7.45s/it]\u001b[A\n",
            " 52%|█████▏    | 155/300 [1:08:07<18:08,  7.50s/it]\u001b[A\n",
            " 52%|█████▏    | 156/300 [1:08:15<18:04,  7.53s/it]\u001b[A\n",
            " 52%|█████▏    | 157/300 [1:08:23<18:40,  7.83s/it]\u001b[A\n",
            " 53%|█████▎    | 158/300 [1:08:32<19:13,  8.12s/it]\u001b[A\n",
            " 53%|█████▎    | 159/300 [1:08:41<19:53,  8.46s/it]\u001b[A\n",
            " 53%|█████▎    | 160/300 [1:08:50<20:00,  8.57s/it]\u001b[A\n",
            " 54%|█████▎    | 161/300 [1:08:59<19:54,  8.60s/it]\u001b[A\n",
            " 54%|█████▍    | 162/300 [1:09:08<20:03,  8.72s/it]\u001b[A\n",
            " 54%|█████▍    | 163/300 [1:09:20<22:10,  9.71s/it]\u001b[A\n",
            " 55%|█████▍    | 164/300 [1:09:32<23:45, 10.48s/it]\u001b[A\n",
            " 55%|█████▌    | 165/300 [1:09:45<25:24, 11.29s/it]\u001b[A\n",
            " 55%|█████▌    | 166/300 [1:09:57<25:47, 11.55s/it]\u001b[A\n",
            " 56%|█████▌    | 167/300 [1:10:10<26:22, 11.90s/it]\u001b[A\n",
            " 56%|█████▌    | 168/300 [1:10:23<26:34, 12.08s/it]\u001b[A\n",
            " 56%|█████▋    | 169/300 [1:10:46<34:06, 15.62s/it]\u001b[A\n",
            " 57%|█████▋    | 170/300 [1:11:11<39:53, 18.41s/it]\u001b[A\n",
            " 57%|█████▋    | 171/300 [1:11:36<43:30, 20.24s/it]\u001b[A\n",
            " 57%|█████▋    | 172/300 [1:12:02<46:39, 21.87s/it]\u001b[A\n",
            " 58%|█████▊    | 173/300 [1:12:28<48:55, 23.11s/it]\u001b[A\n",
            " 58%|█████▊    | 174/300 [1:12:53<50:17, 23.95s/it]\u001b[A\n",
            " 58%|█████▊    | 175/300 [1:14:58<1:52:32, 54.02s/it]\u001b[A\n",
            " 59%|█████▊    | 176/300 [1:16:55<2:30:37, 72.88s/it]\u001b[A\n",
            " 59%|█████▉    | 177/300 [1:18:51<2:55:53, 85.80s/it]\u001b[A\n",
            " 59%|█████▉    | 178/300 [1:20:43<3:10:44, 93.81s/it]\u001b[A\n",
            " 60%|█████▉    | 179/300 [1:22:31<3:17:34, 97.97s/it]\u001b[A\n",
            " 60%|██████    | 180/300 [1:24:21<3:23:12, 101.60s/it]\u001b[A\n",
            " 60%|██████    | 181/300 [1:24:23<2:22:12, 71.70s/it] \u001b[A\n",
            " 61%|██████    | 182/300 [1:24:25<1:39:49, 50.76s/it]\u001b[A\n",
            " 61%|██████    | 183/300 [1:24:26<1:10:23, 36.10s/it]\u001b[A\n",
            " 61%|██████▏   | 184/300 [1:24:28<50:00, 25.86s/it]  \u001b[A\n",
            " 62%|██████▏   | 185/300 [1:24:30<35:46, 18.67s/it]\u001b[A\n",
            " 62%|██████▏   | 186/300 [1:24:32<25:53, 13.63s/it]\u001b[A\n",
            " 62%|██████▏   | 187/300 [1:24:35<19:36, 10.41s/it]\u001b[A\n",
            " 63%|██████▎   | 188/300 [1:24:38<15:16,  8.18s/it]\u001b[A\n",
            " 63%|██████▎   | 189/300 [1:24:41<12:12,  6.60s/it]\u001b[A\n",
            " 63%|██████▎   | 190/300 [1:24:44<10:03,  5.49s/it]\u001b[A\n",
            " 64%|██████▎   | 191/300 [1:24:47<08:31,  4.70s/it]\u001b[A\n",
            " 64%|██████▍   | 192/300 [1:24:50<07:30,  4.17s/it]\u001b[A\n",
            " 64%|██████▍   | 193/300 [1:24:54<07:15,  4.07s/it]\u001b[A\n",
            " 65%|██████▍   | 194/300 [1:24:57<07:06,  4.03s/it]\u001b[A\n",
            " 65%|██████▌   | 195/300 [1:25:01<07:00,  4.01s/it]\u001b[A\n",
            " 65%|██████▌   | 196/300 [1:25:06<06:59,  4.03s/it]\u001b[A\n",
            " 66%|██████▌   | 197/300 [1:25:10<06:58,  4.06s/it]\u001b[A\n",
            " 66%|██████▌   | 198/300 [1:25:14<06:50,  4.02s/it]\u001b[A\n",
            " 66%|██████▋   | 199/300 [1:25:18<07:13,  4.29s/it]\u001b[A\n",
            " 67%|██████▋   | 200/300 [1:25:24<07:37,  4.58s/it]\u001b[A\n",
            " 67%|██████▋   | 201/300 [1:25:29<07:59,  4.84s/it]\u001b[A\n",
            " 67%|██████▋   | 202/300 [1:25:34<07:59,  4.89s/it]\u001b[A\n",
            " 68%|██████▊   | 203/300 [1:25:39<07:56,  4.91s/it]\u001b[A\n",
            " 68%|██████▊   | 204/300 [1:25:44<07:54,  4.94s/it]\u001b[A\n",
            " 68%|██████▊   | 205/300 [1:25:50<08:18,  5.25s/it]\u001b[A\n",
            " 69%|██████▊   | 206/300 [1:25:56<08:36,  5.50s/it]\u001b[A\n",
            " 69%|██████▉   | 207/300 [1:26:02<08:45,  5.65s/it]\u001b[A\n",
            " 69%|██████▉   | 208/300 [1:26:08<08:53,  5.80s/it]\u001b[A\n",
            " 70%|██████▉   | 209/300 [1:26:15<09:12,  6.07s/it]\u001b[A\n",
            " 70%|███████   | 210/300 [1:26:22<09:26,  6.29s/it]\u001b[A\n",
            " 70%|███████   | 211/300 [1:26:29<09:48,  6.61s/it]\u001b[A\n",
            " 71%|███████   | 212/300 [1:26:36<09:58,  6.80s/it]\u001b[A\n",
            " 71%|███████   | 213/300 [1:26:44<10:00,  6.91s/it]\u001b[A\n",
            " 71%|███████▏  | 214/300 [1:26:51<09:57,  6.95s/it]\u001b[A\n",
            " 72%|███████▏  | 215/300 [1:26:58<09:55,  7.01s/it]\u001b[A\n",
            " 72%|███████▏  | 216/300 [1:27:05<09:52,  7.05s/it]\u001b[A\n",
            " 72%|███████▏  | 217/300 [1:27:14<10:22,  7.50s/it]\u001b[A\n",
            " 73%|███████▎  | 218/300 [1:27:22<10:31,  7.70s/it]\u001b[A\n",
            " 73%|███████▎  | 219/300 [1:27:30<10:35,  7.85s/it]\u001b[A\n",
            " 73%|███████▎  | 220/300 [1:27:38<10:38,  7.98s/it]\u001b[A\n",
            " 74%|███████▎  | 221/300 [1:27:46<10:38,  8.08s/it]\u001b[A\n",
            " 74%|███████▍  | 222/300 [1:27:55<10:35,  8.14s/it]\u001b[A\n",
            " 74%|███████▍  | 223/300 [1:28:06<11:46,  9.17s/it]\u001b[A\n",
            " 75%|███████▍  | 224/300 [1:28:18<12:33,  9.91s/it]\u001b[A\n",
            " 75%|███████▌  | 225/300 [1:28:30<12:59, 10.39s/it]\u001b[A\n",
            " 75%|███████▌  | 226/300 [1:28:41<13:13, 10.72s/it]\u001b[A\n",
            " 76%|███████▌  | 227/300 [1:28:52<13:12, 10.86s/it]\u001b[A\n",
            " 76%|███████▌  | 228/300 [1:29:04<13:13, 11.02s/it]\u001b[A\n",
            " 76%|███████▋  | 229/300 [1:29:25<16:51, 14.25s/it]\u001b[A\n",
            " 77%|███████▋  | 230/300 [1:29:47<19:18, 16.56s/it]\u001b[A\n",
            " 77%|███████▋  | 231/300 [1:30:10<21:08, 18.38s/it]\u001b[A\n",
            " 77%|███████▋  | 232/300 [1:30:33<22:26, 19.80s/it]\u001b[A\n",
            " 78%|███████▊  | 233/300 [1:30:56<23:02, 20.63s/it]\u001b[A\n",
            " 78%|███████▊  | 234/300 [1:31:17<22:55, 20.84s/it]\u001b[A\n",
            " 78%|███████▊  | 235/300 [1:33:03<50:12, 46.35s/it]\u001b[A\n",
            " 79%|███████▊  | 236/300 [1:34:52<1:09:36, 65.26s/it]\u001b[A\n",
            " 79%|███████▉  | 237/300 [1:36:40<1:21:46, 77.89s/it]\u001b[A\n",
            " 79%|███████▉  | 238/300 [1:38:29<1:30:11, 87.28s/it]\u001b[A\n",
            " 80%|███████▉  | 239/300 [1:40:20<1:36:05, 94.52s/it]\u001b[A\n",
            " 80%|████████  | 240/300 [1:42:16<1:40:53, 100.89s/it]\u001b[A\n",
            " 80%|████████  | 241/300 [1:42:18<1:10:01, 71.21s/it] \u001b[A\n",
            " 81%|████████  | 242/300 [1:42:20<48:45, 50.45s/it]  \u001b[A\n",
            " 81%|████████  | 243/300 [1:42:22<34:06, 35.90s/it]\u001b[A\n",
            " 81%|████████▏ | 244/300 [1:42:24<24:00, 25.73s/it]\u001b[A\n",
            " 82%|████████▏ | 245/300 [1:42:26<17:03, 18.61s/it]\u001b[A\n",
            " 82%|████████▏ | 246/300 [1:42:28<12:15, 13.61s/it]\u001b[A\n",
            " 82%|████████▏ | 247/300 [1:42:31<09:12, 10.43s/it]\u001b[A\n",
            " 83%|████████▎ | 248/300 [1:42:34<07:05,  8.19s/it]\u001b[A\n",
            " 83%|████████▎ | 249/300 [1:42:37<05:39,  6.65s/it]\u001b[A\n",
            " 83%|████████▎ | 250/300 [1:42:40<04:38,  5.57s/it]\u001b[A\n",
            " 84%|████████▎ | 251/300 [1:42:43<03:55,  4.81s/it]\u001b[A\n",
            " 84%|████████▍ | 252/300 [1:42:46<03:25,  4.27s/it]\u001b[A\n",
            " 84%|████████▍ | 253/300 [1:42:50<03:16,  4.18s/it]\u001b[A\n",
            " 85%|████████▍ | 254/300 [1:42:54<03:09,  4.11s/it]\u001b[A\n",
            " 85%|████████▌ | 255/300 [1:42:58<03:03,  4.07s/it]\u001b[A\n",
            " 85%|████████▌ | 256/300 [1:43:02<02:58,  4.05s/it]\u001b[A\n",
            " 86%|████████▌ | 257/300 [1:43:06<02:53,  4.04s/it]\u001b[A\n",
            " 86%|████████▌ | 258/300 [1:43:10<02:49,  4.03s/it]\u001b[A\n",
            " 86%|████████▋ | 259/300 [1:43:15<02:56,  4.31s/it]\u001b[A\n",
            " 87%|████████▋ | 260/300 [1:43:20<02:59,  4.50s/it]\u001b[A\n",
            " 87%|████████▋ | 261/300 [1:43:25<03:01,  4.65s/it]\u001b[A\n",
            " 87%|████████▋ | 262/300 [1:43:30<03:01,  4.77s/it]\u001b[A\n",
            " 88%|████████▊ | 263/300 [1:43:35<02:58,  4.83s/it]\u001b[A\n",
            " 88%|████████▊ | 264/300 [1:43:40<02:56,  4.89s/it]\u001b[A\n",
            " 88%|████████▊ | 265/300 [1:43:46<03:02,  5.22s/it]\u001b[A\n",
            " 89%|████████▊ | 266/300 [1:43:52<03:04,  5.44s/it]\u001b[A\n",
            " 89%|████████▉ | 267/300 [1:44:00<03:27,  6.30s/it]\u001b[A\n",
            " 89%|████████▉ | 268/300 [1:44:06<03:19,  6.24s/it]\u001b[A\n",
            " 90%|████████▉ | 269/300 [1:44:12<03:11,  6.17s/it]\u001b[A\n",
            " 90%|█████████ | 270/300 [1:44:18<03:02,  6.09s/it]\u001b[A\n",
            " 90%|█████████ | 271/300 [1:44:25<03:06,  6.44s/it]\u001b[A\n",
            " 91%|█████████ | 272/300 [1:44:33<03:07,  6.69s/it]\u001b[A\n",
            " 91%|█████████ | 273/300 [1:44:40<03:03,  6.80s/it]\u001b[A\n",
            " 91%|█████████▏| 274/300 [1:44:47<02:58,  6.86s/it]\u001b[A\n",
            " 92%|█████████▏| 275/300 [1:44:54<02:52,  6.89s/it]\u001b[A\n",
            " 92%|█████████▏| 276/300 [1:45:01<02:46,  6.93s/it]\u001b[A\n",
            " 92%|█████████▏| 277/300 [1:45:09<02:47,  7.29s/it]\u001b[A\n",
            " 93%|█████████▎| 278/300 [1:45:17<02:44,  7.49s/it]\u001b[A\n",
            " 93%|█████████▎| 279/300 [1:45:25<02:40,  7.67s/it]\u001b[A\n",
            " 93%|█████████▎| 280/300 [1:45:33<02:39,  7.98s/it]\u001b[A\n",
            " 94%|█████████▎| 281/300 [1:45:42<02:32,  8.02s/it]\u001b[A\n",
            " 94%|█████████▍| 282/300 [1:45:50<02:24,  8.01s/it]\u001b[A\n",
            " 94%|█████████▍| 283/300 [1:46:01<02:32,  8.99s/it]\u001b[A\n",
            " 95%|█████████▍| 284/300 [1:46:12<02:34,  9.66s/it]\u001b[A\n",
            " 95%|█████████▌| 285/300 [1:46:24<02:33, 10.24s/it]\u001b[A\n",
            " 95%|█████████▌| 286/300 [1:46:35<02:27, 10.56s/it]\u001b[A\n",
            " 96%|█████████▌| 287/300 [1:46:46<02:20, 10.79s/it]\u001b[A\n",
            " 96%|█████████▌| 288/300 [1:46:58<02:11, 10.95s/it]\u001b[A\n",
            " 96%|█████████▋| 289/300 [1:47:20<02:37, 14.32s/it]\u001b[A\n",
            " 97%|█████████▋| 290/300 [1:47:42<02:46, 16.62s/it]\u001b[A\n",
            " 97%|█████████▋| 291/300 [1:48:04<02:43, 18.21s/it]\u001b[A\n",
            " 97%|█████████▋| 292/300 [1:48:25<02:33, 19.21s/it]\u001b[A\n",
            " 98%|█████████▊| 293/300 [1:48:46<02:17, 19.69s/it]\u001b[A\n",
            " 98%|█████████▊| 294/300 [1:49:06<01:59, 19.85s/it]\u001b[A\n",
            " 98%|█████████▊| 295/300 [1:50:30<03:14, 38.93s/it]\u001b[A\n",
            " 99%|█████████▊| 296/300 [1:51:51<03:26, 51.60s/it]\u001b[A\n",
            " 99%|█████████▉| 297/300 [1:53:12<03:01, 60.56s/it]\u001b[A\n",
            " 99%|█████████▉| 298/300 [1:54:33<02:13, 66.54s/it]\u001b[A\n",
            "100%|█████████▉| 299/300 [1:55:56<01:11, 71.53s/it]\u001b[A\n",
            "100%|██████████| 300/300 [1:57:13<00:00, 23.45s/it]\n"
          ],
          "name": "stderr"
        }
      ]
    },
    {
      "cell_type": "code",
      "metadata": {
        "id": "1_74u3HMqYij",
        "colab_type": "code",
        "colab": {
          "base_uri": "https://localhost:8080/",
          "height": 34
        },
        "outputId": "a982907a-53ca-46d0-f2a8-ecf584cd8ffb"
      },
      "source": [
        "print('test')"
      ],
      "execution_count": null,
      "outputs": [
        {
          "output_type": "stream",
          "text": [
            "test\n"
          ],
          "name": "stdout"
        }
      ]
    },
    {
      "cell_type": "code",
      "metadata": {
        "id": "gWtUPtK4zyqB",
        "colab_type": "code",
        "colab": {
          "base_uri": "https://localhost:8080/",
          "height": 195
        },
        "outputId": "a624355c-fa8b-4b24-d2b0-bbb27f108596"
      },
      "source": [
        "experiment_data = t.data\n",
        "experiment_data.head()"
      ],
      "execution_count": null,
      "outputs": [
        {
          "output_type": "execute_result",
          "data": {
            "text/html": [
              "<div>\n",
              "<style scoped>\n",
              "    .dataframe tbody tr th:only-of-type {\n",
              "        vertical-align: middle;\n",
              "    }\n",
              "\n",
              "    .dataframe tbody tr th {\n",
              "        vertical-align: top;\n",
              "    }\n",
              "\n",
              "    .dataframe thead th {\n",
              "        text-align: right;\n",
              "    }\n",
              "</style>\n",
              "<table border=\"1\" class=\"dataframe\">\n",
              "  <thead>\n",
              "    <tr style=\"text-align: right;\">\n",
              "      <th></th>\n",
              "      <th>round_epochs</th>\n",
              "      <th>val_loss</th>\n",
              "      <th>val_accuracy</th>\n",
              "      <th>loss</th>\n",
              "      <th>accuracy</th>\n",
              "      <th>batch size</th>\n",
              "      <th>epochs</th>\n",
              "      <th>first neuron activation</th>\n",
              "      <th>first neuron units</th>\n",
              "    </tr>\n",
              "  </thead>\n",
              "  <tbody>\n",
              "    <tr>\n",
              "      <th>0</th>\n",
              "      <td>1</td>\n",
              "      <td>0.568208</td>\n",
              "      <td>0.770140</td>\n",
              "      <td>0.617596</td>\n",
              "      <td>0.666729</td>\n",
              "      <td>5</td>\n",
              "      <td>1</td>\n",
              "      <td>relu</td>\n",
              "      <td>2</td>\n",
              "    </tr>\n",
              "    <tr>\n",
              "      <th>1</th>\n",
              "      <td>1</td>\n",
              "      <td>0.483441</td>\n",
              "      <td>0.795096</td>\n",
              "      <td>0.593094</td>\n",
              "      <td>0.747607</td>\n",
              "      <td>5</td>\n",
              "      <td>1</td>\n",
              "      <td>elu</td>\n",
              "      <td>2</td>\n",
              "    </tr>\n",
              "    <tr>\n",
              "      <th>2</th>\n",
              "      <td>1</td>\n",
              "      <td>0.654336</td>\n",
              "      <td>0.750000</td>\n",
              "      <td>0.698295</td>\n",
              "      <td>0.561081</td>\n",
              "      <td>5</td>\n",
              "      <td>1</td>\n",
              "      <td>sigmoid</td>\n",
              "      <td>2</td>\n",
              "    </tr>\n",
              "    <tr>\n",
              "      <th>3</th>\n",
              "      <td>1</td>\n",
              "      <td>0.602723</td>\n",
              "      <td>0.754378</td>\n",
              "      <td>0.647796</td>\n",
              "      <td>0.658285</td>\n",
              "      <td>5</td>\n",
              "      <td>1</td>\n",
              "      <td>softmax</td>\n",
              "      <td>2</td>\n",
              "    </tr>\n",
              "    <tr>\n",
              "      <th>4</th>\n",
              "      <td>1</td>\n",
              "      <td>0.488092</td>\n",
              "      <td>0.798161</td>\n",
              "      <td>0.581443</td>\n",
              "      <td>0.748921</td>\n",
              "      <td>5</td>\n",
              "      <td>1</td>\n",
              "      <td>tanh</td>\n",
              "      <td>2</td>\n",
              "    </tr>\n",
              "  </tbody>\n",
              "</table>\n",
              "</div>"
            ],
            "text/plain": [
              "   round_epochs  val_loss  ...  first neuron activation  first neuron units\n",
              "0             1  0.568208  ...                     relu                   2\n",
              "1             1  0.483441  ...                      elu                   2\n",
              "2             1  0.654336  ...                  sigmoid                   2\n",
              "3             1  0.602723  ...                  softmax                   2\n",
              "4             1  0.488092  ...                     tanh                   2\n",
              "\n",
              "[5 rows x 9 columns]"
            ]
          },
          "metadata": {
            "tags": []
          },
          "execution_count": 51
        }
      ]
    },
    {
      "cell_type": "code",
      "metadata": {
        "id": "AAekZ6rH0eQn",
        "colab_type": "code",
        "colab": {
          "base_uri": "https://localhost:8080/",
          "height": 34
        },
        "outputId": "2ff1f9a6-b747-4b3d-9867-bb8eb560797c"
      },
      "source": [
        "experiment_data['val_accuracy'].idxmax()"
      ],
      "execution_count": null,
      "outputs": [
        {
          "output_type": "execute_result",
          "data": {
            "text/plain": [
              "205"
            ]
          },
          "metadata": {
            "tags": []
          },
          "execution_count": 54
        }
      ]
    },
    {
      "cell_type": "code",
      "metadata": {
        "id": "v40O3fc_3rJV",
        "colab_type": "code",
        "colab": {
          "base_uri": "https://localhost:8080/",
          "height": 185
        },
        "outputId": "50c07847-a86a-4cb7-f857-5e5c2b3c1a1b"
      },
      "source": [
        "experiment_data.iloc[205]"
      ],
      "execution_count": null,
      "outputs": [
        {
          "output_type": "execute_result",
          "data": {
            "text/plain": [
              "round_epochs                      5\n",
              "val_loss                   0.461602\n",
              "val_accuracy               0.815674\n",
              "loss                       0.332729\n",
              "accuracy                   0.904485\n",
              "batch size                       62\n",
              "epochs                            5\n",
              "first neuron activation         elu\n",
              "first neuron units                2\n",
              "Name: 205, dtype: object"
            ]
          },
          "metadata": {
            "tags": []
          },
          "execution_count": 55
        }
      ]
    },
    {
      "cell_type": "code",
      "metadata": {
        "id": "xZ5ELEGE31CU",
        "colab_type": "code",
        "colab": {
          "base_uri": "https://localhost:8080/",
          "height": 235
        },
        "outputId": "415c6d61-fbe0-419f-dd2c-d321d7a07312"
      },
      "source": [
        "x_train, x_test, y_train, y_test = train_test_split(train_df['text'],train_df['target'],random_state=7,test_size = 0.20)\n",
        "\n",
        "vectorizer = CountVectorizer()\n",
        "vectorizer.fit(x_train)\n",
        "\n",
        "x_train = vectorizer.transform(x_train)\n",
        "x_test = vectorizer.transform(x_test)\n",
        "input_dim = x_train.shape[1]\n",
        "\n",
        "best_model = Sequential()\n",
        "best_model.add(layers.Dense(2,input_dim=input_dim,activation='elu'))\n",
        "best_model.add(layers.Dense(1,activation = 'sigmoid'))\n",
        "best_model.compile(loss='binary_crossentropy', optimizer='adam', metrics=['accuracy'])\n",
        "out = best_model.fit(x_train,y_train,epochs = 5,verbose = 1,validation_data = (x_test,y_test),batch_size=62)\n",
        "\n",
        "loss, accuracy = best_model.evaluate(x_train, y_train, verbose=False)\n",
        "print(\"Training Accuracy: {:.4f}\".format(accuracy))\n",
        "loss, accuracy = best_model.evaluate(x_test, y_test, verbose=False)\n",
        "print(\"Testing Accuracy:  {:.4f}\".format(accuracy))"
      ],
      "execution_count": null,
      "outputs": [
        {
          "output_type": "stream",
          "text": [
            "Train on 6090 samples, validate on 1523 samples\n",
            "Epoch 1/5\n",
            "6090/6090 [==============================] - 1s 202us/step - loss: 0.6713 - accuracy: 0.6865 - val_loss: 0.6450 - val_accuracy: 0.7505\n",
            "Epoch 2/5\n",
            "6090/6090 [==============================] - 1s 176us/step - loss: 0.6028 - accuracy: 0.7989 - val_loss: 0.5857 - val_accuracy: 0.7695\n",
            "Epoch 3/5\n",
            "6090/6090 [==============================] - 1s 187us/step - loss: 0.5274 - accuracy: 0.8307 - val_loss: 0.5360 - val_accuracy: 0.7873\n",
            "Epoch 4/5\n",
            "6090/6090 [==============================] - 1s 194us/step - loss: 0.4610 - accuracy: 0.8591 - val_loss: 0.4998 - val_accuracy: 0.8004\n",
            "Epoch 5/5\n",
            "6090/6090 [==============================] - 1s 193us/step - loss: 0.4055 - accuracy: 0.8811 - val_loss: 0.4758 - val_accuracy: 0.8070\n",
            "Training Accuracy: 0.8987\n",
            "Testing Accuracy:  0.8070\n"
          ],
          "name": "stdout"
        }
      ]
    },
    {
      "cell_type": "markdown",
      "metadata": {
        "id": "yDy_0AlGLzEP",
        "colab_type": "text"
      },
      "source": [
        "Miren lo buenos que son los resultados con UNA SOLA CAPA DENSE.\n",
        "Sin embedding nada.\n",
        "Imaginense los resultados con capas convolucionales y un buen embedding. Eso es lo que les invito a añadir a uds que estuvieron practicando con eso. Yo tuve muchos problemas para hacer un submit, porque no entiendo bien como funciona el CountVectorizer. Voy a seguir con mecanismos de gradient boosting ahora. Por favor hagamos tuning de hiperparámetros a todos los modelos que usemos para poder exprimirlos bien. Sino tenemos una version muy light de los modelos."
      ]
    }
  ]
}