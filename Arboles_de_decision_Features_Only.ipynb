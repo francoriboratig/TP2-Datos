{
  "nbformat": 4,
  "nbformat_minor": 0,
  "metadata": {
    "colab": {
      "name": "Arboles de decision Features Only.ipynb",
      "provenance": [],
      "authorship_tag": "ABX9TyPKyuRxL5Z8FY/uLpERsAgl",
      "include_colab_link": true
    },
    "kernelspec": {
      "name": "python3",
      "display_name": "Python 3"
    }
  },
  "cells": [
    {
      "cell_type": "markdown",
      "metadata": {
        "id": "view-in-github",
        "colab_type": "text"
      },
      "source": [
        "<a href=\"https://colab.research.google.com/github/francoriboratig/TP2-Datos/blob/master/Arboles_de_decision_Features_Only.ipynb\" target=\"_parent\"><img src=\"https://colab.research.google.com/assets/colab-badge.svg\" alt=\"Open In Colab\"/></a>"
      ]
    },
    {
      "cell_type": "code",
      "metadata": {
        "id": "Ara0FMTeL7yJ",
        "colab_type": "code",
        "colab": {
          "base_uri": "https://localhost:8080/",
          "height": 602
        },
        "outputId": "69ee83e3-a00b-48da-cc8e-8edfc7653c01"
      },
      "source": [
        "import pandas as pd\n",
        "import numpy as np\n",
        "\n",
        "urltrain = \"https://raw.githubusercontent.com/francoriboratig/TP2-Datos/master/train-features.csv\"\n",
        "urltest = \"https://raw.githubusercontent.com/francoriboratig/TP2-Datos/master/test-features.csv\"\n",
        "\n",
        "train = pd.read_csv(urltrain)\n",
        "test = pd.read_csv(urltest)\n",
        "\n",
        "train.head()"
      ],
      "execution_count": 3,
      "outputs": [
        {
          "output_type": "execute_result",
          "data": {
            "text/html": [
              "<div>\n",
              "<style scoped>\n",
              "    .dataframe tbody tr th:only-of-type {\n",
              "        vertical-align: middle;\n",
              "    }\n",
              "\n",
              "    .dataframe tbody tr th {\n",
              "        vertical-align: top;\n",
              "    }\n",
              "\n",
              "    .dataframe thead th {\n",
              "        text-align: right;\n",
              "    }\n",
              "</style>\n",
              "<table border=\"1\" class=\"dataframe\">\n",
              "  <thead>\n",
              "    <tr style=\"text-align: right;\">\n",
              "      <th></th>\n",
              "      <th>Unnamed: 0</th>\n",
              "      <th>id</th>\n",
              "      <th>keyword</th>\n",
              "      <th>location</th>\n",
              "      <th>text</th>\n",
              "      <th>target</th>\n",
              "      <th>character_count</th>\n",
              "      <th>word_count</th>\n",
              "      <th>contains_word_fire</th>\n",
              "      <th>contains_word_storm</th>\n",
              "      <th>contains_word_flood</th>\n",
              "      <th>contains_word_death</th>\n",
              "      <th>contains_word_love</th>\n",
              "      <th>has_mentions</th>\n",
              "      <th>amount_of_exclamation_marks</th>\n",
              "      <th>amount_of_interrogation_marks</th>\n",
              "      <th>has_link</th>\n",
              "      <th>stopwords_count</th>\n",
              "      <th>contains_countries</th>\n",
              "      <th>contains_cities</th>\n",
              "    </tr>\n",
              "  </thead>\n",
              "  <tbody>\n",
              "    <tr>\n",
              "      <th>0</th>\n",
              "      <td>0</td>\n",
              "      <td>1</td>\n",
              "      <td>NaN</td>\n",
              "      <td>NaN</td>\n",
              "      <td>Our Deeds are the Reason of this #earthquake M...</td>\n",
              "      <td>1</td>\n",
              "      <td>69</td>\n",
              "      <td>13</td>\n",
              "      <td>0</td>\n",
              "      <td>0</td>\n",
              "      <td>0</td>\n",
              "      <td>0</td>\n",
              "      <td>0</td>\n",
              "      <td>False</td>\n",
              "      <td>0</td>\n",
              "      <td>0</td>\n",
              "      <td>False</td>\n",
              "      <td>7</td>\n",
              "      <td>False</td>\n",
              "      <td>False</td>\n",
              "    </tr>\n",
              "    <tr>\n",
              "      <th>1</th>\n",
              "      <td>1</td>\n",
              "      <td>4</td>\n",
              "      <td>NaN</td>\n",
              "      <td>NaN</td>\n",
              "      <td>Forest fire near La Ronge Sask. Canada</td>\n",
              "      <td>1</td>\n",
              "      <td>38</td>\n",
              "      <td>7</td>\n",
              "      <td>1</td>\n",
              "      <td>0</td>\n",
              "      <td>0</td>\n",
              "      <td>0</td>\n",
              "      <td>0</td>\n",
              "      <td>False</td>\n",
              "      <td>0</td>\n",
              "      <td>0</td>\n",
              "      <td>False</td>\n",
              "      <td>3</td>\n",
              "      <td>True</td>\n",
              "      <td>False</td>\n",
              "    </tr>\n",
              "    <tr>\n",
              "      <th>2</th>\n",
              "      <td>2</td>\n",
              "      <td>5</td>\n",
              "      <td>NaN</td>\n",
              "      <td>NaN</td>\n",
              "      <td>All residents asked to 'shelter in place' are ...</td>\n",
              "      <td>1</td>\n",
              "      <td>133</td>\n",
              "      <td>22</td>\n",
              "      <td>0</td>\n",
              "      <td>0</td>\n",
              "      <td>0</td>\n",
              "      <td>0</td>\n",
              "      <td>0</td>\n",
              "      <td>False</td>\n",
              "      <td>0</td>\n",
              "      <td>0</td>\n",
              "      <td>False</td>\n",
              "      <td>13</td>\n",
              "      <td>False</td>\n",
              "      <td>False</td>\n",
              "    </tr>\n",
              "    <tr>\n",
              "      <th>3</th>\n",
              "      <td>3</td>\n",
              "      <td>6</td>\n",
              "      <td>NaN</td>\n",
              "      <td>NaN</td>\n",
              "      <td>13,000 people receive #wildfires evacuation or...</td>\n",
              "      <td>1</td>\n",
              "      <td>65</td>\n",
              "      <td>8</td>\n",
              "      <td>1</td>\n",
              "      <td>0</td>\n",
              "      <td>0</td>\n",
              "      <td>0</td>\n",
              "      <td>0</td>\n",
              "      <td>False</td>\n",
              "      <td>0</td>\n",
              "      <td>0</td>\n",
              "      <td>False</td>\n",
              "      <td>2</td>\n",
              "      <td>False</td>\n",
              "      <td>False</td>\n",
              "    </tr>\n",
              "    <tr>\n",
              "      <th>4</th>\n",
              "      <td>4</td>\n",
              "      <td>7</td>\n",
              "      <td>NaN</td>\n",
              "      <td>NaN</td>\n",
              "      <td>Just got sent this photo from Ruby #Alaska as ...</td>\n",
              "      <td>1</td>\n",
              "      <td>88</td>\n",
              "      <td>16</td>\n",
              "      <td>1</td>\n",
              "      <td>0</td>\n",
              "      <td>0</td>\n",
              "      <td>0</td>\n",
              "      <td>0</td>\n",
              "      <td>False</td>\n",
              "      <td>0</td>\n",
              "      <td>0</td>\n",
              "      <td>False</td>\n",
              "      <td>10</td>\n",
              "      <td>False</td>\n",
              "      <td>False</td>\n",
              "    </tr>\n",
              "  </tbody>\n",
              "</table>\n",
              "</div>"
            ],
            "text/plain": [
              "   Unnamed: 0  id keyword  ... stopwords_count contains_countries  contains_cities\n",
              "0           0   1     NaN  ...               7              False            False\n",
              "1           1   4     NaN  ...               3               True            False\n",
              "2           2   5     NaN  ...              13              False            False\n",
              "3           3   6     NaN  ...               2              False            False\n",
              "4           4   7     NaN  ...              10              False            False\n",
              "\n",
              "[5 rows x 20 columns]"
            ]
          },
          "metadata": {
            "tags": []
          },
          "execution_count": 3
        }
      ]
    },
    {
      "cell_type": "code",
      "metadata": {
        "id": "bnes1ZHSuSik",
        "colab_type": "code",
        "colab": {
          "base_uri": "https://localhost:8080/",
          "height": 501
        },
        "outputId": "aa1bc602-b786-4fa9-afb3-577b16f1cf2f"
      },
      "source": [
        "test.head()"
      ],
      "execution_count": 4,
      "outputs": [
        {
          "output_type": "execute_result",
          "data": {
            "text/html": [
              "<div>\n",
              "<style scoped>\n",
              "    .dataframe tbody tr th:only-of-type {\n",
              "        vertical-align: middle;\n",
              "    }\n",
              "\n",
              "    .dataframe tbody tr th {\n",
              "        vertical-align: top;\n",
              "    }\n",
              "\n",
              "    .dataframe thead th {\n",
              "        text-align: right;\n",
              "    }\n",
              "</style>\n",
              "<table border=\"1\" class=\"dataframe\">\n",
              "  <thead>\n",
              "    <tr style=\"text-align: right;\">\n",
              "      <th></th>\n",
              "      <th>Unnamed: 0</th>\n",
              "      <th>id</th>\n",
              "      <th>keyword</th>\n",
              "      <th>location</th>\n",
              "      <th>text</th>\n",
              "      <th>character_count</th>\n",
              "      <th>word_count</th>\n",
              "      <th>contains_word_fire</th>\n",
              "      <th>contains_word_storm</th>\n",
              "      <th>contains_word_flood</th>\n",
              "      <th>contains_word_death</th>\n",
              "      <th>contains_word_love</th>\n",
              "      <th>has_mentions</th>\n",
              "      <th>amount_of_exclamation_marks</th>\n",
              "      <th>amount_of_interrogation_marks</th>\n",
              "      <th>has_link</th>\n",
              "      <th>stopwords_count</th>\n",
              "      <th>contains_countries</th>\n",
              "      <th>contains_cities</th>\n",
              "    </tr>\n",
              "  </thead>\n",
              "  <tbody>\n",
              "    <tr>\n",
              "      <th>0</th>\n",
              "      <td>0</td>\n",
              "      <td>0</td>\n",
              "      <td>NaN</td>\n",
              "      <td>NaN</td>\n",
              "      <td>Just happened a terrible car crash</td>\n",
              "      <td>34</td>\n",
              "      <td>6</td>\n",
              "      <td>0</td>\n",
              "      <td>0</td>\n",
              "      <td>0</td>\n",
              "      <td>0</td>\n",
              "      <td>0</td>\n",
              "      <td>False</td>\n",
              "      <td>0</td>\n",
              "      <td>0</td>\n",
              "      <td>False</td>\n",
              "      <td>4</td>\n",
              "      <td>False</td>\n",
              "      <td>False</td>\n",
              "    </tr>\n",
              "    <tr>\n",
              "      <th>1</th>\n",
              "      <td>1</td>\n",
              "      <td>2</td>\n",
              "      <td>NaN</td>\n",
              "      <td>NaN</td>\n",
              "      <td>Heard about #earthquake is different cities, s...</td>\n",
              "      <td>64</td>\n",
              "      <td>9</td>\n",
              "      <td>0</td>\n",
              "      <td>0</td>\n",
              "      <td>0</td>\n",
              "      <td>0</td>\n",
              "      <td>0</td>\n",
              "      <td>False</td>\n",
              "      <td>0</td>\n",
              "      <td>0</td>\n",
              "      <td>False</td>\n",
              "      <td>7</td>\n",
              "      <td>False</td>\n",
              "      <td>False</td>\n",
              "    </tr>\n",
              "    <tr>\n",
              "      <th>2</th>\n",
              "      <td>2</td>\n",
              "      <td>3</td>\n",
              "      <td>NaN</td>\n",
              "      <td>NaN</td>\n",
              "      <td>there is a forest fire at spot pond, geese are...</td>\n",
              "      <td>96</td>\n",
              "      <td>19</td>\n",
              "      <td>1</td>\n",
              "      <td>0</td>\n",
              "      <td>0</td>\n",
              "      <td>0</td>\n",
              "      <td>0</td>\n",
              "      <td>False</td>\n",
              "      <td>0</td>\n",
              "      <td>0</td>\n",
              "      <td>False</td>\n",
              "      <td>10</td>\n",
              "      <td>False</td>\n",
              "      <td>False</td>\n",
              "    </tr>\n",
              "    <tr>\n",
              "      <th>3</th>\n",
              "      <td>3</td>\n",
              "      <td>9</td>\n",
              "      <td>NaN</td>\n",
              "      <td>NaN</td>\n",
              "      <td>Apocalypse lighting. #Spokane #wildfires</td>\n",
              "      <td>40</td>\n",
              "      <td>4</td>\n",
              "      <td>1</td>\n",
              "      <td>0</td>\n",
              "      <td>0</td>\n",
              "      <td>0</td>\n",
              "      <td>0</td>\n",
              "      <td>False</td>\n",
              "      <td>0</td>\n",
              "      <td>0</td>\n",
              "      <td>False</td>\n",
              "      <td>3</td>\n",
              "      <td>False</td>\n",
              "      <td>True</td>\n",
              "    </tr>\n",
              "    <tr>\n",
              "      <th>4</th>\n",
              "      <td>4</td>\n",
              "      <td>11</td>\n",
              "      <td>NaN</td>\n",
              "      <td>NaN</td>\n",
              "      <td>Typhoon Soudelor kills 28 in China and Taiwan</td>\n",
              "      <td>45</td>\n",
              "      <td>8</td>\n",
              "      <td>0</td>\n",
              "      <td>0</td>\n",
              "      <td>0</td>\n",
              "      <td>0</td>\n",
              "      <td>0</td>\n",
              "      <td>False</td>\n",
              "      <td>0</td>\n",
              "      <td>0</td>\n",
              "      <td>False</td>\n",
              "      <td>6</td>\n",
              "      <td>True</td>\n",
              "      <td>False</td>\n",
              "    </tr>\n",
              "  </tbody>\n",
              "</table>\n",
              "</div>"
            ],
            "text/plain": [
              "   Unnamed: 0  id keyword  ... stopwords_count contains_countries  contains_cities\n",
              "0           0   0     NaN  ...               4              False            False\n",
              "1           1   2     NaN  ...               7              False            False\n",
              "2           2   3     NaN  ...              10              False            False\n",
              "3           3   9     NaN  ...               3              False             True\n",
              "4           4  11     NaN  ...               6               True            False\n",
              "\n",
              "[5 rows x 19 columns]"
            ]
          },
          "metadata": {
            "tags": []
          },
          "execution_count": 4
        }
      ]
    },
    {
      "cell_type": "code",
      "metadata": {
        "id": "IzrlEFTEuTOZ",
        "colab_type": "code",
        "colab": {
          "base_uri": "https://localhost:8080/",
          "height": 134
        },
        "outputId": "df5c6a82-2abe-4364-f201-840f670da757"
      },
      "source": [
        "train.columns"
      ],
      "execution_count": 5,
      "outputs": [
        {
          "output_type": "execute_result",
          "data": {
            "text/plain": [
              "Index(['Unnamed: 0', 'id', 'keyword', 'location', 'text', 'target',\n",
              "       'character_count', 'word_count', 'contains_word_fire',\n",
              "       'contains_word_storm', 'contains_word_flood', 'contains_word_death',\n",
              "       'contains_word_love', 'has_mentions', 'amount_of_exclamation_marks',\n",
              "       'amount_of_interrogation_marks', 'has_link', 'stopwords_count',\n",
              "       'contains_countries', 'contains_cities'],\n",
              "      dtype='object')"
            ]
          },
          "metadata": {
            "tags": []
          },
          "execution_count": 5
        }
      ]
    },
    {
      "cell_type": "code",
      "metadata": {
        "id": "iQUTUCYr4vUK",
        "colab_type": "code",
        "colab": {
          "base_uri": "https://localhost:8080/",
          "height": 215
        },
        "outputId": "e7020399-1e0e-445d-ba48-fb2d65f207e0"
      },
      "source": [
        "y_train = train['target']\n",
        "x_train = train.drop(['Unnamed: 0','id','location','text','target','keyword'], axis = 1)\n",
        "\n",
        "x_test = test.drop(['Unnamed: 0','id','location','text','keyword'], axis = 1)\n",
        "x_train.head()"
      ],
      "execution_count": 6,
      "outputs": [
        {
          "output_type": "execute_result",
          "data": {
            "text/html": [
              "<div>\n",
              "<style scoped>\n",
              "    .dataframe tbody tr th:only-of-type {\n",
              "        vertical-align: middle;\n",
              "    }\n",
              "\n",
              "    .dataframe tbody tr th {\n",
              "        vertical-align: top;\n",
              "    }\n",
              "\n",
              "    .dataframe thead th {\n",
              "        text-align: right;\n",
              "    }\n",
              "</style>\n",
              "<table border=\"1\" class=\"dataframe\">\n",
              "  <thead>\n",
              "    <tr style=\"text-align: right;\">\n",
              "      <th></th>\n",
              "      <th>character_count</th>\n",
              "      <th>word_count</th>\n",
              "      <th>contains_word_fire</th>\n",
              "      <th>contains_word_storm</th>\n",
              "      <th>contains_word_flood</th>\n",
              "      <th>contains_word_death</th>\n",
              "      <th>contains_word_love</th>\n",
              "      <th>has_mentions</th>\n",
              "      <th>amount_of_exclamation_marks</th>\n",
              "      <th>amount_of_interrogation_marks</th>\n",
              "      <th>has_link</th>\n",
              "      <th>stopwords_count</th>\n",
              "      <th>contains_countries</th>\n",
              "      <th>contains_cities</th>\n",
              "    </tr>\n",
              "  </thead>\n",
              "  <tbody>\n",
              "    <tr>\n",
              "      <th>0</th>\n",
              "      <td>69</td>\n",
              "      <td>13</td>\n",
              "      <td>0</td>\n",
              "      <td>0</td>\n",
              "      <td>0</td>\n",
              "      <td>0</td>\n",
              "      <td>0</td>\n",
              "      <td>False</td>\n",
              "      <td>0</td>\n",
              "      <td>0</td>\n",
              "      <td>False</td>\n",
              "      <td>7</td>\n",
              "      <td>False</td>\n",
              "      <td>False</td>\n",
              "    </tr>\n",
              "    <tr>\n",
              "      <th>1</th>\n",
              "      <td>38</td>\n",
              "      <td>7</td>\n",
              "      <td>1</td>\n",
              "      <td>0</td>\n",
              "      <td>0</td>\n",
              "      <td>0</td>\n",
              "      <td>0</td>\n",
              "      <td>False</td>\n",
              "      <td>0</td>\n",
              "      <td>0</td>\n",
              "      <td>False</td>\n",
              "      <td>3</td>\n",
              "      <td>True</td>\n",
              "      <td>False</td>\n",
              "    </tr>\n",
              "    <tr>\n",
              "      <th>2</th>\n",
              "      <td>133</td>\n",
              "      <td>22</td>\n",
              "      <td>0</td>\n",
              "      <td>0</td>\n",
              "      <td>0</td>\n",
              "      <td>0</td>\n",
              "      <td>0</td>\n",
              "      <td>False</td>\n",
              "      <td>0</td>\n",
              "      <td>0</td>\n",
              "      <td>False</td>\n",
              "      <td>13</td>\n",
              "      <td>False</td>\n",
              "      <td>False</td>\n",
              "    </tr>\n",
              "    <tr>\n",
              "      <th>3</th>\n",
              "      <td>65</td>\n",
              "      <td>8</td>\n",
              "      <td>1</td>\n",
              "      <td>0</td>\n",
              "      <td>0</td>\n",
              "      <td>0</td>\n",
              "      <td>0</td>\n",
              "      <td>False</td>\n",
              "      <td>0</td>\n",
              "      <td>0</td>\n",
              "      <td>False</td>\n",
              "      <td>2</td>\n",
              "      <td>False</td>\n",
              "      <td>False</td>\n",
              "    </tr>\n",
              "    <tr>\n",
              "      <th>4</th>\n",
              "      <td>88</td>\n",
              "      <td>16</td>\n",
              "      <td>1</td>\n",
              "      <td>0</td>\n",
              "      <td>0</td>\n",
              "      <td>0</td>\n",
              "      <td>0</td>\n",
              "      <td>False</td>\n",
              "      <td>0</td>\n",
              "      <td>0</td>\n",
              "      <td>False</td>\n",
              "      <td>10</td>\n",
              "      <td>False</td>\n",
              "      <td>False</td>\n",
              "    </tr>\n",
              "  </tbody>\n",
              "</table>\n",
              "</div>"
            ],
            "text/plain": [
              "   character_count  word_count  ...  contains_countries  contains_cities\n",
              "0               69          13  ...               False            False\n",
              "1               38           7  ...                True            False\n",
              "2              133          22  ...               False            False\n",
              "3               65           8  ...               False            False\n",
              "4               88          16  ...               False            False\n",
              "\n",
              "[5 rows x 14 columns]"
            ]
          },
          "metadata": {
            "tags": []
          },
          "execution_count": 6
        }
      ]
    },
    {
      "cell_type": "code",
      "metadata": {
        "id": "1aJrfJB35bbV",
        "colab_type": "code",
        "colab": {}
      },
      "source": [
        "x_train = x_train*1 #Pongo todos los bool en numeros\n",
        "x_test = x_test*1"
      ],
      "execution_count": 7,
      "outputs": []
    },
    {
      "cell_type": "code",
      "metadata": {
        "id": "cIEEeGcE5x31",
        "colab_type": "code",
        "colab": {}
      },
      "source": [
        "# Saving feature names for later use\n",
        "feature_list = list(x_train.columns)\n",
        "# Convert to numpy array\n",
        "features = np.array(x_train)\n",
        "\n",
        "labels = np.array(y_train)"
      ],
      "execution_count": 8,
      "outputs": []
    },
    {
      "cell_type": "code",
      "metadata": {
        "id": "83ow-FnM9jXo",
        "colab_type": "code",
        "colab": {}
      },
      "source": [
        "from sklearn.model_selection import train_test_split\n",
        "\n",
        "# Split the data into training and testing sets\n",
        "train_features, val_features, train_labels, val_labels = train_test_split(features, labels, test_size = 0.25, random_state = 70)"
      ],
      "execution_count": 9,
      "outputs": []
    },
    {
      "cell_type": "code",
      "metadata": {
        "id": "idSgCMHO9oKr",
        "colab_type": "code",
        "colab": {
          "base_uri": "https://localhost:8080/",
          "height": 134
        },
        "outputId": "f10370c0-e303-4c5c-ba8e-fb309b90c9d4"
      },
      "source": [
        "from sklearn.ensemble import RandomForestRegressor\n",
        "\n",
        "rf = RandomForestRegressor(n_estimators = 1000, random_state = 92)\n",
        "\n",
        "rf.fit(train_features, train_labels)"
      ],
      "execution_count": 10,
      "outputs": [
        {
          "output_type": "execute_result",
          "data": {
            "text/plain": [
              "RandomForestRegressor(bootstrap=True, ccp_alpha=0.0, criterion='mse',\n",
              "                      max_depth=None, max_features='auto', max_leaf_nodes=None,\n",
              "                      max_samples=None, min_impurity_decrease=0.0,\n",
              "                      min_impurity_split=None, min_samples_leaf=1,\n",
              "                      min_samples_split=2, min_weight_fraction_leaf=0.0,\n",
              "                      n_estimators=1000, n_jobs=None, oob_score=False,\n",
              "                      random_state=92, verbose=0, warm_start=False)"
            ]
          },
          "metadata": {
            "tags": []
          },
          "execution_count": 10
        }
      ]
    },
    {
      "cell_type": "code",
      "metadata": {
        "id": "SCgzJaf0I-FG",
        "colab_type": "code",
        "colab": {
          "base_uri": "https://localhost:8080/",
          "height": 34
        },
        "outputId": "d5fa58e7-77d6-4aca-a5cf-6881c76b4295"
      },
      "source": [
        "# Use the forest's predict method on the test data\n",
        "predictions = rf.predict(val_features)\n",
        "# Calculate the absolute errors\n",
        "errors = abs(predictions - val_labels)\n",
        "# Print out the mean absolute error (mae)\n",
        "print('Mean Absolute Error:', round(np.mean(errors), 2), 'degrees.')"
      ],
      "execution_count": 11,
      "outputs": [
        {
          "output_type": "stream",
          "text": [
            "Mean Absolute Error: 0.38 degrees.\n"
          ],
          "name": "stdout"
        }
      ]
    },
    {
      "cell_type": "markdown",
      "metadata": {
        "id": "euJ-ggpVJzxd",
        "colab_type": "text"
      },
      "source": [
        "Usé un regresor, para hacer un submit hay que aproximar si se acerca mas a 0 o a 1"
      ]
    },
    {
      "cell_type": "markdown",
      "metadata": {
        "id": "3ACR_W5sLOXh",
        "colab_type": "text"
      },
      "source": [
        "Aqui adelante, uso xgboost"
      ]
    },
    {
      "cell_type": "code",
      "metadata": {
        "id": "7TVQSLo6LR5K",
        "colab_type": "code",
        "colab": {}
      },
      "source": [
        "import xgboost as xgb\n",
        "\n",
        "D_train = xgb.DMatrix(train_features,label = train_labels)\n",
        "D_val = xgb.DMatrix(val_features, label = val_labels)\n",
        "\n",
        "#Primeros hiper parámetros de prueba\n",
        "param = {\n",
        "    'eta': 0.3, \n",
        "    'max_depth': 3,  \n",
        "    'objective': 'multi:softprob',  \n",
        "    'num_class': 3} "
      ],
      "execution_count": 12,
      "outputs": []
    },
    {
      "cell_type": "code",
      "metadata": {
        "id": "ECppTzn-MapO",
        "colab_type": "code",
        "colab": {}
      },
      "source": [
        "steps = 20\n",
        "\n",
        "model = xgb.train(param,D_train,steps)"
      ],
      "execution_count": 13,
      "outputs": []
    },
    {
      "cell_type": "code",
      "metadata": {
        "id": "QvJFjsA7M6UC",
        "colab_type": "code",
        "colab": {
          "base_uri": "https://localhost:8080/",
          "height": 67
        },
        "outputId": "7c1b65a6-6f05-446d-e1f4-e53c8183b767"
      },
      "source": [
        "from sklearn.metrics import precision_score, recall_score, accuracy_score\n",
        "\n",
        "preds = model.predict(D_val)\n",
        "best_preds = np.asarray([np.argmax(line) for line in preds])\n",
        "\n",
        "print(\"Precision = {}\".format(precision_score(val_labels, best_preds, average='macro')))\n",
        "print(\"Recall = {}\".format(recall_score(val_labels, best_preds, average='macro')))\n",
        "print(\"Accuracy = {}\".format(accuracy_score(val_labels, best_preds)))"
      ],
      "execution_count": 14,
      "outputs": [
        {
          "output_type": "stream",
          "text": [
            "Precision = 0.6934711380018959\n",
            "Recall = 0.6712622549019608\n",
            "Accuracy = 0.6938025210084033\n"
          ],
          "name": "stdout"
        }
      ]
    },
    {
      "cell_type": "markdown",
      "metadata": {
        "id": "14vjvCn_V-f1",
        "colab_type": "text"
      },
      "source": [
        "Medio maleta pero es un primer esqueleto. Otro regresor, de puede transformar a clasificador facilmente"
      ]
    },
    {
      "cell_type": "markdown",
      "metadata": {
        "id": "hjJMk9fMpik2",
        "colab_type": "text"
      },
      "source": [
        "Lgbm lets go!"
      ]
    },
    {
      "cell_type": "code",
      "metadata": {
        "id": "1D1wrq2cpkrD",
        "colab_type": "code",
        "colab": {}
      },
      "source": [
        "import lightgbm as lgb"
      ],
      "execution_count": 15,
      "outputs": []
    },
    {
      "cell_type": "code",
      "metadata": {
        "id": "AQHlJIftr0yj",
        "colab_type": "code",
        "colab": {
          "base_uri": "https://localhost:8080/",
          "height": 1000
        },
        "outputId": "682d9f66-feab-435f-a78e-fd4cc3fe87ef"
      },
      "source": [
        "lgb_train = lgb.Dataset(train_features, train_labels)\n",
        "lgb_eval = lgb.Dataset(val_features,val_labels, reference = lgb_train)\n",
        "\n",
        "params = {\n",
        "    'objective':'binary',\n",
        "    'metric' : 'xentropy',\n",
        "    'num_leaves' : 30, #Just for trysies\n",
        "    'learning_rate' : 0.05,\n",
        "    'feature_fraction': 0.9,\n",
        "}\n",
        "\n",
        "gbm = lgb.train(params,\n",
        "                lgb_train,\n",
        "                num_boost_round=100,\n",
        "                valid_sets=lgb_eval,\n",
        "                early_stopping_rounds=10)\n",
        "\n",
        "#preds = gbm.predict(val_features, num_iteration=gbm.best_iteration)\n",
        "#rmse = np.sqrt(mean_squared_error(val_labels, preds))\n",
        "#print(\"RMSE: %f\" % (rmse))"
      ],
      "execution_count": 22,
      "outputs": [
        {
          "output_type": "stream",
          "text": [
            "[1]\tvalid_0's xentropy: 0.674431\n",
            "Training until validation scores don't improve for 10 rounds.\n",
            "[2]\tvalid_0's xentropy: 0.667276\n",
            "[3]\tvalid_0's xentropy: 0.660557\n",
            "[4]\tvalid_0's xentropy: 0.653984\n",
            "[5]\tvalid_0's xentropy: 0.647728\n",
            "[6]\tvalid_0's xentropy: 0.642402\n",
            "[7]\tvalid_0's xentropy: 0.637266\n",
            "[8]\tvalid_0's xentropy: 0.632805\n",
            "[9]\tvalid_0's xentropy: 0.62904\n",
            "[10]\tvalid_0's xentropy: 0.625298\n",
            "[11]\tvalid_0's xentropy: 0.621904\n",
            "[12]\tvalid_0's xentropy: 0.618587\n",
            "[13]\tvalid_0's xentropy: 0.615576\n",
            "[14]\tvalid_0's xentropy: 0.612672\n",
            "[15]\tvalid_0's xentropy: 0.610126\n",
            "[16]\tvalid_0's xentropy: 0.60808\n",
            "[17]\tvalid_0's xentropy: 0.605661\n",
            "[18]\tvalid_0's xentropy: 0.603084\n",
            "[19]\tvalid_0's xentropy: 0.601286\n",
            "[20]\tvalid_0's xentropy: 0.599463\n",
            "[21]\tvalid_0's xentropy: 0.598219\n",
            "[22]\tvalid_0's xentropy: 0.596742\n",
            "[23]\tvalid_0's xentropy: 0.595358\n",
            "[24]\tvalid_0's xentropy: 0.593996\n",
            "[25]\tvalid_0's xentropy: 0.592856\n",
            "[26]\tvalid_0's xentropy: 0.591884\n",
            "[27]\tvalid_0's xentropy: 0.591029\n",
            "[28]\tvalid_0's xentropy: 0.590181\n",
            "[29]\tvalid_0's xentropy: 0.589127\n",
            "[30]\tvalid_0's xentropy: 0.587803\n",
            "[31]\tvalid_0's xentropy: 0.586865\n",
            "[32]\tvalid_0's xentropy: 0.586295\n",
            "[33]\tvalid_0's xentropy: 0.585296\n",
            "[34]\tvalid_0's xentropy: 0.584602\n",
            "[35]\tvalid_0's xentropy: 0.583846\n",
            "[36]\tvalid_0's xentropy: 0.582925\n",
            "[37]\tvalid_0's xentropy: 0.582189\n",
            "[38]\tvalid_0's xentropy: 0.581427\n",
            "[39]\tvalid_0's xentropy: 0.581144\n",
            "[40]\tvalid_0's xentropy: 0.580488\n",
            "[41]\tvalid_0's xentropy: 0.58014\n",
            "[42]\tvalid_0's xentropy: 0.579631\n",
            "[43]\tvalid_0's xentropy: 0.579054\n",
            "[44]\tvalid_0's xentropy: 0.578456\n",
            "[45]\tvalid_0's xentropy: 0.578062\n",
            "[46]\tvalid_0's xentropy: 0.577609\n",
            "[47]\tvalid_0's xentropy: 0.577172\n",
            "[48]\tvalid_0's xentropy: 0.576809\n",
            "[49]\tvalid_0's xentropy: 0.576278\n",
            "[50]\tvalid_0's xentropy: 0.576141\n",
            "[51]\tvalid_0's xentropy: 0.576044\n",
            "[52]\tvalid_0's xentropy: 0.575642\n",
            "[53]\tvalid_0's xentropy: 0.575409\n",
            "[54]\tvalid_0's xentropy: 0.575041\n",
            "[55]\tvalid_0's xentropy: 0.57476\n",
            "[56]\tvalid_0's xentropy: 0.574686\n",
            "[57]\tvalid_0's xentropy: 0.574309\n",
            "[58]\tvalid_0's xentropy: 0.574209\n",
            "[59]\tvalid_0's xentropy: 0.574036\n",
            "[60]\tvalid_0's xentropy: 0.573931\n",
            "[61]\tvalid_0's xentropy: 0.573606\n",
            "[62]\tvalid_0's xentropy: 0.573567\n",
            "[63]\tvalid_0's xentropy: 0.573298\n",
            "[64]\tvalid_0's xentropy: 0.57301\n",
            "[65]\tvalid_0's xentropy: 0.57261\n",
            "[66]\tvalid_0's xentropy: 0.572477\n",
            "[67]\tvalid_0's xentropy: 0.5723\n",
            "[68]\tvalid_0's xentropy: 0.572146\n",
            "[69]\tvalid_0's xentropy: 0.571949\n",
            "[70]\tvalid_0's xentropy: 0.572062\n",
            "[71]\tvalid_0's xentropy: 0.571589\n",
            "[72]\tvalid_0's xentropy: 0.571755\n",
            "[73]\tvalid_0's xentropy: 0.571732\n",
            "[74]\tvalid_0's xentropy: 0.571714\n",
            "[75]\tvalid_0's xentropy: 0.571687\n",
            "[76]\tvalid_0's xentropy: 0.571618\n",
            "[77]\tvalid_0's xentropy: 0.571481\n",
            "[78]\tvalid_0's xentropy: 0.571391\n",
            "[79]\tvalid_0's xentropy: 0.571486\n",
            "[80]\tvalid_0's xentropy: 0.571464\n",
            "[81]\tvalid_0's xentropy: 0.571203\n",
            "[82]\tvalid_0's xentropy: 0.571319\n",
            "[83]\tvalid_0's xentropy: 0.571553\n",
            "[84]\tvalid_0's xentropy: 0.571679\n",
            "[85]\tvalid_0's xentropy: 0.571397\n",
            "[86]\tvalid_0's xentropy: 0.571154\n",
            "[87]\tvalid_0's xentropy: 0.571028\n",
            "[88]\tvalid_0's xentropy: 0.571077\n",
            "[89]\tvalid_0's xentropy: 0.570949\n",
            "[90]\tvalid_0's xentropy: 0.571092\n",
            "[91]\tvalid_0's xentropy: 0.571007\n",
            "[92]\tvalid_0's xentropy: 0.570973\n",
            "[93]\tvalid_0's xentropy: 0.570959\n",
            "[94]\tvalid_0's xentropy: 0.570998\n",
            "[95]\tvalid_0's xentropy: 0.570986\n",
            "[96]\tvalid_0's xentropy: 0.570961\n",
            "[97]\tvalid_0's xentropy: 0.570674\n",
            "[98]\tvalid_0's xentropy: 0.5705\n",
            "[99]\tvalid_0's xentropy: 0.570402\n",
            "[100]\tvalid_0's xentropy: 0.570535\n",
            "Did not meet early stopping. Best iteration is:\n",
            "[99]\tvalid_0's xentropy: 0.570402\n"
          ],
          "name": "stdout"
        }
      ]
    },
    {
      "cell_type": "markdown",
      "metadata": {
        "id": "TKvKWqwmvJJK",
        "colab_type": "text"
      },
      "source": [
        "Es pesimo lgbm pero tengo un template para tunear hyperparámetros. Falta formalizacion del score"
      ]
    }
  ]
}