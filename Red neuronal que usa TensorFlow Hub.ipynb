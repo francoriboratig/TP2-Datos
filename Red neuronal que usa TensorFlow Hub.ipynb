{
  "nbformat": 4,
  "nbformat_minor": 0,
  "metadata": {
    "kernelspec": {
      "display_name": "Python 3",
      "language": "python",
      "name": "python3"
    },
    "language_info": {
      "codemirror_mode": {
        "name": "ipython",
        "version": 3
      },
      "file_extension": ".py",
      "mimetype": "text/x-python",
      "name": "python",
      "nbconvert_exporter": "python",
      "pygments_lexer": "ipython3",
      "version": "3.7.7"
    },
    "colab": {
      "name": "Red convolucional.ipynb",
      "provenance": [],
      "include_colab_link": true
    }
  },
  "cells": [
    {
      "cell_type": "markdown",
      "metadata": {
        "id": "view-in-github",
        "colab_type": "text"
      },
      "source": [
        "<a href=\"https://colab.research.google.com/github/francoriboratig/TP2-Datos/blob/master/Red%20neuronal%20que%20usa%20TensorFlow%20Hub.ipynb\" target=\"_parent\"><img src=\"https://colab.research.google.com/assets/colab-badge.svg\" alt=\"Open In Colab\"/></a>"
      ]
    },
    {
      "cell_type": "code",
      "metadata": {
        "id": "0wcmc7yo2Iaz",
        "colab_type": "code",
        "colab": {
          "base_uri": "https://localhost:8080/",
          "height": 86
        },
        "outputId": "698afc40-08bc-48de-9957-94c8742257dc"
      },
      "source": [
        "# ARRANCAMOS CON LO BÁSICO\n",
        "import numpy as np\n",
        "import tensorflow as tf\n",
        "import pandas as pd\n",
        "from google.colab import files\n",
        "\n",
        "!pip install -q tensorflow-hub\n",
        "import tensorflow_hub as hub\n",
        "from sklearn.model_selection import train_test_split\n",
        "\n",
        "print(\"Version: \", tf.__version__)\n",
        "print(\"Eager mode: \", tf.executing_eagerly())\n",
        "print(\"Hub version: \", hub.__version__)\n",
        "print(\"GPU is\", \"available\" if tf.config.experimental.list_physical_devices(\"GPU\") else \"NOT AVAILABLE\")\n"
      ],
      "execution_count": 202,
      "outputs": [
        {
          "output_type": "stream",
          "text": [
            "Version:  2.2.0\n",
            "Eager mode:  True\n",
            "Hub version:  0.8.0\n",
            "GPU is NOT AVAILABLE\n"
          ],
          "name": "stdout"
        }
      ]
    },
    {
      "cell_type": "code",
      "metadata": {
        "id": "2pHyci8dgDGq",
        "colab_type": "code",
        "colab": {
          "base_uri": "https://localhost:8080/",
          "height": 206
        },
        "outputId": "55c69543-952a-4114-9183-323d7c52cce1"
      },
      "source": [
        "# CARGAMOS LOS CSV\n",
        "url_train = 'https://raw.githubusercontent.com/JulioCastillo1/TP1-Datos/master/train.csv'\n",
        "url_test = 'https://raw.githubusercontent.com/francoriboratig/TP2-Datos/master/test.csv'\n",
        "\n",
        "train_df = pd.read_csv(url_train)\n",
        "test_df = pd.read_csv(url_test)\n",
        "train_df.head()"
      ],
      "execution_count": 203,
      "outputs": [
        {
          "output_type": "execute_result",
          "data": {
            "text/html": [
              "<div>\n",
              "<style scoped>\n",
              "    .dataframe tbody tr th:only-of-type {\n",
              "        vertical-align: middle;\n",
              "    }\n",
              "\n",
              "    .dataframe tbody tr th {\n",
              "        vertical-align: top;\n",
              "    }\n",
              "\n",
              "    .dataframe thead th {\n",
              "        text-align: right;\n",
              "    }\n",
              "</style>\n",
              "<table border=\"1\" class=\"dataframe\">\n",
              "  <thead>\n",
              "    <tr style=\"text-align: right;\">\n",
              "      <th></th>\n",
              "      <th>id</th>\n",
              "      <th>keyword</th>\n",
              "      <th>location</th>\n",
              "      <th>text</th>\n",
              "      <th>target</th>\n",
              "    </tr>\n",
              "  </thead>\n",
              "  <tbody>\n",
              "    <tr>\n",
              "      <th>0</th>\n",
              "      <td>1</td>\n",
              "      <td>NaN</td>\n",
              "      <td>NaN</td>\n",
              "      <td>Our Deeds are the Reason of this #earthquake M...</td>\n",
              "      <td>1</td>\n",
              "    </tr>\n",
              "    <tr>\n",
              "      <th>1</th>\n",
              "      <td>4</td>\n",
              "      <td>NaN</td>\n",
              "      <td>NaN</td>\n",
              "      <td>Forest fire near La Ronge Sask. Canada</td>\n",
              "      <td>1</td>\n",
              "    </tr>\n",
              "    <tr>\n",
              "      <th>2</th>\n",
              "      <td>5</td>\n",
              "      <td>NaN</td>\n",
              "      <td>NaN</td>\n",
              "      <td>All residents asked to 'shelter in place' are ...</td>\n",
              "      <td>1</td>\n",
              "    </tr>\n",
              "    <tr>\n",
              "      <th>3</th>\n",
              "      <td>6</td>\n",
              "      <td>NaN</td>\n",
              "      <td>NaN</td>\n",
              "      <td>13,000 people receive #wildfires evacuation or...</td>\n",
              "      <td>1</td>\n",
              "    </tr>\n",
              "    <tr>\n",
              "      <th>4</th>\n",
              "      <td>7</td>\n",
              "      <td>NaN</td>\n",
              "      <td>NaN</td>\n",
              "      <td>Just got sent this photo from Ruby #Alaska as ...</td>\n",
              "      <td>1</td>\n",
              "    </tr>\n",
              "  </tbody>\n",
              "</table>\n",
              "</div>"
            ],
            "text/plain": [
              "   id keyword  ...                                               text target\n",
              "0   1     NaN  ...  Our Deeds are the Reason of this #earthquake M...      1\n",
              "1   4     NaN  ...             Forest fire near La Ronge Sask. Canada      1\n",
              "2   5     NaN  ...  All residents asked to 'shelter in place' are ...      1\n",
              "3   6     NaN  ...  13,000 people receive #wildfires evacuation or...      1\n",
              "4   7     NaN  ...  Just got sent this photo from Ruby #Alaska as ...      1\n",
              "\n",
              "[5 rows x 5 columns]"
            ]
          },
          "metadata": {
            "tags": []
          },
          "execution_count": 203
        }
      ]
    },
    {
      "cell_type": "code",
      "metadata": {
        "id": "IgP7Jo-zhsnW",
        "colab_type": "code",
        "colab": {
          "base_uri": "https://localhost:8080/",
          "height": 34
        },
        "outputId": "eb5aaa96-5e58-46b2-97d8-a1b1cf94f09e"
      },
      "source": [
        "# LIMPIAMOS Y CHUSMEAMOS\n",
        "train_df = train_df.drop(['keyword', 'location'], axis = 1)\n",
        "train_df.shape"
      ],
      "execution_count": 204,
      "outputs": [
        {
          "output_type": "execute_result",
          "data": {
            "text/plain": [
              "(7613, 3)"
            ]
          },
          "metadata": {
            "tags": []
          },
          "execution_count": 204
        }
      ]
    },
    {
      "cell_type": "code",
      "metadata": {
        "id": "Ltr9WbO7199l",
        "colab_type": "code",
        "colab": {}
      },
      "source": [
        ""
      ],
      "execution_count": 204,
      "outputs": []
    },
    {
      "cell_type": "code",
      "metadata": {
        "id": "Cw0HFe5EkJae",
        "colab_type": "code",
        "colab": {
          "base_uri": "https://localhost:8080/",
          "height": 260
        },
        "outputId": "7aeca9d1-acc7-47ea-dd32-408063158b5d"
      },
      "source": [
        "# HACEMOS UN EMBEDDING PROVISTO POR TensorFlow Hub\n",
        "\n",
        "embedding_url = \"https://tfhub.dev/google/tf2-preview/gnews-swivel-20dim/1\"\n",
        "\n",
        "hub_layer = hub.KerasLayer(embedding_url,\n",
        "                           input_shape = [], \n",
        "                           dtype = tf.string,\n",
        "                           trainable = True)\n",
        "\n",
        "train_text_list = np.asarray(train_df['text'])\n",
        "train_target_list = np.asarray(train_df['target'])\n",
        "\n",
        "hub_layer(train_text_list[:3])\n",
        "\n"
      ],
      "execution_count": 205,
      "outputs": [
        {
          "output_type": "execute_result",
          "data": {
            "text/plain": [
              "<tf.Tensor: shape=(3, 20), dtype=float32, numpy=\n",
              "array([[ 0.00723878,  0.15689617,  1.2953067 , -0.04077986, -0.16036902,\n",
              "        -1.2004429 , -0.40451345, -0.5239726 , -0.23558664, -0.35022184,\n",
              "        -0.28988177, -0.47197863, -0.07621863,  0.17048942, -0.8323773 ,\n",
              "         0.02260084,  0.16125458, -0.64086777, -0.569074  ,  0.04000134],\n",
              "       [-0.4983734 ,  1.2828879 , -0.18836124, -0.94734734,  0.8805808 ,\n",
              "        -0.17885518, -0.01543166,  0.3832704 , -1.508848  ,  1.7532811 ,\n",
              "        -0.75493276,  0.60124093, -0.14378418, -0.891944  ,  0.43213663,\n",
              "         1.3467408 , -1.4859253 ,  1.5762157 , -0.37878054,  0.9423684 ],\n",
              "       [ 0.08814443, -0.31140247,  0.6044149 ,  1.7130805 ,  1.3203121 ,\n",
              "        -3.201303  ,  0.8445131 ,  0.9621795 , -1.5353138 ,  2.2069528 ,\n",
              "        -0.2790253 ,  0.01095965, -2.2282734 ,  0.2043116 , -2.17501   ,\n",
              "         1.3441613 ,  0.11884003, -1.2388006 , -0.25501075,  0.69527215]],\n",
              "      dtype=float32)>"
            ]
          },
          "metadata": {
            "tags": []
          },
          "execution_count": 205
        }
      ]
    },
    {
      "cell_type": "code",
      "metadata": {
        "id": "53dWgS6Z2QyL",
        "colab_type": "code",
        "colab": {}
      },
      "source": [
        "# SE DIVIDE UNA PARTE DEL SET PARA PODER EVALUAR LOS RESULTADOS\n",
        "\n",
        "x_train, x_validation, y_train, y_validation = train_test_split(train_text_list, train_target_list, test_size=0.3, random_state=0)"
      ],
      "execution_count": 206,
      "outputs": []
    },
    {
      "cell_type": "code",
      "metadata": {
        "id": "pa9js3I9la4T",
        "colab_type": "code",
        "colab": {
          "base_uri": "https://localhost:8080/",
          "height": 295
        },
        "outputId": "d1f862a7-1a5f-4708-80f7-e26865333811"
      },
      "source": [
        "# ARMAMOS EL MODELO\n",
        "model = tf.keras.Sequential()\n",
        "model.add(hub_layer)\n",
        "model.add(tf.keras.layers.Dense(16, activation = 'relu'))\n",
        "model.add(tf.keras.layers.Dense(16, activation = 'relu'))\n",
        "model.add(tf.keras.layers.Dense(1))\n",
        "\n",
        "model.summary()"
      ],
      "execution_count": 207,
      "outputs": [
        {
          "output_type": "stream",
          "text": [
            "Model: \"sequential_28\"\n",
            "_________________________________________________________________\n",
            "Layer (type)                 Output Shape              Param #   \n",
            "=================================================================\n",
            "keras_layer_14 (KerasLayer)  (None, 20)                400020    \n",
            "_________________________________________________________________\n",
            "dense_93 (Dense)             (None, 16)                336       \n",
            "_________________________________________________________________\n",
            "dense_94 (Dense)             (None, 16)                272       \n",
            "_________________________________________________________________\n",
            "dense_95 (Dense)             (None, 1)                 17        \n",
            "=================================================================\n",
            "Total params: 400,645\n",
            "Trainable params: 400,645\n",
            "Non-trainable params: 0\n",
            "_________________________________________________________________\n"
          ],
          "name": "stdout"
        }
      ]
    },
    {
      "cell_type": "code",
      "metadata": {
        "id": "t31VOjJynfzN",
        "colab_type": "code",
        "colab": {
          "base_uri": "https://localhost:8080/",
          "height": 712
        },
        "outputId": "9d29e3a6-66a8-4fe6-eb0d-0f46771da33d"
      },
      "source": [
        "# COMPILAMOS Y ENTRENAMOS\n",
        "\n",
        "model.save_weights('model.h5') #esto es para luego resetear el entrenamiento\n",
        "\n",
        "# NOTAS:\n",
        "# Con 20 epochs obtiene mejor resultado que con 30\n",
        "\n",
        "model.compile(optimizer = 'adam',\n",
        "              loss = tf.keras.losses.BinaryCrossentropy(from_logits = True),\n",
        "              metrics = ['accuracy'])\n",
        "\n",
        "history = model.fit(x_train, y_train, batch_size=512,\n",
        "                    epochs = 20,\n",
        "                    verbose = 1)"
      ],
      "execution_count": 208,
      "outputs": [
        {
          "output_type": "stream",
          "text": [
            "Epoch 1/20\n",
            "11/11 [==============================] - 0s 10ms/step - loss: 0.6655 - accuracy: 0.5656\n",
            "Epoch 2/20\n",
            "11/11 [==============================] - 0s 10ms/step - loss: 0.6186 - accuracy: 0.5757\n",
            "Epoch 3/20\n",
            "11/11 [==============================] - 0s 9ms/step - loss: 0.5852 - accuracy: 0.6200\n",
            "Epoch 4/20\n",
            "11/11 [==============================] - 0s 10ms/step - loss: 0.5594 - accuracy: 0.6722\n",
            "Epoch 5/20\n",
            "11/11 [==============================] - 0s 9ms/step - loss: 0.5389 - accuracy: 0.7193\n",
            "Epoch 6/20\n",
            "11/11 [==============================] - 0s 10ms/step - loss: 0.5217 - accuracy: 0.7476\n",
            "Epoch 7/20\n",
            "11/11 [==============================] - 0s 10ms/step - loss: 0.5073 - accuracy: 0.7589\n",
            "Epoch 8/20\n",
            "11/11 [==============================] - 0s 9ms/step - loss: 0.4940 - accuracy: 0.7643\n",
            "Epoch 9/20\n",
            "11/11 [==============================] - 0s 12ms/step - loss: 0.4820 - accuracy: 0.7752\n",
            "Epoch 10/20\n",
            "11/11 [==============================] - 0s 9ms/step - loss: 0.4701 - accuracy: 0.7831\n",
            "Epoch 11/20\n",
            "11/11 [==============================] - 0s 9ms/step - loss: 0.4589 - accuracy: 0.7889\n",
            "Epoch 12/20\n",
            "11/11 [==============================] - 0s 10ms/step - loss: 0.4472 - accuracy: 0.7979\n",
            "Epoch 13/20\n",
            "11/11 [==============================] - 0s 10ms/step - loss: 0.4360 - accuracy: 0.8048\n",
            "Epoch 14/20\n",
            "11/11 [==============================] - 0s 10ms/step - loss: 0.4245 - accuracy: 0.8122\n",
            "Epoch 15/20\n",
            "11/11 [==============================] - 0s 10ms/step - loss: 0.4126 - accuracy: 0.8169\n",
            "Epoch 16/20\n",
            "11/11 [==============================] - 0s 10ms/step - loss: 0.4007 - accuracy: 0.8223\n",
            "Epoch 17/20\n",
            "11/11 [==============================] - 0s 9ms/step - loss: 0.3886 - accuracy: 0.8275\n",
            "Epoch 18/20\n",
            "11/11 [==============================] - 0s 10ms/step - loss: 0.3765 - accuracy: 0.8336\n",
            "Epoch 19/20\n",
            "11/11 [==============================] - 0s 9ms/step - loss: 0.3638 - accuracy: 0.8379\n",
            "Epoch 20/20\n",
            "11/11 [==============================] - 0s 10ms/step - loss: 0.3516 - accuracy: 0.8429\n"
          ],
          "name": "stdout"
        }
      ]
    },
    {
      "cell_type": "code",
      "metadata": {
        "id": "KuY4c8Tdm-7F",
        "colab_type": "code",
        "colab": {
          "base_uri": "https://localhost:8080/",
          "height": 52
        },
        "outputId": "cc9fde72-81d2-463c-d648-77c371966bc7"
      },
      "source": [
        "# EVALUAMOS\n",
        "loss, precision = model.evaluate(x_validation, y_validation)\n",
        "print('Precisión: %.2f' % (precision*100))"
      ],
      "execution_count": 209,
      "outputs": [
        {
          "output_type": "stream",
          "text": [
            "72/72 [==============================] - 0s 1ms/step - loss: 0.4977 - accuracy: 0.7894\n",
            "Precisión: 78.94\n"
          ],
          "name": "stdout"
        }
      ]
    },
    {
      "cell_type": "code",
      "metadata": {
        "id": "XCZCJYPK_sLL",
        "colab_type": "code",
        "colab": {
          "base_uri": "https://localhost:8080/",
          "height": 712
        },
        "outputId": "987a2012-4d77-47c6-e1a2-0eb4b3eab535"
      },
      "source": [
        "# SE REENTRENA CON EL SET COMPLETO\n",
        "\n",
        "model.load_weights('model.h5') #se resetea el entrenamiento previo\n",
        "\n",
        "history = model.fit(train_text_list, train_target_list, batch_size=512,\n",
        "                    epochs = 20,\n",
        "                    verbose = 1)"
      ],
      "execution_count": 134,
      "outputs": [
        {
          "output_type": "stream",
          "text": [
            "Epoch 1/20\n",
            "15/15 [==============================] - 0s 10ms/step - loss: 0.6630 - accuracy: 0.5904\n",
            "Epoch 2/20\n",
            "15/15 [==============================] - 0s 10ms/step - loss: 0.6057 - accuracy: 0.6285\n",
            "Epoch 3/20\n",
            "15/15 [==============================] - 0s 11ms/step - loss: 0.5480 - accuracy: 0.6913\n",
            "Epoch 4/20\n",
            "15/15 [==============================] - 0s 10ms/step - loss: 0.4994 - accuracy: 0.7458\n",
            "Epoch 5/20\n",
            "15/15 [==============================] - 0s 10ms/step - loss: 0.4637 - accuracy: 0.7805\n",
            "Epoch 6/20\n",
            "15/15 [==============================] - 0s 10ms/step - loss: 0.4373 - accuracy: 0.7982\n",
            "Epoch 7/20\n",
            "15/15 [==============================] - 0s 10ms/step - loss: 0.4179 - accuracy: 0.8094\n",
            "Epoch 8/20\n",
            "15/15 [==============================] - 0s 11ms/step - loss: 0.4005 - accuracy: 0.8208\n",
            "Epoch 9/20\n",
            "15/15 [==============================] - 0s 10ms/step - loss: 0.3844 - accuracy: 0.8281\n",
            "Epoch 10/20\n",
            "15/15 [==============================] - 0s 10ms/step - loss: 0.3688 - accuracy: 0.8375\n",
            "Epoch 11/20\n",
            "15/15 [==============================] - 0s 10ms/step - loss: 0.3538 - accuracy: 0.8483\n",
            "Epoch 12/20\n",
            "15/15 [==============================] - 0s 10ms/step - loss: 0.3395 - accuracy: 0.8541\n",
            "Epoch 13/20\n",
            "15/15 [==============================] - 0s 10ms/step - loss: 0.3261 - accuracy: 0.8618\n",
            "Epoch 14/20\n",
            "15/15 [==============================] - 0s 11ms/step - loss: 0.3132 - accuracy: 0.8685\n",
            "Epoch 15/20\n",
            "15/15 [==============================] - 0s 10ms/step - loss: 0.3011 - accuracy: 0.8760\n",
            "Epoch 16/20\n",
            "15/15 [==============================] - 0s 10ms/step - loss: 0.2890 - accuracy: 0.8797\n",
            "Epoch 17/20\n",
            "15/15 [==============================] - 0s 10ms/step - loss: 0.2774 - accuracy: 0.8878\n",
            "Epoch 18/20\n",
            "15/15 [==============================] - 0s 11ms/step - loss: 0.2663 - accuracy: 0.8927\n",
            "Epoch 19/20\n",
            "15/15 [==============================] - 0s 10ms/step - loss: 0.2554 - accuracy: 0.9000\n",
            "Epoch 20/20\n",
            "15/15 [==============================] - 0s 10ms/step - loss: 0.2441 - accuracy: 0.9025\n"
          ],
          "name": "stdout"
        }
      ]
    },
    {
      "cell_type": "code",
      "metadata": {
        "id": "wpAEhLQGySbR",
        "colab_type": "code",
        "colab": {
          "base_uri": "https://localhost:8080/",
          "height": 139
        },
        "outputId": "c8b11cdd-faa5-42a4-eaff-0f251490a01a"
      },
      "source": [
        "# ARMAMOS LA PREDICCIÓN\n",
        "test_text_list = np.asarray(test_df['text'])\n",
        "prediction = (model.predict(test_text_list) > 0.5).astype(\"int32\")\n",
        "prediction"
      ],
      "execution_count": 77,
      "outputs": [
        {
          "output_type": "execute_result",
          "data": {
            "text/plain": [
              "array([[1],\n",
              "       [1],\n",
              "       [1],\n",
              "       ...,\n",
              "       [0],\n",
              "       [1],\n",
              "       [0]], dtype=int32)"
            ]
          },
          "metadata": {
            "tags": []
          },
          "execution_count": 77
        }
      ]
    },
    {
      "cell_type": "code",
      "metadata": {
        "id": "KkSvLRovz4i-",
        "colab_type": "code",
        "colab": {
          "base_uri": "https://localhost:8080/",
          "height": 17
        },
        "outputId": "52f88392-8a5a-42f7-82bb-8c537443abb3"
      },
      "source": [
        "# EXPORTAMOS EL CSV EN EL FORMATO QUE PIDE KAGGLE\n",
        "test_df['target'] = prediction\n",
        "export = pd.DataFrame()\n",
        "export['id'] = test_df['id']\n",
        "export['target'] = test_df['target']\n",
        "export = export.set_index('id')\n",
        "export.to_csv('submit.csv')\n",
        "files.download('submit.csv')"
      ],
      "execution_count": 78,
      "outputs": [
        {
          "output_type": "display_data",
          "data": {
            "application/javascript": [
              "\n",
              "    async function download(id, filename, size) {\n",
              "      if (!google.colab.kernel.accessAllowed) {\n",
              "        return;\n",
              "      }\n",
              "      const div = document.createElement('div');\n",
              "      const label = document.createElement('label');\n",
              "      label.textContent = `Downloading \"${filename}\": `;\n",
              "      div.appendChild(label);\n",
              "      const progress = document.createElement('progress');\n",
              "      progress.max = size;\n",
              "      div.appendChild(progress);\n",
              "      document.body.appendChild(div);\n",
              "\n",
              "      const buffers = [];\n",
              "      let downloaded = 0;\n",
              "\n",
              "      const channel = await google.colab.kernel.comms.open(id);\n",
              "      // Send a message to notify the kernel that we're ready.\n",
              "      channel.send({})\n",
              "\n",
              "      for await (const message of channel.messages) {\n",
              "        // Send a message to notify the kernel that we're ready.\n",
              "        channel.send({})\n",
              "        if (message.buffers) {\n",
              "          for (const buffer of message.buffers) {\n",
              "            buffers.push(buffer);\n",
              "            downloaded += buffer.byteLength;\n",
              "            progress.value = downloaded;\n",
              "          }\n",
              "        }\n",
              "      }\n",
              "      const blob = new Blob(buffers, {type: 'application/binary'});\n",
              "      const a = document.createElement('a');\n",
              "      a.href = window.URL.createObjectURL(blob);\n",
              "      a.download = filename;\n",
              "      div.appendChild(a);\n",
              "      a.click();\n",
              "      div.remove();\n",
              "    }\n",
              "  "
            ],
            "text/plain": [
              "<IPython.core.display.Javascript object>"
            ]
          },
          "metadata": {
            "tags": []
          }
        },
        {
          "output_type": "display_data",
          "data": {
            "application/javascript": [
              "download(\"download_b5261728-f8fb-4def-bf0f-c65626d90ac0\", \"submit.csv\", 22746)"
            ],
            "text/plain": [
              "<IPython.core.display.Javascript object>"
            ]
          },
          "metadata": {
            "tags": []
          }
        }
      ]
    }
  ]
}