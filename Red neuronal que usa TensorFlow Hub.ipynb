{
  "nbformat": 4,
  "nbformat_minor": 0,
  "metadata": {
    "kernelspec": {
      "display_name": "Python 3",
      "language": "python",
      "name": "python3"
    },
    "language_info": {
      "codemirror_mode": {
        "name": "ipython",
        "version": 3
      },
      "file_extension": ".py",
      "mimetype": "text/x-python",
      "name": "python",
      "nbconvert_exporter": "python",
      "pygments_lexer": "ipython3",
      "version": "3.7.7"
    },
    "colab": {
      "name": "Red convolucional.ipynb",
      "provenance": [],
      "include_colab_link": true
    }
  },
  "cells": [
    {
      "cell_type": "markdown",
      "metadata": {
        "id": "view-in-github",
        "colab_type": "text"
      },
      "source": [
        "<a href=\"https://colab.research.google.com/github/francoriboratig/TP2-Datos/blob/master/Red%20neuronal%20que%20usa%20TensorFlow%20Hub.ipynb\" target=\"_parent\"><img src=\"https://colab.research.google.com/assets/colab-badge.svg\" alt=\"Open In Colab\"/></a>"
      ]
    },
    {
      "cell_type": "code",
      "metadata": {
        "id": "0wcmc7yo2Iaz",
        "colab_type": "code",
        "colab": {
          "base_uri": "https://localhost:8080/",
          "height": 85
        },
        "outputId": "6febbb11-b3c8-41fb-8796-42ddc45942ad"
      },
      "source": [
        "# ARRANCAMOS CON LO BÁSICO\n",
        "import numpy as np\n",
        "import tensorflow as tf\n",
        "import pandas as pd\n",
        "from google.colab import files\n",
        "\n",
        "!pip install -q tensorflow-hub\n",
        "import tensorflow_hub as hub\n",
        "from sklearn.model_selection import train_test_split\n",
        "\n",
        "print(\"Version: \", tf.__version__)\n",
        "print(\"Eager mode: \", tf.executing_eagerly())\n",
        "print(\"Hub version: \", hub.__version__)\n",
        "print(\"GPU is\", \"available\" if tf.config.experimental.list_physical_devices(\"GPU\") else \"NOT AVAILABLE\")\n"
      ],
      "execution_count": 472,
      "outputs": [
        {
          "output_type": "stream",
          "text": [
            "Version:  2.2.0\n",
            "Eager mode:  True\n",
            "Hub version:  0.8.0\n",
            "GPU is NOT AVAILABLE\n"
          ],
          "name": "stdout"
        }
      ]
    },
    {
      "cell_type": "code",
      "metadata": {
        "id": "2pHyci8dgDGq",
        "colab_type": "code",
        "colab": {
          "base_uri": "https://localhost:8080/",
          "height": 204
        },
        "outputId": "6f91515e-cec9-4edf-e097-ced275df621d"
      },
      "source": [
        "# CARGAMOS LOS CSV\n",
        "url_train = 'https://raw.githubusercontent.com/JulioCastillo1/TP1-Datos/master/train.csv'\n",
        "url_test = 'https://raw.githubusercontent.com/francoriboratig/TP2-Datos/master/test.csv'\n",
        "\n",
        "train_df = pd.read_csv(url_train)\n",
        "test_df = pd.read_csv(url_test)\n",
        "train_df.head()"
      ],
      "execution_count": 473,
      "outputs": [
        {
          "output_type": "execute_result",
          "data": {
            "text/html": [
              "<div>\n",
              "<style scoped>\n",
              "    .dataframe tbody tr th:only-of-type {\n",
              "        vertical-align: middle;\n",
              "    }\n",
              "\n",
              "    .dataframe tbody tr th {\n",
              "        vertical-align: top;\n",
              "    }\n",
              "\n",
              "    .dataframe thead th {\n",
              "        text-align: right;\n",
              "    }\n",
              "</style>\n",
              "<table border=\"1\" class=\"dataframe\">\n",
              "  <thead>\n",
              "    <tr style=\"text-align: right;\">\n",
              "      <th></th>\n",
              "      <th>id</th>\n",
              "      <th>keyword</th>\n",
              "      <th>location</th>\n",
              "      <th>text</th>\n",
              "      <th>target</th>\n",
              "    </tr>\n",
              "  </thead>\n",
              "  <tbody>\n",
              "    <tr>\n",
              "      <th>0</th>\n",
              "      <td>1</td>\n",
              "      <td>NaN</td>\n",
              "      <td>NaN</td>\n",
              "      <td>Our Deeds are the Reason of this #earthquake M...</td>\n",
              "      <td>1</td>\n",
              "    </tr>\n",
              "    <tr>\n",
              "      <th>1</th>\n",
              "      <td>4</td>\n",
              "      <td>NaN</td>\n",
              "      <td>NaN</td>\n",
              "      <td>Forest fire near La Ronge Sask. Canada</td>\n",
              "      <td>1</td>\n",
              "    </tr>\n",
              "    <tr>\n",
              "      <th>2</th>\n",
              "      <td>5</td>\n",
              "      <td>NaN</td>\n",
              "      <td>NaN</td>\n",
              "      <td>All residents asked to 'shelter in place' are ...</td>\n",
              "      <td>1</td>\n",
              "    </tr>\n",
              "    <tr>\n",
              "      <th>3</th>\n",
              "      <td>6</td>\n",
              "      <td>NaN</td>\n",
              "      <td>NaN</td>\n",
              "      <td>13,000 people receive #wildfires evacuation or...</td>\n",
              "      <td>1</td>\n",
              "    </tr>\n",
              "    <tr>\n",
              "      <th>4</th>\n",
              "      <td>7</td>\n",
              "      <td>NaN</td>\n",
              "      <td>NaN</td>\n",
              "      <td>Just got sent this photo from Ruby #Alaska as ...</td>\n",
              "      <td>1</td>\n",
              "    </tr>\n",
              "  </tbody>\n",
              "</table>\n",
              "</div>"
            ],
            "text/plain": [
              "   id keyword  ...                                               text target\n",
              "0   1     NaN  ...  Our Deeds are the Reason of this #earthquake M...      1\n",
              "1   4     NaN  ...             Forest fire near La Ronge Sask. Canada      1\n",
              "2   5     NaN  ...  All residents asked to 'shelter in place' are ...      1\n",
              "3   6     NaN  ...  13,000 people receive #wildfires evacuation or...      1\n",
              "4   7     NaN  ...  Just got sent this photo from Ruby #Alaska as ...      1\n",
              "\n",
              "[5 rows x 5 columns]"
            ]
          },
          "metadata": {
            "tags": []
          },
          "execution_count": 473
        }
      ]
    },
    {
      "cell_type": "code",
      "metadata": {
        "id": "IgP7Jo-zhsnW",
        "colab_type": "code",
        "colab": {
          "base_uri": "https://localhost:8080/",
          "height": 34
        },
        "outputId": "7e163d5f-1e35-4cfb-ad59-f3ae46879738"
      },
      "source": [
        "# LIMPIAMOS Y CHUSMEAMOS\n",
        "train_df = train_df.drop(['keyword', 'location'], axis = 1)\n",
        "train_df.shape"
      ],
      "execution_count": 474,
      "outputs": [
        {
          "output_type": "execute_result",
          "data": {
            "text/plain": [
              "(7613, 3)"
            ]
          },
          "metadata": {
            "tags": []
          },
          "execution_count": 474
        }
      ]
    },
    {
      "cell_type": "code",
      "metadata": {
        "id": "Ltr9WbO7199l",
        "colab_type": "code",
        "colab": {}
      },
      "source": [
        ""
      ],
      "execution_count": 474,
      "outputs": []
    },
    {
      "cell_type": "code",
      "metadata": {
        "id": "Cw0HFe5EkJae",
        "colab_type": "code",
        "colab": {
          "base_uri": "https://localhost:8080/",
          "height": 255
        },
        "outputId": "5541374e-c575-4025-9fd3-37db5e8cc91a"
      },
      "source": [
        "# HACEMOS UN EMBEDDING PROVISTO POR TensorFlow Hub\n",
        "\n",
        "embedding_url = \"https://tfhub.dev/google/tf2-preview/gnews-swivel-20dim/1\"\n",
        "\n",
        "hub_layer = hub.KerasLayer(embedding_url,\n",
        "                           input_shape = [], \n",
        "                           dtype = tf.string,\n",
        "                           trainable = True)\n",
        "\n",
        "train_text_list = np.asarray(train_df['text'])\n",
        "train_target_list = np.asarray(train_df['target'])\n",
        "\n",
        "hub_layer(train_text_list[:3])\n",
        "\n"
      ],
      "execution_count": 475,
      "outputs": [
        {
          "output_type": "execute_result",
          "data": {
            "text/plain": [
              "<tf.Tensor: shape=(3, 20), dtype=float32, numpy=\n",
              "array([[ 0.00723878,  0.15689617,  1.2953067 , -0.04077986, -0.16036902,\n",
              "        -1.2004429 , -0.40451345, -0.5239726 , -0.23558664, -0.35022184,\n",
              "        -0.28988177, -0.47197863, -0.07621863,  0.17048942, -0.8323773 ,\n",
              "         0.02260084,  0.16125458, -0.64086777, -0.569074  ,  0.04000134],\n",
              "       [-0.4983734 ,  1.2828879 , -0.18836124, -0.94734734,  0.8805808 ,\n",
              "        -0.17885518, -0.01543166,  0.3832704 , -1.508848  ,  1.7532811 ,\n",
              "        -0.75493276,  0.60124093, -0.14378418, -0.891944  ,  0.43213663,\n",
              "         1.3467408 , -1.4859253 ,  1.5762157 , -0.37878054,  0.9423684 ],\n",
              "       [ 0.08814443, -0.31140247,  0.6044149 ,  1.7130805 ,  1.3203121 ,\n",
              "        -3.201303  ,  0.8445131 ,  0.9621795 , -1.5353138 ,  2.2069528 ,\n",
              "        -0.2790253 ,  0.01095965, -2.2282734 ,  0.2043116 , -2.17501   ,\n",
              "         1.3441613 ,  0.11884003, -1.2388006 , -0.25501075,  0.69527215]],\n",
              "      dtype=float32)>"
            ]
          },
          "metadata": {
            "tags": []
          },
          "execution_count": 475
        }
      ]
    },
    {
      "cell_type": "code",
      "metadata": {
        "id": "53dWgS6Z2QyL",
        "colab_type": "code",
        "colab": {}
      },
      "source": [
        "# SE DIVIDE UNA PARTE DEL SET PARA PODER EVALUAR LOS RESULTADOS\n",
        "\n",
        "x_train, x_validation, y_train, y_validation = train_test_split(train_text_list, train_target_list, test_size=0.3, random_state=0)"
      ],
      "execution_count": 476,
      "outputs": []
    },
    {
      "cell_type": "code",
      "metadata": {
        "id": "pa9js3I9la4T",
        "colab_type": "code",
        "colab": {
          "base_uri": "https://localhost:8080/",
          "height": 289
        },
        "outputId": "c277813f-2f7e-4e3e-e5b6-08df918ca305"
      },
      "source": [
        "# ARMAMOS EL MODELO\n",
        "model = tf.keras.Sequential()\n",
        "model.add(hub_layer)\n",
        "model.add(tf.keras.layers.Dense(16, activation = 'relu'))\n",
        "model.add(tf.keras.layers.Dense(16, activation = 'relu'))\n",
        "model.add(tf.keras.layers.Dense(1))\n",
        "\n",
        "model.summary()"
      ],
      "execution_count": 477,
      "outputs": [
        {
          "output_type": "stream",
          "text": [
            "Model: \"sequential_46\"\n",
            "_________________________________________________________________\n",
            "Layer (type)                 Output Shape              Param #   \n",
            "=================================================================\n",
            "keras_layer_48 (KerasLayer)  (None, 20)                400020    \n",
            "_________________________________________________________________\n",
            "dense_135 (Dense)            (None, 16)                336       \n",
            "_________________________________________________________________\n",
            "dense_136 (Dense)            (None, 16)                272       \n",
            "_________________________________________________________________\n",
            "dense_137 (Dense)            (None, 1)                 17        \n",
            "=================================================================\n",
            "Total params: 400,645\n",
            "Trainable params: 400,645\n",
            "Non-trainable params: 0\n",
            "_________________________________________________________________\n"
          ],
          "name": "stdout"
        }
      ]
    },
    {
      "cell_type": "code",
      "metadata": {
        "id": "t31VOjJynfzN",
        "colab_type": "code",
        "colab": {
          "base_uri": "https://localhost:8080/",
          "height": 697
        },
        "outputId": "b6d61e98-8011-4067-99b2-41f0f4d060e6"
      },
      "source": [
        "# COMPILAMOS Y ENTRENAMOS\n",
        "\n",
        "# NOTAS:\n",
        "# Con 20 epochs obtiene mejor resultado que con 30\n",
        "\n",
        "model.compile(optimizer = 'adam',\n",
        "              loss = tf.keras.losses.BinaryCrossentropy(from_logits = True),\n",
        "              metrics = ['accuracy'])\n",
        "\n",
        "history = model.fit(x_train, y_train, batch_size=512,\n",
        "                    epochs = 20,\n",
        "                    verbose = 1)"
      ],
      "execution_count": 478,
      "outputs": [
        {
          "output_type": "stream",
          "text": [
            "Epoch 1/20\n",
            "11/11 [==============================] - 0s 15ms/step - loss: 0.6564 - accuracy: 0.5654\n",
            "Epoch 2/20\n",
            "11/11 [==============================] - 0s 14ms/step - loss: 0.6222 - accuracy: 0.5763\n",
            "Epoch 3/20\n",
            "11/11 [==============================] - 0s 13ms/step - loss: 0.5959 - accuracy: 0.6093\n",
            "Epoch 4/20\n",
            "11/11 [==============================] - 0s 14ms/step - loss: 0.5738 - accuracy: 0.6527\n",
            "Epoch 5/20\n",
            "11/11 [==============================] - 0s 14ms/step - loss: 0.5532 - accuracy: 0.6943\n",
            "Epoch 6/20\n",
            "11/11 [==============================] - 0s 14ms/step - loss: 0.5347 - accuracy: 0.7232\n",
            "Epoch 7/20\n",
            "11/11 [==============================] - 0s 14ms/step - loss: 0.5178 - accuracy: 0.7459\n",
            "Epoch 8/20\n",
            "11/11 [==============================] - 0s 14ms/step - loss: 0.5020 - accuracy: 0.7604\n",
            "Epoch 9/20\n",
            "11/11 [==============================] - 0s 14ms/step - loss: 0.4867 - accuracy: 0.7714\n",
            "Epoch 10/20\n",
            "11/11 [==============================] - 0s 14ms/step - loss: 0.4730 - accuracy: 0.7810\n",
            "Epoch 11/20\n",
            "11/11 [==============================] - 0s 15ms/step - loss: 0.4597 - accuracy: 0.7910\n",
            "Epoch 12/20\n",
            "11/11 [==============================] - 0s 13ms/step - loss: 0.4473 - accuracy: 0.7986\n",
            "Epoch 13/20\n",
            "11/11 [==============================] - 0s 13ms/step - loss: 0.4345 - accuracy: 0.8022\n",
            "Epoch 14/20\n",
            "11/11 [==============================] - 0s 13ms/step - loss: 0.4221 - accuracy: 0.8080\n",
            "Epoch 15/20\n",
            "11/11 [==============================] - 0s 13ms/step - loss: 0.4099 - accuracy: 0.8150\n",
            "Epoch 16/20\n",
            "11/11 [==============================] - 0s 15ms/step - loss: 0.3978 - accuracy: 0.8193\n",
            "Epoch 17/20\n",
            "11/11 [==============================] - 0s 13ms/step - loss: 0.3857 - accuracy: 0.8238\n",
            "Epoch 18/20\n",
            "11/11 [==============================] - 0s 14ms/step - loss: 0.3744 - accuracy: 0.8317\n",
            "Epoch 19/20\n",
            "11/11 [==============================] - 0s 13ms/step - loss: 0.3627 - accuracy: 0.8394\n",
            "Epoch 20/20\n",
            "11/11 [==============================] - 0s 13ms/step - loss: 0.3515 - accuracy: 0.8504\n"
          ],
          "name": "stdout"
        }
      ]
    },
    {
      "cell_type": "code",
      "metadata": {
        "id": "KuY4c8Tdm-7F",
        "colab_type": "code",
        "colab": {
          "base_uri": "https://localhost:8080/",
          "height": 51
        },
        "outputId": "e389aae5-d0ca-488a-9882-eab57153f124"
      },
      "source": [
        "# EVALUAMOS CON EL MISMO SET\n",
        "loss, precision = model.evaluate(x_validation, y_validation)\n",
        "print('Precisión: %.2f' % (precision*100))"
      ],
      "execution_count": 479,
      "outputs": [
        {
          "output_type": "stream",
          "text": [
            "72/72 [==============================] - 0s 2ms/step - loss: 0.4944 - accuracy: 0.7938\n",
            "Precisión: 79.38\n"
          ],
          "name": "stdout"
        }
      ]
    },
    {
      "cell_type": "code",
      "metadata": {
        "id": "XCZCJYPK_sLL",
        "colab_type": "code",
        "colab": {
          "base_uri": "https://localhost:8080/",
          "height": 697
        },
        "outputId": "c042a599-5a9f-4871-d42d-972ce497c10e"
      },
      "source": [
        "# SE REENTRENA CON EL SET COMPLETO\n",
        "\n",
        "history = model.fit(train_text_list, train_target_list, batch_size=512,\n",
        "                    epochs = 20,\n",
        "                    verbose = 1)"
      ],
      "execution_count": 480,
      "outputs": [
        {
          "output_type": "stream",
          "text": [
            "Epoch 1/20\n",
            "15/15 [==============================] - 0s 14ms/step - loss: 0.3858 - accuracy: 0.8340\n",
            "Epoch 2/20\n",
            "15/15 [==============================] - 0s 14ms/step - loss: 0.3713 - accuracy: 0.8400\n",
            "Epoch 3/20\n",
            "15/15 [==============================] - 0s 14ms/step - loss: 0.3584 - accuracy: 0.8464\n",
            "Epoch 4/20\n",
            "15/15 [==============================] - 0s 14ms/step - loss: 0.3463 - accuracy: 0.8518\n",
            "Epoch 5/20\n",
            "15/15 [==============================] - 0s 13ms/step - loss: 0.3346 - accuracy: 0.8583\n",
            "Epoch 6/20\n",
            "15/15 [==============================] - 0s 13ms/step - loss: 0.3229 - accuracy: 0.8647\n",
            "Epoch 7/20\n",
            "15/15 [==============================] - 0s 13ms/step - loss: 0.3113 - accuracy: 0.8704\n",
            "Epoch 8/20\n",
            "15/15 [==============================] - 0s 14ms/step - loss: 0.2999 - accuracy: 0.8780\n",
            "Epoch 9/20\n",
            "15/15 [==============================] - 0s 13ms/step - loss: 0.2888 - accuracy: 0.8806\n",
            "Epoch 10/20\n",
            "15/15 [==============================] - 0s 13ms/step - loss: 0.2780 - accuracy: 0.8859\n",
            "Epoch 11/20\n",
            "15/15 [==============================] - 0s 13ms/step - loss: 0.2675 - accuracy: 0.8939\n",
            "Epoch 12/20\n",
            "15/15 [==============================] - 0s 15ms/step - loss: 0.2572 - accuracy: 0.8953\n",
            "Epoch 13/20\n",
            "15/15 [==============================] - 0s 13ms/step - loss: 0.2460 - accuracy: 0.9031\n",
            "Epoch 14/20\n",
            "15/15 [==============================] - 0s 13ms/step - loss: 0.2355 - accuracy: 0.9040\n",
            "Epoch 15/20\n",
            "15/15 [==============================] - 0s 14ms/step - loss: 0.2250 - accuracy: 0.9095\n",
            "Epoch 16/20\n",
            "15/15 [==============================] - 0s 13ms/step - loss: 0.2152 - accuracy: 0.9159\n",
            "Epoch 17/20\n",
            "15/15 [==============================] - 0s 13ms/step - loss: 0.2056 - accuracy: 0.9192\n",
            "Epoch 18/20\n",
            "15/15 [==============================] - 0s 14ms/step - loss: 0.1950 - accuracy: 0.9236\n",
            "Epoch 19/20\n",
            "15/15 [==============================] - 0s 13ms/step - loss: 0.1866 - accuracy: 0.9262\n",
            "Epoch 20/20\n",
            "15/15 [==============================] - 0s 13ms/step - loss: 0.1770 - accuracy: 0.9300\n"
          ],
          "name": "stdout"
        }
      ]
    },
    {
      "cell_type": "code",
      "metadata": {
        "id": "wpAEhLQGySbR",
        "colab_type": "code",
        "colab": {
          "base_uri": "https://localhost:8080/",
          "height": 136
        },
        "outputId": "79ff59c5-7c4e-46fe-91b7-bfd07b49f01d"
      },
      "source": [
        "# ARMAMOS LA PREDICCIÓN\n",
        "test_text_list = np.asarray(test_df['text'])\n",
        "prediction = (model.predict(test_text_list) > 0.5).astype(\"int32\")\n",
        "prediction"
      ],
      "execution_count": 481,
      "outputs": [
        {
          "output_type": "execute_result",
          "data": {
            "text/plain": [
              "array([[1],\n",
              "       [1],\n",
              "       [1],\n",
              "       ...,\n",
              "       [1],\n",
              "       [1],\n",
              "       [0]], dtype=int32)"
            ]
          },
          "metadata": {
            "tags": []
          },
          "execution_count": 481
        }
      ]
    },
    {
      "cell_type": "code",
      "metadata": {
        "id": "KkSvLRovz4i-",
        "colab_type": "code",
        "colab": {}
      },
      "source": [
        "# EXPORTAMOS EL CSV EN EL FORMATO QUE PIDE KAGGLE\n",
        "test_df['target'] = prediction\n",
        "export = pd.DataFrame()\n",
        "export['id'] = test_df['id']\n",
        "export['target'] = test_df['target']\n",
        "export = export.set_index('id')\n",
        "export.to_csv('submit.csv')\n",
        "#files.download('submit.csv')"
      ],
      "execution_count": 482,
      "outputs": []
    }
  ]
}