{
  "nbformat": 4,
  "nbformat_minor": 0,
  "metadata": {
    "kernelspec": {
      "display_name": "Python 3",
      "language": "python",
      "name": "python3"
    },
    "language_info": {
      "codemirror_mode": {
        "name": "ipython",
        "version": 3
      },
      "file_extension": ".py",
      "mimetype": "text/x-python",
      "name": "python",
      "nbconvert_exporter": "python",
      "pygments_lexer": "ipython3",
      "version": "3.7.7"
    },
    "colab": {
      "name": "Red convolucional.ipynb",
      "provenance": [],
      "include_colab_link": true
    }
  },
  "cells": [
    {
      "cell_type": "markdown",
      "metadata": {
        "id": "view-in-github",
        "colab_type": "text"
      },
      "source": [
        "<a href=\"https://colab.research.google.com/github/francoriboratig/TP2-Datos/blob/master/Red%20neuronal%20con%20text%20embeddings%20y%20features.ipynb\" target=\"_parent\"><img src=\"https://colab.research.google.com/assets/colab-badge.svg\" alt=\"Open In Colab\"/></a>"
      ]
    },
    {
      "cell_type": "code",
      "metadata": {
        "id": "0wcmc7yo2Iaz",
        "colab_type": "code",
        "colab": {
          "base_uri": "https://localhost:8080/",
          "height": 86
        },
        "outputId": "3f9711c2-3990-4ba7-9ce6-8a9693e5e822"
      },
      "source": [
        "import numpy as np\n",
        "import tensorflow as tf\n",
        "import pandas as pd\n",
        "from google.colab import files\n",
        "\n",
        "!pip install -q tensorflow-hub\n",
        "import tensorflow_hub as hub\n",
        "from sklearn.model_selection import train_test_split\n",
        "\n",
        "print(\"Version: \", tf.__version__)\n",
        "print(\"Eager mode: \", tf.executing_eagerly())\n",
        "print(\"Hub version: \", hub.__version__)\n",
        "print(\"GPU is\", \"available\" if tf.config.experimental.list_physical_devices(\"GPU\") else \"NOT AVAILABLE\")\n"
      ],
      "execution_count": 149,
      "outputs": [
        {
          "output_type": "stream",
          "text": [
            "Version:  2.2.0\n",
            "Eager mode:  True\n",
            "Hub version:  0.8.0\n",
            "GPU is NOT AVAILABLE\n"
          ],
          "name": "stdout"
        }
      ]
    },
    {
      "cell_type": "code",
      "metadata": {
        "id": "2pHyci8dgDGq",
        "colab_type": "code",
        "colab": {
          "base_uri": "https://localhost:8080/",
          "height": 206
        },
        "outputId": "ce09128e-c823-47d9-a353-f33716891fa4"
      },
      "source": [
        "# CARGAMOS LOS CSV\n",
        "url_train = 'https://raw.githubusercontent.com/JulioCastillo1/TP1-Datos/master/train.csv'\n",
        "url_test = 'https://raw.githubusercontent.com/francoriboratig/TP2-Datos/master/test.csv'\n",
        "\n",
        "train_df = pd.read_csv(url_train)\n",
        "test_df = pd.read_csv(url_test)\n",
        "train_df.head()"
      ],
      "execution_count": 150,
      "outputs": [
        {
          "output_type": "execute_result",
          "data": {
            "text/html": [
              "<div>\n",
              "<style scoped>\n",
              "    .dataframe tbody tr th:only-of-type {\n",
              "        vertical-align: middle;\n",
              "    }\n",
              "\n",
              "    .dataframe tbody tr th {\n",
              "        vertical-align: top;\n",
              "    }\n",
              "\n",
              "    .dataframe thead th {\n",
              "        text-align: right;\n",
              "    }\n",
              "</style>\n",
              "<table border=\"1\" class=\"dataframe\">\n",
              "  <thead>\n",
              "    <tr style=\"text-align: right;\">\n",
              "      <th></th>\n",
              "      <th>id</th>\n",
              "      <th>keyword</th>\n",
              "      <th>location</th>\n",
              "      <th>text</th>\n",
              "      <th>target</th>\n",
              "    </tr>\n",
              "  </thead>\n",
              "  <tbody>\n",
              "    <tr>\n",
              "      <th>0</th>\n",
              "      <td>1</td>\n",
              "      <td>NaN</td>\n",
              "      <td>NaN</td>\n",
              "      <td>Our Deeds are the Reason of this #earthquake M...</td>\n",
              "      <td>1</td>\n",
              "    </tr>\n",
              "    <tr>\n",
              "      <th>1</th>\n",
              "      <td>4</td>\n",
              "      <td>NaN</td>\n",
              "      <td>NaN</td>\n",
              "      <td>Forest fire near La Ronge Sask. Canada</td>\n",
              "      <td>1</td>\n",
              "    </tr>\n",
              "    <tr>\n",
              "      <th>2</th>\n",
              "      <td>5</td>\n",
              "      <td>NaN</td>\n",
              "      <td>NaN</td>\n",
              "      <td>All residents asked to 'shelter in place' are ...</td>\n",
              "      <td>1</td>\n",
              "    </tr>\n",
              "    <tr>\n",
              "      <th>3</th>\n",
              "      <td>6</td>\n",
              "      <td>NaN</td>\n",
              "      <td>NaN</td>\n",
              "      <td>13,000 people receive #wildfires evacuation or...</td>\n",
              "      <td>1</td>\n",
              "    </tr>\n",
              "    <tr>\n",
              "      <th>4</th>\n",
              "      <td>7</td>\n",
              "      <td>NaN</td>\n",
              "      <td>NaN</td>\n",
              "      <td>Just got sent this photo from Ruby #Alaska as ...</td>\n",
              "      <td>1</td>\n",
              "    </tr>\n",
              "  </tbody>\n",
              "</table>\n",
              "</div>"
            ],
            "text/plain": [
              "   id keyword  ...                                               text target\n",
              "0   1     NaN  ...  Our Deeds are the Reason of this #earthquake M...      1\n",
              "1   4     NaN  ...             Forest fire near La Ronge Sask. Canada      1\n",
              "2   5     NaN  ...  All residents asked to 'shelter in place' are ...      1\n",
              "3   6     NaN  ...  13,000 people receive #wildfires evacuation or...      1\n",
              "4   7     NaN  ...  Just got sent this photo from Ruby #Alaska as ...      1\n",
              "\n",
              "[5 rows x 5 columns]"
            ]
          },
          "metadata": {
            "tags": []
          },
          "execution_count": 150
        }
      ]
    },
    {
      "cell_type": "code",
      "metadata": {
        "id": "IgP7Jo-zhsnW",
        "colab_type": "code",
        "colab": {
          "base_uri": "https://localhost:8080/",
          "height": 34
        },
        "outputId": "3d8af10c-9a4b-4940-c049-fd1c73045c3e"
      },
      "source": [
        "# LIMPIAMOS Y CHUSMEAMOS\n",
        "train_df = train_df.drop(['keyword', 'location'], axis = 1)\n",
        "train_df.shape"
      ],
      "execution_count": 151,
      "outputs": [
        {
          "output_type": "execute_result",
          "data": {
            "text/plain": [
              "(7613, 3)"
            ]
          },
          "metadata": {
            "tags": []
          },
          "execution_count": 151
        }
      ]
    },
    {
      "cell_type": "code",
      "metadata": {
        "id": "4L8qpXPa1Bmr",
        "colab_type": "code",
        "colab": {}
      },
      "source": [
        "target_df = train_df.pop('target')"
      ],
      "execution_count": 152,
      "outputs": []
    },
    {
      "cell_type": "code",
      "metadata": {
        "id": "Cw0HFe5EkJae",
        "colab_type": "code",
        "colab": {}
      },
      "source": [
        "# SE DIVIDE UNA PARTE DEL SET PARA PODER EVALUAR LOS RESULTADOS\n",
        "\n",
        "train_x, validation_x, train_y, validation_y = train_test_split(train_df, target_df, test_size=0.3, random_state=0)"
      ],
      "execution_count": 153,
      "outputs": []
    },
    {
      "cell_type": "code",
      "metadata": {
        "id": "ddxDogICz-q1",
        "colab_type": "code",
        "colab": {
          "base_uri": "https://localhost:8080/",
          "height": 243
        },
        "outputId": "d8f0bc8a-6444-40a5-a473-3105a07015e1"
      },
      "source": [
        "# HACEMOS UN EMBEDDING PROVISTO POR TensorFlow Hub, por fuera del modelo. Al modelo le llega un array,\n",
        "# de esa forma puedo agregarle features al array\n",
        "\n",
        "embedding_url = \"https://tfhub.dev/google/tf2-preview/gnews-swivel-20dim/1\"\n",
        "\n",
        "hub_layer = hub.KerasLayer(embedding_url,\n",
        "                           input_shape = [], \n",
        "                           dtype = tf.string,\n",
        "                           trainable = True)\n",
        "\n",
        "train_text_list = np.asarray(train_x['text'])\n",
        "train_text_embedded = hub_layer(train_text_list)\n",
        "train_text_embedded = train_text_embedded.numpy()\n",
        "\n",
        "validation_text_list = np.asarray(validation_x['text'])\n",
        "validation_text_embedded = hub_layer(validation_text_list)\n",
        "validation_text_embedded = validation_text_embedded.numpy()\n",
        "\n",
        "train_text_embedded"
      ],
      "execution_count": 154,
      "outputs": [
        {
          "output_type": "execute_result",
          "data": {
            "text/plain": [
              "array([[ 0.5366153 , -1.342566  ,  2.1222613 , ..., -1.0080651 ,\n",
              "        -0.96196187, -0.45349854],\n",
              "       [ 2.0242817 , -1.6424292 ,  1.7285795 , ..., -1.4300696 ,\n",
              "        -2.3009865 , -1.0741191 ],\n",
              "       [ 0.5674488 ,  0.3319531 ,  0.7694006 , ..., -0.6728438 ,\n",
              "        -1.0818708 , -0.452739  ],\n",
              "       ...,\n",
              "       [-0.4777475 ,  0.8065685 , -0.334889  , ...,  0.6439389 ,\n",
              "         0.03105509, -0.43927386],\n",
              "       [-0.29436806,  1.0474839 , -0.69300604, ...,  0.551162  ,\n",
              "         0.2705982 ,  0.63722724],\n",
              "       [ 0.8156372 , -2.1133864 ,  0.8432087 , ..., -0.38624156,\n",
              "        -1.7745864 , -0.46408758]], dtype=float32)"
            ]
          },
          "metadata": {
            "tags": []
          },
          "execution_count": 154
        }
      ]
    },
    {
      "cell_type": "code",
      "metadata": {
        "id": "pa9js3I9la4T",
        "colab_type": "code",
        "colab": {
          "base_uri": "https://localhost:8080/",
          "height": 364
        },
        "outputId": "98e637f6-c133-4200-cc93-e26000fd2b87"
      },
      "source": [
        "# ARMAMOS EL MODELO\n",
        "model = tf.keras.Sequential()\n",
        "model.add(tf.keras.layers.LayerNormalization(input_shape = tuple([train_text_embedded.shape[1]])))\n",
        "model.add(tf.keras.layers.Dense(64, activation = 'relu'))\n",
        "model.add(tf.keras.layers.Dropout(rate=0.2))\n",
        "model.add(tf.keras.layers.LayerNormalization())\n",
        "model.add(tf.keras.layers.Dense(14, activation = 'relu'))\n",
        "model.add(tf.keras.layers.Dense(1))\n",
        "\n",
        "model.summary()"
      ],
      "execution_count": 155,
      "outputs": [
        {
          "output_type": "stream",
          "text": [
            "Model: \"sequential_17\"\n",
            "_________________________________________________________________\n",
            "Layer (type)                 Output Shape              Param #   \n",
            "=================================================================\n",
            "layer_normalization_29 (Laye (None, 20)                40        \n",
            "_________________________________________________________________\n",
            "dense_48 (Dense)             (None, 64)                1344      \n",
            "_________________________________________________________________\n",
            "dropout_13 (Dropout)         (None, 64)                0         \n",
            "_________________________________________________________________\n",
            "layer_normalization_30 (Laye (None, 64)                128       \n",
            "_________________________________________________________________\n",
            "dense_49 (Dense)             (None, 14)                910       \n",
            "_________________________________________________________________\n",
            "dense_50 (Dense)             (None, 1)                 15        \n",
            "=================================================================\n",
            "Total params: 2,437\n",
            "Trainable params: 2,437\n",
            "Non-trainable params: 0\n",
            "_________________________________________________________________\n"
          ],
          "name": "stdout"
        }
      ]
    },
    {
      "cell_type": "code",
      "metadata": {
        "id": "t31VOjJynfzN",
        "colab_type": "code",
        "colab": {
          "base_uri": "https://localhost:8080/",
          "height": 1000
        },
        "outputId": "fed98346-ed41-43f5-e536-67dd58e2af83"
      },
      "source": [
        "# COMPILAMOS Y ENTRENAMOS\n",
        "\n",
        "model.save_weights('model.h5') #esto es para luego resetear el entrenamiento\n",
        "\n",
        "model.compile(optimizer = 'adam',\n",
        "              loss = tf.keras.losses.BinaryCrossentropy(from_logits = True),\n",
        "              metrics = ['accuracy'])\n",
        "\n",
        "history = model.fit(train_text_embedded, train_y, batch_size=1024,\n",
        "                    epochs = 120,\n",
        "                    verbose = 1)"
      ],
      "execution_count": 156,
      "outputs": [
        {
          "output_type": "stream",
          "text": [
            "Epoch 1/120\n",
            "6/6 [==============================] - 0s 7ms/step - loss: 0.9702 - accuracy: 0.4500\n",
            "Epoch 2/120\n",
            "6/6 [==============================] - 0s 5ms/step - loss: 0.7099 - accuracy: 0.5930\n",
            "Epoch 3/120\n",
            "6/6 [==============================] - 0s 5ms/step - loss: 0.6146 - accuracy: 0.6577\n",
            "Epoch 4/120\n",
            "6/6 [==============================] - 0s 5ms/step - loss: 0.5783 - accuracy: 0.6909\n",
            "Epoch 5/120\n",
            "6/6 [==============================] - 0s 7ms/step - loss: 0.5657 - accuracy: 0.7029\n",
            "Epoch 6/120\n",
            "6/6 [==============================] - 0s 8ms/step - loss: 0.5566 - accuracy: 0.7204\n",
            "Epoch 7/120\n",
            "6/6 [==============================] - 0s 7ms/step - loss: 0.5438 - accuracy: 0.7243\n",
            "Epoch 8/120\n",
            "6/6 [==============================] - 0s 5ms/step - loss: 0.5394 - accuracy: 0.7326\n",
            "Epoch 9/120\n",
            "6/6 [==============================] - 0s 5ms/step - loss: 0.5395 - accuracy: 0.7288\n",
            "Epoch 10/120\n",
            "6/6 [==============================] - 0s 5ms/step - loss: 0.5299 - accuracy: 0.7362\n",
            "Epoch 11/120\n",
            "6/6 [==============================] - 0s 5ms/step - loss: 0.5378 - accuracy: 0.7337\n",
            "Epoch 12/120\n",
            "6/6 [==============================] - 0s 5ms/step - loss: 0.5267 - accuracy: 0.7360\n",
            "Epoch 13/120\n",
            "6/6 [==============================] - 0s 5ms/step - loss: 0.5256 - accuracy: 0.7392\n",
            "Epoch 14/120\n",
            "6/6 [==============================] - 0s 6ms/step - loss: 0.5293 - accuracy: 0.7386\n",
            "Epoch 15/120\n",
            "6/6 [==============================] - 0s 5ms/step - loss: 0.5238 - accuracy: 0.7358\n",
            "Epoch 16/120\n",
            "6/6 [==============================] - 0s 6ms/step - loss: 0.5226 - accuracy: 0.7339\n",
            "Epoch 17/120\n",
            "6/6 [==============================] - 0s 5ms/step - loss: 0.5193 - accuracy: 0.7405\n",
            "Epoch 18/120\n",
            "6/6 [==============================] - 0s 6ms/step - loss: 0.5208 - accuracy: 0.7407\n",
            "Epoch 19/120\n",
            "6/6 [==============================] - 0s 5ms/step - loss: 0.5210 - accuracy: 0.7403\n",
            "Epoch 20/120\n",
            "6/6 [==============================] - 0s 5ms/step - loss: 0.5137 - accuracy: 0.7412\n",
            "Epoch 21/120\n",
            "6/6 [==============================] - 0s 5ms/step - loss: 0.5161 - accuracy: 0.7429\n",
            "Epoch 22/120\n",
            "6/6 [==============================] - 0s 5ms/step - loss: 0.5150 - accuracy: 0.7442\n",
            "Epoch 23/120\n",
            "6/6 [==============================] - 0s 5ms/step - loss: 0.5190 - accuracy: 0.7407\n",
            "Epoch 24/120\n",
            "6/6 [==============================] - 0s 5ms/step - loss: 0.5145 - accuracy: 0.7500\n",
            "Epoch 25/120\n",
            "6/6 [==============================] - 0s 5ms/step - loss: 0.5122 - accuracy: 0.7525\n",
            "Epoch 26/120\n",
            "6/6 [==============================] - 0s 5ms/step - loss: 0.5108 - accuracy: 0.7482\n",
            "Epoch 27/120\n",
            "6/6 [==============================] - 0s 5ms/step - loss: 0.5100 - accuracy: 0.7487\n",
            "Epoch 28/120\n",
            "6/6 [==============================] - 0s 5ms/step - loss: 0.5082 - accuracy: 0.7439\n",
            "Epoch 29/120\n",
            "6/6 [==============================] - 0s 5ms/step - loss: 0.5076 - accuracy: 0.7469\n",
            "Epoch 30/120\n",
            "6/6 [==============================] - 0s 5ms/step - loss: 0.5111 - accuracy: 0.7463\n",
            "Epoch 31/120\n",
            "6/6 [==============================] - 0s 7ms/step - loss: 0.5058 - accuracy: 0.7487\n",
            "Epoch 32/120\n",
            "6/6 [==============================] - 0s 5ms/step - loss: 0.5042 - accuracy: 0.7523\n",
            "Epoch 33/120\n",
            "6/6 [==============================] - 0s 6ms/step - loss: 0.5037 - accuracy: 0.7463\n",
            "Epoch 34/120\n",
            "6/6 [==============================] - 0s 5ms/step - loss: 0.5044 - accuracy: 0.7484\n",
            "Epoch 35/120\n",
            "6/6 [==============================] - 0s 5ms/step - loss: 0.5003 - accuracy: 0.7500\n",
            "Epoch 36/120\n",
            "6/6 [==============================] - 0s 5ms/step - loss: 0.5019 - accuracy: 0.7499\n",
            "Epoch 37/120\n",
            "6/6 [==============================] - 0s 5ms/step - loss: 0.4988 - accuracy: 0.7517\n",
            "Epoch 38/120\n",
            "6/6 [==============================] - 0s 5ms/step - loss: 0.5013 - accuracy: 0.7542\n",
            "Epoch 39/120\n",
            "6/6 [==============================] - 0s 5ms/step - loss: 0.4985 - accuracy: 0.7534\n",
            "Epoch 40/120\n",
            "6/6 [==============================] - 0s 5ms/step - loss: 0.4982 - accuracy: 0.7549\n",
            "Epoch 41/120\n",
            "6/6 [==============================] - 0s 5ms/step - loss: 0.4992 - accuracy: 0.7521\n",
            "Epoch 42/120\n",
            "6/6 [==============================] - 0s 5ms/step - loss: 0.5009 - accuracy: 0.7517\n",
            "Epoch 43/120\n",
            "6/6 [==============================] - 0s 5ms/step - loss: 0.4979 - accuracy: 0.7581\n",
            "Epoch 44/120\n",
            "6/6 [==============================] - 0s 5ms/step - loss: 0.4983 - accuracy: 0.7555\n",
            "Epoch 45/120\n",
            "6/6 [==============================] - 0s 6ms/step - loss: 0.4948 - accuracy: 0.7589\n",
            "Epoch 46/120\n",
            "6/6 [==============================] - 0s 5ms/step - loss: 0.4960 - accuracy: 0.7542\n",
            "Epoch 47/120\n",
            "6/6 [==============================] - 0s 5ms/step - loss: 0.4963 - accuracy: 0.7561\n",
            "Epoch 48/120\n",
            "6/6 [==============================] - 0s 5ms/step - loss: 0.4949 - accuracy: 0.7604\n",
            "Epoch 49/120\n",
            "6/6 [==============================] - 0s 5ms/step - loss: 0.4971 - accuracy: 0.7555\n",
            "Epoch 50/120\n",
            "6/6 [==============================] - 0s 5ms/step - loss: 0.4918 - accuracy: 0.7621\n",
            "Epoch 51/120\n",
            "6/6 [==============================] - 0s 5ms/step - loss: 0.4893 - accuracy: 0.7592\n",
            "Epoch 52/120\n",
            "6/6 [==============================] - 0s 5ms/step - loss: 0.4950 - accuracy: 0.7544\n",
            "Epoch 53/120\n",
            "6/6 [==============================] - 0s 5ms/step - loss: 0.4904 - accuracy: 0.7626\n",
            "Epoch 54/120\n",
            "6/6 [==============================] - 0s 5ms/step - loss: 0.4941 - accuracy: 0.7632\n",
            "Epoch 55/120\n",
            "6/6 [==============================] - 0s 6ms/step - loss: 0.4918 - accuracy: 0.7637\n",
            "Epoch 56/120\n",
            "6/6 [==============================] - 0s 5ms/step - loss: 0.4888 - accuracy: 0.7647\n",
            "Epoch 57/120\n",
            "6/6 [==============================] - 0s 5ms/step - loss: 0.4892 - accuracy: 0.7596\n",
            "Epoch 58/120\n",
            "6/6 [==============================] - 0s 5ms/step - loss: 0.4914 - accuracy: 0.7596\n",
            "Epoch 59/120\n",
            "6/6 [==============================] - 0s 5ms/step - loss: 0.4872 - accuracy: 0.7604\n",
            "Epoch 60/120\n",
            "6/6 [==============================] - 0s 5ms/step - loss: 0.4914 - accuracy: 0.7561\n",
            "Epoch 61/120\n",
            "6/6 [==============================] - 0s 5ms/step - loss: 0.4855 - accuracy: 0.7637\n",
            "Epoch 62/120\n",
            "6/6 [==============================] - 0s 5ms/step - loss: 0.4871 - accuracy: 0.7604\n",
            "Epoch 63/120\n",
            "6/6 [==============================] - 0s 5ms/step - loss: 0.4844 - accuracy: 0.7658\n",
            "Epoch 64/120\n",
            "6/6 [==============================] - 0s 5ms/step - loss: 0.4868 - accuracy: 0.7641\n",
            "Epoch 65/120\n",
            "6/6 [==============================] - 0s 5ms/step - loss: 0.4844 - accuracy: 0.7624\n",
            "Epoch 66/120\n",
            "6/6 [==============================] - 0s 5ms/step - loss: 0.4857 - accuracy: 0.7645\n",
            "Epoch 67/120\n",
            "6/6 [==============================] - 0s 5ms/step - loss: 0.4891 - accuracy: 0.7617\n",
            "Epoch 68/120\n",
            "6/6 [==============================] - 0s 5ms/step - loss: 0.4904 - accuracy: 0.7647\n",
            "Epoch 69/120\n",
            "6/6 [==============================] - 0s 5ms/step - loss: 0.4812 - accuracy: 0.7667\n",
            "Epoch 70/120\n",
            "6/6 [==============================] - 0s 5ms/step - loss: 0.4824 - accuracy: 0.7604\n",
            "Epoch 71/120\n",
            "6/6 [==============================] - 0s 5ms/step - loss: 0.4844 - accuracy: 0.7607\n",
            "Epoch 72/120\n",
            "6/6 [==============================] - 0s 5ms/step - loss: 0.4805 - accuracy: 0.7639\n",
            "Epoch 73/120\n",
            "6/6 [==============================] - 0s 5ms/step - loss: 0.4819 - accuracy: 0.7658\n",
            "Epoch 74/120\n",
            "6/6 [==============================] - 0s 5ms/step - loss: 0.4818 - accuracy: 0.7701\n",
            "Epoch 75/120\n",
            "6/6 [==============================] - 0s 5ms/step - loss: 0.4818 - accuracy: 0.7615\n",
            "Epoch 76/120\n",
            "6/6 [==============================] - 0s 5ms/step - loss: 0.4782 - accuracy: 0.7694\n",
            "Epoch 77/120\n",
            "6/6 [==============================] - 0s 5ms/step - loss: 0.4735 - accuracy: 0.7703\n",
            "Epoch 78/120\n",
            "6/6 [==============================] - 0s 5ms/step - loss: 0.4815 - accuracy: 0.7630\n",
            "Epoch 79/120\n",
            "6/6 [==============================] - 0s 6ms/step - loss: 0.4818 - accuracy: 0.7694\n",
            "Epoch 80/120\n",
            "6/6 [==============================] - 0s 5ms/step - loss: 0.4788 - accuracy: 0.7682\n",
            "Epoch 81/120\n",
            "6/6 [==============================] - 0s 5ms/step - loss: 0.4835 - accuracy: 0.7624\n",
            "Epoch 82/120\n",
            "6/6 [==============================] - 0s 5ms/step - loss: 0.4804 - accuracy: 0.7705\n",
            "Epoch 83/120\n",
            "6/6 [==============================] - 0s 5ms/step - loss: 0.4802 - accuracy: 0.7645\n",
            "Epoch 84/120\n",
            "6/6 [==============================] - 0s 5ms/step - loss: 0.4793 - accuracy: 0.7647\n",
            "Epoch 85/120\n",
            "6/6 [==============================] - 0s 5ms/step - loss: 0.4796 - accuracy: 0.7692\n",
            "Epoch 86/120\n",
            "6/6 [==============================] - 0s 6ms/step - loss: 0.4758 - accuracy: 0.7733\n",
            "Epoch 87/120\n",
            "6/6 [==============================] - 0s 5ms/step - loss: 0.4799 - accuracy: 0.7718\n",
            "Epoch 88/120\n",
            "6/6 [==============================] - 0s 5ms/step - loss: 0.4762 - accuracy: 0.7726\n",
            "Epoch 89/120\n",
            "6/6 [==============================] - 0s 5ms/step - loss: 0.4798 - accuracy: 0.7688\n",
            "Epoch 90/120\n",
            "6/6 [==============================] - 0s 5ms/step - loss: 0.4816 - accuracy: 0.7641\n",
            "Epoch 91/120\n",
            "6/6 [==============================] - 0s 5ms/step - loss: 0.4793 - accuracy: 0.7688\n",
            "Epoch 92/120\n",
            "6/6 [==============================] - 0s 5ms/step - loss: 0.4728 - accuracy: 0.7743\n",
            "Epoch 93/120\n",
            "6/6 [==============================] - 0s 5ms/step - loss: 0.4767 - accuracy: 0.7724\n",
            "Epoch 94/120\n",
            "6/6 [==============================] - 0s 6ms/step - loss: 0.4731 - accuracy: 0.7696\n",
            "Epoch 95/120\n",
            "6/6 [==============================] - 0s 5ms/step - loss: 0.4774 - accuracy: 0.7698\n",
            "Epoch 96/120\n",
            "6/6 [==============================] - 0s 5ms/step - loss: 0.4781 - accuracy: 0.7699\n",
            "Epoch 97/120\n",
            "6/6 [==============================] - 0s 5ms/step - loss: 0.4755 - accuracy: 0.7713\n",
            "Epoch 98/120\n",
            "6/6 [==============================] - 0s 5ms/step - loss: 0.4735 - accuracy: 0.7739\n",
            "Epoch 99/120\n",
            "6/6 [==============================] - 0s 5ms/step - loss: 0.4748 - accuracy: 0.7724\n",
            "Epoch 100/120\n",
            "6/6 [==============================] - 0s 5ms/step - loss: 0.4751 - accuracy: 0.7716\n",
            "Epoch 101/120\n",
            "6/6 [==============================] - 0s 6ms/step - loss: 0.4679 - accuracy: 0.7692\n",
            "Epoch 102/120\n",
            "6/6 [==============================] - 0s 5ms/step - loss: 0.4762 - accuracy: 0.7720\n",
            "Epoch 103/120\n",
            "6/6 [==============================] - 0s 5ms/step - loss: 0.4696 - accuracy: 0.7759\n",
            "Epoch 104/120\n",
            "6/6 [==============================] - 0s 6ms/step - loss: 0.4696 - accuracy: 0.7720\n",
            "Epoch 105/120\n",
            "6/6 [==============================] - 0s 5ms/step - loss: 0.4727 - accuracy: 0.7735\n",
            "Epoch 106/120\n",
            "6/6 [==============================] - 0s 5ms/step - loss: 0.4736 - accuracy: 0.7750\n",
            "Epoch 107/120\n",
            "6/6 [==============================] - 0s 5ms/step - loss: 0.4754 - accuracy: 0.7662\n",
            "Epoch 108/120\n",
            "6/6 [==============================] - 0s 5ms/step - loss: 0.4696 - accuracy: 0.7754\n",
            "Epoch 109/120\n",
            "6/6 [==============================] - 0s 6ms/step - loss: 0.4680 - accuracy: 0.7791\n",
            "Epoch 110/120\n",
            "6/6 [==============================] - 0s 5ms/step - loss: 0.4710 - accuracy: 0.7771\n",
            "Epoch 111/120\n",
            "6/6 [==============================] - 0s 5ms/step - loss: 0.4694 - accuracy: 0.7748\n",
            "Epoch 112/120\n",
            "6/6 [==============================] - 0s 5ms/step - loss: 0.4689 - accuracy: 0.7726\n",
            "Epoch 113/120\n",
            "6/6 [==============================] - 0s 5ms/step - loss: 0.4694 - accuracy: 0.7771\n",
            "Epoch 114/120\n",
            "6/6 [==============================] - 0s 5ms/step - loss: 0.4693 - accuracy: 0.7769\n",
            "Epoch 115/120\n",
            "6/6 [==============================] - 0s 4ms/step - loss: 0.4683 - accuracy: 0.7752\n",
            "Epoch 116/120\n",
            "6/6 [==============================] - 0s 4ms/step - loss: 0.4674 - accuracy: 0.7780\n",
            "Epoch 117/120\n",
            "6/6 [==============================] - 0s 5ms/step - loss: 0.4648 - accuracy: 0.7795\n",
            "Epoch 118/120\n",
            "6/6 [==============================] - 0s 5ms/step - loss: 0.4667 - accuracy: 0.7816\n",
            "Epoch 119/120\n",
            "6/6 [==============================] - 0s 4ms/step - loss: 0.4657 - accuracy: 0.7776\n",
            "Epoch 120/120\n",
            "6/6 [==============================] - 0s 5ms/step - loss: 0.4671 - accuracy: 0.7774\n"
          ],
          "name": "stdout"
        }
      ]
    },
    {
      "cell_type": "code",
      "metadata": {
        "id": "KuY4c8Tdm-7F",
        "colab_type": "code",
        "colab": {
          "base_uri": "https://localhost:8080/",
          "height": 52
        },
        "outputId": "b8051f66-6ff3-4ed4-9e5a-8772c504f27d"
      },
      "source": [
        "# EVALUAMOS CON EL SET DE VALIDACION\n",
        "loss, precision = model.evaluate(validation_text_embedded, validation_y)\n",
        "print('Precisión: %.2f' % (precision*100))"
      ],
      "execution_count": 157,
      "outputs": [
        {
          "output_type": "stream",
          "text": [
            "72/72 [==============================] - 0s 1ms/step - loss: 0.4921 - accuracy: 0.7763\n",
            "Precisión: 77.63\n"
          ],
          "name": "stdout"
        }
      ]
    },
    {
      "cell_type": "code",
      "metadata": {
        "id": "XCZCJYPK_sLL",
        "colab_type": "code",
        "colab": {
          "base_uri": "https://localhost:8080/",
          "height": 1000
        },
        "outputId": "f85c5c66-a020-43fd-824d-61ee6865c3ca"
      },
      "source": [
        "# SE REENTRENA CON EL SET COMPLETO\n",
        "\n",
        "model.load_weights('model.h5') #se resetea el entrenamiento previo\n",
        "\n",
        "train_complete_text_list = np.asarray(train_df['text'])\n",
        "train_complete_text_embedded = hub_layer(train_complete_text_list)\n",
        "train_complete_text_embedded = train_complete_text_embedded.numpy()\n",
        "\n",
        "history = model.fit(train_complete_text_embedded, target_df, batch_size = 1024,\n",
        "                   epochs = 100,\n",
        "                   verbose = 1)"
      ],
      "execution_count": 70,
      "outputs": [
        {
          "output_type": "stream",
          "text": [
            "Epoch 1/100\n",
            "8/8 [==============================] - 0s 6ms/step - loss: 0.7608 - accuracy: 0.5753\n",
            "Epoch 2/100\n",
            "8/8 [==============================] - 0s 5ms/step - loss: 0.5933 - accuracy: 0.6632\n",
            "Epoch 3/100\n",
            "8/8 [==============================] - 0s 5ms/step - loss: 0.5522 - accuracy: 0.7238\n",
            "Epoch 4/100\n",
            "8/8 [==============================] - 0s 5ms/step - loss: 0.5358 - accuracy: 0.7357\n",
            "Epoch 5/100\n",
            "8/8 [==============================] - 0s 5ms/step - loss: 0.5332 - accuracy: 0.7418\n",
            "Epoch 6/100\n",
            "8/8 [==============================] - 0s 6ms/step - loss: 0.5249 - accuracy: 0.7458\n",
            "Epoch 7/100\n",
            "8/8 [==============================] - 0s 5ms/step - loss: 0.5211 - accuracy: 0.7445\n",
            "Epoch 8/100\n",
            "8/8 [==============================] - 0s 5ms/step - loss: 0.5197 - accuracy: 0.7470\n",
            "Epoch 9/100\n",
            "8/8 [==============================] - 0s 5ms/step - loss: 0.5123 - accuracy: 0.7504\n",
            "Epoch 10/100\n",
            "8/8 [==============================] - 0s 5ms/step - loss: 0.5111 - accuracy: 0.7549\n",
            "Epoch 11/100\n",
            "8/8 [==============================] - 0s 5ms/step - loss: 0.5074 - accuracy: 0.7544\n",
            "Epoch 12/100\n",
            "8/8 [==============================] - 0s 5ms/step - loss: 0.5088 - accuracy: 0.7492\n",
            "Epoch 13/100\n",
            "8/8 [==============================] - 0s 5ms/step - loss: 0.5119 - accuracy: 0.7512\n",
            "Epoch 14/100\n",
            "8/8 [==============================] - 0s 5ms/step - loss: 0.5060 - accuracy: 0.7557\n",
            "Epoch 15/100\n",
            "8/8 [==============================] - 0s 5ms/step - loss: 0.5035 - accuracy: 0.7554\n",
            "Epoch 16/100\n",
            "8/8 [==============================] - 0s 6ms/step - loss: 0.5051 - accuracy: 0.7566\n",
            "Epoch 17/100\n",
            "8/8 [==============================] - 0s 5ms/step - loss: 0.5002 - accuracy: 0.7575\n",
            "Epoch 18/100\n",
            "8/8 [==============================] - 0s 5ms/step - loss: 0.5025 - accuracy: 0.7594\n",
            "Epoch 19/100\n",
            "8/8 [==============================] - 0s 6ms/step - loss: 0.5036 - accuracy: 0.7586\n",
            "Epoch 20/100\n",
            "8/8 [==============================] - 0s 7ms/step - loss: 0.5009 - accuracy: 0.7628\n",
            "Epoch 21/100\n",
            "8/8 [==============================] - 0s 5ms/step - loss: 0.4971 - accuracy: 0.7611\n",
            "Epoch 22/100\n",
            "8/8 [==============================] - 0s 5ms/step - loss: 0.4980 - accuracy: 0.7604\n",
            "Epoch 23/100\n",
            "8/8 [==============================] - 0s 5ms/step - loss: 0.4957 - accuracy: 0.7611\n",
            "Epoch 24/100\n",
            "8/8 [==============================] - 0s 5ms/step - loss: 0.4956 - accuracy: 0.7615\n",
            "Epoch 25/100\n",
            "8/8 [==============================] - 0s 6ms/step - loss: 0.4963 - accuracy: 0.7603\n",
            "Epoch 26/100\n",
            "8/8 [==============================] - 0s 5ms/step - loss: 0.4996 - accuracy: 0.7595\n",
            "Epoch 27/100\n",
            "8/8 [==============================] - 0s 5ms/step - loss: 0.4950 - accuracy: 0.7653\n",
            "Epoch 28/100\n",
            "8/8 [==============================] - 0s 6ms/step - loss: 0.4936 - accuracy: 0.7632\n",
            "Epoch 29/100\n",
            "8/8 [==============================] - 0s 6ms/step - loss: 0.4932 - accuracy: 0.7619\n",
            "Epoch 30/100\n",
            "8/8 [==============================] - 0s 5ms/step - loss: 0.4919 - accuracy: 0.7638\n",
            "Epoch 31/100\n",
            "8/8 [==============================] - 0s 5ms/step - loss: 0.4894 - accuracy: 0.7644\n",
            "Epoch 32/100\n",
            "8/8 [==============================] - 0s 5ms/step - loss: 0.4922 - accuracy: 0.7604\n",
            "Epoch 33/100\n",
            "8/8 [==============================] - 0s 5ms/step - loss: 0.4912 - accuracy: 0.7640\n",
            "Epoch 34/100\n",
            "8/8 [==============================] - 0s 5ms/step - loss: 0.4902 - accuracy: 0.7621\n",
            "Epoch 35/100\n",
            "8/8 [==============================] - 0s 6ms/step - loss: 0.4915 - accuracy: 0.7628\n",
            "Epoch 36/100\n",
            "8/8 [==============================] - 0s 5ms/step - loss: 0.4905 - accuracy: 0.7640\n",
            "Epoch 37/100\n",
            "8/8 [==============================] - 0s 5ms/step - loss: 0.4878 - accuracy: 0.7663\n",
            "Epoch 38/100\n",
            "8/8 [==============================] - 0s 7ms/step - loss: 0.4875 - accuracy: 0.7693\n",
            "Epoch 39/100\n",
            "8/8 [==============================] - 0s 6ms/step - loss: 0.4880 - accuracy: 0.7641\n",
            "Epoch 40/100\n",
            "8/8 [==============================] - 0s 5ms/step - loss: 0.4898 - accuracy: 0.7646\n",
            "Epoch 41/100\n",
            "8/8 [==============================] - 0s 5ms/step - loss: 0.4855 - accuracy: 0.7658\n",
            "Epoch 42/100\n",
            "8/8 [==============================] - 0s 5ms/step - loss: 0.4853 - accuracy: 0.7647\n",
            "Epoch 43/100\n",
            "8/8 [==============================] - 0s 5ms/step - loss: 0.4877 - accuracy: 0.7671\n",
            "Epoch 44/100\n",
            "8/8 [==============================] - 0s 6ms/step - loss: 0.4873 - accuracy: 0.7647\n",
            "Epoch 45/100\n",
            "8/8 [==============================] - 0s 5ms/step - loss: 0.4838 - accuracy: 0.7667\n",
            "Epoch 46/100\n",
            "8/8 [==============================] - 0s 6ms/step - loss: 0.4828 - accuracy: 0.7688\n",
            "Epoch 47/100\n",
            "8/8 [==============================] - 0s 6ms/step - loss: 0.4829 - accuracy: 0.7695\n",
            "Epoch 48/100\n",
            "8/8 [==============================] - 0s 5ms/step - loss: 0.4808 - accuracy: 0.7691\n",
            "Epoch 49/100\n",
            "8/8 [==============================] - 0s 5ms/step - loss: 0.4836 - accuracy: 0.7745\n",
            "Epoch 50/100\n",
            "8/8 [==============================] - 0s 5ms/step - loss: 0.4813 - accuracy: 0.7708\n",
            "Epoch 51/100\n",
            "8/8 [==============================] - 0s 5ms/step - loss: 0.4810 - accuracy: 0.7675\n",
            "Epoch 52/100\n",
            "8/8 [==============================] - 0s 5ms/step - loss: 0.4818 - accuracy: 0.7693\n",
            "Epoch 53/100\n",
            "8/8 [==============================] - 0s 6ms/step - loss: 0.4839 - accuracy: 0.7658\n",
            "Epoch 54/100\n",
            "8/8 [==============================] - 0s 6ms/step - loss: 0.4802 - accuracy: 0.7724\n",
            "Epoch 55/100\n",
            "8/8 [==============================] - 0s 5ms/step - loss: 0.4822 - accuracy: 0.7647\n",
            "Epoch 56/100\n",
            "8/8 [==============================] - 0s 5ms/step - loss: 0.4771 - accuracy: 0.7726\n",
            "Epoch 57/100\n",
            "8/8 [==============================] - 0s 5ms/step - loss: 0.4777 - accuracy: 0.7739\n",
            "Epoch 58/100\n",
            "8/8 [==============================] - 0s 5ms/step - loss: 0.4797 - accuracy: 0.7680\n",
            "Epoch 59/100\n",
            "8/8 [==============================] - 0s 5ms/step - loss: 0.4775 - accuracy: 0.7722\n",
            "Epoch 60/100\n",
            "8/8 [==============================] - 0s 6ms/step - loss: 0.4756 - accuracy: 0.7734\n",
            "Epoch 61/100\n",
            "8/8 [==============================] - 0s 5ms/step - loss: 0.4777 - accuracy: 0.7704\n",
            "Epoch 62/100\n",
            "8/8 [==============================] - 0s 6ms/step - loss: 0.4773 - accuracy: 0.7720\n",
            "Epoch 63/100\n",
            "8/8 [==============================] - 0s 6ms/step - loss: 0.4744 - accuracy: 0.7735\n",
            "Epoch 64/100\n",
            "8/8 [==============================] - 0s 5ms/step - loss: 0.4765 - accuracy: 0.7704\n",
            "Epoch 65/100\n",
            "8/8 [==============================] - 0s 6ms/step - loss: 0.4725 - accuracy: 0.7704\n",
            "Epoch 66/100\n",
            "8/8 [==============================] - 0s 6ms/step - loss: 0.4758 - accuracy: 0.7739\n",
            "Epoch 67/100\n",
            "8/8 [==============================] - 0s 6ms/step - loss: 0.4732 - accuracy: 0.7760\n",
            "Epoch 68/100\n",
            "8/8 [==============================] - 0s 6ms/step - loss: 0.4739 - accuracy: 0.7755\n",
            "Epoch 69/100\n",
            "8/8 [==============================] - 0s 5ms/step - loss: 0.4708 - accuracy: 0.7763\n",
            "Epoch 70/100\n",
            "8/8 [==============================] - 0s 5ms/step - loss: 0.4727 - accuracy: 0.7745\n",
            "Epoch 71/100\n",
            "8/8 [==============================] - 0s 5ms/step - loss: 0.4728 - accuracy: 0.7732\n",
            "Epoch 72/100\n",
            "8/8 [==============================] - 0s 5ms/step - loss: 0.4707 - accuracy: 0.7750\n",
            "Epoch 73/100\n",
            "8/8 [==============================] - 0s 5ms/step - loss: 0.4714 - accuracy: 0.7747\n",
            "Epoch 74/100\n",
            "8/8 [==============================] - 0s 6ms/step - loss: 0.4728 - accuracy: 0.7749\n",
            "Epoch 75/100\n",
            "8/8 [==============================] - 0s 5ms/step - loss: 0.4725 - accuracy: 0.7756\n",
            "Epoch 76/100\n",
            "8/8 [==============================] - 0s 6ms/step - loss: 0.4709 - accuracy: 0.7779\n",
            "Epoch 77/100\n",
            "8/8 [==============================] - 0s 6ms/step - loss: 0.4727 - accuracy: 0.7720\n",
            "Epoch 78/100\n",
            "8/8 [==============================] - 0s 5ms/step - loss: 0.4685 - accuracy: 0.7784\n",
            "Epoch 79/100\n",
            "8/8 [==============================] - 0s 5ms/step - loss: 0.4693 - accuracy: 0.7758\n",
            "Epoch 80/100\n",
            "8/8 [==============================] - 0s 5ms/step - loss: 0.4668 - accuracy: 0.7766\n",
            "Epoch 81/100\n",
            "8/8 [==============================] - 0s 8ms/step - loss: 0.4696 - accuracy: 0.7745\n",
            "Epoch 82/100\n",
            "8/8 [==============================] - 0s 6ms/step - loss: 0.4680 - accuracy: 0.7816\n",
            "Epoch 83/100\n",
            "8/8 [==============================] - 0s 5ms/step - loss: 0.4665 - accuracy: 0.7797\n",
            "Epoch 84/100\n",
            "8/8 [==============================] - 0s 5ms/step - loss: 0.4673 - accuracy: 0.7753\n",
            "Epoch 85/100\n",
            "8/8 [==============================] - 0s 5ms/step - loss: 0.4644 - accuracy: 0.7787\n",
            "Epoch 86/100\n",
            "8/8 [==============================] - 0s 5ms/step - loss: 0.4654 - accuracy: 0.7788\n",
            "Epoch 87/100\n",
            "8/8 [==============================] - 0s 6ms/step - loss: 0.4641 - accuracy: 0.7781\n",
            "Epoch 88/100\n",
            "8/8 [==============================] - 0s 6ms/step - loss: 0.4627 - accuracy: 0.7814\n",
            "Epoch 89/100\n",
            "8/8 [==============================] - 0s 5ms/step - loss: 0.4602 - accuracy: 0.7822\n",
            "Epoch 90/100\n",
            "8/8 [==============================] - 0s 5ms/step - loss: 0.4648 - accuracy: 0.7801\n",
            "Epoch 91/100\n",
            "8/8 [==============================] - 0s 5ms/step - loss: 0.4623 - accuracy: 0.7820\n",
            "Epoch 92/100\n",
            "8/8 [==============================] - 0s 5ms/step - loss: 0.4657 - accuracy: 0.7793\n",
            "Epoch 93/100\n",
            "8/8 [==============================] - 0s 6ms/step - loss: 0.4602 - accuracy: 0.7838\n",
            "Epoch 94/100\n",
            "8/8 [==============================] - 0s 6ms/step - loss: 0.4626 - accuracy: 0.7800\n",
            "Epoch 95/100\n",
            "8/8 [==============================] - 0s 6ms/step - loss: 0.4641 - accuracy: 0.7767\n",
            "Epoch 96/100\n",
            "8/8 [==============================] - 0s 5ms/step - loss: 0.4616 - accuracy: 0.7816\n",
            "Epoch 97/100\n",
            "8/8 [==============================] - 0s 5ms/step - loss: 0.4611 - accuracy: 0.7779\n",
            "Epoch 98/100\n",
            "8/8 [==============================] - 0s 5ms/step - loss: 0.4628 - accuracy: 0.7799\n",
            "Epoch 99/100\n",
            "8/8 [==============================] - 0s 6ms/step - loss: 0.4565 - accuracy: 0.7788\n",
            "Epoch 100/100\n",
            "8/8 [==============================] - 0s 5ms/step - loss: 0.4579 - accuracy: 0.7833\n"
          ],
          "name": "stdout"
        }
      ]
    },
    {
      "cell_type": "code",
      "metadata": {
        "id": "wpAEhLQGySbR",
        "colab_type": "code",
        "colab": {
          "base_uri": "https://localhost:8080/",
          "height": 139
        },
        "outputId": "7157eacb-818b-48c2-90f6-a637f1a6733a"
      },
      "source": [
        "# ARMAMOS LA PREDICCIÓN\n",
        "\n",
        "text_complete_text_list = np.asarray(test_df['text'])\n",
        "test_complete_text_embedded = hub_layer(text_complete_text_list)\n",
        "test_complete_text_embedded = test_complete_text_embedded.numpy()\n",
        "\n",
        "prediction = (model.predict(test_complete_text_embedded) > 0.5).astype(\"int32\")\n",
        "prediction"
      ],
      "execution_count": 29,
      "outputs": [
        {
          "output_type": "execute_result",
          "data": {
            "text/plain": [
              "array([[1],\n",
              "       [1],\n",
              "       [1],\n",
              "       ...,\n",
              "       [0],\n",
              "       [1],\n",
              "       [1]], dtype=int32)"
            ]
          },
          "metadata": {
            "tags": []
          },
          "execution_count": 29
        }
      ]
    },
    {
      "cell_type": "code",
      "metadata": {
        "id": "KkSvLRovz4i-",
        "colab_type": "code",
        "colab": {
          "base_uri": "https://localhost:8080/",
          "height": 17
        },
        "outputId": "797bdef6-7211-4461-f851-22e55739f531"
      },
      "source": [
        "# EXPORTAMOS EL CSV EN EL FORMATO QUE PIDE KAGGLE\n",
        "test_df['target'] = prediction\n",
        "export = pd.DataFrame()\n",
        "export['id'] = test_df['id']\n",
        "export['target'] = test_df['target']\n",
        "export = export.set_index('id')\n",
        "export.to_csv('submit.csv')\n",
        "files.download('submit.csv')"
      ],
      "execution_count": 30,
      "outputs": [
        {
          "output_type": "display_data",
          "data": {
            "application/javascript": [
              "\n",
              "    async function download(id, filename, size) {\n",
              "      if (!google.colab.kernel.accessAllowed) {\n",
              "        return;\n",
              "      }\n",
              "      const div = document.createElement('div');\n",
              "      const label = document.createElement('label');\n",
              "      label.textContent = `Downloading \"${filename}\": `;\n",
              "      div.appendChild(label);\n",
              "      const progress = document.createElement('progress');\n",
              "      progress.max = size;\n",
              "      div.appendChild(progress);\n",
              "      document.body.appendChild(div);\n",
              "\n",
              "      const buffers = [];\n",
              "      let downloaded = 0;\n",
              "\n",
              "      const channel = await google.colab.kernel.comms.open(id);\n",
              "      // Send a message to notify the kernel that we're ready.\n",
              "      channel.send({})\n",
              "\n",
              "      for await (const message of channel.messages) {\n",
              "        // Send a message to notify the kernel that we're ready.\n",
              "        channel.send({})\n",
              "        if (message.buffers) {\n",
              "          for (const buffer of message.buffers) {\n",
              "            buffers.push(buffer);\n",
              "            downloaded += buffer.byteLength;\n",
              "            progress.value = downloaded;\n",
              "          }\n",
              "        }\n",
              "      }\n",
              "      const blob = new Blob(buffers, {type: 'application/binary'});\n",
              "      const a = document.createElement('a');\n",
              "      a.href = window.URL.createObjectURL(blob);\n",
              "      a.download = filename;\n",
              "      div.appendChild(a);\n",
              "      a.click();\n",
              "      div.remove();\n",
              "    }\n",
              "  "
            ],
            "text/plain": [
              "<IPython.core.display.Javascript object>"
            ]
          },
          "metadata": {
            "tags": []
          }
        },
        {
          "output_type": "display_data",
          "data": {
            "application/javascript": [
              "download(\"download_b60f5b2d-1529-4457-87c6-ae932f3f5914\", \"submit.csv\", 22746)"
            ],
            "text/plain": [
              "<IPython.core.display.Javascript object>"
            ]
          },
          "metadata": {
            "tags": []
          }
        }
      ]
    }
  ]
}