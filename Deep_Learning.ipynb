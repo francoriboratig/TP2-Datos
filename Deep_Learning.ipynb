{
  "nbformat": 4,
  "nbformat_minor": 0,
  "metadata": {
    "kernelspec": {
      "display_name": "Python 3",
      "language": "python",
      "name": "python3"
    },
    "colab": {
      "name": "Deep Learning.ipynb",
      "provenance": [],
      "collapsed_sections": [],
      "include_colab_link": true
    }
  },
  "cells": [
    {
      "cell_type": "markdown",
      "metadata": {
        "id": "view-in-github",
        "colab_type": "text"
      },
      "source": [
        "<a href=\"https://colab.research.google.com/github/francoriboratig/TP2-Datos/blob/master/Deep_Learning.ipynb\" target=\"_parent\"><img src=\"https://colab.research.google.com/assets/colab-badge.svg\" alt=\"Open In Colab\"/></a>"
      ]
    },
    {
      "cell_type": "code",
      "metadata": {
        "id": "UnszrQbpKjPK",
        "colab_type": "code",
        "colab": {
          "base_uri": "https://localhost:8080/",
          "height": 204
        },
        "outputId": "d4225bda-fada-4613-afe6-c17cbfc09af4"
      },
      "source": [
        "import pandas as pd\n",
        "import numpy as np\n",
        "import matplotlib.pyplot as plt\n",
        "import keras as krs\n",
        "import tensorflow as tsf\n",
        "from sklearn.preprocessing import StandardScaler\n",
        "from keras.preprocessing.text import Tokenizer\n",
        "from keras.layers import Conv1D,Conv2D,MaxPooling2D\n",
        "from sklearn import model_selection\n",
        "from sklearn.feature_extraction.text import CountVectorizer\n",
        "from sklearn.model_selection import train_test_split\n",
        "from sklearn.naive_bayes import MultinomialNB\n",
        "from sklearn import metrics\n",
        "import itertools\n",
        "\n",
        "\n",
        "url1 = 'https://raw.githubusercontent.com/francoriboratig/TP2-Datos/master/train-featuresB.csv'\n",
        "url2 = 'https://raw.githubusercontent.com/francoriboratig/TP2-Datos/master/test-featuresB.csv'\n",
        "\n",
        "train = pd.read_csv(url1)\n",
        "test = pd.read_csv(url2)\n",
        "\n",
        "train.head(5)"
      ],
      "execution_count": 35,
      "outputs": [
        {
          "output_type": "execute_result",
          "data": {
            "text/html": [
              "<div>\n",
              "<style scoped>\n",
              "    .dataframe tbody tr th:only-of-type {\n",
              "        vertical-align: middle;\n",
              "    }\n",
              "\n",
              "    .dataframe tbody tr th {\n",
              "        vertical-align: top;\n",
              "    }\n",
              "\n",
              "    .dataframe thead th {\n",
              "        text-align: right;\n",
              "    }\n",
              "</style>\n",
              "<table border=\"1\" class=\"dataframe\">\n",
              "  <thead>\n",
              "    <tr style=\"text-align: right;\">\n",
              "      <th></th>\n",
              "      <th>Unnamed: 0</th>\n",
              "      <th>id</th>\n",
              "      <th>keyword</th>\n",
              "      <th>location</th>\n",
              "      <th>text</th>\n",
              "      <th>target</th>\n",
              "    </tr>\n",
              "  </thead>\n",
              "  <tbody>\n",
              "    <tr>\n",
              "      <th>0</th>\n",
              "      <td>0</td>\n",
              "      <td>1</td>\n",
              "      <td>NaN</td>\n",
              "      <td>NaN</td>\n",
              "      <td>deed reason earthquak may allah forgiv us</td>\n",
              "      <td>1</td>\n",
              "    </tr>\n",
              "    <tr>\n",
              "      <th>1</th>\n",
              "      <td>1</td>\n",
              "      <td>4</td>\n",
              "      <td>NaN</td>\n",
              "      <td>NaN</td>\n",
              "      <td>forest fire near la rong sask canada</td>\n",
              "      <td>1</td>\n",
              "    </tr>\n",
              "    <tr>\n",
              "      <th>2</th>\n",
              "      <td>2</td>\n",
              "      <td>5</td>\n",
              "      <td>NaN</td>\n",
              "      <td>NaN</td>\n",
              "      <td>resid ask shelter place notifi offic evacu she...</td>\n",
              "      <td>1</td>\n",
              "    </tr>\n",
              "    <tr>\n",
              "      <th>3</th>\n",
              "      <td>3</td>\n",
              "      <td>6</td>\n",
              "      <td>NaN</td>\n",
              "      <td>NaN</td>\n",
              "      <td>peopl receiv wildfir evacu order california</td>\n",
              "      <td>1</td>\n",
              "    </tr>\n",
              "    <tr>\n",
              "      <th>4</th>\n",
              "      <td>4</td>\n",
              "      <td>7</td>\n",
              "      <td>NaN</td>\n",
              "      <td>NaN</td>\n",
              "      <td>got sent photo rubi alaska smoke wildfir pour ...</td>\n",
              "      <td>1</td>\n",
              "    </tr>\n",
              "  </tbody>\n",
              "</table>\n",
              "</div>"
            ],
            "text/plain": [
              "   Unnamed: 0  id  ...                                               text target\n",
              "0           0   1  ...          deed reason earthquak may allah forgiv us      1\n",
              "1           1   4  ...               forest fire near la rong sask canada      1\n",
              "2           2   5  ...  resid ask shelter place notifi offic evacu she...      1\n",
              "3           3   6  ...        peopl receiv wildfir evacu order california      1\n",
              "4           4   7  ...  got sent photo rubi alaska smoke wildfir pour ...      1\n",
              "\n",
              "[5 rows x 6 columns]"
            ]
          },
          "metadata": {
            "tags": []
          },
          "execution_count": 35
        }
      ]
    },
    {
      "cell_type": "code",
      "metadata": {
        "id": "1VczEIXh9Fi1",
        "colab_type": "code",
        "colab": {
          "base_uri": "https://localhost:8080/",
          "height": 204
        },
        "outputId": "aebf0afe-a3e2-447e-daf5-bdfc66dd64da"
      },
      "source": [
        "test.head(5)"
      ],
      "execution_count": 36,
      "outputs": [
        {
          "output_type": "execute_result",
          "data": {
            "text/html": [
              "<div>\n",
              "<style scoped>\n",
              "    .dataframe tbody tr th:only-of-type {\n",
              "        vertical-align: middle;\n",
              "    }\n",
              "\n",
              "    .dataframe tbody tr th {\n",
              "        vertical-align: top;\n",
              "    }\n",
              "\n",
              "    .dataframe thead th {\n",
              "        text-align: right;\n",
              "    }\n",
              "</style>\n",
              "<table border=\"1\" class=\"dataframe\">\n",
              "  <thead>\n",
              "    <tr style=\"text-align: right;\">\n",
              "      <th></th>\n",
              "      <th>Unnamed: 0</th>\n",
              "      <th>id</th>\n",
              "      <th>keyword</th>\n",
              "      <th>location</th>\n",
              "      <th>text</th>\n",
              "    </tr>\n",
              "  </thead>\n",
              "  <tbody>\n",
              "    <tr>\n",
              "      <th>0</th>\n",
              "      <td>0</td>\n",
              "      <td>0</td>\n",
              "      <td>NaN</td>\n",
              "      <td>NaN</td>\n",
              "      <td>Just happened a terrible car crash</td>\n",
              "    </tr>\n",
              "    <tr>\n",
              "      <th>1</th>\n",
              "      <td>1</td>\n",
              "      <td>2</td>\n",
              "      <td>NaN</td>\n",
              "      <td>NaN</td>\n",
              "      <td>Heard about #earthquake is different cities, s...</td>\n",
              "    </tr>\n",
              "    <tr>\n",
              "      <th>2</th>\n",
              "      <td>2</td>\n",
              "      <td>3</td>\n",
              "      <td>NaN</td>\n",
              "      <td>NaN</td>\n",
              "      <td>there is a forest fire at spot pond, geese are...</td>\n",
              "    </tr>\n",
              "    <tr>\n",
              "      <th>3</th>\n",
              "      <td>3</td>\n",
              "      <td>9</td>\n",
              "      <td>NaN</td>\n",
              "      <td>NaN</td>\n",
              "      <td>Apocalypse lighting. #Spokane #wildfires</td>\n",
              "    </tr>\n",
              "    <tr>\n",
              "      <th>4</th>\n",
              "      <td>4</td>\n",
              "      <td>11</td>\n",
              "      <td>NaN</td>\n",
              "      <td>NaN</td>\n",
              "      <td>Typhoon Soudelor kills 28 in China and Taiwan</td>\n",
              "    </tr>\n",
              "  </tbody>\n",
              "</table>\n",
              "</div>"
            ],
            "text/plain": [
              "   Unnamed: 0  id  ... location                                               text\n",
              "0           0   0  ...      NaN                 Just happened a terrible car crash\n",
              "1           1   2  ...      NaN  Heard about #earthquake is different cities, s...\n",
              "2           2   3  ...      NaN  there is a forest fire at spot pond, geese are...\n",
              "3           3   9  ...      NaN           Apocalypse lighting. #Spokane #wildfires\n",
              "4           4  11  ...      NaN      Typhoon Soudelor kills 28 in China and Taiwan\n",
              "\n",
              "[5 rows x 5 columns]"
            ]
          },
          "metadata": {
            "tags": []
          },
          "execution_count": 36
        }
      ]
    },
    {
      "cell_type": "code",
      "metadata": {
        "id": "3wXneIUQ8-Xe",
        "colab_type": "code",
        "colab": {
          "base_uri": "https://localhost:8080/",
          "height": 34
        },
        "outputId": "4a4b46f3-1a17-4a57-aeb9-0f19de97b191"
      },
      "source": [
        "data_target = train[['target']]\n",
        "data_train=train.drop(['Unnamed: 0','id', 'keyword', 'location', 'target'],axis = 1)\n",
        "data_test=test.drop(['Unnamed: 0','id', 'keyword', 'location'],axis = 1)\n",
        "\n",
        "#scaler = StandardScaler()\n",
        "#scaler.fit(data_train)\n",
        "\n",
        "#data_train=scaler.transform(data_train)\n",
        "#data_test=scaler.transform(data_test)\n",
        "\n",
        "countV = CountVectorizer(max_features=10000,ngram_range=(1,3))\n",
        "\n",
        "data_train = countV.fit_transform(data_train['text']).toarray()\n",
        "data_train.shape\n"
      ],
      "execution_count": 37,
      "outputs": [
        {
          "output_type": "execute_result",
          "data": {
            "text/plain": [
              "(7613, 10000)"
            ]
          },
          "metadata": {
            "tags": []
          },
          "execution_count": 37
        }
      ]
    },
    {
      "cell_type": "code",
      "metadata": {
        "id": "lMuq3uHBIUGc",
        "colab_type": "code",
        "colab": {}
      },
      "source": [
        "tokenizer = Tokenizer()\n",
        "classifier=MultinomialNB()"
      ],
      "execution_count": 38,
      "outputs": []
    },
    {
      "cell_type": "code",
      "metadata": {
        "id": "gY0YTLCkbffD",
        "colab_type": "code",
        "colab": {}
      },
      "source": [
        "x_train, x_validation, y_train, y_validation = model_selection.train_test_split(data_train, data_target, test_size=0.3, random_state=0)\n",
        "\n",
        "countV.get_params()\n",
        "countVDF = pd.DataFrame(x_train, columns=countV.get_feature_names())\n"
      ],
      "execution_count": 39,
      "outputs": []
    },
    {
      "cell_type": "code",
      "metadata": {
        "id": "BA149PPzgbBX",
        "colab_type": "code",
        "colab": {}
      },
      "source": [
        "\n",
        "#model=krs.Sequential()\n",
        "#model.add(krs.layers.embeddings)\n",
        "#model.add(Conv1D(128, kernel_size=(3),activation='relu'))\n",
        "#model.add(krs.layers.Dense(8, input_dim=2, activation='relu'))\n",
        "#model.add(krs.layers.Dense(8, activation='relu'))\n",
        "#model.add(krs.layers.Dense(2, activation='softmax'))\n",
        "#model.compile(loss='binary_crossentropy', optimizer='adam', metrics=['accuracy'])\n",
        "#model.fit(x_train, y_train, epochs=12, batch_size=128,validation_data=(x_validation,y_validation))"
      ],
      "execution_count": 40,
      "outputs": []
    },
    {
      "cell_type": "code",
      "metadata": {
        "id": "Lrdu-r_7o_YJ",
        "colab_type": "code",
        "colab": {
          "base_uri": "https://localhost:8080/",
          "height": 88
        },
        "outputId": "8c6dea0a-915e-408e-e5c1-1cc22833762a"
      },
      "source": [
        "classifier.fit(x_train, y_train)\n",
        "prediction = classifier.predict(x_validation)\n",
        "prediction"
      ],
      "execution_count": 41,
      "outputs": [
        {
          "output_type": "stream",
          "text": [
            "/usr/local/lib/python3.6/dist-packages/sklearn/utils/validation.py:760: DataConversionWarning: A column-vector y was passed when a 1d array was expected. Please change the shape of y to (n_samples, ), for example using ravel().\n",
            "  y = column_or_1d(y, warn=True)\n"
          ],
          "name": "stderr"
        },
        {
          "output_type": "execute_result",
          "data": {
            "text/plain": [
              "array([0, 0, 1, ..., 1, 1, 1])"
            ]
          },
          "metadata": {
            "tags": []
          },
          "execution_count": 41
        }
      ]
    },
    {
      "cell_type": "code",
      "metadata": {
        "id": "6ndU3rz-IaN2",
        "colab_type": "code",
        "colab": {
          "base_uri": "https://localhost:8080/",
          "height": 34
        },
        "outputId": "33dfbcdf-a738-47c0-8bb3-8454d9cbd42a"
      },
      "source": [
        "accuracy=metrics.accuracy_score(y_validation, prediction)\n",
        "accuracy"
      ],
      "execution_count": 42,
      "outputs": [
        {
          "output_type": "execute_result",
          "data": {
            "text/plain": [
              "0.8086690017513135"
            ]
          },
          "metadata": {
            "tags": []
          },
          "execution_count": 42
        }
      ]
    },
    {
      "cell_type": "code",
      "metadata": {
        "id": "cAul0x2JvNXf",
        "colab_type": "code",
        "colab": {
          "base_uri": "https://localhost:8080/",
          "height": 88
        },
        "outputId": "c3b6fdc6-e470-4234-8841-21d98b27e783"
      },
      "source": [
        "#countV = CountVectorizer(max_features=1,ngram_range=(1,3))\n",
        "\n",
        "#data_test = countV.fit_transform(data_test).toarray()\n",
        "#data_test.shape\n",
        "\n",
        "\n",
        "classifier.fit(data_train, data_target)\n",
        "#prediction = classifier.predict(data_test)"
      ],
      "execution_count": 47,
      "outputs": [
        {
          "output_type": "stream",
          "text": [
            "/usr/local/lib/python3.6/dist-packages/sklearn/utils/validation.py:760: DataConversionWarning: A column-vector y was passed when a 1d array was expected. Please change the shape of y to (n_samples, ), for example using ravel().\n",
            "  y = column_or_1d(y, warn=True)\n"
          ],
          "name": "stderr"
        },
        {
          "output_type": "execute_result",
          "data": {
            "text/plain": [
              "MultinomialNB(alpha=1.0, class_prior=None, fit_prior=True)"
            ]
          },
          "metadata": {
            "tags": []
          },
          "execution_count": 47
        }
      ]
    }
  ]
}